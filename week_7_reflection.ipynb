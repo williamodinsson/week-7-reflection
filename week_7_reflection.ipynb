{
  "cells": [
    {
      "cell_type": "markdown",
      "metadata": {
        "id": "32wgzZS_nHPy"
      },
      "source": [
        "### Week 7 Reflection \n"
      ]
    },
    {
      "cell_type": "markdown",
      "metadata": {
        "id": "2JmGBCkCnSvp"
      },
      "source": [
        "##### 1. How does the tf-idf weight distribution (computed for Question 2 on Week 2) differ between non-stemmed and stemmed versions of one same set of documents? Is there a visually identifiable difference (in their histograms)? Can a statistical test tell them apart?"
      ]
    },
    {
      "cell_type": "code",
      "execution_count": 4,
      "metadata": {
        "colab": {
          "base_uri": "https://localhost:8080/"
        },
        "id": "LG83Yt6KnFsB",
        "outputId": "99a809e1-6f6b-4176-e12d-ebf0e72b9f57"
      },
      "outputs": [
        {
          "output_type": "stream",
          "name": "stdout",
          "text": [
            "Looking in indexes: https://pypi.org/simple, https://us-python.pkg.dev/colab-wheels/public/simple/\n",
            "Collecting gutenbergpy\n",
            "  Downloading gutenbergpy-0.3.4-py3-none-any.whl (21 kB)\n",
            "Requirement already satisfied: future>=0.15.2 in /usr/local/lib/python3.7/dist-packages (from gutenbergpy) (0.16.0)\n",
            "Collecting httpsproxy-urllib2\n",
            "  Downloading httpsproxy_urllib2-1.0.tar.gz (28 kB)\n",
            "Requirement already satisfied: pymongo in /usr/local/lib/python3.7/dist-packages (from gutenbergpy) (4.2.0)\n",
            "Requirement already satisfied: chardet in /usr/local/lib/python3.7/dist-packages (from gutenbergpy) (3.0.4)\n",
            "Requirement already satisfied: lxml>=3.2.0 in /usr/local/lib/python3.7/dist-packages (from gutenbergpy) (4.9.1)\n",
            "Requirement already satisfied: setuptools>=18.5 in /usr/local/lib/python3.7/dist-packages (from gutenbergpy) (57.4.0)\n",
            "Building wheels for collected packages: httpsproxy-urllib2\n",
            "  Building wheel for httpsproxy-urllib2 (setup.py) ... \u001b[?25l\u001b[?25hdone\n",
            "  Created wheel for httpsproxy-urllib2: filename=httpsproxy_urllib2-1.0-py3-none-any.whl size=29269 sha256=a9d86932f138adf7f3a253f34a38ff703e9c096e6e0e8aff89ea7c3a9e28e879\n",
            "  Stored in directory: /root/.cache/pip/wheels/91/04/37/b7080e0cfe33a8bc79ff0082159cea767f9145a5a713b501a3\n",
            "Successfully built httpsproxy-urllib2\n",
            "Installing collected packages: httpsproxy-urllib2, gutenbergpy\n",
            "Successfully installed gutenbergpy-0.3.4 httpsproxy-urllib2-1.0\n"
          ]
        }
      ],
      "source": [
        "!pip install gutenbergpy"
      ]
    },
    {
      "cell_type": "code",
      "execution_count": 5,
      "metadata": {
        "id": "bASCQ7UwoBvH"
      },
      "outputs": [],
      "source": [
        "target = 22367 # Ebook number\n",
        "import gutenbergpy.textget\n",
        "raw = gutenbergpy.textget.get_text_by_id(target)\n",
        "book= gutenbergpy.textget.strip_headers(raw)\n",
        "count = 50"
      ]
    },
    {
      "cell_type": "code",
      "execution_count": 6,
      "metadata": {
        "id": "mjGuEQmhoJ7D"
      },
      "outputs": [],
      "source": [
        "s = book.decode(\"utf-8\") # get a string from the byte sequence\n",
        "startmarker = '1917'\n",
        "endmarker = 'Tochter als erste sich erhob und ihren jungen Körper dehnte.'\n",
        "startPosition = s.index(startmarker) + len(startmarker)\n",
        "endPosition = s.index(endmarker)+len(endmarker)\n",
        "content = s[startPosition:endPosition]\n",
        "# print(content[:count]) # start\n",
        "# print(content[-count:]) # end"
      ]
    },
    {
      "cell_type": "code",
      "execution_count": 7,
      "metadata": {
        "id": "ooA5fskBoPgA"
      },
      "outputs": [],
      "source": [
        "import re\n",
        "# extract Roman Numerals and replace them with 'ROMAN' by using Regular Expression\n",
        "text = re.sub(r'(?=\\b[MCDXLVI]{1,6}\\b)M{0,4}(?:CM|CD|D?C{0,3})(?:XC|XL|L?X{0,3})(?:IX|IV|V?I{0,3})', 'ROMAN', content)\n",
        "#print(text)"
      ]
    },
    {
      "cell_type": "code",
      "execution_count": 8,
      "metadata": {
        "id": "kCGwlaANoTaT"
      },
      "outputs": [],
      "source": [
        "# count the number of sections\n",
        "sections = text.count('ROMAN')\n",
        "# removing the sections headers\n",
        "# print('No digits:', sections)\n",
        "clean = re.compile(r'\\s+') # also combine any kind of repeated whitespace into a single space\n",
        "ok = clean.sub(' ', text)\n",
        "# print('Cleaned:', ok[:count])\n",
        "potential = ok.split('ROMAN.')\n",
        "stripped = [ candidate.strip().lstrip() for candidate in potential ] # remove leading and trailing space \n",
        "real = [ s for s in stripped if len(s) > 0 ] # keep only the ones with content\n",
        "# print(len(real), 'real chapters')\n",
        "# print(real[0][:count])"
      ]
    },
    {
      "cell_type": "code",
      "execution_count": 9,
      "metadata": {
        "id": "BjPAequCoZt5"
      },
      "outputs": [],
      "source": [
        "# convert list to a string\n",
        "real_text = ' '\n",
        "for x in real:\n",
        "    real_text += ' ' + x"
      ]
    },
    {
      "cell_type": "code",
      "source": [
        "import nltk\n",
        "nltk.download('stopwords')\n",
        "from nltk.corpus import stopwords\n",
        "skip = stopwords.words('german')"
      ],
      "metadata": {
        "colab": {
          "base_uri": "https://localhost:8080/"
        },
        "id": "OnaGy717-KBk",
        "outputId": "ebc67af1-01e9-4975-c67f-f330df2e858a"
      },
      "execution_count": 10,
      "outputs": [
        {
          "output_type": "stream",
          "name": "stderr",
          "text": [
            "[nltk_data] Downloading package stopwords to /root/nltk_data...\n",
            "[nltk_data]   Unzipping corpora/stopwords.zip.\n"
          ]
        }
      ]
    },
    {
      "cell_type": "code",
      "source": [
        "wordsFiltered = []\n",
        "for w in real_text.split():\n",
        "    if w not in skip:\n",
        "        wordsFiltered.append(w)\n"
      ],
      "metadata": {
        "id": "dSleNUIq-WEF"
      },
      "execution_count": 11,
      "outputs": []
    },
    {
      "cell_type": "code",
      "source": [
        "neuer_Korpus = ' '\n",
        "for x in wordsFiltered:\n",
        "    neuer_Korpus += ' ' + x"
      ],
      "metadata": {
        "id": "jh-fzsru-YBU"
      },
      "execution_count": 12,
      "outputs": []
    },
    {
      "cell_type": "code",
      "execution_count": 13,
      "metadata": {
        "colab": {
          "base_uri": "https://localhost:8080/"
        },
        "id": "1Ay2pEzmqsHm",
        "outputId": "f806632d-1491-464d-ca9c-172a68ffbdcc"
      },
      "outputs": [
        {
          "output_type": "stream",
          "name": "stderr",
          "text": [
            "[nltk_data] Downloading package punkt to /root/nltk_data...\n",
            "[nltk_data]   Unzipping tokenizers/punkt.zip.\n"
          ]
        }
      ],
      "source": [
        "import nltk\n",
        "from nltk import tokenize\n",
        "nltk.download('punkt')\n",
        "texts = tokenize.sent_tokenize(neuer_Korpus)\n"
      ]
    },
    {
      "cell_type": "code",
      "execution_count": 14,
      "metadata": {
        "id": "6kLahyZ1p_2e"
      },
      "outputs": [],
      "source": [
        "from sklearn.feature_extraction.text import TfidfVectorizer\n",
        "\n",
        "# min_df is minimum number of documents that contain a term t\n",
        "# max_features is maximum number of unique tokens (across documents) that we'd consider\n",
        "# TfidfVectorizer preprocesses the descriptions using the tokenizer we defined above\n",
        "vectorizer = TfidfVectorizer(min_df=10, max_features=10000)\n",
        "vz = vectorizer.fit_transform(texts)"
      ]
    },
    {
      "cell_type": "code",
      "execution_count": null,
      "metadata": {
        "id": "RP40wi7-s00H"
      },
      "outputs": [],
      "source": [
        "import pandas as pd \n",
        "tfidf = dict(zip(vectorizer.get_feature_names_out(), vectorizer.idf_))\n",
        "tfidf = pd.DataFrame(columns=['tfidf']).from_dict(dict(tfidf), orient='index')\n",
        "tfidf.columns = ['tfidf']"
      ]
    },
    {
      "cell_type": "code",
      "execution_count": null,
      "metadata": {
        "colab": {
          "base_uri": "https://localhost:8080/",
          "height": 445
        },
        "id": "Nt6NW8FjrVAJ",
        "outputId": "92c3f5ef-3326-4be2-9ea5-4e594721fe1f"
      },
      "outputs": [
        {
          "output_type": "execute_result",
          "data": {
            "text/plain": [
              "<matplotlib.axes._subplots.AxesSubplot at 0x7f29082f2150>"
            ]
          },
          "metadata": {},
          "execution_count": 13
        },
        {
          "output_type": "display_data",
          "data": {
            "text/plain": [
              "<Figure size 1080x504 with 1 Axes>"
            ],
            "image/png": "[encoded data removed]"
          },
          "metadata": {
            "needs_background": "light"
          }
        }
      ],
      "source": [
        "tfidf.tfidf.hist(bins=50, figsize=(15,7))"
      ]
    },
    {
      "cell_type": "code",
      "execution_count": null,
      "metadata": {
        "colab": {
          "base_uri": "https://localhost:8080/",
          "height": 142
        },
        "id": "OwOzOIQrrhkZ",
        "outputId": "28aff944-be1c-45a9-a81e-95ad9da04035"
      },
      "outputs": [
        {
          "output_type": "execute_result",
          "data": {
            "text/plain": [
              "             tfidf\n",
              "übrigens  5.088266\n",
              "kasten    5.088266\n",
              "endlich   5.088266"
            ],
            "text/html": [
              "\n",
              "  <div id=\"df-19030b71-0e10-41d4-b8e4-0a218a21282b\">\n",
              "    <div class=\"colab-df-container\">\n",
              "      <div>\n",
              "<style scoped>\n",
              "    .dataframe tbody tr th:only-of-type {\n",
              "        vertical-align: middle;\n",
              "    }\n",
              "\n",
              "    .dataframe tbody tr th {\n",
              "        vertical-align: top;\n",
              "    }\n",
              "\n",
              "    .dataframe thead th {\n",
              "        text-align: right;\n",
              "    }\n",
              "</style>\n",
              "<table border=\"1\" class=\"dataframe\">\n",
              "  <thead>\n",
              "    <tr style=\"text-align: right;\">\n",
              "      <th></th>\n",
              "      <th>tfidf</th>\n",
              "    </tr>\n",
              "  </thead>\n",
              "  <tbody>\n",
              "    <tr>\n",
              "      <th>übrigens</th>\n",
              "      <td>5.088266</td>\n",
              "    </tr>\n",
              "    <tr>\n",
              "      <th>kasten</th>\n",
              "      <td>5.088266</td>\n",
              "    </tr>\n",
              "    <tr>\n",
              "      <th>endlich</th>\n",
              "      <td>5.088266</td>\n",
              "    </tr>\n",
              "  </tbody>\n",
              "</table>\n",
              "</div>\n",
              "      <button class=\"colab-df-convert\" onclick=\"convertToInteractive('df-19030b71-0e10-41d4-b8e4-0a218a21282b')\"\n",
              "              title=\"Convert this dataframe to an interactive table.\"\n",
              "              style=\"display:none;\">\n",
              "        \n",
              "  <svg xmlns=\"http://www.w3.org/2000/svg\" height=\"24px\"viewBox=\"0 0 24 24\"\n",
              "       width=\"24px\">\n",
              "    <path d=\"M0 0h24v24H0V0z\" fill=\"none\"/>\n",
              "    <path d=\"M18.56 5.44l.94 2.06.94-2.06 2.06-.94-2.06-.94-.94-2.06-.94 2.06-2.06.94zm-11 1L8.5 8.5l.94-2.06 2.06-.94-2.06-.94L8.5 2.5l-.94 2.06-2.06.94zm10 10l.94 2.06.94-2.06 2.06-.94-2.06-.94-.94-2.06-.94 2.06-2.06.94z\"/><path d=\"M17.41 7.96l-1.37-1.37c-.4-.4-.92-.59-1.43-.59-.52 0-1.04.2-1.43.59L10.3 9.45l-7.72 7.72c-.78.78-.78 2.05 0 2.83L4 21.41c.39.39.9.59 1.41.59.51 0 1.02-.2 1.41-.59l7.78-7.78 2.81-2.81c.8-.78.8-2.07 0-2.86zM5.41 20L4 18.59l7.72-7.72 1.47 1.35L5.41 20z\"/>\n",
              "  </svg>\n",
              "      </button>\n",
              "      \n",
              "  <style>\n",
              "    .colab-df-container {\n",
              "      display:flex;\n",
              "      flex-wrap:wrap;\n",
              "      gap: 12px;\n",
              "    }\n",
              "\n",
              "    .colab-df-convert {\n",
              "      background-color: #E8F0FE;\n",
              "      border: none;\n",
              "      border-radius: 50%;\n",
              "      cursor: pointer;\n",
              "      display: none;\n",
              "      fill: #1967D2;\n",
              "      height: 32px;\n",
              "      padding: 0 0 0 0;\n",
              "      width: 32px;\n",
              "    }\n",
              "\n",
              "    .colab-df-convert:hover {\n",
              "      background-color: #E2EBFA;\n",
              "      box-shadow: 0px 1px 2px rgba(60, 64, 67, 0.3), 0px 1px 3px 1px rgba(60, 64, 67, 0.15);\n",
              "      fill: #174EA6;\n",
              "    }\n",
              "\n",
              "    [theme=dark] .colab-df-convert {\n",
              "      background-color: #3B4455;\n",
              "      fill: #D2E3FC;\n",
              "    }\n",
              "\n",
              "    [theme=dark] .colab-df-convert:hover {\n",
              "      background-color: #434B5C;\n",
              "      box-shadow: 0px 1px 3px 1px rgba(0, 0, 0, 0.15);\n",
              "      filter: drop-shadow(0px 1px 2px rgba(0, 0, 0, 0.3));\n",
              "      fill: #FFFFFF;\n",
              "    }\n",
              "  </style>\n",
              "\n",
              "      <script>\n",
              "        const buttonEl =\n",
              "          document.querySelector('#df-19030b71-0e10-41d4-b8e4-0a218a21282b button.colab-df-convert');\n",
              "        buttonEl.style.display =\n",
              "          google.colab.kernel.accessAllowed ? 'block' : 'none';\n",
              "\n",
              "        async function convertToInteractive(key) {\n",
              "          const element = document.querySelector('#df-19030b71-0e10-41d4-b8e4-0a218a21282b');\n",
              "          const dataTable =\n",
              "            await google.colab.kernel.invokeFunction('convertToInteractive',\n",
              "                                                     [key], {});\n",
              "          if (!dataTable) return;\n",
              "\n",
              "          const docLinkHtml = 'Like what you see? Visit the ' +\n",
              "            '<a target=\"_blank\" href=https://colab.research.google.com/notebooks/data_table.ipynb>data table notebook</a>'\n",
              "            + ' to learn more about interactive tables.';\n",
              "          element.innerHTML = '';\n",
              "          dataTable['output_type'] = 'display_data';\n",
              "          await google.colab.output.renderOutput(dataTable, element);\n",
              "          const docLink = document.createElement('div');\n",
              "          docLink.innerHTML = docLinkHtml;\n",
              "          element.appendChild(docLink);\n",
              "        }\n",
              "      </script>\n",
              "    </div>\n",
              "  </div>\n",
              "  "
            ]
          },
          "metadata": {},
          "execution_count": 14
        }
      ],
      "source": [
        "tfidf.sort_values(by=['tfidf'], ascending=False).head(3)"
      ]
    },
    {
      "cell_type": "code",
      "execution_count": 15,
      "metadata": {
        "id": "bRNIDr11vHVw"
      },
      "outputs": [],
      "source": [
        "from nltk.stem import SnowballStemmer\n",
        "stemmer = SnowballStemmer(\"german\")\n",
        "new_texts = stemmer.stem(neuer_Korpus)"
      ]
    },
    {
      "cell_type": "code",
      "source": [
        "neuer_Korpus"
      ],
      "metadata": {
        "colab": {
          "base_uri": "https://localhost:8080/",
          "height": 123
        },
        "id": "P-Hj9wwNCKe-",
        "outputId": "7e1c44e9-2105-4e37-8059-0857abe60169"
      },
      "execution_count": null,
      "outputs": [
        {
          "output_type": "execute_result",
          "data": {
            "text/plain": [
              "\"  Als Gregor Samsa Morgens unruhigen Träumen erwachte, fand Bett ungeheueren Ungeziefer verwandelt. Er lag panzerartig harten Rücken sah, Kopf wenig hob, gewölbten, braunen, bogenförmigen Versteifungen geteilten Bauch, Höhe Bettdecke, gänzlichen Niedergleiten bereit, kaum erhalten konnte. Seine vielen, Vergleich sonstigen Umfang kläglich dünnen Beine flimmerten hilflos Augen. »Was geschehen?« dachte er. Es Traum. Sein Zimmer, richtiges, kleines Menschenzimmer, lag ruhig vier wohlbekannten Wänden. Über Tisch, auseinandergepackte Musterkollektion Tuchwaren ausgebreitet -- Samsa Reisender --, hing Bild, kurzem illustrierten Zeitschrift ausgeschnitten hübschen, vergoldeten Rahmen untergebracht hatte. Es stellte Dame dar, die, Pelzhut Pelzboa versehen, aufrecht dasaß schweren Pelzmuff, ganzer Unterarm verschwunden war, Beschauer entgegenhob. Gregors Blick richtete Fenster, trübe Wetter -- hörte Regentropfen Fensterblech aufschlagen -- machte ganz melancholisch. »Wie wäre es, wenig weiterschliefe Narrheiten vergäße,« dachte er, gänzlich undurchführbar, gewöhnt, rechten Seite schlafen, konnte gegenwärtigen Zustand Lage bringen. Mit Kraft rechte Seite warf, immer schaukelte Rückenlage zurück. Er versuchte wohl hundertmal, schloß Augen, zappelnden Beine sehen müssen, ließ erst ab, Seite nie gefühlten, leichten, dumpfen Schmerz fühlen begann. »Ach Gott,« dachte er, »was anstrengenden Beruf gewählt! Tag aus, Tag Reise. Die geschäftlichen Aufregungen größer, eigentlichen Geschäft Hause, außerdem Plage Reisens auferlegt, Sorgen Zuganschlüsse, unregelmäßige, schlechte Essen, immer wechselnder, nie andauernder, nie herzlich werdender menschlicher Verkehr. Der Teufel holen!« Er fühlte leichtes Jucken oben Bauch; schob Rücken langsam näher Bettpfosten, Kopf besser heben können; fand juckende Stelle, lauter kleinen weißen Pünktchen besetzt war, beurteilen verstand; Bein Stelle betasten, zog gleich zurück, Berührung umwehten Kälteschauer. Er glitt frühere Lage zurück. »Dies frühzeitige Aufstehen«, dachte er, »macht ganz blödsinnig. Der Mensch muß Schlaf haben. Andere Reisende leben Haremsfrauen. Wenn Beispiel Laufe Vormittags Gasthaus zurückgehe, erlangten Aufträge überschreiben, sitzen Herren erst beim Frühstück. Das Chef versuchen; Stelle hinausfliegen. Wer weiß übrigens, gut wäre. Wenn wegen Eltern zurückhielte, hätte längst gekündigt, wäre Chef hingetreten hätte Meinung Grund Herzens gesagt. Vom Pult hätte fallen müssen! Es sonderbare Art, Pult setzen Höhe herab Angestellten reden, überdies wegen Schwerhörigkeit Chefs ganz nahe herantreten muß. Nun, Hoffnung gänzlich aufgegeben, Geld beisammen, Schuld Eltern abzuzahlen -- dürfte fünf sechs Jahre dauern --, mache Sache unbedingt. Dann große Schnitt gemacht. Vorläufig allerdings muß aufstehen, Zug fährt fünf.« Und sah Weckuhr hinüber, Kasten tickte. »Himmlischer Vater!« dachte er, Es halb sieben Uhr, Zeiger gingen ruhig vorwärts, sogar halb vorüber, näherte schon dreiviertel. Sollte Wecker geläutet haben? Man sah Bett aus, vier Uhr richtig eingestellt war; gewiß geläutet. Ja, möglich, möbelerschütternde Läuten ruhig verschlafen? Nun, ruhig ja geschlafen, wahrscheinlich desto fester. Was tun? Der nächste Zug ging sieben Uhr; einzuholen, hätte unsinnig beeilen müssen, Kollektion eingepackt, fühlte durchaus besonders frisch beweglich. Und Zug einholte, Donnerwetter Chefs vermeiden, Geschäftsdiener beim Fünfuhrzug gewartet Meldung Versäumnis längst erstattet. Es Kreatur Chefs, Rückgrat Verstand. Wie nun, krank meldete? Das wäre äußerst peinlich verdächtig, Gregor fünfjährigen Dienstes krank gewesen. Gewiß Chef Krankenkassenarzt kommen, Eltern wegen faulen Sohnes Vorwürfe Einwände Hinweis Krankenkassenarzt abschneiden, ja überhaupt ganz gesunde, arbeitsscheue Menschen gibt. Und hätte übrigens Falle ganz unrecht? Gregor fühlte tatsächlich, abgesehen langen Schlaf wirklich überflüssigen Schläfrigkeit, ganz wohl sogar besonders kräftigen Hunger. Als größter Eile überlegte, entschließen können, Bett verlassen -- gerade schlug Wecker dreiviertel sieben -- klopfte vorsichtig Tür Kopfende Bettes. »Gregor,« rief -- Mutter --, »es dreiviertel sieben. Wolltest wegfahren?« Die sanfte Stimme! Gregor erschrak, antwortende Stimme hörte, wohl unverkennbar frühere war, aber, unten her, unterdrückendes, schmerzliches Piepsen mischte, Worte förmlich ersten Augenblick Deutlichkeit beließ, Nachklang derart zerstören, wußte, recht gehört hatte. Gregor ausführlich antworten erklären wollen, beschränkte Umständen darauf, sagen: »Ja, ja, danke, Mutter, stehe schon auf.« Infolge Holztür Veränderung Gregors Stimme draußen wohl merken, Mutter beruhigte Erklärung schlürfte davon. Aber kleine Gespräch Familienmitglieder darauf aufmerksam geworden, Gregor wider Erwarten Hause war, schon klopfte Seitentür Vater, schwach, Faust. »Gregor, Gregor,« rief er, »was denn?« Und kleinen Weile mahnte nochmals tieferer Stimme: »Gregor! Gregor!« An Seitentür klagte leise Schwester: »Gregor? Ist wohl? Brauchst etwas?« Nach beiden Seiten antwortete Gregor: »Bin schon fertig,« bemühte sich, sorgfältigste Aussprache Einschaltung langen Pausen einzelnen Worten Stimme Auffallende nehmen. Der Vater kehrte Frühstück zurück, Schwester flüsterte: »Gregor, mach auf, beschwöre dich.« Gregor dachte gar daran aufzumachen, lobte Reisen her übernommene Vorsicht, Hause Türen Nacht versperren. Zunächst ruhig ungestört aufstehen, anziehen frühstücken, erst Weitere überlegen, denn, merkte wohl, Bett Nachdenken vernünftigen Ende kommen. Er erinnerte sich, schon öfters Bett irgendeinen vielleicht ungeschicktes Liegen erzeugten, leichten Schmerz empfunden haben, beim Aufstehen reine Einbildung herausstellte, gespannt, heutigen Vorstellungen allmählich auflösen würden. Daß Veränderung Stimme Vorbote tüchtigen Verkühlung, Berufskrankheit Reisenden, daran zweifelte geringsten. Die Decke abzuwerfen ganz einfach; brauchte wenig aufzublasen fiel selbst. Aber weiterhin wurde schwierig, besonders ungemein breit war. Er hätte Arme Hände gebraucht, aufzurichten; statt vielen Beinchen, ununterbrochen verschiedensten Bewegung überdies beherrschen konnte. Wollte einknicken, erste, streckte; gelang endlich, Bein auszuführen, wollte, arbeiteten inzwischen anderen, freigelassen, höchster, schmerzlicher Aufregung. »Nur Bett unnütz aufhalten,« sagte Gregor. Zuerst unteren Teil Körpers Bett hinauskommen, untere Teil, übrigens gesehen rechte Vorstellung konnte, erwies schwer beweglich; ging langsam; schließlich, fast wild geworden, gesammelter Kraft, Rücksicht vorwärtsstieß, Richtung falsch gewählt, schlug unteren Bettpfosten heftig an, brennende Schmerz, empfand, belehrte ihn, gerade untere Teil Körpers augenblicklich vielleicht empfindlichste war. Er versuchte daher, zuerst Oberkörper Bett bekommen, drehte vorsichtig Kopf Bettrand zu. Dies gelang leicht, trotz Breite Schwere folgte schließlich Körpermasse langsam Wendung Kopfes. Aber Kopf endlich außerhalb Bettes freien Luft hielt, bekam Angst, Weise vorzurücken, schließlich fallen ließ, mußte geradezu Wunder geschehen Kopf verletzt sollte. Und Besinnung durfte gerade Preis verlieren; lieber Bett bleiben. Aber gleicher Mühe aufseufzend dalag früher, Beinchen womöglich ärger gegeneinander kämpfen sah Möglichkeit fand, Willkür Ruhe Ordnung bringen, sagte wieder, unmöglich Bett bleiben könne Vernünftigste sei, opfern, kleinste Hoffnung bestünde, dadurch Bett befreien. Gleichzeitig vergaß nicht, zwischendurch daran erinnern, besser verzweifelte Entschlüsse ruhige ruhigste Überlegung sei. In Augenblicken richtete Augen möglichst scharf Fenster, leider Anblick Morgennebels, sogar Seite engen Straße verhüllte, wenig Zuversicht Munterkeit holen. »Schon sieben Uhr,« sagte beim neuerlichen Schlagen Weckers, »schon sieben Uhr immer Nebel.« Und Weilchen lang lag ruhig schwachem Atem, erwarte vielleicht völligen Stille Wiederkehr wirklichen selbstverständlichen Verhältnisse. Dann sagte sich: »Ehe einviertel acht schlägt, muß unbedingt Bett vollständig verlassen haben. Im übrigen dahin jemand Geschäft kommen, fragen, Geschäft sieben Uhr geöffnet.« Und machte daran, Körper ganzen Länge vollständig gleichmäßig Bett hinauszuschaukeln. Wenn Weise Bett fallen ließ, blieb Kopf, beim Fall scharf heben wollte, voraussichtlich unverletzt. Der Rücken schien hart sein; wohl Fall Teppich geschehen. Das größte Bedenken machte Rücksicht lauten Krach, geben müßte wahrscheinlich Türen Schrecken, Besorgnisse erregen würde. Das mußte gewagt werden. Als Gregor schon Hälfte Bette ragte -- neue Methode mehr Spiel Anstrengung, brauchte immer ruckweise schaukeln --, fiel ein, einfach wäre, Hilfe käme. Zwei starke Leute -- dachte Vater Dienstmädchen -- hätten vollständig genügt; hätten Arme gewölbten Rücken schieben, Bett schälen, Last niederbeugen bloß vorsichtig dulden müssen, Überschwung Fußboden vollzog, Beinchen hoffentlich Sinn bekommen würden. Nun, ganz abgesehen davon, Türen versperrt waren, hätte wirklich Hilfe rufen sollen? Trotz Not konnte Gedanken Lächeln unterdrücken. Schon weit, stärkerem Schaukeln kaum Gleichgewicht erhielt, bald mußte endgültig entscheiden, fünf Minuten einviertel acht, -- Wohnungstür läutete. »Das jemand Geschäft,« sagte erstarrte fast, Beinchen desto eiliger tanzten. Einen Augenblick blieb still. »Sie öffnen nicht,« sagte Gregor, befangen irgendeiner unsinnigen Hoffnung. Aber ging natürlich immer Dienstmädchen festen Schrittes Tür öffnete. Gregor brauchte erste Grußwort Besuchers hören wußte schon, wer -- Prokurist selbst. Warum Gregor verurteilt, Firma dienen, kleinsten Versäumnis gleich größten Verdacht faßte? Waren Angestellten samt sonders Lumpen, gab treuen ergebenen Menschen, den, paar Morgenstunden Geschäft ausgenützt hatte, Gewissensbissen närrisch wurde geradezu imstande war, Bett verlassen? Genügte wirklich nicht, Lehrjungen nachfragen lassen -- überhaupt Fragerei nötig --, mußte Prokurist kommen, mußte dadurch ganzen unschuldigen Familie gezeigt werden, Untersuchung verdächtigen Angelegenheit Verstand Prokuristen anvertraut konnte? Und mehr infolge Erregung, Gregor Überlegungen versetzt wurde, infolge richtigen Entschlusses, schwang Macht Bett. Es gab lauten Schlag, eigentlicher Krach nicht. Ein wenig wurde Fall Teppich abgeschwächt, Rücken elastischer, Gregor gedacht hatte, daher kam gar auffallende dumpfe Klang. Nur Kopf vorsichtig genug gehalten angeschlagen; drehte rieb Teppich Ärger Schmerz. »Da drin gefallen,« sagte Prokurist Nebenzimmer links. Gregor suchte vorzustellen, Prokuristen Ähnliches passieren könnte, heute ihm; Möglichkeit mußte eigentlich zugeben. Aber rohen Antwort Frage machte Prokurist Nebenzimmer paar bestimmte Schritte ließ Lackstiefel knarren. Aus Nebenzimmer rechts flüsterte Schwester, Gregor verständigen: »Gregor, Prokurist da.« »Ich weiß,« sagte Gregor hin; laut, Schwester hätte hören können, wagte Stimme erheben. »Gregor,« sagte Vater Nebenzimmer links, »der Herr Prokurist gekommen erkundigt sich, warum Frühzug weggefahren bist. Wir wissen nicht, sagen sollen. Übrigens persönlich sprechen. Also bitte mach Tür auf. Er Unordnung Zimmer entschuldigen schon Güte haben.« »Guten Morgen, Herr Samsa,« rief Prokurist freundlich dazwischen. »Ihm wohl,« sagte Mutter Prokuristen, Vater Tür redete, »ihm wohl, glauben Sie mir, Herr Prokurist. Wie Gregor Zug versäumen! Der Junge ja Kopf Geschäft. Ich ärgere schon fast, abends niemals ausgeht; acht Tage Stadt, Abend Hause. Da sitzt Tisch liest still Zeitung studiert Fahrpläne. Es schon Zerstreuung ihn, Laubsägearbeiten beschäftigt. Da Beispiel Laufe zwei, drei Abenden kleinen Rahmen geschnitzt; Sie staunen, hübsch ist; hängt drin Zimmer; Sie gleich sehen, Gregor aufmacht. Ich übrigens glücklich, Sie sind, Herr Prokurist; allein hätten Gregor gebracht, Tür öffnen; hartnäckig; bestimmt wohl, trotzdem Morgen geleugnet hat.« »Ich komme gleich,« sagte Gregor langsam bedächtig rührte nicht, Wort Gespräche verlieren. »Anders, gnädige Frau, erklären,« sagte Prokurist, »hoffentlich Ernstes. Wenn andererseits sagen muß, Geschäftsleute -- will, leider glücklicherweise -- leichtes Unwohlsein oft geschäftlichen Rücksichten einfach überwinden müssen.« »Also Herr Prokurist schon hinein?« fragte ungeduldige Vater klopfte wiederum Tür. »Nein,« sagte Gregor. Im Nebenzimmer links trat peinliche Stille ein, Nebenzimmer rechts begann Schwester schluchzen. Warum ging Schwester anderen? Sie wohl erst Bett aufgestanden gar angefangen anzuziehen. Und warum weinte denn? Weil aufstand Prokuristen hereinließ, Gefahr war, Posten verlieren Chef Eltern alten Forderungen verfolgen würde? Das vorläufig wohl unnötige Sorgen. Noch Gregor dachte geringsten daran, Familie verlassen. Augenblicklich lag wohl Teppich, niemand, Zustand gekannt hätte, hätte Ernst verlangt, Prokuristen hereinlasse. Aber wegen kleinen Unhöflichkeit, ja später leicht passende Ausrede finden würde, konnte Gregor gut sofort weggeschickt werden. Und Gregor schien es, vernünftiger wäre, Ruhe lassen, statt Weinen Zureden stören. Aber eben Ungewißheit, bedrängte Benehmen entschuldigte. »Herr Samsa,« rief Prokurist erhobener Stimme, »was los? Sie verbarrikadieren Ihrem Zimmer, antworten bloß ja nein, Ihren Eltern schwere, unnötige Sorgen versäumen -- nebenbei erwähnt -- Ihre geschäftlichen Pflichten eigentlich unerhörten Weise. Ich spreche Namen Ihrer Eltern Ihres Chefs bitte Sie ganz ernsthaft augenblickliche, deutliche Erklärung. Ich staune, staune. Ich glaubte Sie ruhigen, vernünftigen Menschen kennen, scheinen Sie plötzlich anfangen wollen, sonderbaren Launen paradieren. Der Chef deutete heute früh mögliche Erklärung Ihre Versäumnis -- betraf Ihnen seit kurzem anvertraute Inkasso --, legte wahrhaftig fast Ehrenwort dafür ein, Erklärung zutreffen könne. Nun sehe Ihren unbegreiflichen Starrsinn verliere ganz gar Lust, geringsten Sie einzusetzen. Und Ihre Stellung durchaus festeste. Ich ursprünglich Absicht, Ihnen vier Augen sagen, Sie nutzlos Zeit versäumen lassen, weiß nicht, warum Ihre Herren Eltern erfahren sollen. Ihre Leistungen letzten Zeit unbefriedigend; Jahreszeit, besondere Geschäfte machen, erkennen an; Jahreszeit, Geschäfte machen, gibt überhaupt nicht, Herr Samsa, darf geben.« »Aber Herr Prokurist,« rief Gregor außer vergaß Aufregung andere, »ich mache ja sofort, augenblicklich auf. Ein leichtes Unwohlsein, Schwindelanfall, verhindert aufzustehen. Ich liege Bett. Jetzt schon ganz frisch. Eben steige Bett. Nur kleinen Augenblick Geduld! Es geht gut, dachte. Es schon wohl. Wie Menschen überfallen kann! Noch gestern abend ganz gut, Eltern wissen ja, besser, schon gestern abend kleine Vorahnung. Man hätte ansehen müssen. Warum Geschäfte gemeldet! Aber denkt eben immer, Krankheit Zuhausebleiben überstehen wird. Herr Prokurist! Schonen Sie Eltern! Für Vorwürfe, Sie machen, ja Grund; ja davon Wort gesagt. Sie vielleicht letzten Aufträge, geschickt habe, gelesen. Übrigens, Achtuhrzug fahre Reise, paar Stunden Ruhe gekräftigt. Halten Sie auf, Herr Prokurist; gleich Geschäft, Sie Güte, sagen Herrn Chef empfehlen!« Und Gregor hastig ausstieß kaum wußte, sprach, leicht, wohl infolge Bett bereits erlangten Übung, Kasten genähert versuchte nun, aufzurichten. Er tatsächlich Tür aufmachen, tatsächlich sehen lassen Prokuristen sprechen; begierig erfahren, anderen, verlangten, Anblick sagen würden. Würden erschrecken, Gregor Verantwortung mehr konnte ruhig sein. Würden ruhig hinnehmen, Grund aufzuregen, konnte, beeilte, acht Uhr tatsächlich Bahnhof sein. Zuerst glitt einigemale glatten Kasten ab, endlich gab letzten Schwung stand aufrecht da; Schmerzen Unterleib achtete gar mehr, brannten. Nun ließ Rücklehne nahen Stuhles fallen, deren Rändern Beinchen festhielt. Damit Herrschaft erlangt verstummte, konnte Prokuristen anhören. »Haben Sie Wort verstanden?« fragte Prokurist Eltern, »er macht wohl Narren uns?« »Um Gottes willen,« rief Mutter schon Weinen, »er vielleicht schwer krank, quälen ihn. Grete! Grete!« schrie dann. »Mutter?« rief Schwester Seite. Sie verständigten Gregors Zimmer. »Du mußt augenblicklich Arzt. Gregor krank. Rasch Arzt. Hast Gregor reden hören?« »Das Tierstimme,« sagte Prokurist, auffallend leise gegenüber Schreien Mutter. »Anna! Anna!« rief Vater Vorzimmer Küche klatschte Hände, »sofort Schlosser holen!« Und schon liefen zwei Mädchen rauschenden Röcken Vorzimmer -- Schwester schnell angezogen? -- rissen Wohnungstüre auf. Man hörte gar Türe zuschlagen; wohl offen gelassen, Wohnungen pflegt, denen großes Unglück geschehen ist. Gregor ruhiger geworden. Man verstand Worte mehr, trotzdem genug klar, klarer früher, vorgekommen waren, vielleicht infolge Gewöhnung Ohres. Aber immerhin glaubte schon daran, ganz Ordnung war, bereit, helfen. Die Zuversicht Sicherheit, womit ersten Anordnungen getroffen worden waren, taten wohl. Er fühlte einbezogen menschlichen Kreis erhoffte beiden, Arzt Schlosser, eigentlich genau scheiden, großartige überraschende Leistungen. Um nähernden entscheidenden Besprechungen möglichst klare Stimme bekommen, hustete wenig ab, allerdings bemüht, ganz gedämpft tun, möglicherweise schon Geräusch menschlicher Husten klang, entscheiden mehr getraute. Im Nebenzimmer inzwischen ganz still geworden. Vielleicht saßen Eltern Prokuristen beim Tisch tuschelten, vielleicht lehnten Türe horchten. Gregor schob langsam Sessel Tür hin, ließ los, warf Tür, hielt aufrecht -- Ballen Beinchen wenig Klebstoff -- ruhte Augenblick lang Anstrengung aus. Dann machte daran, Mund Schlüssel Schloß umzudrehen. Es schien leider, eigentlichen Zähne hatte, -- womit gleich Schlüssel fassen? -- dafür Kiefer freilich stark, Hilfe brachte wirklich Schlüssel Bewegung achtete darauf, zweifellos irgendeinen Schaden zufügte, braune Flüssigkeit kam Mund, floß Schlüssel tropfte Boden. »Hören Sie nur,« sagte Prokurist Nebenzimmer, »er dreht Schlüssel um.« Das Gregor große Aufmunterung; hätten zurufen sollen, Vater Mutter: »Frisch, Gregor,« hätten rufen sollen, »immer heran, fest Schloß heran!« Und Vorstellung, Bemühungen Spannung verfolgten, verbiß allem, Kraft aufbringen konnte, besinnungslos Schlüssel. Je Fortschreiten Drehung Schlüssels umtanzte Schloß, hielt Munde aufrecht, je Bedarf hing Schlüssel drückte nieder ganzen Last Körpers. Der hellere Klang endlich zurückschnappenden Schlosses erweckte Gregor förmlich. Aufatmend sagte sich: »Ich Schlosser gebraucht,« legte Kopf Klinke, Türe gänzlich öffnen. Da Türe Weise öffnen mußte, eigentlich schon recht weit geöffnet, sehen. Er mußte erst langsam Türflügel herumdrehen, vorsichtig, gerade Eintritt Zimmer plump Rücken fallen wollte. Er schwierigen Bewegung beschäftigt Zeit, achten, hörte schon Prokuristen lautes »Oh!« ausstoßen -- klang, Wind saust -- sah auch, er, Nächste Türe war, Hand offenen Mund drückte langsam zurückwich, vertreibe unsichtbare, gleichmäßig fortwirkende Kraft. Die Mutter -- stand trotz Anwesenheit Prokuristen Nacht her aufgelösten, hoch sträubenden Haaren -- sah zuerst gefalteten Händen Vater an, ging zwei Schritte Gregor fiel inmitten rings herum ausbreitenden Röcke nieder, Gesicht ganz unauffindbar Brust gesenkt. Der Vater ballte feindseligem Ausdruck Faust, wolle Gregor Zimmer zurückstoßen, sah unsicher Wohnzimmer um, beschattete Händen Augen weinte, mächtige Brust schüttelte. Gregor trat gar Zimmer, lehnte innen festgeriegelten Türflügel, Leib Hälfte darüber seitlich geneigte Kopf sehen war, hinüberlugte. Es inzwischen heller geworden; klar stand Straßenseite Ausschnitt gegenüberliegenden, endlosen, grauschwarzen Hauses -- Krankenhaus -- hart Front durchbrechenden regelmäßigen Fenstern; Regen fiel nieder, großen, einzeln sichtbaren förmlich einzelnweise Erde hinuntergeworfenen Tropfen. Das Frühstücksgeschirr stand überreicher Zahl Tisch, Vater Frühstück wichtigste Mahlzeit Tages, Lektüre verschiedener Zeitungen stundenlang hinzog. Gerade gegenüberliegenden Wand hing Photographie Gregors Militärzeit, Leutnant darstellte, er, Hand Degen, sorglos lächelnd, Respekt Haltung Uniform verlangte. Die Tür Vorzimmer geöffnet, sah, Wohnungstür offen war, Vorplatz Wohnung hinaus Beginn abwärts führenden Treppe. »Nun,« sagte Gregor wohl bewußt, einzige war, Ruhe bewahrt hatte, »ich gleich anziehen, Kollektion zusammenpacken wegfahren. Wollt ihr, wollt wegfahren lassen? Nun, Herr Prokurist, Sie sehen, starrköpfig arbeite gern; Reisen beschwerlich, Reisen leben. Wohin gehen Sie denn, Herr Prokurist? Ins Geschäft? Ja? Werden Sie wahrheitsgetreu berichten? Man Augenblick unfähig arbeiten, gerade richtige Zeitpunkt, früheren Leistungen erinnern bedenken, später, Beseitigung Hindernisses, gewiß desto fleißiger gesammelter arbeiten wird. Ich ja Herrn Chef verpflichtet, wissen Sie recht gut. Andererseits Sorge Eltern Schwester. Ich Klemme, herausarbeiten. Machen Sie schwieriger, schon ist. Halten Sie Geschäft Partei! Man liebt Reisenden nicht, weiß. Man denkt, verdient Heidengeld führt dabei schönes Leben. Man eben besondere Veranlassung, Vorurteil besser durchdenken. Sie aber, Herr Prokurist, Sie besseren Überblick Verhältnisse, sonstige Personal, ja sogar, ganz Vertrauen gesagt, besseren Überblick, Herr Chef selbst, Eigenschaft Unternehmer Urteil leicht zuungunsten Angestellten beirren läßt. Sie wissen wohl, Reisende, fast ganze Jahr außerhalb Geschäftes ist, leicht Opfer Klatschereien, Zufälligkeiten grundlosen Beschwerden kann, wehren ganz unmöglich ist, meistens gar erfährt dann, erschöpft Reise beendet hat, Hause schlimmen, Ursachen mehr durchschauenden Folgen eigenen Leibe spüren bekommt. Herr Prokurist, gehen Sie weg, Wort gesagt haben, zeigt, Sie wenigstens kleinen Teil recht geben!« Aber Prokurist schon ersten Worten Gregors abgewendet, zuckende Schulter hinweg sah aufgeworfenen Lippen Gregor zurück. Und Gregors Rede stand Augenblick still, verzog sich, Gregor Augen lassen, Tür, ganz allmählich, bestehe geheimes Verbot, Zimmer verlassen. Schon Vorzimmer, plötzlichen Bewegung, letztenmal Fuß Wohnzimmer zog, hätte glauben können, soeben Sohle verbrannt. Im Vorzimmer streckte rechte Hand weit Treppe hin, warte geradezu überirdische Erlösung. Gregor sah ein, Prokuristen Stimmung Fall weggehen lassen dürfe, dadurch Stellung Geschäft aufs äußerste gefährdet sollte. Die Eltern verstanden gut; langen Jahren Überzeugung gebildet, Gregor Geschäft Leben versorgt war, außerdem augenblicklichen Sorgen tun, Voraussicht abhanden gekommen war. Aber Gregor Voraussicht. Der Prokurist mußte gehalten, beruhigt, überzeugt schließlich gewonnen werden; Zukunft Gregors Familie hing davon ab! Wäre Schwester gewesen! Sie klug; schon geweint, Gregor ruhig Rücken lag. Und gewiß hätte Prokurist, Damenfreund, lenken lassen; hätte Wohnungstür zugemacht Vorzimmer Schrecken ausgeredet. Aber Schwester eben da, Gregor mußte handeln. Und daran denken, gegenwärtigen Fähigkeiten, bewegen, gar kannte, daran denken, Rede möglicher- ja wahrscheinlicherweise verstanden worden war, verließ Türflügel; schob Öffnung; Prokuristen hingehen, schon Geländer Vorplatzes lächerlicherweise beiden Händen festhielt; fiel sofort, Halt suchend, kleinen Schrei vielen Beinchen nieder. Kaum geschehen, fühlte erstenmal Morgen körperliches Wohlbehagen; Beinchen festen Boden sich; gehorchten vollkommen, Freude merkte; strebten sogar darnach, fortzutragen, wohin wollte; schon glaubte er, endgültige Besserung Leidens stehe unmittelbar bevor. Aber gleichen Augenblick, schaukelnd verhaltener Bewegung, gar weit Mutter entfernt, gerade gegenüber Boden lag, sprang diese, ganz versunken schien, einemmale Höhe, Arme weit ausgestreckt, Finger gespreizt, rief: »Hilfe, Gottes willen Hilfe!«, hielt Kopf geneigt, wolle Gregor besser sehen, lief aber, Widerspruch dazu, sinnlos zurück; vergessen, gedeckte Tisch stand; setzte sich, angekommen war, Zerstreutheit, eilig ihn, schien gar merken, neben umgeworfenen großen Kanne Kaffee vollem Strome Teppich ergoß. »Mutter, Mutter,« sagte Gregor leise sah hinauf. Der Prokurist Augenblick ganz Sinn gekommen; dagegen konnte versagen, Anblick fließenden Kaffees mehrmals Kiefern Leere schnappen. Darüber schrie Mutter neuerdings auf, flüchtete Tisch fiel entgegeneilenden Vater Arme. Aber Gregor Zeit Eltern; Prokurist schon Treppe; Kinn Geländer, sah letzten Male zurück. Gregor nahm Anlauf, möglichst sicher einzuholen; Prokurist mußte ahnen, machte Sprung mehrere Stufen verschwand; »Huh!« schrie noch, klang durchs ganze Treppenhaus. Leider schien Flucht Prokuristen Vater, bisher verhältnismäßig gefaßt war, völlig verwirren, statt Prokuristen nachzulaufen wenigstens Gregor Verfolgung hindern, packte Rechten Stock Prokuristen, Hut Überzieher Sessel zurückgelassen hatte, holte Linken große Zeitung Tisch machte Füßestampfen daran, Gregor Schwenken Stockes Zeitung Zimmer zurückzutreiben. Kein Bitten Gregors half, Bitten wurde verstanden, mochte Kopf demütig drehen, Vater stampfte stärker Füßen. Drüben Mutter trotz kühlen Wetters Fenster aufgerissen, hinausgelehnt drückte Gesicht weit außerhalb Fensters Hände. Zwischen Gasse Treppenhaus entstand starke Zugluft, Fenstervorhänge flogen auf, Zeitungen Tische rauschten, einzelne Blätter wehten Boden hin. Unerbittlich drängte Vater stieß Zischlaute aus, Wilder. Nun Gregor gar Übung Rückwärtsgehen, ging wirklich langsam. Wenn Gregor hätte umdrehen dürfen, wäre gleich Zimmer gewesen, fürchtete sich, Vater zeitraubende Umdrehung ungeduldig machen, Augenblick drohte Stock Vaters Hand tödliche Schlag Rücken Kopf. Endlich blieb Gregor übrig, merkte Entsetzen, Rückwärtsgehen Richtung einzuhalten verstand; begann er, unaufhörlichen ängstlichen Seitenblicken Vater, Möglichkeit rasch, Wirklichkeit langsam umzudrehen. Vielleicht merkte Vater guten Willen, störte hierbei nicht, dirigierte sogar hie Drehbewegung Ferne Spitze Stockes. Wenn unerträgliche Zischen Vaters wäre! Gregor verlor darüber ganz Kopf. Er schon fast ganz umgedreht, sich, immer Zischen horchend, sogar irrte Stück zurückdrehte. Als endlich glücklich Kopf Türöffnung war, zeigte sich, Körper breit war, weiteres durchzukommen. Dem Vater fiel natürlich gegenwärtigen Verfassung entfernt ein, etwa Türflügel öffnen, Gregor genügenden Durchgang schaffen. Seine fixe Idee bloß, Gregor rasch möglich Zimmer müsse. Niemals hätte umständlichen Vorbereitungen gestattet, Gregor brauchte, aufzurichten vielleicht Weise Tür kommen. Vielleicht trieb er, gäbe Hindernis, Gregor besonderem Lärm vorwärts; klang schon Gregor gar mehr Stimme bloß einzigen Vaters; gab wirklich Spaß mehr, Gregor drängte -- geschehe wolle -- Tür. Die Seite Körpers hob sich, lag schief Türöffnung, Flanke ganz wundgerieben, weißen Tür blieben häßliche Flecke, bald steckte fest hätte allein mehr rühren können, Beinchen Seite hingen zitternd oben Luft, schmerzhaft Boden gedrückt -- gab Vater hinten wahrhaftig erlösenden starken Stoß, flog, heftig blutend, weit Zimmer hinein. Die Tür wurde Stock zugeschlagen, endlich still. Erst Abenddämmerung erwachte Gregor schweren ohnmachtähnlichen Schlaf. Er wäre gewiß später Störung erwacht, fühlte genügend ausgeruht ausgeschlafen, schien ihm, hätte flüchtiger Schritt vorsichtiges Schließen Vorzimmer führenden Tür geweckt. Der Schein elektrischen Straßenbahn lag bleich Zimmerdecke höheren Teilen Möbel, unten Gregor finster. Langsam schob sich, ungeschickt Fühlern tastend, erst schätzen lernte, Türe hin, nachzusehen, geschehen war. Seine linke Seite schien einzige lange, unangenehm spannende Narbe, mußte zwei Beinreihen regelrecht hinken. Ein Beinchen übrigens Laufe vormittägigen Vorfälle schwer verletzt worden -- fast Wunder, verletzt worden -- schleppte leblos nach. Erst Tür merkte er, dorthin eigentlich gelockt hatte; Geruch Eßbarem gewesen. Denn stand Napf süßer Milch gefüllt, kleine Schnitte Weißbrot schwammen. Fast hätte Freude gelacht, größeren Hunger Morgen, gleich tauchte Kopf fast Augen Milch hinein. Aber bald zog enttäuscht zurück; nur, Essen wegen heiklen linken Seite Schwierigkeiten machte -- konnte essen, ganze Körper schnaufend mitarbeitete --, schmeckte überdies Milch, Lieblingsgetränk gewiß Schwester deshalb hereingestellt hatte, gar nicht, ja wandte fast Widerwillen Napf ab kroch Zimmermitte zurück. Im Wohnzimmer war, Gregor Türspalte sah, Gas angezündet, Tageszeit Vater nachmittags erscheinende Zeitung Mutter manchmal Schwester erhobener Stimme vorzulesen pflegte, hörte Laut. Nun vielleicht Vorlesen, Schwester immer erzählte schrieb, letzten Zeit überhaupt Übung gekommen. Aber ringsherum still, trotzdem gewiß Wohnung leer war. »Was stilles Leben Familie führte,« sagte Gregor fühlte, starr Dunkle sah, großen Stolz darüber, Eltern Schwester Leben schönen Wohnung verschaffen können. Wie aber, Ruhe, Wohlstand, Zufriedenheit Ende Schrecken nehmen sollte? Um Gedanken verlieren, setzte Gregor lieber Bewegung kroch Zimmer ab. Einmal langen Abends wurde Seitentüre kleinen Spalte geöffnet rasch geschlossen; jemand wohl Bedürfnis hereinzukommen, viele Bedenken. Gregor machte unmittelbar Wohnzimmertür Halt, entschlossen, zögernden Besucher irgendwie hereinzubringen wenigstens erfahren, wer sei; wurde Tür mehr geöffnet Gregor wartete vergebens. Früh, Türen versperrt waren, hereinkommen wollen, jetzt, Tür geöffnet offenbar Tages geöffnet worden waren, kam mehr, Schlüssel steckten außen. Spät erst Nacht wurde Licht Wohnzimmer ausgelöscht, leicht festzustellen, Eltern Schwester lange wachgeblieben waren, genau hören konnte, entfernten drei Fußspitzen. Nun kam gewiß Morgen niemand mehr Gregor herein; lange Zeit, ungestört überlegen, Leben neu ordnen sollte. Aber hohe freie Zimmer, gezwungen war, flach Boden liegen, ängstigte ihn, Ursache herausfinden konnte, ja seit fünf Jahren bewohntes Zimmer -- halb unbewußten Wendung leichte Scham eilte Kanapee, sich, trotzdem Rücken wenig gedrückt wurde trotzdem Kopf mehr erheben konnte, gleich behaglich fühlte bedauerte, Körper breit war, vollständig Kanapee untergebracht werden. Dort blieb ganze Nacht, Teil Halbschlaf, Hunger immer aufschreckte, verbrachte, Teil Sorgen undeutlichen Hoffnungen, Schlusse führten, vorläufig ruhig verhalten Geduld größte Rücksichtnahme Familie Unannehmlichkeiten erträglich müsse, gegenwärtigen Zustand verursachen gezwungen war. Schon frühen Morgen, fast Nacht, Gregor Gelegenheit, Kraft eben gefaßten Entschlüsse prüfen, Vorzimmer her öffnete Schwester, fast völlig angezogen, Tür sah Spannung herein. Sie fand gleich, Kanapee bemerkte -- Gott, mußte irgendwo sein, wegfliegen -- erschrak sehr, sie, beherrschen können, Tür außen zuschlug. Aber bereue Benehmen, öffnete Tür sofort trat, sei Schwerkranken gar Fremden, Fußspitzen herein. Gregor Kopf knapp Rande Kanapees vorgeschoben beobachtete sie. Ob wohl bemerken würde, Milch stehen gelassen hatte, keineswegs Mangel Hunger, Speise hereinbringen würde, besser entsprach? Täte selbst, lieber verhungern, darauf aufmerksam machen, trotzdem eigentlich ungeheuer drängte, unterm Kanapee vorzuschießen, Schwester Füßen werfen irgend Gutes Essen bitten. Aber Schwester bemerkte sofort Verwunderung vollen Napf, wenig Milch ringsherum verschüttet war, hob gleich auf, bloßen Händen, Fetzen, trug hinaus. Gregor äußerst neugierig, Ersatze bringen würde, machte verschiedensten Gedanken darüber. Niemals hätte erraten können, Schwester Güte wirklich tat. Sie brachte ihm, Geschmack prüfen, ganze Auswahl, alten Zeitung ausgebreitet. Da altes halbverfaultes Gemüse; Knochen Nachtmahl her, festgewordener weißer Sauce umgeben waren; paar Rosinen Mandeln; Käse, Gregor zwei Tagen ungenießbar erklärt hatte; trockenes Brot, Butter beschmiertes Brot Butter beschmiertes gesalzenes Brot. Außerdem stellte wahrscheinlich allemal Gregor bestimmten Napf, Wasser gegossen hatte. Und Zartgefühl, wußte, Gregor essen würde, entfernte eiligst drehte sogar Schlüssel um, Gregor merken könne, behaglich dürfe, wolle. Gregors Beinchen schwirrten, Essen ging. Seine Wunden mußten übrigens schon vollständig geheilt sein, fühlte Behinderung mehr, staunte darüber dachte daran, mehr Monat Messer ganz wenig Finger geschnitten, Wunde vorgestern genug wehgetan hatte. »Sollte weniger Feingefühl haben?« dachte saugte schon gierig Käse, Speisen sofort nachdrücklich gezogen hatte. Rasch hintereinander Befriedigung tränenden Augen verzehrte Käse, Gemüse Sauce; frischen Speisen dagegen schmeckten nicht, konnte Geruch vertragen schleppte sogar Sachen, essen wollte, Stückchen weg. Er schon längst fertig lag faul gleichen Stelle, Schwester Zeichen, zurückziehen solle, langsam Schlüssel umdrehte. Das schreckte sofort auf, trotzdem schon fast schlummerte, eilte Kanapee. Aber kostete große Selbstüberwindung, kurze Zeit, Schwester Zimmer war, Kanapee bleiben, reichlichen Essen Leib wenig gerundet, konnte Enge kaum atmen. Unter kleinen Erstickungsanfällen sah hervorgequollenen Augen zu, nichtsahnende Schwester Besen Überbleibsel zusammenkehrte, Gregor gar berührten Speisen, seien mehr gebrauchen, hastig Kübel schüttete, Holzdeckel schloß, worauf hinaustrug. Kaum umgedreht, zog schon Gregor Kanapee hervor streckte blähte sich. Auf Weise bekam Gregor täglich Essen, Morgen, Eltern Dienstmädchen schliefen, zweitemal allgemeinen Mittagessen, schliefen Eltern gleichfalls Weilchen, Dienstmädchen wurde Schwester irgendeiner Besorgung weggeschickt. Gewiß wollten nicht, Gregor verhungere, vielleicht hätten ertragen können, Essen mehr Hörensagen erfahren, vielleicht Schwester möglicherweise kleine Trauer ersparen, tatsächlich litten ja gerade genug. Mit Ausreden ersten Vormittag Arzt Schlosser Wohnung geschafft hatte, konnte Gregor gar erfahren, verstanden wurde, dachte niemand daran, Schwester nicht, verstehen könne, mußte sich, Schwester Zimmer war, begnügen, Seufzer Anrufe Heiligen hören. Erst später, wenig gewöhnt -- vollständiger Gewöhnung konnte natürlich niemals Rede --, erhaschte Gregor manchmal Bemerkung, freundlich gemeint gedeutet konnte. »Heute geschmeckt,« sagte sie, Gregor Essen tüchtig aufgeräumt hatte, gegenteiligen Fall, allmählich immer häufiger wiederholte, fast traurig sagen pflegte: »Nun stehengeblieben.« Während Gregor unmittelbar Neuigkeit erfahren konnte, erhorchte Nebenzimmern, Stimmen hörte, lief gleich betreffenden Tür drückte ganzem Leib sie. Besonders ersten Zeit gab Gespräch, irgendwie geheimen, handelte. Zwei Tage lang Mahlzeiten Beratungen darüber hören, verhalten solle; Mahlzeiten sprach gleiche Thema, immer zumindest zwei Familienmitglieder Hause, wohl niemand allein Hause bleiben Wohnung Fall gänzlich verlassen konnte. Auch Dienstmädchen gleich ersten Tag -- ganz klar, wieviel Vorgefallenen wußte -- kniefällig Mutter gebeten, sofort entlassen, Viertelstunde danach verabschiedete, dankte Entlassung Tränen, größte Wohltat, erwiesen hatte, gab, verlangte, fürchterlichen Schwur ab, niemandem geringste verraten. Nun mußte Schwester Verein Mutter kochen; allerdings machte Mühe, aß fast nichts. Immer hörte Gregor, vergebens Essen aufforderte Antwort bekam, als: »Danke genug« Ähnliches. Getrunken wurde vielleicht nichts. Öfters fragte Schwester Vater, Bier wolle, herzlich erbot sich, holen, Vater schwieg, sagte sie, Bedenken nehmen, könne Hausmeisterin darum schicken, sagte Vater schließlich großes »Nein«, wurde mehr davon gesprochen. Schon Laufe ersten Tages legte Vater ganzen Vermögensverhältnisse Aussichten sowohl Mutter Schwester dar. Hie stand Tische holte kleinen Wertheimkassa, fünf Jahren erfolgten Zusammenbruch Geschäftes gerettet hatte, irgendeinen Beleg irgendein Vormerkbuch. Man hörte, komplizierte Schloß aufsperrte Entnahme Gesuchten verschloß. Diese Erklärungen Vaters Teil erste Erfreuliche, Gregor seit Gefangenschaft hören bekam. Er Meinung gewesen, Vater Geschäft her Geringste übriggeblieben war, zumindest Vater Gegenteiliges gesagt, Gregor allerdings darum gefragt. Gregors Sorge damals gewesen, daranzusetzen, Familie geschäftliche Unglück, vollständige Hoffnungslosigkeit gebracht hatte, möglichst rasch vergessen lassen. Und damals ganz besonderem Feuer arbeiten angefangen fast Nacht kleinen Kommis Reisender geworden, natürlich ganz Möglichkeiten Geldverdienens hatte, Arbeitserfolge sofort Form Provision Bargeld verwandelten, erstaunten beglückten Familie Hause Tisch gelegt konnte. Es schöne Zeiten gewesen, niemals nachher sich, wenigstens Glanze, wiederholt, trotzdem Gregor später Geld verdiente, Aufwand ganzen Familie tragen imstande trug. Man eben daran gewöhnt, sowohl Familie, Gregor, nahm Geld dankbar an, lieferte gern ab, besondere Wärme mehr ergeben. Nur Schwester Gregor nahe geblieben, geheimer Plan, sie, Unterschied Gregor Musik liebte rührend Violine spielen verstand, nächstes Jahr, Rücksicht großen Kosten, verursachen mußte, schon Weise hereinbringen würde, Konservatorium schicken. Öfters kurzen Aufenthalte Gregors Stadt wurde Gesprächen Schwester Konservatorium erwähnt, immer schöner Traum, Verwirklichung denken war, Eltern hörten unschuldigen Erwähnungen gern; Gregor dachte bestimmt daran beabsichtigte, Weihnachtsabend feierlich erklären. Solche gegenwärtigen Zustand ganz nutzlose Gedanken gingen Kopf, aufrecht Türe klebte horchte. Manchmal konnte allgemeiner Müdigkeit gar mehr zuhören ließ Kopf nachlässig Tür schlagen, hielt sofort fest, kleine Geräusch, verursacht hatte, nebenan gehört worden verstummen lassen. »Was treibt,« sagte Vater Weile, offenbar Türe hingewendet, erst wurde unterbrochene Gespräch allmählich aufgenommen. Gregor erfuhr Genüge -- Vater pflegte Erklärungen öfters wiederholen, teils, Dingen schon lange beschäftigt hatte, teils auch, Mutter gleich beim erstenmal verstand --, trotz Unglücks allerdings ganz kleines Vermögen alten Zeit vorhanden war, angerührten Zinsen Zwischenzeit wenig anwachsen lassen. Außerdem Geld, Gregor allmonatlich Hause gebracht -- paar Gulden behalten --, vollständig aufgebraucht worden kleinen Kapital angesammelt. Gregor, Türe, nickte eifrig, erfreut unerwartete Vorsicht Sparsamkeit. Eigentlich hätte ja überschüssigen Geldern Schuld Vaters gegenüber Chef abgetragen können, Tag, Posten hätte loswerden können, wäre weit näher gewesen, zweifellos besser so, Vater eingerichtet hatte. Nun genügte Geld ganz gar nicht, Familie etwa Zinsen leben lassen; genügte vielleicht, Familie ein, höchstens zwei Jahre erhalten, mehr nicht. Es bloß Summe, eigentlich angreifen durfte, Notfall zurückgelegt mußte; Geld Leben mußte verdienen. Nun Vater gesunder, alter Mann, schon fünf Jahre gearbeitet jedenfalls zutrauen durfte; fünf Jahren, ersten Ferien mühevollen erfolglosen Lebens waren, Fett angesetzt dadurch recht schwerfällig geworden. Und alte Mutter vielleicht Geld verdienen, Asthma litt, Wanderung Wohnung schon Anstrengung verursachte, zweiten Tag Atembeschwerden Sofa beim offenen Fenster verbrachte? Und Schwester Geld verdienen, Kind siebzehn Jahren, bisherige Lebensweise gönnen war, daraus bestanden hatte, nett kleiden, lange schlafen, Wirtschaft mitzuhelfen, paar bescheidenen Vergnügungen beteiligen Violine spielen? Wenn Rede Notwendigkeit Geldverdienens kam, ließ zuerst immer Gregor Türe los warf neben Tür befindliche kühle Ledersofa, ganz heiß Beschämung Trauer. Oft lag ganzen langen Nächte über, schlief Augenblick scharrte stundenlang Leder. Oder scheute große Mühe, Sessel Fenster schieben, Fensterbrüstung hinaufzukriechen und, Sessel gestemmt, ans Fenster lehnen, offenbar irgendeiner Erinnerung Befreiende, früher darin gelegen war, Fenster schauen. Denn tatsächlich sah Tag Tag wenig entfernten Dinge immer undeutlicher; gegenüberliegende Krankenhaus, allzu häufigen Anblick früher verflucht hatte, bekam überhaupt mehr Gesicht, genau gewußt hätte, stillen, völlig städtischen Charlottenstraße wohnte, hätte glauben können, Fenster Einöde schauen graue Himmel graue Erde ununterscheidbar vereinigten. Nur zweimal aufmerksame Schwester sehen müssen, Sessel beim Fenster stand, schon jedesmal, nachdem Zimmer aufgeräumt hatte, Sessel genau Fenster hinschob, ja sogar ab inneren Fensterflügel offen ließ. Hätte Gregor Schwester sprechen danken können, mußte, hätte Dienste leichter ertragen; litt darunter. Die Schwester suchte freilich Peinlichkeit Ganzen möglichst verwischen, je längere Zeit verging, desto besser gelang natürlich auch, Gregor durchschaute Zeit genauer. Schon Eintritt schrecklich. Kaum eingetreten, lief sie, Zeit nehmen, Türe schließen, darauf achtete, Anblick Gregors Zimmer ersparen, geradewegs Fenster riß es, ersticke fast, hastigen Händen auf, blieb auch, kalt war, Weilchen beim Fenster atmete tief. Mit Laufen Lärmen erschreckte Gregor täglich zweimal; ganze Zeit zitterte Kanapee wußte gut, gewiß gerne verschont hätte, möglich wäre, Zimmer, Gregor befand, geschlossenem Fenster aufzuhalten. Einmal, wohl schon Monat seit Gregors Verwandlung vergangen, schon Schwester besonderer Grund mehr, Gregors Aussehen Erstaunen geraten, kam wenig früher traf Gregor an, er, unbeweglich recht Erschrecken aufgestellt, Fenster schaute. Es wäre Gregor unerwartet gewesen, eingetreten wäre, Stellung verhinderte, sofort Fenster öffnen, trat ein, fuhr sogar zurück schloß Tür; Fremder hätte geradezu denken können, Gregor aufgelauert beißen wollen. Gregor versteckte natürlich sofort Kanapee, mußte Mittag warten, ehe Schwester wiederkam, schien unruhiger sonst. Er erkannte daraus, Anblick immer unerträglich weiterhin unerträglich bleiben müsse, wohl überwinden mußte, Anblick kleinen Partie Körpers davonzulaufen, Kanapee hervorragte. Um Anblick ersparen, trug Tages Rücken -- brauchte Arbeit vier Stunden -- Leintuch Kanapee ordnete Weise an, gänzlich verdeckt war, Schwester, bückte, sehen konnte. Wäre Leintuch Meinung nötig gewesen, hätte ja entfernen können, Vergnügen Gregors gehören konnte, ganz gar abzusperren, klar genug, ließ Leintuch, war, Gregor glaubte sogar dankbaren Blick erhascht haben, Kopf vorsichtig Leintuch wenig lüftete, nachzusehen, Schwester neue Einrichtung aufnahm. In ersten vierzehn Tagen konnten Eltern bringen, hereinzukommen, hörte oft, jetzige Arbeit Schwester völlig anerkannten, bisher häufig Schwester geärgert hatten, nutzloses Mädchen erschienen war. Nun warteten oft beide, Vater Mutter, Gregors Zimmer, Schwester aufräumte, kaum herausgekommen, mußte ganz genau erzählen, Zimmer aussah, Gregor gegessen hatte, diesmal benommen hatte, vielleicht kleine Besserung bemerken war. Die Mutter übrigens verhältnismäßig bald Gregor besuchen, Vater Schwester hielten zuerst Vernunftgründen zurück, denen Gregor aufmerksam zuhörte, vollständig billigte. Später mußte Gewalt zurückhalten, rief: »Laßt Gregor, ja unglücklicher Sohn! Begreift nicht, muß?«, dachte Gregor, vielleicht gut wäre, Mutter hereinkäme, Tag natürlich, vielleicht Woche; verstand besser Schwester, trotz all Mute Kind letzten Grunde vielleicht kindlichem Leichtsinn schwere Aufgabe übernommen hatte. Der Wunsch Gregors, Mutter sehen, ging bald Erfüllung. Während Tages Gregor schon Rücksicht Eltern beim Fenster zeigen, kriechen konnte paar Quadratmetern Fußbodens viel, ruhige Liegen ertrug schon Nacht schwer, Essen machte bald mehr geringste Vergnügen, nahm Zerstreuung Gewohnheit an, kreuz quer Wände Plafond kriechen. Besonders oben Decke hing gern; ganz anders, Liegen Fußboden; atmete freier; leichtes Schwingen ging Körper, fast glücklichen Zerstreutheit, Gregor oben befand, konnte geschehen, eigenen Überraschung losließ Boden klatschte. Aber natürlich Körper ganz Gewalt früher beschädigte großen Falle nicht. Die Schwester bemerkte sofort neue Unterhaltung, Gregor gefunden -- hinterließ ja beim Kriechen hie Spuren Klebstoffes --, setzte Kopf, Gregor Kriechen größtem Ausmaße ermöglichen Möbel, verhinderten, Kasten Schreibtisch, wegzuschaffen. Nun imstande, allein tun; Vater wagte Hilfe bitten; Dienstmädchen hätte ganz gewiß geholfen, etwa sechzehnjährige Mädchen harrte tapfer seit Entlassung früheren Köchin aus, Vergünstigung gebeten, Küche unaufhörlich versperrt halten dürfen besonderen Anruf öffnen müssen; blieb Schwester übrig, Abwesenheit Vaters Mutter holen. Mit Ausrufen erregter Freude kam Mutter heran, verstummte Tür Gregors Zimmer. Zuerst sah natürlich Schwester nach, Zimmer Ordnung war; erst ließ Mutter eintreten. Gregor größter Eile Leintuch tiefer mehr Falten gezogen, Ganze sah wirklich zufällig Kanapee geworfenes Leintuch aus. Gregor unterließ diesmal, Leintuch spionieren; verzichtete darauf, Mutter schon diesmal sehen, froh, gekommen war. »Komm nur, sieht nicht,« sagte Schwester, offenbar führte Mutter Hand. Gregor hörte nun, zwei schwachen Frauen immerhin schweren alten Kasten Platze rückten, Schwester immerfort größten Teil Arbeit beanspruchte, Warnungen Mutter hören, fürchtete, überanstrengen werde. Es dauerte lange. Wohl schon viertelstündiger Arbeit sagte Mutter, solle Kasten lieber lassen, erstens sei schwer, Ankunft Vaters fertig Kasten Mitte Zimmers Gregor Weg verrammeln, zweitens sei gar sicher, Gregor Entfernung Möbel Gefallen geschehe. Ihr scheine Gegenteil Fall sein; bedrücke Anblick leeren Wand geradezu Herz; warum solle Gregor Empfindung haben, Zimmermöbel längst gewöhnt sei deshalb leeren Zimmer verlassen fühlen werde. »Und so,« schloß Mutter ganz leise, überhaupt fast flüsterte, wolle vermeiden, Gregor, genauen Aufenthalt ja kannte, Klang Stimme höre, Worte verstand, davon überzeugt, »und so, Entfernung Möbel zeigten, Hoffnung Besserung aufgeben rücksichtslos überlassen? Ich glaube, wäre beste, suchen Zimmer genau Zustand erhalten, früher war, Gregor, zurückkommt, unverändert findet leichter Zwischenzeit vergessen kann.« Beim Anhören Worte Mutter erkannte Gregor, Mangel unmittelbaren menschlichen Ansprache, verbunden einförmigen Leben inmitten Familie, Laufe zwei Monate Verstand verwirren müssen, konnte erklären, ernsthaft darnach verlangen können, Zimmer ausgeleert würde. Hatte wirklich Lust, warme, ererbten Möbeln gemütlich ausgestattete Zimmer Höhle verwandeln lassen, freilich Richtungen ungestört kriechen können, jedoch gleichzeitigem, schnellen, gänzlichen Vergessen menschlichen Vergangenheit? War schon nahe daran, vergessen, seit langem gehörte Stimme Mutter aufgerüttelt. Nichts entfernt werden, mußte bleiben, guten Einwirkungen Möbel Zustand konnte entbehren; Möbel hinderten, sinnlose Herumkriechen betreiben, Schaden, großer Vorteil. Aber Schwester leider Meinung; sich, allerdings ganz unberechtigt, angewöhnt, Besprechung Angelegenheiten Gregors besonders Sachverständige gegenüber Eltern aufzutreten, Rat Mutter Schwester Grund genug, Entfernung Kastens Schreibtisches, zuerst allein gedacht hatte, Entfernung sämtlicher Möbel, Ausnahme unentbehrlichen Kanapees, bestehen. Es natürlich kindlicher Trotz letzten Zeit unerwartet schwer erworbene Selbstvertrauen, Forderung bestimmte; tatsächlich beobachtet, Gregor Raum Kriechen brauchte, dagegen Möbel, soweit sehen konnte, geringsten benützte. Vielleicht spielte schwärmerische Sinn Mädchen Alters mit, Gelegenheit Befriedigung sucht, Grete verlocken ließ, Lage Gregors schreckenerregender wollen, mehr leisten können. Denn Raum, Gregor ganz allein leeren Wände beherrschte, wohl Mensch außer Grete jemals einzutreten getrauen. Und ließ Entschlusse Mutter abbringen, Zimmer lauter Unruhe unsicher schien, bald verstummte Schwester Kräften beim Hinausschaffen Kastens half. Nun, Kasten konnte Gregor Notfall entbehren, schon Schreibtisch mußte bleiben. Und kaum Frauen Kasten, ächzend drückten, Zimmer verlassen, Gregor Kopf Kanapee hervorstieß, sehen, vorsichtig möglichst rücksichtsvoll eingreifen könnte. Aber Unglück gerade Mutter, zuerst zurückkehrte, Grete Nebenzimmer Kasten umfangen hielt allein her schwang, natürlich Stelle bringen. Die Mutter Gregors Anblick gewöhnt, hätte krank können, eilte Gregor erschrocken Rückwärtslauf Ende Kanapees, konnte mehr verhindern, Leintuch vorne wenig bewegte. Das genügte, Mutter aufmerksam machen. Sie stockte, stand Augenblick still ging Grete zurück. Trotzdem Gregor immer sagte, ja Außergewöhnliches geschehe, paar Möbel umgestellt würden, wirkte doch, bald eingestehen mußte, Hin- Hergehen Frauen, kleinen Zurufe, Kratzen Möbel Boden, großer, Seiten genährter Trubel ihn, mußte sich, fest Kopf Beine zog Leib Boden drückte, unweigerlich sagen, Ganze lange aushalten werde. Sie räumten Zimmer aus; nahmen alles, lieb war; Kasten, Laubsäge Werkzeuge lagen, schon hinausgetragen; lockerten schon Boden fest eingegrabenen Schreibtisch, Handelsakademiker, Bürgerschüler, ja sogar schon Volksschüler Aufgaben geschrieben hatte, -- wirklich Zeit mehr, guten Absichten prüfen, zwei Frauen hatten, deren Existenz übrigens fast vergessen hatte, Erschöpfung arbeiteten schon stumm, hörte schwere Tappen Füße. Und brach hervor -- Frauen stützten gerade Nebenzimmer Schreibtisch, wenig verschnaufen --, wechselte viermal Richtung Laufes, wußte wirklich nicht, zuerst retten sollte, sah übrigen schon leeren Wand auffallend Bild lauter Pelzwerk gekleideten Dame hängen, kroch eilends hinauf preßte Glas, festhielt heißen Bauch wohltat. Dieses Bild wenigstens, Gregor ganz verdeckte, gewiß niemand wegnehmen. Er verdrehte Kopf Tür Wohnzimmers, Frauen Rückkehr beobachten. Sie Ruhe gegönnt kamen schon wieder; Grete Arm Mutter gelegt trug fast. »Also nehmen jetzt?« sagte Grete sah um, Da kreuzten Blicke denen Gregors Wand. Wohl infolge Gegenwart Mutter behielt Fassung, beugte Gesicht Mutter, Herumschauen abzuhalten, sagte, allerdings zitternd unüberlegt: »Komm, lieber Augenblick Wohnzimmer zurückgehen?« Die Absicht Gretes Gregor klar, Mutter Sicherheit bringen Wand hinunterjagen. Nun, konnte ja immerhin versuchen! Er saß Bild gab her. Lieber Grete Gesicht springen. Aber Gretes Worte Mutter erst recht beunruhigt, trat Seite, erblickte riesigen braunen Fleck geblümten Tapete, rief, ehe eigentlich Bewußtsein kam, Gregor war, sah, schreiender, rauher Stimme: »Ach Gott, ach Gott!« fiel ausgebreiteten Armen, gebe auf, Kanapee rührte nicht. »Du, Gregor!« rief Schwester erhobener Faust eindringlichen Blicken. Es seit Verwandlung ersten Worte, unmittelbar gerichtet hatte. Sie lief Nebenzimmer, irgendeine Essenz holen, Mutter Ohnmacht wecken könnte; Gregor helfen -- Rettung Bildes Zeit --; klebte fest Glas mußte Gewalt losreißen; lief Nebenzimmer, könne Schwester irgendeinen Rat geben, früherer Zeit; mußte untätig stehen; verschiedenen Fläschchen kramte, erschreckte noch, umdrehte; Flasche fiel Boden zerbrach; Splitter verletzte Gregor Gesicht, irgendeine ätzende Medizin umfloß ihn; Grete nahm nun, länger aufzuhalten, viele Fläschchen, halten konnte, rannte Mutter hinein; Tür schlug Fuße zu. Gregor Mutter abgeschlossen, Schuld vielleicht Tode nahe war; Tür durfte öffnen, Schwester, Mutter bleiben mußte, verjagen; tun, warten; Selbstvorwürfen Besorgnis bedrängt, begann kriechen, überkroch alles, Wände, Möbel Zimmerdecke fiel endlich Verzweiflung, ganze Zimmer schon drehen anfing, mitten großen Tisch. Es verging kleine Weile, Gregor lag matt da, ringsherum still, vielleicht gutes Zeichen. Da läutete es. Das Mädchen natürlich Küche eingesperrt Grete mußte daher öffnen gehen. Der Vater gekommen. »Was geschehen?« ersten Worte; Gretes Aussehen wohl verraten. Grete antwortete dumpfer Stimme, offenbar drückte Gesicht Vaters Brust: »Die Mutter ohnmächtig, geht schon besser. Gregor ausgebrochen.« »Ich ja erwartet,« sagte Vater, »ich ja immer gesagt, Frauen wollt hören.« Gregor klar, Vater Gretes allzukurze Mitteilung schlecht gedeutet annahm, Gregor irgendeine Gewalttat zuschulden kommen lassen. Deshalb mußte Gregor Vater besänftigen suchen, aufzuklären weder Zeit Möglichkeit. Und flüchtete Tür Zimmers drückte sie, Vater beim Eintritt Vorzimmer her gleich sehen könne, Gregor beste Absicht habe, sofort Zimmer zurückzukehren, nötig sei, zurückzutreiben, Tür öffnen brauchte, gleich verschwinden. Aber Vater Stimmung, Feinheiten bemerken. »Ah!« rief gleich beim Eintritt Tone, sei gleichzeitig wütend froh. Gregor zog Kopf Tür zurück hob Vater. So Vater wirklich vorgestellt, dastand; allerdings letzten Zeit neuartigen Herumkriechen versäumt, früher Vorgänge übrigen Wohnung kümmern, hätte eigentlich darauf gefaßt müssen, veränderte Verhältnisse anzutreffen. Trotzdem, trotzdem, Vater? Der gleiche Mann, müde Bett vergraben lag, früher Gregor Geschäftsreise ausgerückt war; Abenden Heimkehr Schlafrock Lehnstuhl empfangen hatte; gar recht imstande war, aufzustehen, Zeichen Freude Arme gehoben hatte, seltenen gemeinsamen Spaziergängen paar Sonntagen Jahr höchsten Feiertagen Gregor Mutter, schon langsam gingen, immer wenig langsamer, alten Mantel eingepackt, stets vorsichtig aufgesetztem Krückstock vorwärts arbeitete und, sagen wollte, fast immer stillstand Begleitung versammelte? Nun gut aufgerichtet; straffe blaue Uniform Goldknöpfen gekleidet, Diener Bankinstitute tragen; hohen steifen Kragen Rockes entwickelte starkes Doppelkinn; buschigen Augenbrauen drang Blick schwarzen Augen frisch aufmerksam hervor; zerzauste weiße Haar peinlich genauen, leuchtenden Scheitelfrisur niedergekämmt. Er warf Mütze, Goldmonogramm, wahrscheinlich Bank, angebracht war, ganze Zimmer Bogen Kanapee ging, Enden langen Uniformrockes zurückgeschlagen, Hände Hosentaschen, verbissenem Gesicht Gregor zu. Er wußte wohl nicht, vorhatte; immerhin hob Füße ungewöhnlich hoch, Gregor staunte Riesengröße Stiefelsohlen. Doch hielt dabei auf, wußte ja ersten Tage neuen Lebens her, Vater gegenüber größte Strenge angebracht ansah. Und lief Vater her, stockte, Vater stehen blieb, eilte schon vorwärts, Vater rührte. So machten mehrmals Runde Zimmer, Entscheidendes ereignete, ja Ganze infolge langsamen Tempos Anschein Verfolgung gehabt hätte. Deshalb blieb Gregor vorläufig Fußboden, zumal fürchtete, Vater Flucht Wände Plafond besondere Bosheit halten. Allerdings mußte Gregor sagen, sogar Laufen lange aushalten würde, Vater Schritt machte, mußte Unzahl Bewegungen ausführen. Atemnot begann schon bemerkbar machen, ja früheren Zeit ganz vertrauenswürdige Lunge besessen hatte. Als dahintorkelte, Kräfte Lauf sammeln, kaum Augen offenhielt; Stumpfheit Rettung Laufen gar dachte; fast schon vergessen hatte, Wände freistanden, allerdings sorgfältig geschnitzten Möbeln voll Zacken Spitzen verstellt -- flog knapp neben ihm, leicht geschleudert, irgend nieder rollte her. Es Apfel; gleich flog zweiter nach; Gregor blieb Schrecken stehen; Weiterlaufen nutzlos, Vater entschlossen, bombardieren. Aus Obstschale Kredenz Taschen gefüllt warf nun, vorläufig scharf zielen, Apfel Apfel. Diese kleinen roten Äpfel rollten elektrisiert Boden herum stießen aneinander. Ein schwach geworfener Apfel streifte Gregors Rücken, glitt unschädlich ab. Ein sofort nachfliegender drang dagegen förmlich Gregors Rücken ein; Gregor weiterschleppen, könne überraschende unglaubliche Schmerz Ortswechsel vergehen; fühlte festgenagelt streckte vollständiger Verwirrung Sinne. Nur letzten Blick sah noch, Tür Zimmers aufgerissen wurde, schreienden Schwester Mutter hervoreilte, Hemd, Schwester entkleidet, Ohnmacht Atemfreiheit verschaffen, Mutter Vater zulief Weg aufgebundenen Röcke Boden glitten, stolpernd Röcke Vater eindrang umarmend, gänzlicher Vereinigung -- versagte Gregors Sehkraft schon -- Hände Vaters Hinterkopf Schonung Gregors Leben bat. Die schwere Verwundung Gregors, Monat litt -- Apfel blieb, niemand entfernen wagte, sichtbares Andenken Fleische sitzen --, schien Vater daran erinnert haben, Gregor trotz gegenwärtigen traurigen ekelhaften Gestalt Familienglied war, Feind behandeln durfte, gegenüber Gebot Familienpflicht war, Widerwillen hinunterzuschlucken dulden, dulden. Und Gregor Wunde Beweglichkeit wahrscheinlich immer verloren vorläufig Durchquerung Zimmers alter Invalide lange, lange Minuten brauchte -- Kriechen Höhe denken --, bekam Verschlimmerung Zustandes Meinung vollständig genügenden Ersatz dadurch, immer Abend Wohnzimmertür, schon zwei Stunden vorher scharf beobachten pflegte, geöffnet wurde, er, Dunkel Zimmers liegend, Wohnzimmer unsichtbar, ganze Familie beim beleuchteten Tische sehen Reden, gewissermaßen allgemeiner Erlaubnis, ganz früher, anhören durfte. Freilich mehr lebhaften Unterhaltungen früheren Zeiten, Gregor kleinen Hotelzimmern stets Verlangen gedacht hatte, müde feuchte Bettzeug werfen müssen. Es ging meist still zu. Der Vater schlief bald Nachtessen Sessel ein; Mutter Schwester ermahnten einander Stille; Mutter nähte, weit Licht vorgebeugt, feine Wäsche Modengeschäft; Schwester, Stellung Verkäuferin angenommen hatte, lernte Abend Stenographie Französisch, vielleicht später besseren Posten erreichen. Manchmal wachte Vater auf, wisse gar nicht, geschlafen habe, sagte Mutter: »Wie lange heute schon nähst!« schlief sofort ein, Mutter Schwester einander müde zulächelten. Mit Art Eigensinn weigerte Vater, Hause Dieneruniform abzulegen; Schlafrock nutzlos Kleiderhaken hing, schlummerte Vater vollständig angezogen Platz, sei immer Dienste bereit warte Stimme Vorgesetzten. Infolgedessen verlor gleich anfangs neue Uniform trotz Sorgfalt Mutter Schwester Reinlichkeit, Gregor sah oft ganze Abende lang fleckige, stets geputzten Goldknöpfen leuchtende Kleid, alte Mann höchst unbequem ruhig schlief. Sobald Uhr zehn schlug, suchte Mutter leise Zusprache Vater wecken überreden, Bett gehen, richtiger Schlaf Vater, sechs Uhr Dienst antreten mußte, äußerst nötig. Aber Eigensinn, ihn, seitdem Diener war, ergriffen hatte, bestand immer darauf, länger Tisch bleiben, trotzdem regelmäßig einschlief, überdies größten Mühe bewegen, Sessel Bett vertauschen. Da mochten Mutter Schwester kleinen Ermahnungen eindringen, viertelstundenlang schüttelte langsam Kopf, hielt Augen geschlossen stand auf. Die Mutter zupfte Ärmel, sagte Schmeichelworte Ohr, Schwester verließ Aufgabe, Mutter helfen, beim Vater verfing nicht. Er versank tiefer Sessel. Erst Frauen Achseln faßten, schlug Augen auf, sah abwechselnd Mutter Schwester pflegte sagen: »Das Leben. Das Ruhe alten Tage.« Und beiden Frauen gestützt, erhob sich, umständlich, sei größte Last, ließ Frauen Türe führen, winkte ab ging selbständig weiter, Mutter Nähzeug, Schwester Feder eiligst hinwarfen, Vater laufen behilflich sein. Wer abgearbeiteten übermüdeten Familie Zeit, Gregor mehr kümmern, unbedingt nötig war? Der Haushalt wurde immer mehr eingeschränkt; Dienstmädchen wurde entlassen; riesige knochige Bedienerin weißem, Kopf umflatterndem Haar kam Morgens Abends, schwerste Arbeit leisten; besorgte Mutter neben vielen Näharbeit. Es geschah sogar, verschiedene Familienschmuckstücke, früher Mutter Schwester überglücklich Unterhaltungen Feierlichkeiten getragen hatten, verkauft wurden, Gregor Abend allgemeinen Besprechung erzielten Preise erfuhr. Die größte Klage stets, gegenwärtigen Verhältnisse allzugroße Wohnung verlassen konnte, auszudenken war, Gregor übersiedeln sollte. Aber Gregor sah wohl ein, Rücksicht war, Übersiedlung verhinderte, hätte passenden Kiste paar Luftlöchern leicht transportieren können; Familie hauptsächlich Wohnungswechsel abhielt, vielmehr völlige Hoffnungslosigkeit Gedanke daran, Unglück geschlagen war, niemand ganzen Verwandten- Bekanntenkreis. Was Welt armen Leuten verlangt, erfüllten äußersten, Vater holte kleinen Bankbeamten Frühstück, Mutter opferte Wäsche fremder Leute, Schwester lief Befehl Kunden Pulte her, reichten Kräfte Familie schon nicht. Und Wunde Rücken fing Gregor neu schmerzen an, Mutter Schwester, nachdem Vater Bett gebracht hatten, zurückkehrten, Arbeit liegen ließen, nahe zusammenrückten, schon Wange Wange saßen; Mutter, Gregors Zimmer zeigend, sagte: »Mach' Tür zu, Grete,« Gregor Dunkel war, nebenan Frauen Tränen vermischten gar tränenlos Tisch anstarrten. Die Nächte Tage verbrachte Gregor fast ganz Schlaf. Manchmal dachte daran, beim nächsten Öffnen Tür Angelegenheiten Familie ganz früher Hand nehmen; Gedanken erschienen langer Zeit Chef Prokurist, Kommis Lehrjungen, begriffsstützige Hausknecht, zwei drei Freunde Geschäften, Stubenmädchen Hotel Provinz, liebe, flüchtige Erinnerung, Kassiererin Hutgeschäft, ernsthaft, langsam beworben -- erschienen untermischt Fremden schon Vergessenen, statt Familie helfen, sämtlich unzugänglich, froh, verschwanden. Dann gar Laune, Familie sorgen, bloß Wut schlechte Wartung erfüllte ihn, trotzdem vorstellen konnte, worauf Appetit gehabt hätte, machte Pläne, Speisekammer gelangen könnte, nehmen, ihm, Hunger hatte, immerhin gebührte. Ohne mehr nachzudenken, womit Gregor besonderen Gefallen könnte, schob Schwester eiligst, ehe morgens mittags Geschäft lief, Fuß irgendeine beliebige Speise Gregors Zimmer hinein, Abend, gleichgültig dagegen, Speise vielleicht gekostet -- häufigste Fall -- gänzlich unberührt war, Schwenken Besens hinauszukehren. Das Aufräumen Zimmers, immer abends besorgte, konnte gar mehr schneller getan sein. Schmutzstreifen zogen Wände entlang, hie lagen Knäuel Staub Unrat. In ersten Zeit stellte Gregor Ankunft Schwester derartige besonders bezeichnende Winkel, Stellung gewissermaßen Vorwurf machen. Aber hätte wohl wochenlang bleiben können, Schwester gebessert hätte; sah ja Schmutz genau er, eben entschlossen, lassen. Dabei wachte ganz neuen Empfindlichkeit, überhaupt ganze Familie ergriffen hatte, darüber, Aufräumen Gregors Zimmer vorbehalten blieb. Einmal Mutter Gregors Zimmer großen Reinigung unterzogen, Verbrauch Kübel Wasser gelungen -- viele Feuchtigkeit kränkte allerdings Gregor lag breit, verbittert unbeweglich Kanapee --, Strafe blieb Mutter aus. Denn kaum Abend Schwester Veränderung Gregors Zimmer bemerkt, sie, aufs höchste beleidigt, Wohnzimmer lief und, trotz beschwörend erhobenen Hände Mutter, Weinkrampf ausbrach, Eltern -- Vater natürlich Sessel aufgeschreckt worden -- zuerst erstaunt hilflos zusahen; rühren anfingen; Vater rechts Mutter Vorwürfe machte, Gregors Zimmer Schwester Reinigung überließ; links dagegen Schwester anschrie, niemals mehr Gregors Zimmer reinigen dürfen; Mutter Vater, Erregung mehr kannte, Schlafzimmer schleppen suchte; Schwester, Schluchzen geschüttelt, kleinen Fäusten Tisch bearbeitete; Gregor laut Wut darüber zischte, einfiel, Tür schließen Anblick Lärm ersparen. Aber Schwester, erschöpft Berufsarbeit, überdrüssig geworden war, Gregor, früher, sorgen, hätte keineswegs Mutter eintreten müssen Gregor hätte vernachlässigt brauchen. Denn Bedienerin da. Diese alte Witwe, langen Leben Hilfe starken Knochenbaues Ärgste überstanden mochte, eigentlichen Abscheu Gregor. Ohne irgendwie neugierig sein, zufällig Tür Gregors Zimmer aufgemacht Anblick Gregors, der, gänzlich überrascht, trotzdem niemand jagte, hin- herzulaufen begann, Hände Schoß gefaltet staunend stehen geblieben. Seitdem versäumte nicht, stets flüchtig morgens abends Tür wenig öffnen Gregor hineinzuschauen. Anfangs rief herbei, Worten, wahrscheinlich freundlich hielt, »Komm mal herüber, alter Mistkäfer!« »Seht mal alten Mistkäfer!« Auf Ansprachen antwortete Gregor nichts, blieb unbeweglich Platz, sei Tür gar geöffnet worden. Hätte Bedienerin, statt Laune nutzlos stören lassen, lieber Befehl gegeben, Zimmer täglich reinigen! Einmal frühen Morgen -- heftiger Regen, vielleicht schon Zeichen kommenden Frühjahrs, schlug Scheiben -- Gregor, Bedienerin Redensarten begann, derartig erbittert, er, Angriff, allerdings langsam hinfällig, wendete. Die Bedienerin aber, statt fürchten, hob bloß Nähe Tür befindlichen Stuhl hoch empor, groß geöffnetem Munde dastand, Absicht klar, Mund erst schließen, Sessel Hand Gregors Rücken niederschlagen würde. »Also geht nicht?« fragte sie, Gregor umdrehte, stellte Sessel ruhig Ecke zurück. Gregor aß fast gar mehr. Nur zufällig vorbereiteten Speise vorüberkam, nahm Spiel Bissen Mund, hielt stundenlang spie meist aus. Zuerst dachte er, sei Trauer Zustand Zimmers, Essen abhalte, gerade Veränderungen Zimmers söhnte bald aus. Man angewöhnt, Dinge, anderswo unterbringen konnte, Zimmer hineinzustellen, Dinge gab viele, Zimmer Wohnung drei Zimmerherren vermietet hatte. Diese ernsten Herren, -- drei Vollbärte, Gregor Türspalte feststellte -- peinlich Ordnung, Zimmer, sondern, eingemietet hatten, ganzen Wirtschaft, insbesondere Küche, bedacht. Unnützen gar schmutzigen Kram ertrugen nicht. Überdies größten Teil eigenen Einrichtungsstücke mitgebracht. Aus Grunde viele Dinge überflüssig geworden, verkäuflich waren, wegwerfen wollte. Alle wanderten Gregors Zimmer. Ebenso Aschenkiste Abfallkiste Küche. Was Augenblick unbrauchbar war, schleuderte Bedienerin, immer eilig hatte, einfach Gregors Zimmer; Gregor sah glücklicherweise meist betreffenden Gegenstand Hand, hielt. Die Bedienerin vielleicht Absicht, Zeit Gelegenheit Dinge holen insgesamt einemmal hinauszuwerfen, tatsächlich blieben liegen, wohin ersten Wurf gekommen waren, Gregor Rumpelzeug wand Bewegung brachte, zuerst gezwungen, sonstiger Platz Kriechen frei war, später wachsendem Vergnügen, obwohl Wanderungen, Sterben müde traurig, stundenlang rührte. Da Zimmerherren manchmal Abendessen Hause gemeinsamen Wohnzimmer einnahmen, blieb Wohnzimmertür Abenden geschlossen, Gregor verzichtete ganz leicht Öffnen Tür, schon Abende, denen geöffnet war, ausgenützt, war, Familie merkte, dunkelsten Winkel Zimmers gelegen. Einmal Bedienerin Tür Wohnzimmer wenig offen gelassen, blieb offen, Zimmerherren Abend eintraten Licht gemacht wurde. Sie setzten oben Tisch, früheren Zeiten Vater, Mutter Gregor gesessen hatten, entfalteten Servietten nahmen Messer Gabel Hand. Sofort erschien Tür Mutter Schüssel Fleisch knapp Schwester Schüssel hochgeschichteter Kartoffeln. Das Essen dampfte starkem Rauch. Die Zimmerherren beugten hingestellten Schüsseln, wollten Essen prüfen, tatsächlich zerschnitt der, Mitte saß zwei Autorität gelten schien, Stück Fleisch Schüssel, offenbar festzustellen, mürbe genug sei etwa Küche zurückgeschickt solle. Er befriedigt, Mutter Schwester, gespannt zugesehen hatten, begannen aufatmend lächeln. Die Familie aß Küche. Trotzdem kam Vater, ehe Küche ging, Zimmer herein machte einzigen Verbeugung, Kappe Hand, Rundgang Tisch. Die Zimmerherren erhoben sämtlich murmelten Bärte. Als allein waren, aßen fast vollkommenem Stillschweigen. Sonderbar schien Gregor, mannigfachen Geräuschen Essens immer kauenden Zähne heraushörte, Gregor gezeigt sollte, Zähne brauche, essen, schönsten zahnlosen Kiefern ausrichten könne. »Ich ja Appetit,« sagte Gregor sorgenvoll, »aber Dinge. Wie Zimmerherren nähren, komme um!« Gerade Abend -- Gregor erinnerte nicht, ganzen Zeit Violine gehört -- ertönte Küche her. Die Zimmerherren schon Nachtmahl beendet, mittlere Zeitung hervorgezogen, zwei je Blatt gegeben, lasen zurückgelehnt rauchten. Als Violine spielen begann, wurden aufmerksam, erhoben gingen Fußspitzen Vorzimmertür, aneinandergedrängt stehen blieben. Man mußte Küche gehört haben, Vater rief: »Ist Herren Spiel vielleicht unangenehm? Es sofort eingestellt werden.« »Im Gegenteil,« sagte mittlere Herren, »möchte Fräulein hereinkommen Zimmer spielen, bequemer gemütlicher ist?« »O bitte,« rief Vater, sei Violinspieler. Die Herren traten Zimmer zurück warteten. Bald kam Vater Notenpult, Mutter Noten Schwester Violine. Die Schwester bereitete ruhig Spiele vor; Eltern, niemals früher Zimmer vermietet deshalb Höflichkeit Zimmerherren übertrieben, wagten gar nicht, eigenen Sessel setzen; Vater lehnte Tür, rechte Hand zwei Knöpfe geschlossenen Livreerockes gesteckt; Mutter erhielt Herrn Sessel angeboten saß, Sessel ließ, wohin Herr zufällig gestellt hatte, abseits Winkel. Die Schwester begann spielen; Vater Mutter verfolgten, Seite, aufmerksam Bewegungen Hände. Gregor hatte, Spiele angezogen, wenig vorgewagt schon Kopf Wohnzimmer. Er wunderte kaum darüber, letzter Zeit wenig Rücksicht nahm; früher Rücksichtnahme Stolz gewesen. Und dabei hätte gerade mehr Grund gehabt, verstecken, infolge Staubes, Zimmer überall lag kleinsten Bewegung umherflog, ganz staubbedeckt; Fäden, Haare, Speiseüberreste schleppte Rücken Seiten herum; Gleichgültigkeit groß, sich, früher mehrmals Tages, Rücken gelegt Teppich gescheuert hätte. Und trotz Zustandes Scheu, Stück makellosen Fußboden Wohnzimmers vorzurücken. Allerdings achtete niemand ihn. Die Familie gänzlich Violinspiel Anspruch genommen; Zimmerherren dagegen, zunächst, Hände Hosentaschen, nahe Notenpult Schwester aufgestellt hatten, Noten hätte sehen können, sicher Schwester stören mußte, zogen bald halblauten Gesprächen gesenkten Köpfen Fenster zurück, sie, Vater besorgt beobachtet, blieben. Es wirklich überdeutlichen Anschein, wären Annahme, schönes unterhaltendes Violinspiel hören, enttäuscht, hätten ganze Vorführung satt ließen Höflichkeit Ruhe stören. Besonders Art, Nase Mund Rauch Zigarren Höhe bliesen, ließ große Nervosität schließen. Und spielte Schwester schön. Ihr Gesicht Seite geneigt, prüfend traurig folgten Blicke Notenzeilen. Gregor kroch Stück vorwärts hielt Kopf eng Boden, möglicherweise Blicken begegnen können. War Tier, Musik ergriff? Ihm war, zeige Weg ersehnten unbekannten Nahrung. Er entschlossen, Schwester vorzudringen, Rock zupfen dadurch anzudeuten, möge Violine Zimmer kommen, niemand lohnte Spiel so, lohnen wollte. Er mehr Zimmer lassen, wenigstens nicht, solange lebte; Schreckgestalt erstenmal nützlich werden; Türen Zimmers gleichzeitig Angreifern entgegenfauchen; Schwester gezwungen, freiwillig bleiben; neben Kanapee sitzen, Ohr herunterneigen, anvertrauen, feste Absicht gehabt habe, Konservatorium schicken, dies, Unglück dazwischen gekommen wäre, vergangene Weihnachten -- Weihnachten wohl schon vorüber? -- gesagt hätte, irgendwelche Widerreden kümmern. Nach Erklärung Schwester Tränen Rührung ausbrechen, Gregor Achsel erheben Hals küssen, sie, seitdem Geschäft ging, frei Band Kragen trug. »Herr Samsa!« rief mittlere Herr Vater zeigte, weiteres Wort verlieren, Zeigefinger langsam vorwärtsbewegenden Gregor. Die Violine verstummte, mittlere Zimmerherr lächelte erst kopfschüttelnd Freunden sah Gregor hin. Der Vater schien nötiger halten, statt Gregor vertreiben, vorerst Zimmerherren beruhigen, trotzdem gar aufgeregt Gregor mehr Violinspiel unterhalten schien. Er eilte suchte ausgebreiteten Armen Zimmer drängen gleichzeitig Körper Ausblick Gregor nehmen. Sie wurden tatsächlich wenig böse, wußte mehr, Benehmen Vaters aufgehende Erkenntnis, wissen, Zimmernachbar Gregor besessen haben. Sie verlangten Vater Erklärungen, hoben ihrerseits Arme, zupften unruhig Bärten wichen langsam Zimmer zurück. Inzwischen Schwester Verlorenheit, plötzlich abgebrochenen Spiel verfallen war, überwunden, sich, nachdem Zeitlang lässig hängenden Händen Violine Bogen gehalten weiter, spiele noch, Noten gesehen hatte, Male aufgerafft, Instrument Schoß Mutter gelegt, Atembeschwerden heftig arbeitenden Lungen Sessel saß, Nebenzimmer gelaufen, Zimmerherren Drängen Vaters schon schneller näherten. Man sah, geübten Händen Schwester Decken Polster Betten Höhe flogen ordneten. Noch ehe Herren Zimmer erreicht hatten, Aufbetten fertig schlüpfte heraus. Der Vater schien Eigensinn derartig ergriffen, Respekt vergaß, Mietern immerhin schuldete. Er drängte drängte, schon Tür Zimmers mittlere Herren donnernd Fuß aufstampfte dadurch Vater Stehen brachte. »Ich erkläre hiermit,« sagte er, hob Hand suchte Blicken Mutter Schwester, »daß Rücksicht Wohnung Familie herrschenden widerlichen Verhältnisse« -- hierbei spie kurz entschlossen Boden -- »mein Zimmer augenblicklich kündige. Ich natürlich Tage, gewohnt habe, Geringste bezahlen, dagegen überlegen, irgendwelchen -- glauben Sie -- leicht begründenden Forderungen Sie auftreten werde.« Er schwieg sah gerade hin, erwarte etwas. Tatsächlich fielen sofort zwei Freunde Worten ein: »Auch kündigen augenblicklich.« Darauf faßte Türklinke schloß Krach Tür. Der Vater wankte tastenden Händen Sessel ließ hineinfallen; sah aus, strecke gewöhnlichen Abendschläfchen, starke Nicken haltlosen Kopfes zeigte, ganz gar schlief. Gregor ganze Zeit still Platz gelegen, Zimmerherren ertappt hatten. Die Enttäuschung Mißlingen Planes, vielleicht viele Hungern verursachte Schwäche machten unmöglich, bewegen. Er fürchtete gewissen Bestimmtheit schon nächsten Augenblick allgemeinen entladenden Zusammensturz wartete. Nicht Violine schreckte auf, die, zitternden Fingern Mutter hervor, Schoße fiel hallenden Ton gab. »Liebe Eltern,« sagte Schwester schlug Einleitung Hand Tisch, »so geht weiter. Wenn vielleicht einsehet, sehe ein. Ich Untier Namen Bruders aussprechen sage daher bloß: müssen versuchen loszuwerden. Wir Menschenmögliche versucht, pflegen dulden, glaube, niemand geringsten Vorwurf machen.« »Sie tausendmal recht,« sagte Vater sich. Die Mutter, immer genug Atem finden konnte, fing irrsinnigen Ausdruck Augen dumpf vorgehaltene Hand husten an. Die Schwester eilte Mutter hielt Stirn. Der Vater schien Worte Schwester bestimmtere Gedanken gebracht sein, aufrecht gesetzt, spielte Dienermütze Tellern, Nachtmahl Zimmerherren her Tische standen, sah bisweilen stillen Gregor hin. »Wir müssen loszuwerden suchen,« sagte Schwester ausschließlich Vater, Mutter hörte Husten nichts, »es bringt beide um, sehe kommen. Wenn schon schwer arbeiten muß, alle, Hause ewige Quälerei ertragen. Ich mehr.« Und brach heftig Weinen aus, Tränen Gesicht Mutter niederflossen, mechanischen Handbewegungen wischte. »Kind,« sagte Vater mitleidig auffallendem Verständnis, »was sollen tun?« Die Schwester zuckte Achseln Zeichen Ratlosigkeit, Weinens Gegensatz früheren Sicherheit ergriffen hatte. »Wenn verstünde,« sagte Vater halb fragend; Schwester schüttelte Weinen heraus heftig Hand Zeichen, daran denken sei. »Wenn verstünde,« wiederholte Vater nahm Schließen Augen Überzeugung Schwester Unmöglichkeit auf, »dann wäre vielleicht Übereinkommen möglich. Aber --« »Weg muß es,« rief Schwester, »das einzige Mittel, Vater. Du mußt bloß Gedanken loszuwerden suchen, Gregor ist. Daß lange geglaubt haben, ja eigentliches Unglück. Aber Gregor sein? Wenn Gregor wäre, hätte längst eingesehen, Zusammenleben Menschen Tier möglich ist, wäre freiwillig fortgegangen. Wir hätten Bruder, könnten leben Andenken Ehren halten. So verfolgt Tier, vertreibt Zimmerherren, offenbar ganze Wohnung einnehmen Gasse übernachten lassen. Sieh nur, Vater,« schrie plötzlich auf, »er fängt schon an!« Und Gregor gänzlich unverständlichen Schrecken verließ Schwester sogar Mutter, stieß förmlich Sessel ab, lieber Mutter opfern, Gregors Nähe bleiben, eilte Vater, der, lediglich Benehmen erregt, aufstand Arme Schutze Schwester halb erhob. Aber Gregor fiel gar ein, irgend jemandem gar Schwester Angst wollen. Er bloß angefangen umzudrehen, Zimmer zurückzuwandern, nahm allerdings auffallend aus, infolge leidenden Zustandes schwierigen Umdrehungen Kopfe nachhelfen mußte, hierbei viele Male hob Boden schlug. Er hielt inne sah um. Seine gute Absicht schien erkannt worden sein; augenblicklicher Schrecken gewesen. Nun sahen schweigend traurig an. Die Mutter lag, Beine ausgestreckt aneinandergedrückt, Sessel, Augen fielen Ermattung fast zu; Vater Schwester saßen nebeneinander, Schwester Hand Vaters Hals gelegt. »Nun darf schon vielleicht umdrehen,« dachte Gregor begann Arbeit wieder. Er konnte Schnaufen Anstrengung unterdrücken mußte hie ausruhen. Im übrigen drängte niemand, überlassen. Als Umdrehung vollendet hatte, fing sofort an, geradeaus zurückzuwandern. Er staunte große Entfernung, Zimmer trennte, begriff gar nicht, Schwäche kurzer Zeit gleichen Weg, fast merken, zurückgelegt hatte. Immerfort rasches Kriechen bedacht, achtete kaum darauf, Wort, Ausruf Familie störte. Erst schon Tür war, wendete Kopf, nicht, vollständig, fühlte Hals steif werden, immerhin sah noch, verändert hatte, Schwester aufgestanden. Sein letzter Blick streifte Mutter, völlig eingeschlafen war. Kaum innerhalb Zimmers, wurde Tür eiligst zugedrückt, festgeriegelt versperrt. Über plötzlichen Lärm erschrak Gregor so, Beinchen einknickten. Es Schwester, beeilt hatte. Aufrecht schon gestanden gewartet, leichtfüßig vorwärtsgesprungen, Gregor gar kommen hören, »Endlich!« rief Eltern zu, Schlüssel Schloß umdrehte. »Und jetzt?« fragte Gregor sah Dunkeln um. Er machte bald Entdeckung, überhaupt mehr rühren konnte. Er wunderte darüber nicht, eher kam unnatürlich vor, tatsächlich dünnen Beinchen fortbewegen können. Im übrigen fühlte verhältnismäßig behaglich. Er Schmerzen ganzen Leib, war, allmählich schwächer schwächer schließlich ganz vergehen. Den verfaulten Apfel Rücken entzündete Umgebung, ganz weichem Staub bedeckt war, spürte schon kaum. An Familie dachte Rührung Liebe zurück. Seine Meinung darüber, verschwinden müsse, womöglich entschiedener, Schwester. In Zustand leeren friedlichen Nachdenkens blieb er, Turmuhr dritte Morgenstunde schlug. Den Anfang allgemeinen Hellerwerdens draußen Fenster erlebte noch. Dann sank Kopf Willen gänzlich nieder, Nüstern strömte letzter Atem schwach hervor. Als frühen Morgen Bedienerin kam -- lauter Kraft Eile schlug sie, oft schon gebeten hatte, vermeiden, Türen derartig zu, ganzen Wohnung Kommen ruhiger Schlaf mehr möglich --, fand gewöhnlichen kurzen Besuch Gregor zuerst Besonderes. Sie dachte, liege absichtlich unbeweglich spiele Beleidigten; traute möglichen Verstand zu. Weil zufällig langen Besen Hand hielt, suchte Gregor Tür kitzeln. Als Erfolg zeigte, wurde ärgerlich stieß wenig Gregor hinein, erst Widerstand Platze geschoben hatte, wurde aufmerksam. Als bald wahren Sachverhalt erkannte, machte große Augen, pfiff hin, hielt lange auf, riß Tür Schlafzimmers rief lauter Stimme Dunkel hinein: »Sehen Sie mal an, krepiert; liegt es, ganz gar krepiert!« Das Ehepaar Samsa saß Ehebett aufrecht tun, Schrecken Bedienerin verwinden, ehe kam, Meldung aufzufassen. Dann stiegen Herr Frau Samsa, Seite, eiligst Bett, Herr Samsa warf Decke Schultern, Frau Samsa kam Nachthemd hervor; traten Gregors Zimmer. Inzwischen Tür Wohnzimmers geöffnet, Grete seit Einzug Zimmerherren schlief; völlig angezogen, hätte gar geschlafen, bleiches Gesicht schien beweisen. »Tot?« sagte Frau Samsa sah fragend Bedienerin auf, trotzdem prüfen sogar Prüfung erkennen konnte. »Das meinen,« sagte Bedienerin stieß Beweis Gregors Leiche Besen großes Stück seitwärts. Frau Samsa machte Bewegung, wolle Besen zurückhalten, tat nicht. »Nun,« sagte Herr Samsa, »jetzt Gott danken.« Er bekreuzte sich, drei Frauen folgten Beispiel. Grete, Auge Leiche wendete, sagte: »Seht nur, mager war. Er ja schon lange Zeit gegessen. So Speisen hereinkamen, hinausgekommen.« Tatsächlich Gregors Körper vollständig flach trocken, erkannte eigentlich erst jetzt, mehr Beinchen gehoben Blick ablenkte. »Komm, Grete, Weilchen herein,« sagte Frau Samsa wehmütigen Lächeln, Grete ging, Leiche zurückzusehen, Eltern Schlafzimmer. Die Bedienerin schloß Tür öffnete gänzlich Fenster. Trotz frühen Morgens frischen Luft schon Lauigkeit beigemischt. Es eben schon Ende März. Aus Zimmer traten drei Zimmerherren sahen erstaunt Frühstück um; vergessen. »Wo Frühstück?« fragte mittlere Herren mürrisch Bedienerin. Diese legte Finger Mund winkte hastig schweigend Herren zu, möchten Gregors Zimmer kommen. Sie kamen standen dann, Hände Taschen abgenützten Röckchen, schon ganz hellen Zimmer Gregors Leiche herum. Da öffnete Tür Schlafzimmers, Herr Samsa erschien Livree, Arm Frau, Tochter. Alle wenig verweint; Grete drückte bisweilen Gesicht Arm Vaters. »Verlassen Sie sofort Wohnung!« sagte Herr Samsa zeigte Tür, Frauen lassen. »Wie Sie das?« sagte mittlere Herren bestürzt lächelte süßlich. Die zwei hielten Hände Rücken rieben ununterbrochen aneinander, freudiger Erwartung großen Streites, günstig ausfallen mußte. »Ich genau so, sage,« antwortete Herr Samsa ging Linie zwei Begleiterinnen Zimmerherrn zu. Dieser stand zuerst still sah Boden, Dinge Kopf neuen Ordnung zusammenstellten. »Dann gehen also,« sagte sah Herrn Samsa auf, verlange plötzlich überkommenden Demut sogar Entschluß neue Genehmigung. Herr Samsa nickte bloß mehrmals kurz großen Augen zu. Daraufhin ging Herr tatsächlich sofort langen Schritten Vorzimmer; beiden Freunde schon Weilchen lang ganz ruhigen Händen aufgehorcht hüpften geradezu nach, Angst, Herr Samsa Vorzimmer eintreten Verbindung Führer stören. Im Vorzimmer nahmen drei Hüte Kleiderrechen, zogen Stöcke Stockbehälter, verbeugten stumm verließen Wohnung. In einem, zeigte, gänzlich unbegründeten Mißtrauen trat Herr Samsa zwei Frauen Vorplatz hinaus; Geländer gelehnt, sahen zu, drei Herren langsam, ständig lange Treppe hinunterstiegen, Stockwerk bestimmten Biegung Treppenhauses verschwanden paar Augenblicken hervorkamen; je tiefer gelangten, desto mehr verlor Interesse Familie Samsa sie, entgegen hoch hinweg Fleischergeselle Trage Kopf stolzer Haltung heraufstieg, verließ bald Herr Samsa Frauen Geländer, kehrten, erleichtert, Wohnung zurück. Sie beschlossen, heutigen Tag Ausruhen Spazierengehen verwenden; Arbeitsunterbrechung verdient, brauchten sogar unbedingt. Und setzten Tisch schrieben drei Entschuldigungsbriefe, Herr Samsa Direktion, Frau Samsa Auftraggeber, Grete Prinzipal. Während Schreibens kam Bedienerin herein, sagen, fortgehe, Morgenarbeit beendet. Die drei Schreibenden nickten zuerst bloß, aufzuschauen, erst Bedienerin immer entfernen wollte, sah ärgerlich auf. »Nun?« fragte Herr Samsa. Die Bedienerin stand lächelnd Tür, Familie großes Glück melden, tun, gründlich ausgefragt werde. Die fast aufrechte kleine Straußfeder Hut, Herr Samsa schon ganzen Dienstzeit ärgerte, schwankte leicht Richtungen. »Also Sie eigentlich?« fragte Frau Samsa, Bedienerin meisten Respekt hatte. »Ja,« antwortete Bedienerin konnte freundlichem Lachen gleich reden, »also darüber, Zeug nebenan weggeschafft soll, müssen Sie Sorge machen. Es schon Ordnung.« Frau Samsa Grete beugten Briefen nieder, wollten weiterschreiben; Herr Samsa, merkte, Bedienerin ausführlich beschreiben anfangen wollte, wehrte ausgestreckter Hand entschieden ab. Da erzählen durfte, erinnerte große Eile, hatte, rief offenbar beleidigt: »Adjes allseits,« drehte wild verließ fürchterlichem Türezuschlagen Wohnung. »Abends entlassen,« sagte Herr Samsa, bekam weder Frau Tochter Antwort, Bedienerin schien kaum gewonnene Ruhe gestört haben. Sie erhoben sich, gingen Fenster blieben dort, umschlungen haltend. Herr Samsa drehte Sessel beobachtete still Weilchen. Dann rief er: »Also kommt her. Laßt schon endlich alten Sachen. Und nehmt wenig Rücksicht mich.« Gleich folgten Frauen, eilten ihm, liebkosten beendeten rasch Briefe. Dann verließen drei gemeinschaftlich Wohnung, schon seit Monaten getan hatten, fuhren Elektrischen Freie Stadt. Der Wagen, allein saßen, ganz warmer Sonne durchschienen. Sie besprachen, bequem Sitzen zurückgelehnt, Aussichten Zukunft, fand sich, näherer Betrachtung durchaus schlecht waren, drei Anstellungen waren, worüber einander eigentlich gar ausgefragt hatten, überaus günstig besonders später vielversprechend. Die größte augenblickliche Besserung Lage mußte natürlich leicht Wohnungswechsel ergeben; wollten kleinere billigere, besser gelegene überhaupt praktischere Wohnung nehmen, jetzige, Gregor ausgesuchte war. Während unterhielten, fiel Herrn Frau Samsa Anblick immer lebhafter werdenden Tochter fast gleichzeitig ein, letzten Zeit trotz Pflege, Wangen bleich gemacht hatte, schönen üppigen Mädchen aufgeblüht war. Stiller werdend fast unbewußt Blicke verständigend, dachten daran, Zeit werde, braven Mann suchen. Und Bestätigung neuen Träume guten Absichten, Ziele Fahrt Tochter erste erhob jungen Körper dehnte.\""
            ],
            "application/vnd.google.colaboratory.intrinsic+json": {
              "type": "string"
            }
          },
          "metadata": {},
          "execution_count": 16
        }
      ]
    },
    {
      "cell_type": "code",
      "source": [
        "new_texts"
      ],
      "metadata": {
        "colab": {
          "base_uri": "https://localhost:8080/",
          "height": 123
        },
        "id": "eDbGQ-EtCHA4",
        "outputId": "cb44142c-075f-41b0-ce0c-febc392c0ec1"
      },
      "execution_count": null,
      "outputs": [
        {
          "data": {
            "application/vnd.google.colaboratory.intrinsic+json": {
              "type": "string"
            },
            "text/plain": [
              "\"  als gregor samsa morgens unruhigen traumen erwachte, fand bett ungeheueren ungeziefer verwandelt. er lag panzerartig harten rucken sah, kopf wenig hob, gewolbten, braunen, bogenformigen versteifungen geteilten bauch, hohe bettdecke, ganzlichen niedergleiten bereit, kaum erhalten konnte. seine vielen, vergleich sonstigen umfang klaglich dunnen beine flimmerten hilflos augen. »was geschehen?« dachte er. es traum. sein zimmer, richtiges, kleines menschenzimmer, lag ruhig vier wohlbekannten wanden. uber tisch, auseinandergepackte musterkollektion tuchwaren ausgebreitet -- samsa reisender --, hing bild, kurzem illustrierten zeitschrift ausgeschnitten hubschen, vergoldeten rahmen untergebracht hatte. es stellte dame dar, die, pelzhut pelzboa versehen, aufrecht dasass schweren pelzmuff, ganzer unterarm verschwunden war, beschauer entgegenhob. gregors blick richtete fenster, trube wetter -- horte regentropfen fensterblech aufschlagen -- machte ganz melancholisch. »wie ware es, wenig weiterschliefe narrheiten vergasse,« dachte er, ganzlich undurchfuhrbar, gewohnt, rechten seite schlafen, konnte gegenwartigen zustand lage bringen. mit kraft rechte seite warf, immer schaukelte ruckenlage zuruck. er versuchte wohl hundertmal, schloss augen, zappelnden beine sehen mussen, liess erst ab, seite nie gefuhlten, leichten, dumpfen schmerz fuhlen begann. »ach gott,« dachte er, »was anstrengenden beruf gewahlt! tag aus, tag reise. die geschaftlichen aufregungen grosser, eigentlichen geschaft hause, ausserdem plage reisens auferlegt, sorgen zuganschlusse, unregelmassige, schlechte essen, immer wechselnder, nie andauernder, nie herzlich werdender menschlicher verkehr. der teufel holen!« er fuhlte leichtes jucken oben bauch; schob rucken langsam naher bettpfosten, kopf besser heben konnen; fand juckende stelle, lauter kleinen weissen punktchen besetzt war, beurteilen verstand; bein stelle betasten, zog gleich zuruck, beruhrung umwehten kalteschauer. er glitt fruhere lage zuruck. »dies fruhzeitige aufstehen«, dachte er, »macht ganz blodsinnig. der mensch muss schlaf haben. andere reisende leben haremsfrauen. wenn beispiel laufe vormittags gasthaus zuruckgehe, erlangten auftrage uberschreiben, sitzen herren erst beim fruhstuck. das chef versuchen; stelle hinausfliegen. wer weiss ubrigens, gut ware. wenn wegen eltern zuruckhielte, hatte langst gekundigt, ware chef hingetreten hatte meinung grund herzens gesagt. vom pult hatte fallen mussen! es sonderbare art, pult setzen hohe herab angestellten reden, uberdies wegen schwerhorigkeit chefs ganz nahe herantreten muss. nun, hoffnung ganzlich aufgegeben, geld beisammen, schuld eltern abzuzahlen -- durfte funf sechs jahre dauern --, mache sache unbedingt. dann grosse schnitt gemacht. vorlaufig allerdings muss aufstehen, zug fahrt funf.« und sah weckuhr hinuber, kasten tickte. »himmlischer vater!« dachte er, es halb sieben uhr, zeiger gingen ruhig vorwarts, sogar halb voruber, naherte schon dreiviertel. sollte wecker gelautet haben? man sah bett aus, vier uhr richtig eingestellt war; gewiss gelautet. ja, moglich, mobelerschutternde lauten ruhig verschlafen? nun, ruhig ja geschlafen, wahrscheinlich desto fester. was tun? der nachste zug ging sieben uhr; einzuholen, hatte unsinnig beeilen mussen, kollektion eingepackt, fuhlte durchaus besonders frisch beweglich. und zug einholte, donnerwetter chefs vermeiden, geschaftsdiener beim funfuhrzug gewartet meldung versaumnis langst erstattet. es kreatur chefs, ruckgrat verstand. wie nun, krank meldete? das ware ausserst peinlich verdachtig, gregor funfjahrigen dienstes krank gewesen. gewiss chef krankenkassenarzt kommen, eltern wegen faulen sohnes vorwurfe einwande hinweis krankenkassenarzt abschneiden, ja uberhaupt ganz gesunde, arbeitsscheue menschen gibt. und hatte ubrigens falle ganz unrecht? gregor fuhlte tatsachlich, abgesehen langen schlaf wirklich uberflussigen schlafrigkeit, ganz wohl sogar besonders kraftigen hunger. als grosster eile uberlegte, entschliessen konnen, bett verlassen -- gerade schlug wecker dreiviertel sieben -- klopfte vorsichtig tur kopfende bettes. »gregor,« rief -- mutter --, »es dreiviertel sieben. wolltest wegfahren?« die sanfte stimme! gregor erschrak, antwortende stimme horte, wohl unverkennbar fruhere war, aber, unten her, unterdruckendes, schmerzliches piepsen mischte, worte formlich ersten augenblick deutlichkeit beliess, nachklang derart zerstoren, wusste, recht gehort hatte. gregor ausfuhrlich antworten erklaren wollen, beschrankte umstanden darauf, sagen: »ja, ja, danke, mutter, stehe schon auf.« infolge holztur veranderung gregors stimme draussen wohl merken, mutter beruhigte erklarung schlurfte davon. aber kleine gesprach familienmitglieder darauf aufmerksam geworden, gregor wider erwarten hause war, schon klopfte seitentur vater, schwach, faust. »gregor, gregor,« rief er, »was denn?« und kleinen weile mahnte nochmals tieferer stimme: »gregor! gregor!« an seitentur klagte leise schwester: »gregor? ist wohl? brauchst etwas?« nach beiden seiten antwortete gregor: »bin schon fertig,« bemuhte sich, sorgfaltigste aussprache einschaltung langen pausen einzelnen worten stimme auffallende nehmen. der vater kehrte fruhstuck zuruck, schwester flusterte: »gregor, mach auf, beschwore dich.« gregor dachte gar daran aufzumachen, lobte reisen her ubernommene vorsicht, hause turen nacht versperren. zunachst ruhig ungestort aufstehen, anziehen fruhstucken, erst weitere uberlegen, denn, merkte wohl, bett nachdenken vernunftigen ende kommen. er erinnerte sich, schon ofters bett irgendeinen vielleicht ungeschicktes liegen erzeugten, leichten schmerz empfunden haben, beim aufstehen reine einbildung herausstellte, gespannt, heutigen vorstellungen allmahlich auflosen wurden. dass veranderung stimme vorbote tuchtigen verkuhlung, berufskrankheit reisenden, daran zweifelte geringsten. die decke abzuwerfen ganz einfach; brauchte wenig aufzublasen fiel selbst. aber weiterhin wurde schwierig, besonders ungemein breit war. er hatte arme hande gebraucht, aufzurichten; statt vielen beinchen, ununterbrochen verschiedensten bewegung uberdies beherrschen konnte. wollte einknicken, erste, streckte; gelang endlich, bein auszufuhren, wollte, arbeiteten inzwischen anderen, freigelassen, hochster, schmerzlicher aufregung. »nur bett unnutz aufhalten,« sagte gregor. zuerst unteren teil korpers bett hinauskommen, untere teil, ubrigens gesehen rechte vorstellung konnte, erwies schwer beweglich; ging langsam; schliesslich, fast wild geworden, gesammelter kraft, rucksicht vorwartsstiess, richtung falsch gewahlt, schlug unteren bettpfosten heftig an, brennende schmerz, empfand, belehrte ihn, gerade untere teil korpers augenblicklich vielleicht empfindlichste war. er versuchte daher, zuerst oberkorper bett bekommen, drehte vorsichtig kopf bettrand zu. dies gelang leicht, trotz breite schwere folgte schliesslich korpermasse langsam wendung kopfes. aber kopf endlich ausserhalb bettes freien luft hielt, bekam angst, weise vorzurucken, schliesslich fallen liess, musste geradezu wunder geschehen kopf verletzt sollte. und besinnung durfte gerade preis verlieren; lieber bett bleiben. aber gleicher muhe aufseufzend dalag fruher, beinchen womoglich arger gegeneinander kampfen sah moglichkeit fand, willkur ruhe ordnung bringen, sagte wieder, unmoglich bett bleiben konne vernunftigste sei, opfern, kleinste hoffnung bestunde, dadurch bett befreien. gleichzeitig vergass nicht, zwischendurch daran erinnern, besser verzweifelte entschlusse ruhige ruhigste uberlegung sei. in augenblicken richtete augen moglichst scharf fenster, leider anblick morgennebels, sogar seite engen strasse verhullte, wenig zuversicht munterkeit holen. »schon sieben uhr,« sagte beim neuerlichen schlagen weckers, »schon sieben uhr immer nebel.« und weilchen lang lag ruhig schwachem atem, erwarte vielleicht volligen stille wiederkehr wirklichen selbstverstandlichen verhaltnisse. dann sagte sich: »ehe einviertel acht schlagt, muss unbedingt bett vollstandig verlassen haben. im ubrigen dahin jemand geschaft kommen, fragen, geschaft sieben uhr geoffnet.« und machte daran, korper ganzen lange vollstandig gleichmassig bett hinauszuschaukeln. wenn weise bett fallen liess, blieb kopf, beim fall scharf heben wollte, voraussichtlich unverletzt. der rucken schien hart sein; wohl fall teppich geschehen. das grosste bedenken machte rucksicht lauten krach, geben musste wahrscheinlich turen schrecken, besorgnisse erregen wurde. das musste gewagt werden. als gregor schon halfte bette ragte -- neue methode mehr spiel anstrengung, brauchte immer ruckweise schaukeln --, fiel ein, einfach ware, hilfe kame. zwei starke leute -- dachte vater dienstmadchen -- hatten vollstandig genugt; hatten arme gewolbten rucken schieben, bett schalen, last niederbeugen bloss vorsichtig dulden mussen, uberschwung fussboden vollzog, beinchen hoffentlich sinn bekommen wurden. nun, ganz abgesehen davon, turen versperrt waren, hatte wirklich hilfe rufen sollen? trotz not konnte gedanken lacheln unterdrucken. schon weit, starkerem schaukeln kaum gleichgewicht erhielt, bald musste endgultig entscheiden, funf minuten einviertel acht, -- wohnungstur lautete. »das jemand geschaft,« sagte erstarrte fast, beinchen desto eiliger tanzten. einen augenblick blieb still. »sie offnen nicht,« sagte gregor, befangen irgendeiner unsinnigen hoffnung. aber ging naturlich immer dienstmadchen festen schrittes tur offnete. gregor brauchte erste grusswort besuchers horen wusste schon, wer -- prokurist selbst. warum gregor verurteilt, firma dienen, kleinsten versaumnis gleich grossten verdacht fasste? waren angestellten samt sonders lumpen, gab treuen ergebenen menschen, den, paar morgenstunden geschaft ausgenutzt hatte, gewissensbissen narrisch wurde geradezu imstande war, bett verlassen? genugte wirklich nicht, lehrjungen nachfragen lassen -- uberhaupt fragerei notig --, musste prokurist kommen, musste dadurch ganzen unschuldigen familie gezeigt werden, untersuchung verdachtigen angelegenheit verstand prokuristen anvertraut konnte? und mehr infolge erregung, gregor uberlegungen versetzt wurde, infolge richtigen entschlusses, schwang macht bett. es gab lauten schlag, eigentlicher krach nicht. ein wenig wurde fall teppich abgeschwacht, rucken elastischer, gregor gedacht hatte, daher kam gar auffallende dumpfe klang. nur kopf vorsichtig genug gehalten angeschlagen; drehte rieb teppich arger schmerz. »da drin gefallen,« sagte prokurist nebenzimmer links. gregor suchte vorzustellen, prokuristen ahnliches passieren konnte, heute ihm; moglichkeit musste eigentlich zugeben. aber rohen antwort frage machte prokurist nebenzimmer paar bestimmte schritte liess lackstiefel knarren. aus nebenzimmer rechts flusterte schwester, gregor verstandigen: »gregor, prokurist da.« »ich weiss,« sagte gregor hin; laut, schwester hatte horen konnen, wagte stimme erheben. »gregor,« sagte vater nebenzimmer links, »der herr prokurist gekommen erkundigt sich, warum fruhzug weggefahren bist. wir wissen nicht, sagen sollen. ubrigens personlich sprechen. also bitte mach tur auf. er unordnung zimmer entschuldigen schon gute haben.« »guten morgen, herr samsa,« rief prokurist freundlich dazwischen. »ihm wohl,« sagte mutter prokuristen, vater tur redete, »ihm wohl, glauben sie mir, herr prokurist. wie gregor zug versaumen! der junge ja kopf geschaft. ich argere schon fast, abends niemals ausgeht; acht tage stadt, abend hause. da sitzt tisch liest still zeitung studiert fahrplane. es schon zerstreuung ihn, laubsagearbeiten beschaftigt. da beispiel laufe zwei, drei abenden kleinen rahmen geschnitzt; sie staunen, hubsch ist; hangt drin zimmer; sie gleich sehen, gregor aufmacht. ich ubrigens glucklich, sie sind, herr prokurist; allein hatten gregor gebracht, tur offnen; hartnackig; bestimmt wohl, trotzdem morgen geleugnet hat.« »ich komme gleich,« sagte gregor langsam bedachtig ruhrte nicht, wort gesprache verlieren. »anders, gnadige frau, erklaren,« sagte prokurist, »hoffentlich ernstes. wenn andererseits sagen muss, geschaftsleute -- will, leider glucklicherweise -- leichtes unwohlsein oft geschaftlichen rucksichten einfach uberwinden mussen.« »also herr prokurist schon hinein?« fragte ungeduldige vater klopfte wiederum tur. »nein,« sagte gregor. im nebenzimmer links trat peinliche stille ein, nebenzimmer rechts begann schwester schluchzen. warum ging schwester anderen? sie wohl erst bett aufgestanden gar angefangen anzuziehen. und warum weinte denn? weil aufstand prokuristen hereinliess, gefahr war, posten verlieren chef eltern alten forderungen verfolgen wurde? das vorlaufig wohl unnotige sorgen. noch gregor dachte geringsten daran, familie verlassen. augenblicklich lag wohl teppich, niemand, zustand gekannt hatte, hatte ernst verlangt, prokuristen hereinlasse. aber wegen kleinen unhoflichkeit, ja spater leicht passende ausrede finden wurde, konnte gregor gut sofort weggeschickt werden. und gregor schien es, vernunftiger ware, ruhe lassen, statt weinen zureden storen. aber eben ungewissheit, bedrangte benehmen entschuldigte. »herr samsa,« rief prokurist erhobener stimme, »was los? sie verbarrikadieren ihrem zimmer, antworten bloss ja nein, ihren eltern schwere, unnotige sorgen versaumen -- nebenbei erwahnt -- ihre geschaftlichen pflichten eigentlich unerhorten weise. ich spreche namen ihrer eltern ihres chefs bitte sie ganz ernsthaft augenblickliche, deutliche erklarung. ich staune, staune. ich glaubte sie ruhigen, vernunftigen menschen kennen, scheinen sie plotzlich anfangen wollen, sonderbaren launen paradieren. der chef deutete heute fruh mogliche erklarung ihre versaumnis -- betraf ihnen seit kurzem anvertraute inkasso --, legte wahrhaftig fast ehrenwort dafur ein, erklarung zutreffen konne. nun sehe ihren unbegreiflichen starrsinn verliere ganz gar lust, geringsten sie einzusetzen. und ihre stellung durchaus festeste. ich ursprunglich absicht, ihnen vier augen sagen, sie nutzlos zeit versaumen lassen, weiss nicht, warum ihre herren eltern erfahren sollen. ihre leistungen letzten zeit unbefriedigend; jahreszeit, besondere geschafte machen, erkennen an; jahreszeit, geschafte machen, gibt uberhaupt nicht, herr samsa, darf geben.« »aber herr prokurist,« rief gregor ausser vergass aufregung andere, »ich mache ja sofort, augenblicklich auf. ein leichtes unwohlsein, schwindelanfall, verhindert aufzustehen. ich liege bett. jetzt schon ganz frisch. eben steige bett. nur kleinen augenblick geduld! es geht gut, dachte. es schon wohl. wie menschen uberfallen kann! noch gestern abend ganz gut, eltern wissen ja, besser, schon gestern abend kleine vorahnung. man hatte ansehen mussen. warum geschafte gemeldet! aber denkt eben immer, krankheit zuhausebleiben uberstehen wird. herr prokurist! schonen sie eltern! fur vorwurfe, sie machen, ja grund; ja davon wort gesagt. sie vielleicht letzten auftrage, geschickt habe, gelesen. ubrigens, achtuhrzug fahre reise, paar stunden ruhe gekraftigt. halten sie auf, herr prokurist; gleich geschaft, sie gute, sagen herrn chef empfehlen!« und gregor hastig ausstiess kaum wusste, sprach, leicht, wohl infolge bett bereits erlangten ubung, kasten genahert versuchte nun, aufzurichten. er tatsachlich tur aufmachen, tatsachlich sehen lassen prokuristen sprechen; begierig erfahren, anderen, verlangten, anblick sagen wurden. wurden erschrecken, gregor verantwortung mehr konnte ruhig sein. wurden ruhig hinnehmen, grund aufzuregen, konnte, beeilte, acht uhr tatsachlich bahnhof sein. zuerst glitt einigemale glatten kasten ab, endlich gab letzten schwung stand aufrecht da; schmerzen unterleib achtete gar mehr, brannten. nun liess rucklehne nahen stuhles fallen, deren randern beinchen festhielt. damit herrschaft erlangt verstummte, konnte prokuristen anhoren. »haben sie wort verstanden?« fragte prokurist eltern, »er macht wohl narren uns?« »um gottes willen,« rief mutter schon weinen, »er vielleicht schwer krank, qualen ihn. grete! grete!« schrie dann. »mutter?« rief schwester seite. sie verstandigten gregors zimmer. »du musst augenblicklich arzt. gregor krank. rasch arzt. hast gregor reden horen?« »das tierstimme,« sagte prokurist, auffallend leise gegenuber schreien mutter. »anna! anna!« rief vater vorzimmer kuche klatschte hande, »sofort schlosser holen!« und schon liefen zwei madchen rauschenden rocken vorzimmer -- schwester schnell angezogen? -- rissen wohnungsture auf. man horte gar ture zuschlagen; wohl offen gelassen, wohnungen pflegt, denen grosses ungluck geschehen ist. gregor ruhiger geworden. man verstand worte mehr, trotzdem genug klar, klarer fruher, vorgekommen waren, vielleicht infolge gewohnung ohres. aber immerhin glaubte schon daran, ganz ordnung war, bereit, helfen. die zuversicht sicherheit, womit ersten anordnungen getroffen worden waren, taten wohl. er fuhlte einbezogen menschlichen kreis erhoffte beiden, arzt schlosser, eigentlich genau scheiden, grossartige uberraschende leistungen. um nahernden entscheidenden besprechungen moglichst klare stimme bekommen, hustete wenig ab, allerdings bemuht, ganz gedampft tun, moglicherweise schon gerausch menschlicher husten klang, entscheiden mehr getraute. im nebenzimmer inzwischen ganz still geworden. vielleicht sassen eltern prokuristen beim tisch tuschelten, vielleicht lehnten ture horchten. gregor schob langsam sessel tur hin, liess los, warf tur, hielt aufrecht -- ballen beinchen wenig klebstoff -- ruhte augenblick lang anstrengung aus. dann machte daran, mund schlussel schloss umzudrehen. es schien leider, eigentlichen zahne hatte, -- womit gleich schlussel fassen? -- dafur kiefer freilich stark, hilfe brachte wirklich schlussel bewegung achtete darauf, zweifellos irgendeinen schaden zufugte, braune flussigkeit kam mund, floss schlussel tropfte boden. »horen sie nur,« sagte prokurist nebenzimmer, »er dreht schlussel um.« das gregor grosse aufmunterung; hatten zurufen sollen, vater mutter: »frisch, gregor,« hatten rufen sollen, »immer heran, fest schloss heran!« und vorstellung, bemuhungen spannung verfolgten, verbiss allem, kraft aufbringen konnte, besinnungslos schlussel. je fortschreiten drehung schlussels umtanzte schloss, hielt munde aufrecht, je bedarf hing schlussel druckte nieder ganzen last korpers. der hellere klang endlich zuruckschnappenden schlosses erweckte gregor formlich. aufatmend sagte sich: »ich schlosser gebraucht,« legte kopf klinke, ture ganzlich offnen. da ture weise offnen musste, eigentlich schon recht weit geoffnet, sehen. er musste erst langsam turflugel herumdrehen, vorsichtig, gerade eintritt zimmer plump rucken fallen wollte. er schwierigen bewegung beschaftigt zeit, achten, horte schon prokuristen lautes »oh!« ausstossen -- klang, wind saust -- sah auch, er, nachste ture war, hand offenen mund druckte langsam zuruckwich, vertreibe unsichtbare, gleichmassig fortwirkende kraft. die mutter -- stand trotz anwesenheit prokuristen nacht her aufgelosten, hoch straubenden haaren -- sah zuerst gefalteten handen vater an, ging zwei schritte gregor fiel inmitten rings herum ausbreitenden rocke nieder, gesicht ganz unauffindbar brust gesenkt. der vater ballte feindseligem ausdruck faust, wolle gregor zimmer zuruckstossen, sah unsicher wohnzimmer um, beschattete handen augen weinte, machtige brust schuttelte. gregor trat gar zimmer, lehnte innen festgeriegelten turflugel, leib halfte daruber seitlich geneigte kopf sehen war, hinuberlugte. es inzwischen heller geworden; klar stand strassenseite ausschnitt gegenuberliegenden, endlosen, grauschwarzen hauses -- krankenhaus -- hart front durchbrechenden regelmassigen fenstern; regen fiel nieder, grossen, einzeln sichtbaren formlich einzelnweise erde hinuntergeworfenen tropfen. das fruhstucksgeschirr stand uberreicher zahl tisch, vater fruhstuck wichtigste mahlzeit tages, lekture verschiedener zeitungen stundenlang hinzog. gerade gegenuberliegenden wand hing photographie gregors militarzeit, leutnant darstellte, er, hand degen, sorglos lachelnd, respekt haltung uniform verlangte. die tur vorzimmer geoffnet, sah, wohnungstur offen war, vorplatz wohnung hinaus beginn abwarts fuhrenden treppe. »nun,« sagte gregor wohl bewusst, einzige war, ruhe bewahrt hatte, »ich gleich anziehen, kollektion zusammenpacken wegfahren. wollt ihr, wollt wegfahren lassen? nun, herr prokurist, sie sehen, starrkopfig arbeite gern; reisen beschwerlich, reisen leben. wohin gehen sie denn, herr prokurist? ins geschaft? ja? werden sie wahrheitsgetreu berichten? man augenblick unfahig arbeiten, gerade richtige zeitpunkt, fruheren leistungen erinnern bedenken, spater, beseitigung hindernisses, gewiss desto fleissiger gesammelter arbeiten wird. ich ja herrn chef verpflichtet, wissen sie recht gut. andererseits sorge eltern schwester. ich klemme, herausarbeiten. machen sie schwieriger, schon ist. halten sie geschaft partei! man liebt reisenden nicht, weiss. man denkt, verdient heidengeld fuhrt dabei schones leben. man eben besondere veranlassung, vorurteil besser durchdenken. sie aber, herr prokurist, sie besseren uberblick verhaltnisse, sonstige personal, ja sogar, ganz vertrauen gesagt, besseren uberblick, herr chef selbst, eigenschaft unternehmer urteil leicht zuungunsten angestellten beirren lasst. sie wissen wohl, reisende, fast ganze jahr ausserhalb geschaftes ist, leicht opfer klatschereien, zufalligkeiten grundlosen beschwerden kann, wehren ganz unmoglich ist, meistens gar erfahrt dann, erschopft reise beendet hat, hause schlimmen, ursachen mehr durchschauenden folgen eigenen leibe spuren bekommt. herr prokurist, gehen sie weg, wort gesagt haben, zeigt, sie wenigstens kleinen teil recht geben!« aber prokurist schon ersten worten gregors abgewendet, zuckende schulter hinweg sah aufgeworfenen lippen gregor zuruck. und gregors rede stand augenblick still, verzog sich, gregor augen lassen, tur, ganz allmahlich, bestehe geheimes verbot, zimmer verlassen. schon vorzimmer, plotzlichen bewegung, letztenmal fuss wohnzimmer zog, hatte glauben konnen, soeben sohle verbrannt. im vorzimmer streckte rechte hand weit treppe hin, warte geradezu uberirdische erlosung. gregor sah ein, prokuristen stimmung fall weggehen lassen durfe, dadurch stellung geschaft aufs ausserste gefahrdet sollte. die eltern verstanden gut; langen jahren uberzeugung gebildet, gregor geschaft leben versorgt war, ausserdem augenblicklichen sorgen tun, voraussicht abhanden gekommen war. aber gregor voraussicht. der prokurist musste gehalten, beruhigt, uberzeugt schliesslich gewonnen werden; zukunft gregors familie hing davon ab! ware schwester gewesen! sie klug; schon geweint, gregor ruhig rucken lag. und gewiss hatte prokurist, damenfreund, lenken lassen; hatte wohnungstur zugemacht vorzimmer schrecken ausgeredet. aber schwester eben da, gregor musste handeln. und daran denken, gegenwartigen fahigkeiten, bewegen, gar kannte, daran denken, rede moglicher- ja wahrscheinlicherweise verstanden worden war, verliess turflugel; schob offnung; prokuristen hingehen, schon gelander vorplatzes lacherlicherweise beiden handen festhielt; fiel sofort, halt suchend, kleinen schrei vielen beinchen nieder. kaum geschehen, fuhlte erstenmal morgen korperliches wohlbehagen; beinchen festen boden sich; gehorchten vollkommen, freude merkte; strebten sogar darnach, fortzutragen, wohin wollte; schon glaubte er, endgultige besserung leidens stehe unmittelbar bevor. aber gleichen augenblick, schaukelnd verhaltener bewegung, gar weit mutter entfernt, gerade gegenuber boden lag, sprang diese, ganz versunken schien, einemmale hohe, arme weit ausgestreckt, finger gespreizt, rief: »hilfe, gottes willen hilfe!«, hielt kopf geneigt, wolle gregor besser sehen, lief aber, widerspruch dazu, sinnlos zuruck; vergessen, gedeckte tisch stand; setzte sich, angekommen war, zerstreutheit, eilig ihn, schien gar merken, neben umgeworfenen grossen kanne kaffee vollem strome teppich ergoss. »mutter, mutter,« sagte gregor leise sah hinauf. der prokurist augenblick ganz sinn gekommen; dagegen konnte versagen, anblick fliessenden kaffees mehrmals kiefern leere schnappen. daruber schrie mutter neuerdings auf, fluchtete tisch fiel entgegeneilenden vater arme. aber gregor zeit eltern; prokurist schon treppe; kinn gelander, sah letzten male zuruck. gregor nahm anlauf, moglichst sicher einzuholen; prokurist musste ahnen, machte sprung mehrere stufen verschwand; »huh!« schrie noch, klang durchs ganze treppenhaus. leider schien flucht prokuristen vater, bisher verhaltnismassig gefasst war, vollig verwirren, statt prokuristen nachzulaufen wenigstens gregor verfolgung hindern, packte rechten stock prokuristen, hut uberzieher sessel zuruckgelassen hatte, holte linken grosse zeitung tisch machte fussestampfen daran, gregor schwenken stockes zeitung zimmer zuruckzutreiben. kein bitten gregors half, bitten wurde verstanden, mochte kopf demutig drehen, vater stampfte starker fussen. druben mutter trotz kuhlen wetters fenster aufgerissen, hinausgelehnt druckte gesicht weit ausserhalb fensters hande. zwischen gasse treppenhaus entstand starke zugluft, fenstervorhange flogen auf, zeitungen tische rauschten, einzelne blatter wehten boden hin. unerbittlich drangte vater stiess zischlaute aus, wilder. nun gregor gar ubung ruckwartsgehen, ging wirklich langsam. wenn gregor hatte umdrehen durfen, ware gleich zimmer gewesen, furchtete sich, vater zeitraubende umdrehung ungeduldig machen, augenblick drohte stock vaters hand todliche schlag rucken kopf. endlich blieb gregor ubrig, merkte entsetzen, ruckwartsgehen richtung einzuhalten verstand; begann er, unaufhorlichen angstlichen seitenblicken vater, moglichkeit rasch, wirklichkeit langsam umzudrehen. vielleicht merkte vater guten willen, storte hierbei nicht, dirigierte sogar hie drehbewegung ferne spitze stockes. wenn unertragliche zischen vaters ware! gregor verlor daruber ganz kopf. er schon fast ganz umgedreht, sich, immer zischen horchend, sogar irrte stuck zuruckdrehte. als endlich glucklich kopf turoffnung war, zeigte sich, korper breit war, weiteres durchzukommen. dem vater fiel naturlich gegenwartigen verfassung entfernt ein, etwa turflugel offnen, gregor genugenden durchgang schaffen. seine fixe idee bloss, gregor rasch moglich zimmer musse. niemals hatte umstandlichen vorbereitungen gestattet, gregor brauchte, aufzurichten vielleicht weise tur kommen. vielleicht trieb er, gabe hindernis, gregor besonderem larm vorwarts; klang schon gregor gar mehr stimme bloss einzigen vaters; gab wirklich spass mehr, gregor drangte -- geschehe wolle -- tur. die seite korpers hob sich, lag schief turoffnung, flanke ganz wundgerieben, weissen tur blieben hassliche flecke, bald steckte fest hatte allein mehr ruhren konnen, beinchen seite hingen zitternd oben luft, schmerzhaft boden gedruckt -- gab vater hinten wahrhaftig erlosenden starken stoss, flog, heftig blutend, weit zimmer hinein. die tur wurde stock zugeschlagen, endlich still. erst abenddammerung erwachte gregor schweren ohnmachtahnlichen schlaf. er ware gewiss spater storung erwacht, fuhlte genugend ausgeruht ausgeschlafen, schien ihm, hatte fluchtiger schritt vorsichtiges schliessen vorzimmer fuhrenden tur geweckt. der schein elektrischen strassenbahn lag bleich zimmerdecke hoheren teilen mobel, unten gregor finster. langsam schob sich, ungeschickt fuhlern tastend, erst schatzen lernte, ture hin, nachzusehen, geschehen war. seine linke seite schien einzige lange, unangenehm spannende narbe, musste zwei beinreihen regelrecht hinken. ein beinchen ubrigens laufe vormittagigen vorfalle schwer verletzt worden -- fast wunder, verletzt worden -- schleppte leblos nach. erst tur merkte er, dorthin eigentlich gelockt hatte; geruch essbarem gewesen. denn stand napf susser milch gefullt, kleine schnitte weissbrot schwammen. fast hatte freude gelacht, grosseren hunger morgen, gleich tauchte kopf fast augen milch hinein. aber bald zog enttauscht zuruck; nur, essen wegen heiklen linken seite schwierigkeiten machte -- konnte essen, ganze korper schnaufend mitarbeitete --, schmeckte uberdies milch, lieblingsgetrank gewiss schwester deshalb hereingestellt hatte, gar nicht, ja wandte fast widerwillen napf ab kroch zimmermitte zuruck. im wohnzimmer war, gregor turspalte sah, gas angezundet, tageszeit vater nachmittags erscheinende zeitung mutter manchmal schwester erhobener stimme vorzulesen pflegte, horte laut. nun vielleicht vorlesen, schwester immer erzahlte schrieb, letzten zeit uberhaupt ubung gekommen. aber ringsherum still, trotzdem gewiss wohnung leer war. »was stilles leben familie fuhrte,« sagte gregor fuhlte, starr dunkle sah, grossen stolz daruber, eltern schwester leben schonen wohnung verschaffen konnen. wie aber, ruhe, wohlstand, zufriedenheit ende schrecken nehmen sollte? um gedanken verlieren, setzte gregor lieber bewegung kroch zimmer ab. einmal langen abends wurde seitenture kleinen spalte geoffnet rasch geschlossen; jemand wohl bedurfnis hereinzukommen, viele bedenken. gregor machte unmittelbar wohnzimmertur halt, entschlossen, zogernden besucher irgendwie hereinzubringen wenigstens erfahren, wer sei; wurde tur mehr geoffnet gregor wartete vergebens. fruh, turen versperrt waren, hereinkommen wollen, jetzt, tur geoffnet offenbar tages geoffnet worden waren, kam mehr, schlussel steckten aussen. spat erst nacht wurde licht wohnzimmer ausgeloscht, leicht festzustellen, eltern schwester lange wachgeblieben waren, genau horen konnte, entfernten drei fussspitzen. nun kam gewiss morgen niemand mehr gregor herein; lange zeit, ungestort uberlegen, leben neu ordnen sollte. aber hohe freie zimmer, gezwungen war, flach boden liegen, angstigte ihn, ursache herausfinden konnte, ja seit funf jahren bewohntes zimmer -- halb unbewussten wendung leichte scham eilte kanapee, sich, trotzdem rucken wenig gedruckt wurde trotzdem kopf mehr erheben konnte, gleich behaglich fuhlte bedauerte, korper breit war, vollstandig kanapee untergebracht werden. dort blieb ganze nacht, teil halbschlaf, hunger immer aufschreckte, verbrachte, teil sorgen undeutlichen hoffnungen, schlusse fuhrten, vorlaufig ruhig verhalten geduld grosste rucksichtnahme familie unannehmlichkeiten ertraglich musse, gegenwartigen zustand verursachen gezwungen war. schon fruhen morgen, fast nacht, gregor gelegenheit, kraft eben gefassten entschlusse prufen, vorzimmer her offnete schwester, fast vollig angezogen, tur sah spannung herein. sie fand gleich, kanapee bemerkte -- gott, musste irgendwo sein, wegfliegen -- erschrak sehr, sie, beherrschen konnen, tur aussen zuschlug. aber bereue benehmen, offnete tur sofort trat, sei schwerkranken gar fremden, fussspitzen herein. gregor kopf knapp rande kanapees vorgeschoben beobachtete sie. ob wohl bemerken wurde, milch stehen gelassen hatte, keineswegs mangel hunger, speise hereinbringen wurde, besser entsprach? tate selbst, lieber verhungern, darauf aufmerksam machen, trotzdem eigentlich ungeheuer drangte, unterm kanapee vorzuschiessen, schwester fussen werfen irgend gutes essen bitten. aber schwester bemerkte sofort verwunderung vollen napf, wenig milch ringsherum verschuttet war, hob gleich auf, blossen handen, fetzen, trug hinaus. gregor ausserst neugierig, ersatze bringen wurde, machte verschiedensten gedanken daruber. niemals hatte erraten konnen, schwester gute wirklich tat. sie brachte ihm, geschmack prufen, ganze auswahl, alten zeitung ausgebreitet. da altes halbverfaultes gemuse; knochen nachtmahl her, festgewordener weisser sauce umgeben waren; paar rosinen mandeln; kase, gregor zwei tagen ungeniessbar erklart hatte; trockenes brot, butter beschmiertes brot butter beschmiertes gesalzenes brot. ausserdem stellte wahrscheinlich allemal gregor bestimmten napf, wasser gegossen hatte. und zartgefuhl, wusste, gregor essen wurde, entfernte eiligst drehte sogar schlussel um, gregor merken konne, behaglich durfe, wolle. gregors beinchen schwirrten, essen ging. seine wunden mussten ubrigens schon vollstandig geheilt sein, fuhlte behinderung mehr, staunte daruber dachte daran, mehr monat messer ganz wenig finger geschnitten, wunde vorgestern genug wehgetan hatte. »sollte weniger feingefuhl haben?« dachte saugte schon gierig kase, speisen sofort nachdrucklich gezogen hatte. rasch hintereinander befriedigung tranenden augen verzehrte kase, gemuse sauce; frischen speisen dagegen schmeckten nicht, konnte geruch vertragen schleppte sogar sachen, essen wollte, stuckchen weg. er schon langst fertig lag faul gleichen stelle, schwester zeichen, zuruckziehen solle, langsam schlussel umdrehte. das schreckte sofort auf, trotzdem schon fast schlummerte, eilte kanapee. aber kostete grosse selbstuberwindung, kurze zeit, schwester zimmer war, kanapee bleiben, reichlichen essen leib wenig gerundet, konnte enge kaum atmen. unter kleinen erstickungsanfallen sah hervorgequollenen augen zu, nichtsahnende schwester besen uberbleibsel zusammenkehrte, gregor gar beruhrten speisen, seien mehr gebrauchen, hastig kubel schuttete, holzdeckel schloss, worauf hinaustrug. kaum umgedreht, zog schon gregor kanapee hervor streckte blahte sich. auf weise bekam gregor taglich essen, morgen, eltern dienstmadchen schliefen, zweitemal allgemeinen mittagessen, schliefen eltern gleichfalls weilchen, dienstmadchen wurde schwester irgendeiner besorgung weggeschickt. gewiss wollten nicht, gregor verhungere, vielleicht hatten ertragen konnen, essen mehr horensagen erfahren, vielleicht schwester moglicherweise kleine trauer ersparen, tatsachlich litten ja gerade genug. mit ausreden ersten vormittag arzt schlosser wohnung geschafft hatte, konnte gregor gar erfahren, verstanden wurde, dachte niemand daran, schwester nicht, verstehen konne, musste sich, schwester zimmer war, begnugen, seufzer anrufe heiligen horen. erst spater, wenig gewohnt -- vollstandiger gewohnung konnte naturlich niemals rede --, erhaschte gregor manchmal bemerkung, freundlich gemeint gedeutet konnte. »heute geschmeckt,« sagte sie, gregor essen tuchtig aufgeraumt hatte, gegenteiligen fall, allmahlich immer haufiger wiederholte, fast traurig sagen pflegte: »nun stehengeblieben.« wahrend gregor unmittelbar neuigkeit erfahren konnte, erhorchte nebenzimmern, stimmen horte, lief gleich betreffenden tur druckte ganzem leib sie. besonders ersten zeit gab gesprach, irgendwie geheimen, handelte. zwei tage lang mahlzeiten beratungen daruber horen, verhalten solle; mahlzeiten sprach gleiche thema, immer zumindest zwei familienmitglieder hause, wohl niemand allein hause bleiben wohnung fall ganzlich verlassen konnte. auch dienstmadchen gleich ersten tag -- ganz klar, wieviel vorgefallenen wusste -- kniefallig mutter gebeten, sofort entlassen, viertelstunde danach verabschiedete, dankte entlassung tranen, grosste wohltat, erwiesen hatte, gab, verlangte, furchterlichen schwur ab, niemandem geringste verraten. nun musste schwester verein mutter kochen; allerdings machte muhe, ass fast nichts. immer horte gregor, vergebens essen aufforderte antwort bekam, als: »danke genug« ahnliches. getrunken wurde vielleicht nichts. ofters fragte schwester vater, bier wolle, herzlich erbot sich, holen, vater schwieg, sagte sie, bedenken nehmen, konne hausmeisterin darum schicken, sagte vater schliesslich grosses »nein«, wurde mehr davon gesprochen. schon laufe ersten tages legte vater ganzen vermogensverhaltnisse aussichten sowohl mutter schwester dar. hie stand tische holte kleinen wertheimkassa, funf jahren erfolgten zusammenbruch geschaftes gerettet hatte, irgendeinen beleg irgendein vormerkbuch. man horte, komplizierte schloss aufsperrte entnahme gesuchten verschloss. diese erklarungen vaters teil erste erfreuliche, gregor seit gefangenschaft horen bekam. er meinung gewesen, vater geschaft her geringste ubriggeblieben war, zumindest vater gegenteiliges gesagt, gregor allerdings darum gefragt. gregors sorge damals gewesen, daranzusetzen, familie geschaftliche ungluck, vollstandige hoffnungslosigkeit gebracht hatte, moglichst rasch vergessen lassen. und damals ganz besonderem feuer arbeiten angefangen fast nacht kleinen kommis reisender geworden, naturlich ganz moglichkeiten geldverdienens hatte, arbeitserfolge sofort form provision bargeld verwandelten, erstaunten begluckten familie hause tisch gelegt konnte. es schone zeiten gewesen, niemals nachher sich, wenigstens glanze, wiederholt, trotzdem gregor spater geld verdiente, aufwand ganzen familie tragen imstande trug. man eben daran gewohnt, sowohl familie, gregor, nahm geld dankbar an, lieferte gern ab, besondere warme mehr ergeben. nur schwester gregor nahe geblieben, geheimer plan, sie, unterschied gregor musik liebte ruhrend violine spielen verstand, nachstes jahr, rucksicht grossen kosten, verursachen musste, schon weise hereinbringen wurde, konservatorium schicken. ofters kurzen aufenthalte gregors stadt wurde gesprachen schwester konservatorium erwahnt, immer schoner traum, verwirklichung denken war, eltern horten unschuldigen erwahnungen gern; gregor dachte bestimmt daran beabsichtigte, weihnachtsabend feierlich erklaren. solche gegenwartigen zustand ganz nutzlose gedanken gingen kopf, aufrecht ture klebte horchte. manchmal konnte allgemeiner mudigkeit gar mehr zuhoren liess kopf nachlassig tur schlagen, hielt sofort fest, kleine gerausch, verursacht hatte, nebenan gehort worden verstummen lassen. »was treibt,« sagte vater weile, offenbar ture hingewendet, erst wurde unterbrochene gesprach allmahlich aufgenommen. gregor erfuhr genuge -- vater pflegte erklarungen ofters wiederholen, teils, dingen schon lange beschaftigt hatte, teils auch, mutter gleich beim erstenmal verstand --, trotz unglucks allerdings ganz kleines vermogen alten zeit vorhanden war, angeruhrten zinsen zwischenzeit wenig anwachsen lassen. ausserdem geld, gregor allmonatlich hause gebracht -- paar gulden behalten --, vollstandig aufgebraucht worden kleinen kapital angesammelt. gregor, ture, nickte eifrig, erfreut unerwartete vorsicht sparsamkeit. eigentlich hatte ja uberschussigen geldern schuld vaters gegenuber chef abgetragen konnen, tag, posten hatte loswerden konnen, ware weit naher gewesen, zweifellos besser so, vater eingerichtet hatte. nun genugte geld ganz gar nicht, familie etwa zinsen leben lassen; genugte vielleicht, familie ein, hochstens zwei jahre erhalten, mehr nicht. es bloss summe, eigentlich angreifen durfte, notfall zuruckgelegt musste; geld leben musste verdienen. nun vater gesunder, alter mann, schon funf jahre gearbeitet jedenfalls zutrauen durfte; funf jahren, ersten ferien muhevollen erfolglosen lebens waren, fett angesetzt dadurch recht schwerfallig geworden. und alte mutter vielleicht geld verdienen, asthma litt, wanderung wohnung schon anstrengung verursachte, zweiten tag atembeschwerden sofa beim offenen fenster verbrachte? und schwester geld verdienen, kind siebzehn jahren, bisherige lebensweise gonnen war, daraus bestanden hatte, nett kleiden, lange schlafen, wirtschaft mitzuhelfen, paar bescheidenen vergnugungen beteiligen violine spielen? wenn rede notwendigkeit geldverdienens kam, liess zuerst immer gregor ture los warf neben tur befindliche kuhle ledersofa, ganz heiss beschamung trauer. oft lag ganzen langen nachte uber, schlief augenblick scharrte stundenlang leder. oder scheute grosse muhe, sessel fenster schieben, fensterbrustung hinaufzukriechen und, sessel gestemmt, ans fenster lehnen, offenbar irgendeiner erinnerung befreiende, fruher darin gelegen war, fenster schauen. denn tatsachlich sah tag tag wenig entfernten dinge immer undeutlicher; gegenuberliegende krankenhaus, allzu haufigen anblick fruher verflucht hatte, bekam uberhaupt mehr gesicht, genau gewusst hatte, stillen, vollig stadtischen charlottenstrasse wohnte, hatte glauben konnen, fenster einode schauen graue himmel graue erde ununterscheidbar vereinigten. nur zweimal aufmerksame schwester sehen mussen, sessel beim fenster stand, schon jedesmal, nachdem zimmer aufgeraumt hatte, sessel genau fenster hinschob, ja sogar ab inneren fensterflugel offen liess. hatte gregor schwester sprechen danken konnen, musste, hatte dienste leichter ertragen; litt darunter. die schwester suchte freilich peinlichkeit ganzen moglichst verwischen, je langere zeit verging, desto besser gelang naturlich auch, gregor durchschaute zeit genauer. schon eintritt schrecklich. kaum eingetreten, lief sie, zeit nehmen, ture schliessen, darauf achtete, anblick gregors zimmer ersparen, geradewegs fenster riss es, ersticke fast, hastigen handen auf, blieb auch, kalt war, weilchen beim fenster atmete tief. mit laufen larmen erschreckte gregor taglich zweimal; ganze zeit zitterte kanapee wusste gut, gewiss gerne verschont hatte, moglich ware, zimmer, gregor befand, geschlossenem fenster aufzuhalten. einmal, wohl schon monat seit gregors verwandlung vergangen, schon schwester besonderer grund mehr, gregors aussehen erstaunen geraten, kam wenig fruher traf gregor an, er, unbeweglich recht erschrecken aufgestellt, fenster schaute. es ware gregor unerwartet gewesen, eingetreten ware, stellung verhinderte, sofort fenster offnen, trat ein, fuhr sogar zuruck schloss tur; fremder hatte geradezu denken konnen, gregor aufgelauert beissen wollen. gregor versteckte naturlich sofort kanapee, musste mittag warten, ehe schwester wiederkam, schien unruhiger sonst. er erkannte daraus, anblick immer unertraglich weiterhin unertraglich bleiben musse, wohl uberwinden musste, anblick kleinen partie korpers davonzulaufen, kanapee hervorragte. um anblick ersparen, trug tages rucken -- brauchte arbeit vier stunden -- leintuch kanapee ordnete weise an, ganzlich verdeckt war, schwester, buckte, sehen konnte. ware leintuch meinung notig gewesen, hatte ja entfernen konnen, vergnugen gregors gehoren konnte, ganz gar abzusperren, klar genug, liess leintuch, war, gregor glaubte sogar dankbaren blick erhascht haben, kopf vorsichtig leintuch wenig luftete, nachzusehen, schwester neue einrichtung aufnahm. in ersten vierzehn tagen konnten eltern bringen, hereinzukommen, horte oft, jetzige arbeit schwester vollig anerkannten, bisher haufig schwester geargert hatten, nutzloses madchen erschienen war. nun warteten oft beide, vater mutter, gregors zimmer, schwester aufraumte, kaum herausgekommen, musste ganz genau erzahlen, zimmer aussah, gregor gegessen hatte, diesmal benommen hatte, vielleicht kleine besserung bemerken war. die mutter ubrigens verhaltnismassig bald gregor besuchen, vater schwester hielten zuerst vernunftgrunden zuruck, denen gregor aufmerksam zuhorte, vollstandig billigte. spater musste gewalt zuruckhalten, rief: »lasst gregor, ja unglucklicher sohn! begreift nicht, muss?«, dachte gregor, vielleicht gut ware, mutter hereinkame, tag naturlich, vielleicht woche; verstand besser schwester, trotz all mute kind letzten grunde vielleicht kindlichem leichtsinn schwere aufgabe ubernommen hatte. der wunsch gregors, mutter sehen, ging bald erfullung. wahrend tages gregor schon rucksicht eltern beim fenster zeigen, kriechen konnte paar quadratmetern fussbodens viel, ruhige liegen ertrug schon nacht schwer, essen machte bald mehr geringste vergnugen, nahm zerstreuung gewohnheit an, kreuz quer wande plafond kriechen. besonders oben decke hing gern; ganz anders, liegen fussboden; atmete freier; leichtes schwingen ging korper, fast glucklichen zerstreutheit, gregor oben befand, konnte geschehen, eigenen uberraschung losliess boden klatschte. aber naturlich korper ganz gewalt fruher beschadigte grossen falle nicht. die schwester bemerkte sofort neue unterhaltung, gregor gefunden -- hinterliess ja beim kriechen hie spuren klebstoffes --, setzte kopf, gregor kriechen grosstem ausmasse ermoglichen mobel, verhinderten, kasten schreibtisch, wegzuschaffen. nun imstande, allein tun; vater wagte hilfe bitten; dienstmadchen hatte ganz gewiss geholfen, etwa sechzehnjahrige madchen harrte tapfer seit entlassung fruheren kochin aus, vergunstigung gebeten, kuche unaufhorlich versperrt halten durfen besonderen anruf offnen mussen; blieb schwester ubrig, abwesenheit vaters mutter holen. mit ausrufen erregter freude kam mutter heran, verstummte tur gregors zimmer. zuerst sah naturlich schwester nach, zimmer ordnung war; erst liess mutter eintreten. gregor grosster eile leintuch tiefer mehr falten gezogen, ganze sah wirklich zufallig kanapee geworfenes leintuch aus. gregor unterliess diesmal, leintuch spionieren; verzichtete darauf, mutter schon diesmal sehen, froh, gekommen war. »komm nur, sieht nicht,« sagte schwester, offenbar fuhrte mutter hand. gregor horte nun, zwei schwachen frauen immerhin schweren alten kasten platze ruckten, schwester immerfort grossten teil arbeit beanspruchte, warnungen mutter horen, furchtete, uberanstrengen werde. es dauerte lange. wohl schon viertelstundiger arbeit sagte mutter, solle kasten lieber lassen, erstens sei schwer, ankunft vaters fertig kasten mitte zimmers gregor weg verrammeln, zweitens sei gar sicher, gregor entfernung mobel gefallen geschehe. ihr scheine gegenteil fall sein; bedrucke anblick leeren wand geradezu herz; warum solle gregor empfindung haben, zimmermobel langst gewohnt sei deshalb leeren zimmer verlassen fuhlen werde. »und so,« schloss mutter ganz leise, uberhaupt fast flusterte, wolle vermeiden, gregor, genauen aufenthalt ja kannte, klang stimme hore, worte verstand, davon uberzeugt, »und so, entfernung mobel zeigten, hoffnung besserung aufgeben rucksichtslos uberlassen? ich glaube, ware beste, suchen zimmer genau zustand erhalten, fruher war, gregor, zuruckkommt, unverandert findet leichter zwischenzeit vergessen kann.« beim anhoren worte mutter erkannte gregor, mangel unmittelbaren menschlichen ansprache, verbunden einformigen leben inmitten familie, laufe zwei monate verstand verwirren mussen, konnte erklaren, ernsthaft darnach verlangen konnen, zimmer ausgeleert wurde. hatte wirklich lust, warme, ererbten mobeln gemutlich ausgestattete zimmer hohle verwandeln lassen, freilich richtungen ungestort kriechen konnen, jedoch gleichzeitigem, schnellen, ganzlichen vergessen menschlichen vergangenheit? war schon nahe daran, vergessen, seit langem gehorte stimme mutter aufgeruttelt. nichts entfernt werden, musste bleiben, guten einwirkungen mobel zustand konnte entbehren; mobel hinderten, sinnlose herumkriechen betreiben, schaden, grosser vorteil. aber schwester leider meinung; sich, allerdings ganz unberechtigt, angewohnt, besprechung angelegenheiten gregors besonders sachverstandige gegenuber eltern aufzutreten, rat mutter schwester grund genug, entfernung kastens schreibtisches, zuerst allein gedacht hatte, entfernung samtlicher mobel, ausnahme unentbehrlichen kanapees, bestehen. es naturlich kindlicher trotz letzten zeit unerwartet schwer erworbene selbstvertrauen, forderung bestimmte; tatsachlich beobachtet, gregor raum kriechen brauchte, dagegen mobel, soweit sehen konnte, geringsten benutzte. vielleicht spielte schwarmerische sinn madchen alters mit, gelegenheit befriedigung sucht, grete verlocken liess, lage gregors schreckenerregender wollen, mehr leisten konnen. denn raum, gregor ganz allein leeren wande beherrschte, wohl mensch ausser grete jemals einzutreten getrauen. und liess entschlusse mutter abbringen, zimmer lauter unruhe unsicher schien, bald verstummte schwester kraften beim hinausschaffen kastens half. nun, kasten konnte gregor notfall entbehren, schon schreibtisch musste bleiben. und kaum frauen kasten, achzend druckten, zimmer verlassen, gregor kopf kanapee hervorstiess, sehen, vorsichtig moglichst rucksichtsvoll eingreifen konnte. aber ungluck gerade mutter, zuerst zuruckkehrte, grete nebenzimmer kasten umfangen hielt allein her schwang, naturlich stelle bringen. die mutter gregors anblick gewohnt, hatte krank konnen, eilte gregor erschrocken ruckwartslauf ende kanapees, konnte mehr verhindern, leintuch vorne wenig bewegte. das genugte, mutter aufmerksam machen. sie stockte, stand augenblick still ging grete zuruck. trotzdem gregor immer sagte, ja aussergewohnliches geschehe, paar mobel umgestellt wurden, wirkte doch, bald eingestehen musste, hin- hergehen frauen, kleinen zurufe, kratzen mobel boden, grosser, seiten genahrter trubel ihn, musste sich, fest kopf beine zog leib boden druckte, unweigerlich sagen, ganze lange aushalten werde. sie raumten zimmer aus; nahmen alles, lieb war; kasten, laubsage werkzeuge lagen, schon hinausgetragen; lockerten schon boden fest eingegrabenen schreibtisch, handelsakademiker, burgerschuler, ja sogar schon volksschuler aufgaben geschrieben hatte, -- wirklich zeit mehr, guten absichten prufen, zwei frauen hatten, deren existenz ubrigens fast vergessen hatte, erschopfung arbeiteten schon stumm, horte schwere tappen fusse. und brach hervor -- frauen stutzten gerade nebenzimmer schreibtisch, wenig verschnaufen --, wechselte viermal richtung laufes, wusste wirklich nicht, zuerst retten sollte, sah ubrigen schon leeren wand auffallend bild lauter pelzwerk gekleideten dame hangen, kroch eilends hinauf presste glas, festhielt heissen bauch wohltat. dieses bild wenigstens, gregor ganz verdeckte, gewiss niemand wegnehmen. er verdrehte kopf tur wohnzimmers, frauen ruckkehr beobachten. sie ruhe gegonnt kamen schon wieder; grete arm mutter gelegt trug fast. »also nehmen jetzt?« sagte grete sah um, da kreuzten blicke denen gregors wand. wohl infolge gegenwart mutter behielt fassung, beugte gesicht mutter, herumschauen abzuhalten, sagte, allerdings zitternd unuberlegt: »komm, lieber augenblick wohnzimmer zuruckgehen?« die absicht gretes gregor klar, mutter sicherheit bringen wand hinunterjagen. nun, konnte ja immerhin versuchen! er sass bild gab her. lieber grete gesicht springen. aber gretes worte mutter erst recht beunruhigt, trat seite, erblickte riesigen braunen fleck geblumten tapete, rief, ehe eigentlich bewusstsein kam, gregor war, sah, schreiender, rauher stimme: »ach gott, ach gott!« fiel ausgebreiteten armen, gebe auf, kanapee ruhrte nicht. »du, gregor!« rief schwester erhobener faust eindringlichen blicken. es seit verwandlung ersten worte, unmittelbar gerichtet hatte. sie lief nebenzimmer, irgendeine essenz holen, mutter ohnmacht wecken konnte; gregor helfen -- rettung bildes zeit --; klebte fest glas musste gewalt losreissen; lief nebenzimmer, konne schwester irgendeinen rat geben, fruherer zeit; musste untatig stehen; verschiedenen flaschchen kramte, erschreckte noch, umdrehte; flasche fiel boden zerbrach; splitter verletzte gregor gesicht, irgendeine atzende medizin umfloss ihn; grete nahm nun, langer aufzuhalten, viele flaschchen, halten konnte, rannte mutter hinein; tur schlug fusse zu. gregor mutter abgeschlossen, schuld vielleicht tode nahe war; tur durfte offnen, schwester, mutter bleiben musste, verjagen; tun, warten; selbstvorwurfen besorgnis bedrangt, begann kriechen, uberkroch alles, wande, mobel zimmerdecke fiel endlich verzweiflung, ganze zimmer schon drehen anfing, mitten grossen tisch. es verging kleine weile, gregor lag matt da, ringsherum still, vielleicht gutes zeichen. da lautete es. das madchen naturlich kuche eingesperrt grete musste daher offnen gehen. der vater gekommen. »was geschehen?« ersten worte; gretes aussehen wohl verraten. grete antwortete dumpfer stimme, offenbar druckte gesicht vaters brust: »die mutter ohnmachtig, geht schon besser. gregor ausgebrochen.« »ich ja erwartet,« sagte vater, »ich ja immer gesagt, frauen wollt horen.« gregor klar, vater gretes allzukurze mitteilung schlecht gedeutet annahm, gregor irgendeine gewalttat zuschulden kommen lassen. deshalb musste gregor vater besanftigen suchen, aufzuklaren weder zeit moglichkeit. und fluchtete tur zimmers druckte sie, vater beim eintritt vorzimmer her gleich sehen konne, gregor beste absicht habe, sofort zimmer zuruckzukehren, notig sei, zuruckzutreiben, tur offnen brauchte, gleich verschwinden. aber vater stimmung, feinheiten bemerken. »ah!« rief gleich beim eintritt tone, sei gleichzeitig wutend froh. gregor zog kopf tur zuruck hob vater. so vater wirklich vorgestellt, dastand; allerdings letzten zeit neuartigen herumkriechen versaumt, fruher vorgange ubrigen wohnung kummern, hatte eigentlich darauf gefasst mussen, veranderte verhaltnisse anzutreffen. trotzdem, trotzdem, vater? der gleiche mann, mude bett vergraben lag, fruher gregor geschaftsreise ausgeruckt war; abenden heimkehr schlafrock lehnstuhl empfangen hatte; gar recht imstande war, aufzustehen, zeichen freude arme gehoben hatte, seltenen gemeinsamen spaziergangen paar sonntagen jahr hochsten feiertagen gregor mutter, schon langsam gingen, immer wenig langsamer, alten mantel eingepackt, stets vorsichtig aufgesetztem kruckstock vorwarts arbeitete und, sagen wollte, fast immer stillstand begleitung versammelte? nun gut aufgerichtet; straffe blaue uniform goldknopfen gekleidet, diener bankinstitute tragen; hohen steifen kragen rockes entwickelte starkes doppelkinn; buschigen augenbrauen drang blick schwarzen augen frisch aufmerksam hervor; zerzauste weisse haar peinlich genauen, leuchtenden scheitelfrisur niedergekammt. er warf mutze, goldmonogramm, wahrscheinlich bank, angebracht war, ganze zimmer bogen kanapee ging, enden langen uniformrockes zuruckgeschlagen, hande hosentaschen, verbissenem gesicht gregor zu. er wusste wohl nicht, vorhatte; immerhin hob fusse ungewohnlich hoch, gregor staunte riesengrosse stiefelsohlen. doch hielt dabei auf, wusste ja ersten tage neuen lebens her, vater gegenuber grosste strenge angebracht ansah. und lief vater her, stockte, vater stehen blieb, eilte schon vorwarts, vater ruhrte. so machten mehrmals runde zimmer, entscheidendes ereignete, ja ganze infolge langsamen tempos anschein verfolgung gehabt hatte. deshalb blieb gregor vorlaufig fussboden, zumal furchtete, vater flucht wande plafond besondere bosheit halten. allerdings musste gregor sagen, sogar laufen lange aushalten wurde, vater schritt machte, musste unzahl bewegungen ausfuhren. atemnot begann schon bemerkbar machen, ja fruheren zeit ganz vertrauenswurdige lunge besessen hatte. als dahintorkelte, krafte lauf sammeln, kaum augen offenhielt; stumpfheit rettung laufen gar dachte; fast schon vergessen hatte, wande freistanden, allerdings sorgfaltig geschnitzten mobeln voll zacken spitzen verstellt -- flog knapp neben ihm, leicht geschleudert, irgend nieder rollte her. es apfel; gleich flog zweiter nach; gregor blieb schrecken stehen; weiterlaufen nutzlos, vater entschlossen, bombardieren. aus obstschale kredenz taschen gefullt warf nun, vorlaufig scharf zielen, apfel apfel. diese kleinen roten apfel rollten elektrisiert boden herum stiessen aneinander. ein schwach geworfener apfel streifte gregors rucken, glitt unschadlich ab. ein sofort nachfliegender drang dagegen formlich gregors rucken ein; gregor weiterschleppen, konne uberraschende unglaubliche schmerz ortswechsel vergehen; fuhlte festgenagelt streckte vollstandiger verwirrung sinne. nur letzten blick sah noch, tur zimmers aufgerissen wurde, schreienden schwester mutter hervoreilte, hemd, schwester entkleidet, ohnmacht atemfreiheit verschaffen, mutter vater zulief weg aufgebundenen rocke boden glitten, stolpernd rocke vater eindrang umarmend, ganzlicher vereinigung -- versagte gregors sehkraft schon -- hande vaters hinterkopf schonung gregors leben bat. die schwere verwundung gregors, monat litt -- apfel blieb, niemand entfernen wagte, sichtbares andenken fleische sitzen --, schien vater daran erinnert haben, gregor trotz gegenwartigen traurigen ekelhaften gestalt familienglied war, feind behandeln durfte, gegenuber gebot familienpflicht war, widerwillen hinunterzuschlucken dulden, dulden. und gregor wunde beweglichkeit wahrscheinlich immer verloren vorlaufig durchquerung zimmers alter invalide lange, lange minuten brauchte -- kriechen hohe denken --, bekam verschlimmerung zustandes meinung vollstandig genugenden ersatz dadurch, immer abend wohnzimmertur, schon zwei stunden vorher scharf beobachten pflegte, geoffnet wurde, er, dunkel zimmers liegend, wohnzimmer unsichtbar, ganze familie beim beleuchteten tische sehen reden, gewissermassen allgemeiner erlaubnis, ganz fruher, anhoren durfte. freilich mehr lebhaften unterhaltungen fruheren zeiten, gregor kleinen hotelzimmern stets verlangen gedacht hatte, mude feuchte bettzeug werfen mussen. es ging meist still zu. der vater schlief bald nachtessen sessel ein; mutter schwester ermahnten einander stille; mutter nahte, weit licht vorgebeugt, feine wasche modengeschaft; schwester, stellung verkauferin angenommen hatte, lernte abend stenographie franzosisch, vielleicht spater besseren posten erreichen. manchmal wachte vater auf, wisse gar nicht, geschlafen habe, sagte mutter: »wie lange heute schon nahst!« schlief sofort ein, mutter schwester einander mude zulachelten. mit art eigensinn weigerte vater, hause dieneruniform abzulegen; schlafrock nutzlos kleiderhaken hing, schlummerte vater vollstandig angezogen platz, sei immer dienste bereit warte stimme vorgesetzten. infolgedessen verlor gleich anfangs neue uniform trotz sorgfalt mutter schwester reinlichkeit, gregor sah oft ganze abende lang fleckige, stets geputzten goldknopfen leuchtende kleid, alte mann hochst unbequem ruhig schlief. sobald uhr zehn schlug, suchte mutter leise zusprache vater wecken uberreden, bett gehen, richtiger schlaf vater, sechs uhr dienst antreten musste, ausserst notig. aber eigensinn, ihn, seitdem diener war, ergriffen hatte, bestand immer darauf, langer tisch bleiben, trotzdem regelmassig einschlief, uberdies grossten muhe bewegen, sessel bett vertauschen. da mochten mutter schwester kleinen ermahnungen eindringen, viertelstundenlang schuttelte langsam kopf, hielt augen geschlossen stand auf. die mutter zupfte armel, sagte schmeichelworte ohr, schwester verliess aufgabe, mutter helfen, beim vater verfing nicht. er versank tiefer sessel. erst frauen achseln fassten, schlug augen auf, sah abwechselnd mutter schwester pflegte sagen: »das leben. das ruhe alten tage.« und beiden frauen gestutzt, erhob sich, umstandlich, sei grosste last, liess frauen ture fuhren, winkte ab ging selbstandig weiter, mutter nahzeug, schwester feder eiligst hinwarfen, vater laufen behilflich sein. wer abgearbeiteten ubermudeten familie zeit, gregor mehr kummern, unbedingt notig war? der haushalt wurde immer mehr eingeschrankt; dienstmadchen wurde entlassen; riesige knochige bedienerin weissem, kopf umflatterndem haar kam morgens abends, schwerste arbeit leisten; besorgte mutter neben vielen naharbeit. es geschah sogar, verschiedene familienschmuckstucke, fruher mutter schwester uberglucklich unterhaltungen feierlichkeiten getragen hatten, verkauft wurden, gregor abend allgemeinen besprechung erzielten preise erfuhr. die grosste klage stets, gegenwartigen verhaltnisse allzugrosse wohnung verlassen konnte, auszudenken war, gregor ubersiedeln sollte. aber gregor sah wohl ein, rucksicht war, ubersiedlung verhinderte, hatte passenden kiste paar luftlochern leicht transportieren konnen; familie hauptsachlich wohnungswechsel abhielt, vielmehr vollige hoffnungslosigkeit gedanke daran, ungluck geschlagen war, niemand ganzen verwandten- bekanntenkreis. was welt armen leuten verlangt, erfullten aussersten, vater holte kleinen bankbeamten fruhstuck, mutter opferte wasche fremder leute, schwester lief befehl kunden pulte her, reichten krafte familie schon nicht. und wunde rucken fing gregor neu schmerzen an, mutter schwester, nachdem vater bett gebracht hatten, zuruckkehrten, arbeit liegen liessen, nahe zusammenruckten, schon wange wange sassen; mutter, gregors zimmer zeigend, sagte: »mach' tur zu, grete,« gregor dunkel war, nebenan frauen tranen vermischten gar tranenlos tisch anstarrten. die nachte tage verbrachte gregor fast ganz schlaf. manchmal dachte daran, beim nachsten offnen tur angelegenheiten familie ganz fruher hand nehmen; gedanken erschienen langer zeit chef prokurist, kommis lehrjungen, begriffsstutzige hausknecht, zwei drei freunde geschaften, stubenmadchen hotel provinz, liebe, fluchtige erinnerung, kassiererin hutgeschaft, ernsthaft, langsam beworben -- erschienen untermischt fremden schon vergessenen, statt familie helfen, samtlich unzuganglich, froh, verschwanden. dann gar laune, familie sorgen, bloss wut schlechte wartung erfullte ihn, trotzdem vorstellen konnte, worauf appetit gehabt hatte, machte plane, speisekammer gelangen konnte, nehmen, ihm, hunger hatte, immerhin gebuhrte. ohne mehr nachzudenken, womit gregor besonderen gefallen konnte, schob schwester eiligst, ehe morgens mittags geschaft lief, fuss irgendeine beliebige speise gregors zimmer hinein, abend, gleichgultig dagegen, speise vielleicht gekostet -- haufigste fall -- ganzlich unberuhrt war, schwenken besens hinauszukehren. das aufraumen zimmers, immer abends besorgte, konnte gar mehr schneller getan sein. schmutzstreifen zogen wande entlang, hie lagen knauel staub unrat. in ersten zeit stellte gregor ankunft schwester derartige besonders bezeichnende winkel, stellung gewissermassen vorwurf machen. aber hatte wohl wochenlang bleiben konnen, schwester gebessert hatte; sah ja schmutz genau er, eben entschlossen, lassen. dabei wachte ganz neuen empfindlichkeit, uberhaupt ganze familie ergriffen hatte, daruber, aufraumen gregors zimmer vorbehalten blieb. einmal mutter gregors zimmer grossen reinigung unterzogen, verbrauch kubel wasser gelungen -- viele feuchtigkeit krankte allerdings gregor lag breit, verbittert unbeweglich kanapee --, strafe blieb mutter aus. denn kaum abend schwester veranderung gregors zimmer bemerkt, sie, aufs hochste beleidigt, wohnzimmer lief und, trotz beschworend erhobenen hande mutter, weinkrampf ausbrach, eltern -- vater naturlich sessel aufgeschreckt worden -- zuerst erstaunt hilflos zusahen; ruhren anfingen; vater rechts mutter vorwurfe machte, gregors zimmer schwester reinigung uberliess; links dagegen schwester anschrie, niemals mehr gregors zimmer reinigen durfen; mutter vater, erregung mehr kannte, schlafzimmer schleppen suchte; schwester, schluchzen geschuttelt, kleinen fausten tisch bearbeitete; gregor laut wut daruber zischte, einfiel, tur schliessen anblick larm ersparen. aber schwester, erschopft berufsarbeit, uberdrussig geworden war, gregor, fruher, sorgen, hatte keineswegs mutter eintreten mussen gregor hatte vernachlassigt brauchen. denn bedienerin da. diese alte witwe, langen leben hilfe starken knochenbaues argste uberstanden mochte, eigentlichen abscheu gregor. ohne irgendwie neugierig sein, zufallig tur gregors zimmer aufgemacht anblick gregors, der, ganzlich uberrascht, trotzdem niemand jagte, hin- herzulaufen begann, hande schoss gefaltet staunend stehen geblieben. seitdem versaumte nicht, stets fluchtig morgens abends tur wenig offnen gregor hineinzuschauen. anfangs rief herbei, worten, wahrscheinlich freundlich hielt, »komm mal heruber, alter mistkafer!« »seht mal alten mistkafer!« auf ansprachen antwortete gregor nichts, blieb unbeweglich platz, sei tur gar geoffnet worden. hatte bedienerin, statt laune nutzlos storen lassen, lieber befehl gegeben, zimmer taglich reinigen! einmal fruhen morgen -- heftiger regen, vielleicht schon zeichen kommenden fruhjahrs, schlug scheiben -- gregor, bedienerin redensarten begann, derartig erbittert, er, angriff, allerdings langsam hinfallig, wendete. die bedienerin aber, statt furchten, hob bloss nahe tur befindlichen stuhl hoch empor, gross geoffnetem munde dastand, absicht klar, mund erst schliessen, sessel hand gregors rucken niederschlagen wurde. »also geht nicht?« fragte sie, gregor umdrehte, stellte sessel ruhig ecke zuruck. gregor ass fast gar mehr. nur zufallig vorbereiteten speise voruberkam, nahm spiel bissen mund, hielt stundenlang spie meist aus. zuerst dachte er, sei trauer zustand zimmers, essen abhalte, gerade veranderungen zimmers sohnte bald aus. man angewohnt, dinge, anderswo unterbringen konnte, zimmer hineinzustellen, dinge gab viele, zimmer wohnung drei zimmerherren vermietet hatte. diese ernsten herren, -- drei vollbarte, gregor turspalte feststellte -- peinlich ordnung, zimmer, sondern, eingemietet hatten, ganzen wirtschaft, insbesondere kuche, bedacht. unnutzen gar schmutzigen kram ertrugen nicht. uberdies grossten teil eigenen einrichtungsstucke mitgebracht. aus grunde viele dinge uberflussig geworden, verkauflich waren, wegwerfen wollte. alle wanderten gregors zimmer. ebenso aschenkiste abfallkiste kuche. was augenblick unbrauchbar war, schleuderte bedienerin, immer eilig hatte, einfach gregors zimmer; gregor sah glucklicherweise meist betreffenden gegenstand hand, hielt. die bedienerin vielleicht absicht, zeit gelegenheit dinge holen insgesamt einemmal hinauszuwerfen, tatsachlich blieben liegen, wohin ersten wurf gekommen waren, gregor rumpelzeug wand bewegung brachte, zuerst gezwungen, sonstiger platz kriechen frei war, spater wachsendem vergnugen, obwohl wanderungen, sterben mude traurig, stundenlang ruhrte. da zimmerherren manchmal abendessen hause gemeinsamen wohnzimmer einnahmen, blieb wohnzimmertur abenden geschlossen, gregor verzichtete ganz leicht offnen tur, schon abende, denen geoffnet war, ausgenutzt, war, familie merkte, dunkelsten winkel zimmers gelegen. einmal bedienerin tur wohnzimmer wenig offen gelassen, blieb offen, zimmerherren abend eintraten licht gemacht wurde. sie setzten oben tisch, fruheren zeiten vater, mutter gregor gesessen hatten, entfalteten servietten nahmen messer gabel hand. sofort erschien tur mutter schussel fleisch knapp schwester schussel hochgeschichteter kartoffeln. das essen dampfte starkem rauch. die zimmerherren beugten hingestellten schusseln, wollten essen prufen, tatsachlich zerschnitt der, mitte sass zwei autoritat gelten schien, stuck fleisch schussel, offenbar festzustellen, murbe genug sei etwa kuche zuruckgeschickt solle. er befriedigt, mutter schwester, gespannt zugesehen hatten, begannen aufatmend lacheln. die familie ass kuche. trotzdem kam vater, ehe kuche ging, zimmer herein machte einzigen verbeugung, kappe hand, rundgang tisch. die zimmerherren erhoben samtlich murmelten barte. als allein waren, assen fast vollkommenem stillschweigen. sonderbar schien gregor, mannigfachen gerauschen essens immer kauenden zahne heraushorte, gregor gezeigt sollte, zahne brauche, essen, schonsten zahnlosen kiefern ausrichten konne. »ich ja appetit,« sagte gregor sorgenvoll, »aber dinge. wie zimmerherren nahren, komme um!« gerade abend -- gregor erinnerte nicht, ganzen zeit violine gehort -- ertonte kuche her. die zimmerherren schon nachtmahl beendet, mittlere zeitung hervorgezogen, zwei je blatt gegeben, lasen zuruckgelehnt rauchten. als violine spielen begann, wurden aufmerksam, erhoben gingen fussspitzen vorzimmertur, aneinandergedrangt stehen blieben. man musste kuche gehort haben, vater rief: »ist herren spiel vielleicht unangenehm? es sofort eingestellt werden.« »im gegenteil,« sagte mittlere herren, »mochte fraulein hereinkommen zimmer spielen, bequemer gemutlicher ist?« »o bitte,« rief vater, sei violinspieler. die herren traten zimmer zuruck warteten. bald kam vater notenpult, mutter noten schwester violine. die schwester bereitete ruhig spiele vor; eltern, niemals fruher zimmer vermietet deshalb hoflichkeit zimmerherren ubertrieben, wagten gar nicht, eigenen sessel setzen; vater lehnte tur, rechte hand zwei knopfe geschlossenen livreerockes gesteckt; mutter erhielt herrn sessel angeboten sass, sessel liess, wohin herr zufallig gestellt hatte, abseits winkel. die schwester begann spielen; vater mutter verfolgten, seite, aufmerksam bewegungen hande. gregor hatte, spiele angezogen, wenig vorgewagt schon kopf wohnzimmer. er wunderte kaum daruber, letzter zeit wenig rucksicht nahm; fruher rucksichtnahme stolz gewesen. und dabei hatte gerade mehr grund gehabt, verstecken, infolge staubes, zimmer uberall lag kleinsten bewegung umherflog, ganz staubbedeckt; faden, haare, speiseuberreste schleppte rucken seiten herum; gleichgultigkeit gross, sich, fruher mehrmals tages, rucken gelegt teppich gescheuert hatte. und trotz zustandes scheu, stuck makellosen fussboden wohnzimmers vorzurucken. allerdings achtete niemand ihn. die familie ganzlich violinspiel anspruch genommen; zimmerherren dagegen, zunachst, hande hosentaschen, nahe notenpult schwester aufgestellt hatten, noten hatte sehen konnen, sicher schwester storen musste, zogen bald halblauten gesprachen gesenkten kopfen fenster zuruck, sie, vater besorgt beobachtet, blieben. es wirklich uberdeutlichen anschein, waren annahme, schones unterhaltendes violinspiel horen, enttauscht, hatten ganze vorfuhrung satt liessen hoflichkeit ruhe storen. besonders art, nase mund rauch zigarren hohe bliesen, liess grosse nervositat schliessen. und spielte schwester schon. ihr gesicht seite geneigt, prufend traurig folgten blicke notenzeilen. gregor kroch stuck vorwarts hielt kopf eng boden, moglicherweise blicken begegnen konnen. war tier, musik ergriff? ihm war, zeige weg ersehnten unbekannten nahrung. er entschlossen, schwester vorzudringen, rock zupfen dadurch anzudeuten, moge violine zimmer kommen, niemand lohnte spiel so, lohnen wollte. er mehr zimmer lassen, wenigstens nicht, solange lebte; schreckgestalt erstenmal nutzlich werden; turen zimmers gleichzeitig angreifern entgegenfauchen; schwester gezwungen, freiwillig bleiben; neben kanapee sitzen, ohr herunterneigen, anvertrauen, feste absicht gehabt habe, konservatorium schicken, dies, ungluck dazwischen gekommen ware, vergangene weihnachten -- weihnachten wohl schon voruber? -- gesagt hatte, irgendwelche widerreden kummern. nach erklarung schwester tranen ruhrung ausbrechen, gregor achsel erheben hals kussen, sie, seitdem geschaft ging, frei band kragen trug. »herr samsa!« rief mittlere herr vater zeigte, weiteres wort verlieren, zeigefinger langsam vorwartsbewegenden gregor. die violine verstummte, mittlere zimmerherr lachelte erst kopfschuttelnd freunden sah gregor hin. der vater schien notiger halten, statt gregor vertreiben, vorerst zimmerherren beruhigen, trotzdem gar aufgeregt gregor mehr violinspiel unterhalten schien. er eilte suchte ausgebreiteten armen zimmer drangen gleichzeitig korper ausblick gregor nehmen. sie wurden tatsachlich wenig bose, wusste mehr, benehmen vaters aufgehende erkenntnis, wissen, zimmernachbar gregor besessen haben. sie verlangten vater erklarungen, hoben ihrerseits arme, zupften unruhig barten wichen langsam zimmer zuruck. inzwischen schwester verlorenheit, plotzlich abgebrochenen spiel verfallen war, uberwunden, sich, nachdem zeitlang lassig hangenden handen violine bogen gehalten weiter, spiele noch, noten gesehen hatte, male aufgerafft, instrument schoss mutter gelegt, atembeschwerden heftig arbeitenden lungen sessel sass, nebenzimmer gelaufen, zimmerherren drangen vaters schon schneller naherten. man sah, geubten handen schwester decken polster betten hohe flogen ordneten. noch ehe herren zimmer erreicht hatten, aufbetten fertig schlupfte heraus. der vater schien eigensinn derartig ergriffen, respekt vergass, mietern immerhin schuldete. er drangte drangte, schon tur zimmers mittlere herren donnernd fuss aufstampfte dadurch vater stehen brachte. »ich erklare hiermit,« sagte er, hob hand suchte blicken mutter schwester, »dass rucksicht wohnung familie herrschenden widerlichen verhaltnisse« -- hierbei spie kurz entschlossen boden -- »mein zimmer augenblicklich kundige. ich naturlich tage, gewohnt habe, geringste bezahlen, dagegen uberlegen, irgendwelchen -- glauben sie -- leicht begrundenden forderungen sie auftreten werde.« er schwieg sah gerade hin, erwarte etwas. tatsachlich fielen sofort zwei freunde worten ein: »auch kundigen augenblicklich.« darauf fasste turklinke schloss krach tur. der vater wankte tastenden handen sessel liess hineinfallen; sah aus, strecke gewohnlichen abendschlafchen, starke nicken haltlosen kopfes zeigte, ganz gar schlief. gregor ganze zeit still platz gelegen, zimmerherren ertappt hatten. die enttauschung misslingen planes, vielleicht viele hungern verursachte schwache machten unmoglich, bewegen. er furchtete gewissen bestimmtheit schon nachsten augenblick allgemeinen entladenden zusammensturz wartete. nicht violine schreckte auf, die, zitternden fingern mutter hervor, schosse fiel hallenden ton gab. »liebe eltern,« sagte schwester schlug einleitung hand tisch, »so geht weiter. wenn vielleicht einsehet, sehe ein. ich untier namen bruders aussprechen sage daher bloss: mussen versuchen loszuwerden. wir menschenmogliche versucht, pflegen dulden, glaube, niemand geringsten vorwurf machen.« »sie tausendmal recht,« sagte vater sich. die mutter, immer genug atem finden konnte, fing irrsinnigen ausdruck augen dumpf vorgehaltene hand husten an. die schwester eilte mutter hielt stirn. der vater schien worte schwester bestimmtere gedanken gebracht sein, aufrecht gesetzt, spielte dienermutze tellern, nachtmahl zimmerherren her tische standen, sah bisweilen stillen gregor hin. »wir mussen loszuwerden suchen,« sagte schwester ausschliesslich vater, mutter horte husten nichts, »es bringt beide um, sehe kommen. wenn schon schwer arbeiten muss, alle, hause ewige qualerei ertragen. ich mehr.« und brach heftig weinen aus, tranen gesicht mutter niederflossen, mechanischen handbewegungen wischte. »kind,« sagte vater mitleidig auffallendem verstandnis, »was sollen tun?« die schwester zuckte achseln zeichen ratlosigkeit, weinens gegensatz fruheren sicherheit ergriffen hatte. »wenn verstunde,« sagte vater halb fragend; schwester schuttelte weinen heraus heftig hand zeichen, daran denken sei. »wenn verstunde,« wiederholte vater nahm schliessen augen uberzeugung schwester unmoglichkeit auf, »dann ware vielleicht ubereinkommen moglich. aber --« »weg muss es,« rief schwester, »das einzige mittel, vater. du musst bloss gedanken loszuwerden suchen, gregor ist. dass lange geglaubt haben, ja eigentliches ungluck. aber gregor sein? wenn gregor ware, hatte langst eingesehen, zusammenleben menschen tier moglich ist, ware freiwillig fortgegangen. wir hatten bruder, konnten leben andenken ehren halten. so verfolgt tier, vertreibt zimmerherren, offenbar ganze wohnung einnehmen gasse ubernachten lassen. sieh nur, vater,« schrie plotzlich auf, »er fangt schon an!« und gregor ganzlich unverstandlichen schrecken verliess schwester sogar mutter, stiess formlich sessel ab, lieber mutter opfern, gregors nahe bleiben, eilte vater, der, lediglich benehmen erregt, aufstand arme schutze schwester halb erhob. aber gregor fiel gar ein, irgend jemandem gar schwester angst wollen. er bloss angefangen umzudrehen, zimmer zuruckzuwandern, nahm allerdings auffallend aus, infolge leidenden zustandes schwierigen umdrehungen kopfe nachhelfen musste, hierbei viele male hob boden schlug. er hielt inne sah um. seine gute absicht schien erkannt worden sein; augenblicklicher schrecken gewesen. nun sahen schweigend traurig an. die mutter lag, beine ausgestreckt aneinandergedruckt, sessel, augen fielen ermattung fast zu; vater schwester sassen nebeneinander, schwester hand vaters hals gelegt. »nun darf schon vielleicht umdrehen,« dachte gregor begann arbeit wieder. er konnte schnaufen anstrengung unterdrucken musste hie ausruhen. im ubrigen drangte niemand, uberlassen. als umdrehung vollendet hatte, fing sofort an, geradeaus zuruckzuwandern. er staunte grosse entfernung, zimmer trennte, begriff gar nicht, schwache kurzer zeit gleichen weg, fast merken, zuruckgelegt hatte. immerfort rasches kriechen bedacht, achtete kaum darauf, wort, ausruf familie storte. erst schon tur war, wendete kopf, nicht, vollstandig, fuhlte hals steif werden, immerhin sah noch, verandert hatte, schwester aufgestanden. sein letzter blick streifte mutter, vollig eingeschlafen war. kaum innerhalb zimmers, wurde tur eiligst zugedruckt, festgeriegelt versperrt. uber plotzlichen larm erschrak gregor so, beinchen einknickten. es schwester, beeilt hatte. aufrecht schon gestanden gewartet, leichtfussig vorwartsgesprungen, gregor gar kommen horen, »endlich!« rief eltern zu, schlussel schloss umdrehte. »und jetzt?« fragte gregor sah dunkeln um. er machte bald entdeckung, uberhaupt mehr ruhren konnte. er wunderte daruber nicht, eher kam unnaturlich vor, tatsachlich dunnen beinchen fortbewegen konnen. im ubrigen fuhlte verhaltnismassig behaglich. er schmerzen ganzen leib, war, allmahlich schwacher schwacher schliesslich ganz vergehen. den verfaulten apfel rucken entzundete umgebung, ganz weichem staub bedeckt war, spurte schon kaum. an familie dachte ruhrung liebe zuruck. seine meinung daruber, verschwinden musse, womoglich entschiedener, schwester. in zustand leeren friedlichen nachdenkens blieb er, turmuhr dritte morgenstunde schlug. den anfang allgemeinen hellerwerdens draussen fenster erlebte noch. dann sank kopf willen ganzlich nieder, nustern stromte letzter atem schwach hervor. als fruhen morgen bedienerin kam -- lauter kraft eile schlug sie, oft schon gebeten hatte, vermeiden, turen derartig zu, ganzen wohnung kommen ruhiger schlaf mehr moglich --, fand gewohnlichen kurzen besuch gregor zuerst besonderes. sie dachte, liege absichtlich unbeweglich spiele beleidigten; traute moglichen verstand zu. weil zufallig langen besen hand hielt, suchte gregor tur kitzeln. als erfolg zeigte, wurde argerlich stiess wenig gregor hinein, erst widerstand platze geschoben hatte, wurde aufmerksam. als bald wahren sachverhalt erkannte, machte grosse augen, pfiff hin, hielt lange auf, riss tur schlafzimmers rief lauter stimme dunkel hinein: »sehen sie mal an, krepiert; liegt es, ganz gar krepiert!« das ehepaar samsa sass ehebett aufrecht tun, schrecken bedienerin verwinden, ehe kam, meldung aufzufassen. dann stiegen herr frau samsa, seite, eiligst bett, herr samsa warf decke schultern, frau samsa kam nachthemd hervor; traten gregors zimmer. inzwischen tur wohnzimmers geoffnet, grete seit einzug zimmerherren schlief; vollig angezogen, hatte gar geschlafen, bleiches gesicht schien beweisen. »tot?« sagte frau samsa sah fragend bedienerin auf, trotzdem prufen sogar prufung erkennen konnte. »das meinen,« sagte bedienerin stiess beweis gregors leiche besen grosses stuck seitwarts. frau samsa machte bewegung, wolle besen zuruckhalten, tat nicht. »nun,« sagte herr samsa, »jetzt gott danken.« er bekreuzte sich, drei frauen folgten beispiel. grete, auge leiche wendete, sagte: »seht nur, mager war. er ja schon lange zeit gegessen. so speisen hereinkamen, hinausgekommen.« tatsachlich gregors korper vollstandig flach trocken, erkannte eigentlich erst jetzt, mehr beinchen gehoben blick ablenkte. »komm, grete, weilchen herein,« sagte frau samsa wehmutigen lacheln, grete ging, leiche zuruckzusehen, eltern schlafzimmer. die bedienerin schloss tur offnete ganzlich fenster. trotz fruhen morgens frischen luft schon lauigkeit beigemischt. es eben schon ende marz. aus zimmer traten drei zimmerherren sahen erstaunt fruhstuck um; vergessen. »wo fruhstuck?« fragte mittlere herren murrisch bedienerin. diese legte finger mund winkte hastig schweigend herren zu, mochten gregors zimmer kommen. sie kamen standen dann, hande taschen abgenutzten rockchen, schon ganz hellen zimmer gregors leiche herum. da offnete tur schlafzimmers, herr samsa erschien livree, arm frau, tochter. alle wenig verweint; grete druckte bisweilen gesicht arm vaters. »verlassen sie sofort wohnung!« sagte herr samsa zeigte tur, frauen lassen. »wie sie das?« sagte mittlere herren besturzt lachelte susslich. die zwei hielten hande rucken rieben ununterbrochen aneinander, freudiger erwartung grossen streites, gunstig ausfallen musste. »ich genau so, sage,« antwortete herr samsa ging linie zwei begleiterinnen zimmerherrn zu. dieser stand zuerst still sah boden, dinge kopf neuen ordnung zusammenstellten. »dann gehen also,« sagte sah herrn samsa auf, verlange plotzlich uberkommenden demut sogar entschluss neue genehmigung. herr samsa nickte bloss mehrmals kurz grossen augen zu. daraufhin ging herr tatsachlich sofort langen schritten vorzimmer; beiden freunde schon weilchen lang ganz ruhigen handen aufgehorcht hupften geradezu nach, angst, herr samsa vorzimmer eintreten verbindung fuhrer storen. im vorzimmer nahmen drei hute kleiderrechen, zogen stocke stockbehalter, verbeugten stumm verliessen wohnung. in einem, zeigte, ganzlich unbegrundeten misstrauen trat herr samsa zwei frauen vorplatz hinaus; gelander gelehnt, sahen zu, drei herren langsam, standig lange treppe hinunterstiegen, stockwerk bestimmten biegung treppenhauses verschwanden paar augenblicken hervorkamen; je tiefer gelangten, desto mehr verlor interesse familie samsa sie, entgegen hoch hinweg fleischergeselle trage kopf stolzer haltung heraufstieg, verliess bald herr samsa frauen gelander, kehrten, erleichtert, wohnung zuruck. sie beschlossen, heutigen tag ausruhen spazierengehen verwenden; arbeitsunterbrechung verdient, brauchten sogar unbedingt. und setzten tisch schrieben drei entschuldigungsbriefe, herr samsa direktion, frau samsa auftraggeber, grete prinzipal. wahrend schreibens kam bedienerin herein, sagen, fortgehe, morgenarbeit beendet. die drei schreibenden nickten zuerst bloss, aufzuschauen, erst bedienerin immer entfernen wollte, sah argerlich auf. »nun?« fragte herr samsa. die bedienerin stand lachelnd tur, familie grosses gluck melden, tun, grundlich ausgefragt werde. die fast aufrechte kleine straussfeder hut, herr samsa schon ganzen dienstzeit argerte, schwankte leicht richtungen. »also sie eigentlich?« fragte frau samsa, bedienerin meisten respekt hatte. »ja,« antwortete bedienerin konnte freundlichem lachen gleich reden, »also daruber, zeug nebenan weggeschafft soll, mussen sie sorge machen. es schon ordnung.« frau samsa grete beugten briefen nieder, wollten weiterschreiben; herr samsa, merkte, bedienerin ausfuhrlich beschreiben anfangen wollte, wehrte ausgestreckter hand entschieden ab. da erzahlen durfte, erinnerte grosse eile, hatte, rief offenbar beleidigt: »adjes allseits,« drehte wild verliess furchterlichem turezuschlagen wohnung. »abends entlassen,« sagte herr samsa, bekam weder frau tochter antwort, bedienerin schien kaum gewonnene ruhe gestort haben. sie erhoben sich, gingen fenster blieben dort, umschlungen haltend. herr samsa drehte sessel beobachtete still weilchen. dann rief er: »also kommt her. lasst schon endlich alten sachen. und nehmt wenig rucksicht mich.« gleich folgten frauen, eilten ihm, liebkosten beendeten rasch briefe. dann verliessen drei gemeinschaftlich wohnung, schon seit monaten getan hatten, fuhren elektrischen freie stadt. der wagen, allein sassen, ganz warmer sonne durchschienen. sie besprachen, bequem sitzen zuruckgelehnt, aussichten zukunft, fand sich, naherer betrachtung durchaus schlecht waren, drei anstellungen waren, woruber einander eigentlich gar ausgefragt hatten, uberaus gunstig besonders spater vielversprechend. die grosste augenblickliche besserung lage musste naturlich leicht wohnungswechsel ergeben; wollten kleinere billigere, besser gelegene uberhaupt praktischere wohnung nehmen, jetzige, gregor ausgesuchte war. wahrend unterhielten, fiel herrn frau samsa anblick immer lebhafter werdenden tochter fast gleichzeitig ein, letzten zeit trotz pflege, wangen bleich gemacht hatte, schonen uppigen madchen aufgebluht war. stiller werdend fast unbewusst blicke verstandigend, dachten daran, zeit werde, braven mann suchen. und bestatigung neuen traume guten absichten, ziele fahrt tochter erste erhob jungen korper dehnte.\""
            ]
          },
          "execution_count": 17,
          "metadata": {},
          "output_type": "execute_result"
        }
      ]
    },
    {
      "cell_type": "markdown",
      "source": [
        "Visually, we can see that this stemme is not so good, because it didn't really do anything specifically besides removing the umlaut, changing to lowercase. They are Treetagger and Spacy, but Treetagger is difficult to install on Colab, and Spacy no longe supports German. "
      ],
      "metadata": {
        "id": "lS24OwMwHzo7"
      }
    },
    {
      "cell_type": "code",
      "execution_count": null,
      "metadata": {
        "id": "j0HzWcH2wM6i"
      },
      "outputs": [],
      "source": [
        "texts_stemmer = tokenize.sent_tokenize(new_texts)"
      ]
    },
    {
      "cell_type": "code",
      "execution_count": null,
      "metadata": {
        "id": "s4mJ4xiRxBDW"
      },
      "outputs": [],
      "source": [
        "vz_stemmer = vectorizer.fit_transform(texts_stemmer)"
      ]
    },
    {
      "cell_type": "code",
      "execution_count": null,
      "metadata": {
        "id": "cUq-uGngxJ0h"
      },
      "outputs": [],
      "source": [
        "tfidf1 = dict(zip(vectorizer.get_feature_names_out(), vectorizer.idf_))\n",
        "tfidf1 = pd.DataFrame(columns=['tfidf']).from_dict(dict(tfidf1), orient='index')\n",
        "tfidf1.columns = ['tfidf']"
      ]
    },
    {
      "cell_type": "code",
      "execution_count": null,
      "metadata": {
        "colab": {
          "base_uri": "https://localhost:8080/",
          "height": 445
        },
        "id": "GC18sFNUxrHH",
        "outputId": "3b555066-159c-489b-b39e-4bef2135c59a"
      },
      "outputs": [
        {
          "output_type": "execute_result",
          "data": {
            "text/plain": [
              "<matplotlib.axes._subplots.AxesSubplot at 0x7f290ca20a90>"
            ]
          },
          "metadata": {},
          "execution_count": 21
        },
        {
          "output_type": "display_data",
          "data": {
            "text/plain": [
              "<Figure size 1080x504 with 1 Axes>"
            ],
            "image/png": "[encoded data removed]"
          },
          "metadata": {
            "needs_background": "light"
          }
        }
      ],
      "source": [
        "\n",
        "tfidf1.tfidf.hist(bins=50, figsize=(15,7))\n"
      ]
    },
    {
      "cell_type": "code",
      "execution_count": null,
      "metadata": {
        "colab": {
          "base_uri": "https://localhost:8080/",
          "height": 142
        },
        "id": "qBqQjzVz3owE",
        "outputId": "0bc2524e-8e6f-4607-c656-087446c03e7c"
      },
      "outputs": [
        {
          "output_type": "execute_result",
          "data": {
            "text/plain": [
              "               tfidf\n",
              "verlassen   5.088266\n",
              "wohnzimmer  5.088266\n",
              "wusste      5.088266"
            ],
            "text/html": [
              "\n",
              "  <div id=\"df-6a2b6e2d-7da2-477f-b83c-eb72a9a17780\">\n",
              "    <div class=\"colab-df-container\">\n",
              "      <div>\n",
              "<style scoped>\n",
              "    .dataframe tbody tr th:only-of-type {\n",
              "        vertical-align: middle;\n",
              "    }\n",
              "\n",
              "    .dataframe tbody tr th {\n",
              "        vertical-align: top;\n",
              "    }\n",
              "\n",
              "    .dataframe thead th {\n",
              "        text-align: right;\n",
              "    }\n",
              "</style>\n",
              "<table border=\"1\" class=\"dataframe\">\n",
              "  <thead>\n",
              "    <tr style=\"text-align: right;\">\n",
              "      <th></th>\n",
              "      <th>tfidf</th>\n",
              "    </tr>\n",
              "  </thead>\n",
              "  <tbody>\n",
              "    <tr>\n",
              "      <th>verlassen</th>\n",
              "      <td>5.088266</td>\n",
              "    </tr>\n",
              "    <tr>\n",
              "      <th>wohnzimmer</th>\n",
              "      <td>5.088266</td>\n",
              "    </tr>\n",
              "    <tr>\n",
              "      <th>wusste</th>\n",
              "      <td>5.088266</td>\n",
              "    </tr>\n",
              "  </tbody>\n",
              "</table>\n",
              "</div>\n",
              "      <button class=\"colab-df-convert\" onclick=\"convertToInteractive('df-6a2b6e2d-7da2-477f-b83c-eb72a9a17780')\"\n",
              "              title=\"Convert this dataframe to an interactive table.\"\n",
              "              style=\"display:none;\">\n",
              "        \n",
              "  <svg xmlns=\"http://www.w3.org/2000/svg\" height=\"24px\"viewBox=\"0 0 24 24\"\n",
              "       width=\"24px\">\n",
              "    <path d=\"M0 0h24v24H0V0z\" fill=\"none\"/>\n",
              "    <path d=\"M18.56 5.44l.94 2.06.94-2.06 2.06-.94-2.06-.94-.94-2.06-.94 2.06-2.06.94zm-11 1L8.5 8.5l.94-2.06 2.06-.94-2.06-.94L8.5 2.5l-.94 2.06-2.06.94zm10 10l.94 2.06.94-2.06 2.06-.94-2.06-.94-.94-2.06-.94 2.06-2.06.94z\"/><path d=\"M17.41 7.96l-1.37-1.37c-.4-.4-.92-.59-1.43-.59-.52 0-1.04.2-1.43.59L10.3 9.45l-7.72 7.72c-.78.78-.78 2.05 0 2.83L4 21.41c.39.39.9.59 1.41.59.51 0 1.02-.2 1.41-.59l7.78-7.78 2.81-2.81c.8-.78.8-2.07 0-2.86zM5.41 20L4 18.59l7.72-7.72 1.47 1.35L5.41 20z\"/>\n",
              "  </svg>\n",
              "      </button>\n",
              "      \n",
              "  <style>\n",
              "    .colab-df-container {\n",
              "      display:flex;\n",
              "      flex-wrap:wrap;\n",
              "      gap: 12px;\n",
              "    }\n",
              "\n",
              "    .colab-df-convert {\n",
              "      background-color: #E8F0FE;\n",
              "      border: none;\n",
              "      border-radius: 50%;\n",
              "      cursor: pointer;\n",
              "      display: none;\n",
              "      fill: #1967D2;\n",
              "      height: 32px;\n",
              "      padding: 0 0 0 0;\n",
              "      width: 32px;\n",
              "    }\n",
              "\n",
              "    .colab-df-convert:hover {\n",
              "      background-color: #E2EBFA;\n",
              "      box-shadow: 0px 1px 2px rgba(60, 64, 67, 0.3), 0px 1px 3px 1px rgba(60, 64, 67, 0.15);\n",
              "      fill: #174EA6;\n",
              "    }\n",
              "\n",
              "    [theme=dark] .colab-df-convert {\n",
              "      background-color: #3B4455;\n",
              "      fill: #D2E3FC;\n",
              "    }\n",
              "\n",
              "    [theme=dark] .colab-df-convert:hover {\n",
              "      background-color: #434B5C;\n",
              "      box-shadow: 0px 1px 3px 1px rgba(0, 0, 0, 0.15);\n",
              "      filter: drop-shadow(0px 1px 2px rgba(0, 0, 0, 0.3));\n",
              "      fill: #FFFFFF;\n",
              "    }\n",
              "  </style>\n",
              "\n",
              "      <script>\n",
              "        const buttonEl =\n",
              "          document.querySelector('#df-6a2b6e2d-7da2-477f-b83c-eb72a9a17780 button.colab-df-convert');\n",
              "        buttonEl.style.display =\n",
              "          google.colab.kernel.accessAllowed ? 'block' : 'none';\n",
              "\n",
              "        async function convertToInteractive(key) {\n",
              "          const element = document.querySelector('#df-6a2b6e2d-7da2-477f-b83c-eb72a9a17780');\n",
              "          const dataTable =\n",
              "            await google.colab.kernel.invokeFunction('convertToInteractive',\n",
              "                                                     [key], {});\n",
              "          if (!dataTable) return;\n",
              "\n",
              "          const docLinkHtml = 'Like what you see? Visit the ' +\n",
              "            '<a target=\"_blank\" href=https://colab.research.google.com/notebooks/data_table.ipynb>data table notebook</a>'\n",
              "            + ' to learn more about interactive tables.';\n",
              "          element.innerHTML = '';\n",
              "          dataTable['output_type'] = 'display_data';\n",
              "          await google.colab.output.renderOutput(dataTable, element);\n",
              "          const docLink = document.createElement('div');\n",
              "          docLink.innerHTML = docLinkHtml;\n",
              "          element.appendChild(docLink);\n",
              "        }\n",
              "      </script>\n",
              "    </div>\n",
              "  </div>\n",
              "  "
            ]
          },
          "metadata": {},
          "execution_count": 22
        }
      ],
      "source": [
        "tfidf1.sort_values(by=['tfidf'], ascending=False).head(3)"
      ]
    },
    {
      "cell_type": "code",
      "source": [
        "from scipy.stats import ttest_ind\n",
        "\n",
        "stat, p_value = ttest_ind(tfidf.tfidf, tfidf1.tfidf)\n",
        "print(f\"t-test: statistic={stat:.4f}, p-value={p_value:.4f}\")"
      ],
      "metadata": {
        "colab": {
          "base_uri": "https://localhost:8080/"
        },
        "id": "7boB5EXuoG3N",
        "outputId": "3e0b6225-c810-4af7-ed22-a6a8b454c924"
      },
      "execution_count": null,
      "outputs": [
        {
          "output_type": "stream",
          "name": "stdout",
          "text": [
            "t-test: statistic=0.1299, p-value=0.8967\n"
          ]
        }
      ]
    },
    {
      "cell_type": "code",
      "source": [
        "\n",
        "tfidf1.tfidf.hist(bins=50, figsize=(15,7))\n",
        "tfidf.tfidf.hist(bins=50, figsize=(15,7))"
      ],
      "metadata": {
        "colab": {
          "base_uri": "https://localhost:8080/",
          "height": 445
        },
        "id": "v_x1tvAiAOcD",
        "outputId": "f27f34f7-5f1c-4d83-dfe1-d1f9eacf60e2"
      },
      "execution_count": null,
      "outputs": [
        {
          "output_type": "execute_result",
          "data": {
            "text/plain": [
              "<matplotlib.axes._subplots.AxesSubplot at 0x7f29052e28d0>"
            ]
          },
          "metadata": {},
          "execution_count": 24
        },
        {
          "output_type": "display_data",
          "data": {
            "text/plain": [
              "<Figure size 1080x504 with 1 Axes>"
            ],
            "image/png": "[encoded data removed]"
          },
          "metadata": {
            "needs_background": "light"
          }
        }
      ]
    },
    {
      "cell_type": "markdown",
      "metadata": {
        "id": "c69657PKyMoc"
      },
      "source": [
        "##### 2. What is the effect of the presence/absence of stemming in the proposed term/document similarity measures (Questions 2 & 3 of Week 2)? You can try it out and/or speculate about it on a conceptual level.\n",
        "\n",
        "---\n",
        "\n"
      ]
    },
    {
      "cell_type": "code",
      "execution_count": null,
      "metadata": {
        "colab": {
          "base_uri": "https://localhost:8080/"
        },
        "id": "lQAWY_srySF5",
        "outputId": "58515502-f70f-490c-edec-a1ece61388f8"
      },
      "outputs": [
        {
          "output_type": "stream",
          "name": "stdout",
          "text": [
            "Looking in indexes: https://pypi.org/simple, https://us-python.pkg.dev/colab-wheels/public/simple/\n",
            "Collecting simphile\n",
            "  Downloading simphile-1.0.2-py3-none-any.whl (12 kB)\n",
            "Requirement already satisfied: scipy in /usr/local/lib/python3.7/dist-packages (from simphile) (1.7.3)\n",
            "Requirement already satisfied: numpy<1.23.0,>=1.16.5 in /usr/local/lib/python3.7/dist-packages (from scipy->simphile) (1.21.6)\n",
            "Installing collected packages: simphile\n",
            "Successfully installed simphile-1.0.2\n"
          ]
        }
      ],
      "source": [
        "!pip install simphile\n"
      ]
    },
    {
      "cell_type": "code",
      "execution_count": null,
      "metadata": {
        "id": "usxX80_00RUl"
      },
      "outputs": [],
      "source": [
        "# without stemming\n",
        "text_a = ' '\n",
        "for x in neuer_Korpus:\n",
        "    text_a += ' ' + x"
      ]
    },
    {
      "cell_type": "code",
      "execution_count": null,
      "metadata": {
        "id": "RilwSnir0aG5"
      },
      "outputs": [],
      "source": [
        "# with stemming\n",
        "text_b = ' '\n",
        "for x in new_texts:\n",
        "    text_b += ' ' + x"
      ]
    },
    {
      "cell_type": "code",
      "execution_count": null,
      "metadata": {
        "colab": {
          "base_uri": "https://localhost:8080/"
        },
        "id": "MaksBM3_zhAr",
        "outputId": "ab20f47b-9812-4be5-edb0-abd5d47271ac"
      },
      "outputs": [
        {
          "output_type": "stream",
          "name": "stdout",
          "text": [
            "Jaccard Similarity: 0.8414450067861537\n",
            "Euclidian Similarity: 0.9856824943214716\n",
            "Compression Similarity: 0.04686219451572593\n"
          ]
        }
      ],
      "source": [
        "from simphile import jaccard_similarity, euclidian_similarity, compression_similarity\n",
        "'''Compression Similairty – leverages the pattern recognition of compression algorithms. \n",
        "Compression exploits patterns in data in order to compress the data. \n",
        "This method produces a text similarity score by using compression to find similar patterns in the compared documents'''\n",
        "'''Euclidian Similarity – Treats text like points in multi-dimensional space and calculates their closeness.\n",
        "Producing a similarity score of the comparison string to the reference string supplied in the initialization.'''\n",
        "'''Jaccard Similairy – Texts are more similar the more their words overlap.Using the Jaccard Index, \n",
        "produces a similarity score of the comparison string to the reference string supplied in the initialization.'''\n",
        "print(f\"Jaccard Similarity: {jaccard_similarity(text_a, text_b)}\")\n",
        "print(f\"Euclidian Similarity: {euclidian_similarity(text_a, text_b)}\")\n",
        "print(f\"Compression Similarity: {compression_similarity(text_a, text_b)}\")"
      ]
    },
    {
      "cell_type": "markdown",
      "metadata": {
        "id": "QjHRnFJJ3NpE"
      },
      "source": [
        "#### 3. What happens to the proportion of words found in the sentiment lexicons (used on Week 3) when stemming or lemmatization is carried out versus when it is not? Do you expect this to affect NLP systems that seek to identify or quantify feelings?"
      ]
    },
    {
      "cell_type": "code",
      "execution_count": null,
      "metadata": {
        "colab": {
          "base_uri": "https://localhost:8080/"
        },
        "id": "gx0yd4R5cLsV",
        "outputId": "d0cb36bc-f63b-427a-9dfe-18fc39256c0c"
      },
      "outputs": [
        {
          "output_type": "stream",
          "name": "stdout",
          "text": [
            "Looking in indexes: https://pypi.org/simple, https://us-python.pkg.dev/colab-wheels/public/simple/\n",
            "Collecting afinn\n",
            "  Downloading afinn-0.1.tar.gz (52 kB)\n",
            "\u001b[K     |████████████████████████████████| 52 kB 1.0 MB/s \n",
            "\u001b[?25hBuilding wheels for collected packages: afinn\n",
            "  Building wheel for afinn (setup.py) ... \u001b[?25l\u001b[?25hdone\n",
            "  Created wheel for afinn: filename=afinn-0.1-py3-none-any.whl size=53447 sha256=82d047bac4a3864ba461ade7ad831095941b6670c68113d98398bf20317d8143\n",
            "  Stored in directory: /root/.cache/pip/wheels/9d/16/3a/9f0953027434eab5dadf3f33ab3298fa95afa8292fcf7aba75\n",
            "Successfully built afinn\n",
            "Installing collected packages: afinn\n",
            "Successfully installed afinn-0.1\n"
          ]
        }
      ],
      "source": [
        "!pip install afinn"
      ]
    },
    {
      "cell_type": "code",
      "execution_count": null,
      "metadata": {
        "colab": {
          "base_uri": "https://localhost:8080/",
          "height": 363
        },
        "id": "epBo8zXmcQ8K",
        "outputId": "e43354a8-413f-4125-e78d-b5244c8a0f2e"
      },
      "outputs": [
        {
          "output_type": "execute_result",
          "data": {
            "text/plain": [
              "            term  value\n",
              "1079  glamourous      3\n",
              "1753       prblm     -2\n",
              "2152   struggles     -2\n",
              "2245         top      2\n",
              "286        block     -1\n",
              "2121  stimulates      1\n",
              "29    accidental     -2\n",
              "415       clever      2\n",
              "2024   silencing     -1\n",
              "1438       liked      2"
            ],
            "text/html": [
              "\n",
              "  <div id=\"df-c2a0a827-eef0-443a-8f37-a17ca815c613\">\n",
              "    <div class=\"colab-df-container\">\n",
              "      <div>\n",
              "<style scoped>\n",
              "    .dataframe tbody tr th:only-of-type {\n",
              "        vertical-align: middle;\n",
              "    }\n",
              "\n",
              "    .dataframe tbody tr th {\n",
              "        vertical-align: top;\n",
              "    }\n",
              "\n",
              "    .dataframe thead th {\n",
              "        text-align: right;\n",
              "    }\n",
              "</style>\n",
              "<table border=\"1\" class=\"dataframe\">\n",
              "  <thead>\n",
              "    <tr style=\"text-align: right;\">\n",
              "      <th></th>\n",
              "      <th>term</th>\n",
              "      <th>value</th>\n",
              "    </tr>\n",
              "  </thead>\n",
              "  <tbody>\n",
              "    <tr>\n",
              "      <th>1079</th>\n",
              "      <td>glamourous</td>\n",
              "      <td>3</td>\n",
              "    </tr>\n",
              "    <tr>\n",
              "      <th>1753</th>\n",
              "      <td>prblm</td>\n",
              "      <td>-2</td>\n",
              "    </tr>\n",
              "    <tr>\n",
              "      <th>2152</th>\n",
              "      <td>struggles</td>\n",
              "      <td>-2</td>\n",
              "    </tr>\n",
              "    <tr>\n",
              "      <th>2245</th>\n",
              "      <td>top</td>\n",
              "      <td>2</td>\n",
              "    </tr>\n",
              "    <tr>\n",
              "      <th>286</th>\n",
              "      <td>block</td>\n",
              "      <td>-1</td>\n",
              "    </tr>\n",
              "    <tr>\n",
              "      <th>2121</th>\n",
              "      <td>stimulates</td>\n",
              "      <td>1</td>\n",
              "    </tr>\n",
              "    <tr>\n",
              "      <th>29</th>\n",
              "      <td>accidental</td>\n",
              "      <td>-2</td>\n",
              "    </tr>\n",
              "    <tr>\n",
              "      <th>415</th>\n",
              "      <td>clever</td>\n",
              "      <td>2</td>\n",
              "    </tr>\n",
              "    <tr>\n",
              "      <th>2024</th>\n",
              "      <td>silencing</td>\n",
              "      <td>-1</td>\n",
              "    </tr>\n",
              "    <tr>\n",
              "      <th>1438</th>\n",
              "      <td>liked</td>\n",
              "      <td>2</td>\n",
              "    </tr>\n",
              "  </tbody>\n",
              "</table>\n",
              "</div>\n",
              "      <button class=\"colab-df-convert\" onclick=\"convertToInteractive('df-c2a0a827-eef0-443a-8f37-a17ca815c613')\"\n",
              "              title=\"Convert this dataframe to an interactive table.\"\n",
              "              style=\"display:none;\">\n",
              "        \n",
              "  <svg xmlns=\"http://www.w3.org/2000/svg\" height=\"24px\"viewBox=\"0 0 24 24\"\n",
              "       width=\"24px\">\n",
              "    <path d=\"M0 0h24v24H0V0z\" fill=\"none\"/>\n",
              "    <path d=\"M18.56 5.44l.94 2.06.94-2.06 2.06-.94-2.06-.94-.94-2.06-.94 2.06-2.06.94zm-11 1L8.5 8.5l.94-2.06 2.06-.94-2.06-.94L8.5 2.5l-.94 2.06-2.06.94zm10 10l.94 2.06.94-2.06 2.06-.94-2.06-.94-.94-2.06-.94 2.06-2.06.94z\"/><path d=\"M17.41 7.96l-1.37-1.37c-.4-.4-.92-.59-1.43-.59-.52 0-1.04.2-1.43.59L10.3 9.45l-7.72 7.72c-.78.78-.78 2.05 0 2.83L4 21.41c.39.39.9.59 1.41.59.51 0 1.02-.2 1.41-.59l7.78-7.78 2.81-2.81c.8-.78.8-2.07 0-2.86zM5.41 20L4 18.59l7.72-7.72 1.47 1.35L5.41 20z\"/>\n",
              "  </svg>\n",
              "      </button>\n",
              "      \n",
              "  <style>\n",
              "    .colab-df-container {\n",
              "      display:flex;\n",
              "      flex-wrap:wrap;\n",
              "      gap: 12px;\n",
              "    }\n",
              "\n",
              "    .colab-df-convert {\n",
              "      background-color: #E8F0FE;\n",
              "      border: none;\n",
              "      border-radius: 50%;\n",
              "      cursor: pointer;\n",
              "      display: none;\n",
              "      fill: #1967D2;\n",
              "      height: 32px;\n",
              "      padding: 0 0 0 0;\n",
              "      width: 32px;\n",
              "    }\n",
              "\n",
              "    .colab-df-convert:hover {\n",
              "      background-color: #E2EBFA;\n",
              "      box-shadow: 0px 1px 2px rgba(60, 64, 67, 0.3), 0px 1px 3px 1px rgba(60, 64, 67, 0.15);\n",
              "      fill: #174EA6;\n",
              "    }\n",
              "\n",
              "    [theme=dark] .colab-df-convert {\n",
              "      background-color: #3B4455;\n",
              "      fill: #D2E3FC;\n",
              "    }\n",
              "\n",
              "    [theme=dark] .colab-df-convert:hover {\n",
              "      background-color: #434B5C;\n",
              "      box-shadow: 0px 1px 3px 1px rgba(0, 0, 0, 0.15);\n",
              "      filter: drop-shadow(0px 1px 2px rgba(0, 0, 0, 0.3));\n",
              "      fill: #FFFFFF;\n",
              "    }\n",
              "  </style>\n",
              "\n",
              "      <script>\n",
              "        const buttonEl =\n",
              "          document.querySelector('#df-c2a0a827-eef0-443a-8f37-a17ca815c613 button.colab-df-convert');\n",
              "        buttonEl.style.display =\n",
              "          google.colab.kernel.accessAllowed ? 'block' : 'none';\n",
              "\n",
              "        async function convertToInteractive(key) {\n",
              "          const element = document.querySelector('#df-c2a0a827-eef0-443a-8f37-a17ca815c613');\n",
              "          const dataTable =\n",
              "            await google.colab.kernel.invokeFunction('convertToInteractive',\n",
              "                                                     [key], {});\n",
              "          if (!dataTable) return;\n",
              "\n",
              "          const docLinkHtml = 'Like what you see? Visit the ' +\n",
              "            '<a target=\"_blank\" href=https://colab.research.google.com/notebooks/data_table.ipynb>data table notebook</a>'\n",
              "            + ' to learn more about interactive tables.';\n",
              "          element.innerHTML = '';\n",
              "          dataTable['output_type'] = 'display_data';\n",
              "          await google.colab.output.renderOutput(dataTable, element);\n",
              "          const docLink = document.createElement('div');\n",
              "          docLink.innerHTML = docLinkHtml;\n",
              "          element.appendChild(docLink);\n",
              "        }\n",
              "      </script>\n",
              "    </div>\n",
              "  </div>\n",
              "  "
            ]
          },
          "metadata": {},
          "execution_count": 5
        }
      ],
      "source": [
        "from afinn import Afinn\n",
        "import pandas as pd\n",
        "afn = Afinn(emoticons=True)\n",
        "afinn_wl_url = ('https://raw.githubusercontent.com'\n",
        "                '/fnielsen/afinn/master/afinn/data/AFINN-111.txt')\n",
        "afinn_wl_df = pd.read_csv(afinn_wl_url,\n",
        "                          header=None, # no column names\n",
        "                          sep='\\t',  # tab sepeated\n",
        "                          names=['term', 'value']) #new column names\n",
        "seed = 999 \n",
        "afinn_wl_df.sample(10, random_state = seed)"
      ]
    },
    {
      "cell_type": "code",
      "execution_count": null,
      "metadata": {
        "colab": {
          "base_uri": "https://localhost:8080/",
          "height": 206
        },
        "id": "9NSZnRnpZVWA",
        "outputId": "cae6a331-147e-4ab3-fbd4-0e46a7dfc741"
      },
      "outputs": [
        {
          "output_type": "execute_result",
          "data": {
            "text/plain": [
              "                                              review sentiment\n",
              "0  One of the other reviewers has mentioned that ...  positive\n",
              "1  A wonderful little production. <br /><br />The...  positive\n",
              "2  I thought this was a wonderful way to spend ti...  positive\n",
              "3  Basically there's a family where a little boy ...  negative\n",
              "4  Petter Mattei's \"Love in the Time of Money\" is...  positive"
            ],
            "text/html": [
              "\n",
              "  <div id=\"df-62d1aa11-84fc-42b8-aee1-bfafb507e816\">\n",
              "    <div class=\"colab-df-container\">\n",
              "      <div>\n",
              "<style scoped>\n",
              "    .dataframe tbody tr th:only-of-type {\n",
              "        vertical-align: middle;\n",
              "    }\n",
              "\n",
              "    .dataframe tbody tr th {\n",
              "        vertical-align: top;\n",
              "    }\n",
              "\n",
              "    .dataframe thead th {\n",
              "        text-align: right;\n",
              "    }\n",
              "</style>\n",
              "<table border=\"1\" class=\"dataframe\">\n",
              "  <thead>\n",
              "    <tr style=\"text-align: right;\">\n",
              "      <th></th>\n",
              "      <th>review</th>\n",
              "      <th>sentiment</th>\n",
              "    </tr>\n",
              "  </thead>\n",
              "  <tbody>\n",
              "    <tr>\n",
              "      <th>0</th>\n",
              "      <td>One of the other reviewers has mentioned that ...</td>\n",
              "      <td>positive</td>\n",
              "    </tr>\n",
              "    <tr>\n",
              "      <th>1</th>\n",
              "      <td>A wonderful little production. &lt;br /&gt;&lt;br /&gt;The...</td>\n",
              "      <td>positive</td>\n",
              "    </tr>\n",
              "    <tr>\n",
              "      <th>2</th>\n",
              "      <td>I thought this was a wonderful way to spend ti...</td>\n",
              "      <td>positive</td>\n",
              "    </tr>\n",
              "    <tr>\n",
              "      <th>3</th>\n",
              "      <td>Basically there's a family where a little boy ...</td>\n",
              "      <td>negative</td>\n",
              "    </tr>\n",
              "    <tr>\n",
              "      <th>4</th>\n",
              "      <td>Petter Mattei's \"Love in the Time of Money\" is...</td>\n",
              "      <td>positive</td>\n",
              "    </tr>\n",
              "  </tbody>\n",
              "</table>\n",
              "</div>\n",
              "      <button class=\"colab-df-convert\" onclick=\"convertToInteractive('df-62d1aa11-84fc-42b8-aee1-bfafb507e816')\"\n",
              "              title=\"Convert this dataframe to an interactive table.\"\n",
              "              style=\"display:none;\">\n",
              "        \n",
              "  <svg xmlns=\"http://www.w3.org/2000/svg\" height=\"24px\"viewBox=\"0 0 24 24\"\n",
              "       width=\"24px\">\n",
              "    <path d=\"M0 0h24v24H0V0z\" fill=\"none\"/>\n",
              "    <path d=\"M18.56 5.44l.94 2.06.94-2.06 2.06-.94-2.06-.94-.94-2.06-.94 2.06-2.06.94zm-11 1L8.5 8.5l.94-2.06 2.06-.94-2.06-.94L8.5 2.5l-.94 2.06-2.06.94zm10 10l.94 2.06.94-2.06 2.06-.94-2.06-.94-.94-2.06-.94 2.06-2.06.94z\"/><path d=\"M17.41 7.96l-1.37-1.37c-.4-.4-.92-.59-1.43-.59-.52 0-1.04.2-1.43.59L10.3 9.45l-7.72 7.72c-.78.78-.78 2.05 0 2.83L4 21.41c.39.39.9.59 1.41.59.51 0 1.02-.2 1.41-.59l7.78-7.78 2.81-2.81c.8-.78.8-2.07 0-2.86zM5.41 20L4 18.59l7.72-7.72 1.47 1.35L5.41 20z\"/>\n",
              "  </svg>\n",
              "      </button>\n",
              "      \n",
              "  <style>\n",
              "    .colab-df-container {\n",
              "      display:flex;\n",
              "      flex-wrap:wrap;\n",
              "      gap: 12px;\n",
              "    }\n",
              "\n",
              "    .colab-df-convert {\n",
              "      background-color: #E8F0FE;\n",
              "      border: none;\n",
              "      border-radius: 50%;\n",
              "      cursor: pointer;\n",
              "      display: none;\n",
              "      fill: #1967D2;\n",
              "      height: 32px;\n",
              "      padding: 0 0 0 0;\n",
              "      width: 32px;\n",
              "    }\n",
              "\n",
              "    .colab-df-convert:hover {\n",
              "      background-color: #E2EBFA;\n",
              "      box-shadow: 0px 1px 2px rgba(60, 64, 67, 0.3), 0px 1px 3px 1px rgba(60, 64, 67, 0.15);\n",
              "      fill: #174EA6;\n",
              "    }\n",
              "\n",
              "    [theme=dark] .colab-df-convert {\n",
              "      background-color: #3B4455;\n",
              "      fill: #D2E3FC;\n",
              "    }\n",
              "\n",
              "    [theme=dark] .colab-df-convert:hover {\n",
              "      background-color: #434B5C;\n",
              "      box-shadow: 0px 1px 3px 1px rgba(0, 0, 0, 0.15);\n",
              "      filter: drop-shadow(0px 1px 2px rgba(0, 0, 0, 0.3));\n",
              "      fill: #FFFFFF;\n",
              "    }\n",
              "  </style>\n",
              "\n",
              "      <script>\n",
              "        const buttonEl =\n",
              "          document.querySelector('#df-62d1aa11-84fc-42b8-aee1-bfafb507e816 button.colab-df-convert');\n",
              "        buttonEl.style.display =\n",
              "          google.colab.kernel.accessAllowed ? 'block' : 'none';\n",
              "\n",
              "        async function convertToInteractive(key) {\n",
              "          const element = document.querySelector('#df-62d1aa11-84fc-42b8-aee1-bfafb507e816');\n",
              "          const dataTable =\n",
              "            await google.colab.kernel.invokeFunction('convertToInteractive',\n",
              "                                                     [key], {});\n",
              "          if (!dataTable) return;\n",
              "\n",
              "          const docLinkHtml = 'Like what you see? Visit the ' +\n",
              "            '<a target=\"_blank\" href=https://colab.research.google.com/notebooks/data_table.ipynb>data table notebook</a>'\n",
              "            + ' to learn more about interactive tables.';\n",
              "          element.innerHTML = '';\n",
              "          dataTable['output_type'] = 'display_data';\n",
              "          await google.colab.output.renderOutput(dataTable, element);\n",
              "          const docLink = document.createElement('div');\n",
              "          docLink.innerHTML = docLinkHtml;\n",
              "          element.appendChild(docLink);\n",
              "        }\n",
              "      </script>\n",
              "    </div>\n",
              "  </div>\n",
              "  "
            ]
          },
          "metadata": {},
          "execution_count": 7
        }
      ],
      "source": [
        "dataset = pd.read_csv('/content/movie_reviews (1).csv.bz2', compression='bz2')\n",
        "dataset.head()"
      ]
    },
    {
      "cell_type": "code",
      "execution_count": null,
      "metadata": {
        "id": "QdxZhX3UfMRW"
      },
      "outputs": [],
      "source": [
        "import numpy as np\n",
        "reviews = np.array(dataset['review'])\n",
        "sentiments = np.array(dataset['sentiment'])\n",
        "\n",
        "# extract data for model evaluation\n",
        "test_reviews = reviews[35000:]\n",
        "test_sentiments = sentiments[35000:]\n",
        "sample_review_ids = [5000, 2500, 1000]"
      ]
    },
    {
      "cell_type": "code",
      "execution_count": null,
      "metadata": {
        "colab": {
          "base_uri": "https://localhost:8080/"
        },
        "id": "X1gxIgzxjhjE",
        "outputId": "6f8bead6-7398-44a1-8aed-0a2b976f470c"
      },
      "outputs": [
        {
          "output_type": "stream",
          "name": "stdout",
          "text": [
            "REVIEW: First off I want to say that I lean liberal on the political scale and I found the movie offensive. I managed to watch the whole doggone disgrace of a film . This movie brings a low to original ideas. Yes it was original thus my 2 stars instead of 1. Are our film writers that uncreative that they can only come up with this?? Acting was horrible , and the characters were unlikeable for the most part. The lead lady in the story had no good qualities at all. They made her bf into some sort of a bad guy and I did not see that at all. Maybe I missed something , I do not know.He was the most down to earth, relevant character in the movie. I did not shell out any money for this garbage. I almost wish PETA would come to the rescue of this awful, offensive movie and form a protest. DISGUSTING thats all I have to say anymore !\n",
            "Actual Sentiment: negative\n",
            "Predicted Sentiment polarity: -14.0\n",
            "----------------------------------------------------------------------------------------------------\n",
            "REVIEW: \"Shower\" is an story about loyalty, about the unstoppable advance of modern world in the detriment of rather traditional and more human ways of life. A man forced to choose between his successful career in business, his big-city life, his wife, and his retarded young brother. The eternal doubt between what we WANT to do and what we SHOULD do. The modern China versus the ancient one. The public baths with its gatherings, its cricket fights versus the shopping centres and the skyscraper. Lots of old men and women that are no longer needed. China, one country, two systems, as Xiao Ping said ... though one of them is killing the other. <br /><br />Tender, moving, full of funny moments, and of bitter-sweet ones.The sensitive ones will cry and laugh equally. The actors are enormous, especially the one who performs the role of the retarded boy; and Yang Zhang makes a good job, easy, simple, letting the story just flow by itself.<br /><br />My rate: 8/10\n",
            "Actual Sentiment: positive\n",
            "Predicted Sentiment polarity: 10.0\n",
            "----------------------------------------------------------------------------------------------------\n",
            "REVIEW: Swinging bachelor Matthau, a successful dentist, is stringing along his blond mistress Hawn, having told her that he's a married man with three kids. After she attempts suicide Matthau decides to get responsible and marry the girl. Worried that she's going to be a \"homebreaker\", bright eyed Hawn wants to meet his wife and explain everything to her. Matthau employs his faithful nurse Bergman to act his wife and that's when things really get complicated.<br /><br />A farcical comedy with irresistible leads quite often hits the mark but isn't for one second believable. The script asks us to believe that us men are such one-dimensional turds that it's truly beyond belief. But maybe this comedy doesn't need to be analyzed too deeply, just sit back and enjoy the ever so funny Matthau, the ever so charming Bergman and débutant Hawn, who here basically created the dumb-blond girl role.\n",
            "Actual Sentiment: positive\n",
            "Predicted Sentiment polarity: 14.0\n",
            "----------------------------------------------------------------------------------------------------\n"
          ]
        }
      ],
      "source": [
        "for review, sentiment in zip(test_reviews[sample_review_ids], test_sentiments[sample_review_ids]):\n",
        "    print('REVIEW:', review)\n",
        "    print('Actual Sentiment:', sentiment)\n",
        "    print('Predicted Sentiment polarity:', afn.score(review))\n",
        "    print('-'*100)"
      ]
    },
    {
      "cell_type": "code",
      "execution_count": null,
      "metadata": {
        "id": "kyV-U3IUj25K"
      },
      "outputs": [],
      "source": [
        "sentiment_polarity = [afn.score(review) for review in test_reviews]\n",
        "predicted_sentiments = ['positive' if score >= 1.0 else 'negative' for score in sentiment_polarity]"
      ]
    },
    {
      "cell_type": "code",
      "execution_count": null,
      "metadata": {
        "colab": {
          "base_uri": "https://localhost:8080/",
          "height": 268
        },
        "id": "COxVVCjyj0aV",
        "outputId": "15f25dd4-c753-4f8b-eb44-37982ef8247a"
      },
      "outputs": [
        {
          "output_type": "stream",
          "name": "stdout",
          "text": [
            "              precision    recall  f1-score   support\n",
            "\n",
            "    negative       0.79      0.57      0.67      7490\n",
            "    positive       0.67      0.85      0.75      7510\n",
            "\n",
            "    accuracy                           0.71     15000\n",
            "   macro avg       0.73      0.71      0.71     15000\n",
            "weighted avg       0.73      0.71      0.71     15000\n",
            "\n"
          ]
        },
        {
          "output_type": "execute_result",
          "data": {
            "text/plain": [
              "          negative  positive\n",
              "negative      4301      3189\n",
              "positive      1134      6376"
            ],
            "text/html": [
              "\n",
              "  <div id=\"df-596205d5-8f12-4409-ac43-2c4c24930b23\">\n",
              "    <div class=\"colab-df-container\">\n",
              "      <div>\n",
              "<style scoped>\n",
              "    .dataframe tbody tr th:only-of-type {\n",
              "        vertical-align: middle;\n",
              "    }\n",
              "\n",
              "    .dataframe tbody tr th {\n",
              "        vertical-align: top;\n",
              "    }\n",
              "\n",
              "    .dataframe thead th {\n",
              "        text-align: right;\n",
              "    }\n",
              "</style>\n",
              "<table border=\"1\" class=\"dataframe\">\n",
              "  <thead>\n",
              "    <tr style=\"text-align: right;\">\n",
              "      <th></th>\n",
              "      <th>negative</th>\n",
              "      <th>positive</th>\n",
              "    </tr>\n",
              "  </thead>\n",
              "  <tbody>\n",
              "    <tr>\n",
              "      <th>negative</th>\n",
              "      <td>4301</td>\n",
              "      <td>3189</td>\n",
              "    </tr>\n",
              "    <tr>\n",
              "      <th>positive</th>\n",
              "      <td>1134</td>\n",
              "      <td>6376</td>\n",
              "    </tr>\n",
              "  </tbody>\n",
              "</table>\n",
              "</div>\n",
              "      <button class=\"colab-df-convert\" onclick=\"convertToInteractive('df-596205d5-8f12-4409-ac43-2c4c24930b23')\"\n",
              "              title=\"Convert this dataframe to an interactive table.\"\n",
              "              style=\"display:none;\">\n",
              "        \n",
              "  <svg xmlns=\"http://www.w3.org/2000/svg\" height=\"24px\"viewBox=\"0 0 24 24\"\n",
              "       width=\"24px\">\n",
              "    <path d=\"M0 0h24v24H0V0z\" fill=\"none\"/>\n",
              "    <path d=\"M18.56 5.44l.94 2.06.94-2.06 2.06-.94-2.06-.94-.94-2.06-.94 2.06-2.06.94zm-11 1L8.5 8.5l.94-2.06 2.06-.94-2.06-.94L8.5 2.5l-.94 2.06-2.06.94zm10 10l.94 2.06.94-2.06 2.06-.94-2.06-.94-.94-2.06-.94 2.06-2.06.94z\"/><path d=\"M17.41 7.96l-1.37-1.37c-.4-.4-.92-.59-1.43-.59-.52 0-1.04.2-1.43.59L10.3 9.45l-7.72 7.72c-.78.78-.78 2.05 0 2.83L4 21.41c.39.39.9.59 1.41.59.51 0 1.02-.2 1.41-.59l7.78-7.78 2.81-2.81c.8-.78.8-2.07 0-2.86zM5.41 20L4 18.59l7.72-7.72 1.47 1.35L5.41 20z\"/>\n",
              "  </svg>\n",
              "      </button>\n",
              "      \n",
              "  <style>\n",
              "    .colab-df-container {\n",
              "      display:flex;\n",
              "      flex-wrap:wrap;\n",
              "      gap: 12px;\n",
              "    }\n",
              "\n",
              "    .colab-df-convert {\n",
              "      background-color: #E8F0FE;\n",
              "      border: none;\n",
              "      border-radius: 50%;\n",
              "      cursor: pointer;\n",
              "      display: none;\n",
              "      fill: #1967D2;\n",
              "      height: 32px;\n",
              "      padding: 0 0 0 0;\n",
              "      width: 32px;\n",
              "    }\n",
              "\n",
              "    .colab-df-convert:hover {\n",
              "      background-color: #E2EBFA;\n",
              "      box-shadow: 0px 1px 2px rgba(60, 64, 67, 0.3), 0px 1px 3px 1px rgba(60, 64, 67, 0.15);\n",
              "      fill: #174EA6;\n",
              "    }\n",
              "\n",
              "    [theme=dark] .colab-df-convert {\n",
              "      background-color: #3B4455;\n",
              "      fill: #D2E3FC;\n",
              "    }\n",
              "\n",
              "    [theme=dark] .colab-df-convert:hover {\n",
              "      background-color: #434B5C;\n",
              "      box-shadow: 0px 1px 3px 1px rgba(0, 0, 0, 0.15);\n",
              "      filter: drop-shadow(0px 1px 2px rgba(0, 0, 0, 0.3));\n",
              "      fill: #FFFFFF;\n",
              "    }\n",
              "  </style>\n",
              "\n",
              "      <script>\n",
              "        const buttonEl =\n",
              "          document.querySelector('#df-596205d5-8f12-4409-ac43-2c4c24930b23 button.colab-df-convert');\n",
              "        buttonEl.style.display =\n",
              "          google.colab.kernel.accessAllowed ? 'block' : 'none';\n",
              "\n",
              "        async function convertToInteractive(key) {\n",
              "          const element = document.querySelector('#df-596205d5-8f12-4409-ac43-2c4c24930b23');\n",
              "          const dataTable =\n",
              "            await google.colab.kernel.invokeFunction('convertToInteractive',\n",
              "                                                     [key], {});\n",
              "          if (!dataTable) return;\n",
              "\n",
              "          const docLinkHtml = 'Like what you see? Visit the ' +\n",
              "            '<a target=\"_blank\" href=https://colab.research.google.com/notebooks/data_table.ipynb>data table notebook</a>'\n",
              "            + ' to learn more about interactive tables.';\n",
              "          element.innerHTML = '';\n",
              "          dataTable['output_type'] = 'display_data';\n",
              "          await google.colab.output.renderOutput(dataTable, element);\n",
              "          const docLink = document.createElement('div');\n",
              "          docLink.innerHTML = docLinkHtml;\n",
              "          element.appendChild(docLink);\n",
              "        }\n",
              "      </script>\n",
              "    </div>\n",
              "  </div>\n",
              "  "
            ]
          },
          "metadata": {},
          "execution_count": 11
        }
      ],
      "source": [
        "from sklearn.metrics import confusion_matrix, classification_report\n",
        "labels = ['negative', 'positive']\n",
        "print(classification_report(test_sentiments, predicted_sentiments))\n",
        "pd.DataFrame(confusion_matrix(test_sentiments, predicted_sentiments), index=labels, columns=labels)"
      ]
    },
    {
      "cell_type": "code",
      "execution_count": null,
      "metadata": {
        "id": "ec6IaekamjEE"
      },
      "outputs": [],
      "source": [
        "import nltk\n",
        "from nltk.stem import PorterStemmer, LancasterStemmer, RegexpStemmer, SnowballStemmer\n",
        "\n",
        "ps = PorterStemmer()\n",
        "ls = LancasterStemmer()\n",
        "ss = SnowballStemmer('english')\n",
        "\n",
        "rs = RegexpStemmer('ing$|s$|ed$|y$', min=4) # set the minimum of the string to stem"
      ]
    },
    {
      "cell_type": "code",
      "source": [
        "from nltk.tokenize import word_tokenize\n",
        "import nltk\n",
        "nltk.download('punkt')\n"
      ],
      "metadata": {
        "colab": {
          "base_uri": "https://localhost:8080/"
        },
        "id": "864iTN4aPxK7",
        "outputId": "2575b5e8-4d55-43e9-d143-ceb087f76d62"
      },
      "execution_count": null,
      "outputs": [
        {
          "output_type": "stream",
          "name": "stderr",
          "text": [
            "[nltk_data] Downloading package punkt to /root/nltk_data...\n",
            "[nltk_data]   Unzipping tokenizers/punkt.zip.\n"
          ]
        }
      ]
    },
    {
      "cell_type": "code",
      "source": [
        "all = []\n",
        "sam = [[i] for i in dataset['review'].tolist()]\n",
        "for i in sam:\n",
        "  # print(i)\n",
        "  for j in i:\n",
        "    # print(j.split())\n",
        "    a = [ls.stem(w) for w in j.split()]\n",
        "    # print(a)\n",
        "    b = ' '.join(a)\n",
        "    # print(b)\n",
        "    all.append(b)"
      ],
      "metadata": {
        "id": "XA2TMHRhdpAY"
      },
      "execution_count": null,
      "outputs": []
    },
    {
      "cell_type": "code",
      "execution_count": null,
      "metadata": {
        "id": "IjX0XfGnmoqY"
      },
      "outputs": [],
      "source": [
        "\n",
        "reviews1=np.array(all)\n",
        "sentiments = np.array(dataset['sentiment'])\n",
        "# extract data for model evaluation\n",
        "test_reviews1 = reviews1[35000:]\n",
        "test_sentiments = sentiments[35000:]\n",
        "sample_review_ids = [5000, 2500, 1000]"
      ]
    },
    {
      "cell_type": "code",
      "execution_count": null,
      "metadata": {
        "colab": {
          "base_uri": "https://localhost:8080/"
        },
        "id": "1oy0l-QRoRBm",
        "outputId": "ef4e1904-61d2-43d5-c764-c62ee4da0908"
      },
      "outputs": [
        {
          "output_type": "stream",
          "name": "stdout",
          "text": [
            "REVIEW: first off i want to say that i lean lib on the polit scal and i found the movy offensive. i man to watch the whol doggon disgrac of a film . thi movy bring a low to origin ideas. ye it was origin thu my 2 star instead of 1. ar our film writ that uncr that they can on com up with this?? act was horr , and the charact wer unlik for the most part. the lead lady in the story had no good qual at all. they mad her bf into som sort of a bad guy and i did not see that at all. mayb i miss someth , i do not know.he was the most down to earth, relev charact in the movie. i did not shel out any money for thi garbage. i almost wish pet would com to the rescu of thi awful, offend movy and form a protest. disgust that al i hav to say anym !\n",
            "Actual Sentiment: negative\n",
            "Predicted Sentiment polarity: -17.0\n",
            "----------------------------------------------------------------------------------------------------\n",
            "REVIEW: \"shower\" is an story about loyalty, about the unstop adv of modern world in the detry of rath tradit and mor hum way of life. a man forc to choos between his success car in business, his big-city life, his wife, and his retard young brother. the etern doubt between what we want to do and what we should do. the modern chin vers the ant one. the publ bath with it gatherings, it cricket fight vers the shop cent and the skyscraper. lot of old men and wom that ar no long needed. china, on country, two systems, as xiao ping said ... though on of them is kil the other. <br /><br />tender, moving, ful of funny moments, and of bitter-sweet ones.the sensit on wil cry and laugh equally. the act ar enormous, espec the on who perform the rol of the retard boy; and yang zhang mak a good job, easy, simple, let the story just flow by itself.<br /><br />my rate: 8/10\n",
            "Actual Sentiment: positive\n",
            "Predicted Sentiment polarity: 10.0\n",
            "----------------------------------------------------------------------------------------------------\n",
            "REVIEW: swing bachel matthau, a success dentist, is stringing along his blond mistress hawn, hav told her that he's a marry man with three kids. aft she attempt suicid matthau decid to get respons and marry the girl. worry that she's going to be a \"homebreaker\", bright ey hawn want to meet his wif and explain everyth to her. matthau employ his faith nurs bergm to act his wif and that's when thing real get complicated.<br /><br />a farc comedy with irresist lead quit oft hit the mark but isn't for on second believable. the script ask us to believ that us men ar such one-dimensional turd that it's tru beyond belief. but mayb thi comedy doesn't nee to be analys too deeply, just sit back and enjoy the ev so funny matthau, the ev so charm bergm and débutant hawn, who her bas cre the dumb-blond girl role.\n",
            "Actual Sentiment: positive\n",
            "Predicted Sentiment polarity: 10.0\n",
            "----------------------------------------------------------------------------------------------------\n"
          ]
        }
      ],
      "source": [
        "for review1, sentiment1 in zip(test_reviews1[sample_review_ids], test_sentiments[sample_review_ids]):\n",
        "    print('REVIEW:', review1)\n",
        "    print('Actual Sentiment:', sentiment1)\n",
        "    print('Predicted Sentiment polarity:', afn.score(review1))\n",
        "    print('-'*100)"
      ]
    },
    {
      "cell_type": "code",
      "execution_count": null,
      "metadata": {
        "id": "IK1bU4Fuo0bY"
      },
      "outputs": [],
      "source": [
        "sentiment_polarity1 = [afn.score(review1) for review1 in test_reviews1]\n",
        "predicted_sentiments1 = ['positive' if score >= 1.0 else 'negative' for score in sentiment_polarity1]"
      ]
    },
    {
      "cell_type": "code",
      "execution_count": null,
      "metadata": {
        "colab": {
          "base_uri": "https://localhost:8080/",
          "height": 268
        },
        "id": "zV7aZzfmpFGR",
        "outputId": "0a8c29f1-a94c-49f7-916e-fd5e4aac294d"
      },
      "outputs": [
        {
          "output_type": "stream",
          "name": "stdout",
          "text": [
            "              precision    recall  f1-score   support\n",
            "\n",
            "    negative       0.71      0.69      0.70      7490\n",
            "    positive       0.70      0.72      0.71      7510\n",
            "\n",
            "    accuracy                           0.70     15000\n",
            "   macro avg       0.70      0.70      0.70     15000\n",
            "weighted avg       0.70      0.70      0.70     15000\n",
            "\n"
          ]
        },
        {
          "output_type": "execute_result",
          "data": {
            "text/plain": [
              "          negative  positive\n",
              "negative      5186      2304\n",
              "positive      2136      5374"
            ],
            "text/html": [
              "\n",
              "  <div id=\"df-204a95cb-05c9-4b74-a563-828622ee671b\">\n",
              "    <div class=\"colab-df-container\">\n",
              "      <div>\n",
              "<style scoped>\n",
              "    .dataframe tbody tr th:only-of-type {\n",
              "        vertical-align: middle;\n",
              "    }\n",
              "\n",
              "    .dataframe tbody tr th {\n",
              "        vertical-align: top;\n",
              "    }\n",
              "\n",
              "    .dataframe thead th {\n",
              "        text-align: right;\n",
              "    }\n",
              "</style>\n",
              "<table border=\"1\" class=\"dataframe\">\n",
              "  <thead>\n",
              "    <tr style=\"text-align: right;\">\n",
              "      <th></th>\n",
              "      <th>negative</th>\n",
              "      <th>positive</th>\n",
              "    </tr>\n",
              "  </thead>\n",
              "  <tbody>\n",
              "    <tr>\n",
              "      <th>negative</th>\n",
              "      <td>5186</td>\n",
              "      <td>2304</td>\n",
              "    </tr>\n",
              "    <tr>\n",
              "      <th>positive</th>\n",
              "      <td>2136</td>\n",
              "      <td>5374</td>\n",
              "    </tr>\n",
              "  </tbody>\n",
              "</table>\n",
              "</div>\n",
              "      <button class=\"colab-df-convert\" onclick=\"convertToInteractive('df-204a95cb-05c9-4b74-a563-828622ee671b')\"\n",
              "              title=\"Convert this dataframe to an interactive table.\"\n",
              "              style=\"display:none;\">\n",
              "        \n",
              "  <svg xmlns=\"http://www.w3.org/2000/svg\" height=\"24px\"viewBox=\"0 0 24 24\"\n",
              "       width=\"24px\">\n",
              "    <path d=\"M0 0h24v24H0V0z\" fill=\"none\"/>\n",
              "    <path d=\"M18.56 5.44l.94 2.06.94-2.06 2.06-.94-2.06-.94-.94-2.06-.94 2.06-2.06.94zm-11 1L8.5 8.5l.94-2.06 2.06-.94-2.06-.94L8.5 2.5l-.94 2.06-2.06.94zm10 10l.94 2.06.94-2.06 2.06-.94-2.06-.94-.94-2.06-.94 2.06-2.06.94z\"/><path d=\"M17.41 7.96l-1.37-1.37c-.4-.4-.92-.59-1.43-.59-.52 0-1.04.2-1.43.59L10.3 9.45l-7.72 7.72c-.78.78-.78 2.05 0 2.83L4 21.41c.39.39.9.59 1.41.59.51 0 1.02-.2 1.41-.59l7.78-7.78 2.81-2.81c.8-.78.8-2.07 0-2.86zM5.41 20L4 18.59l7.72-7.72 1.47 1.35L5.41 20z\"/>\n",
              "  </svg>\n",
              "      </button>\n",
              "      \n",
              "  <style>\n",
              "    .colab-df-container {\n",
              "      display:flex;\n",
              "      flex-wrap:wrap;\n",
              "      gap: 12px;\n",
              "    }\n",
              "\n",
              "    .colab-df-convert {\n",
              "      background-color: #E8F0FE;\n",
              "      border: none;\n",
              "      border-radius: 50%;\n",
              "      cursor: pointer;\n",
              "      display: none;\n",
              "      fill: #1967D2;\n",
              "      height: 32px;\n",
              "      padding: 0 0 0 0;\n",
              "      width: 32px;\n",
              "    }\n",
              "\n",
              "    .colab-df-convert:hover {\n",
              "      background-color: #E2EBFA;\n",
              "      box-shadow: 0px 1px 2px rgba(60, 64, 67, 0.3), 0px 1px 3px 1px rgba(60, 64, 67, 0.15);\n",
              "      fill: #174EA6;\n",
              "    }\n",
              "\n",
              "    [theme=dark] .colab-df-convert {\n",
              "      background-color: #3B4455;\n",
              "      fill: #D2E3FC;\n",
              "    }\n",
              "\n",
              "    [theme=dark] .colab-df-convert:hover {\n",
              "      background-color: #434B5C;\n",
              "      box-shadow: 0px 1px 3px 1px rgba(0, 0, 0, 0.15);\n",
              "      filter: drop-shadow(0px 1px 2px rgba(0, 0, 0, 0.3));\n",
              "      fill: #FFFFFF;\n",
              "    }\n",
              "  </style>\n",
              "\n",
              "      <script>\n",
              "        const buttonEl =\n",
              "          document.querySelector('#df-204a95cb-05c9-4b74-a563-828622ee671b button.colab-df-convert');\n",
              "        buttonEl.style.display =\n",
              "          google.colab.kernel.accessAllowed ? 'block' : 'none';\n",
              "\n",
              "        async function convertToInteractive(key) {\n",
              "          const element = document.querySelector('#df-204a95cb-05c9-4b74-a563-828622ee671b');\n",
              "          const dataTable =\n",
              "            await google.colab.kernel.invokeFunction('convertToInteractive',\n",
              "                                                     [key], {});\n",
              "          if (!dataTable) return;\n",
              "\n",
              "          const docLinkHtml = 'Like what you see? Visit the ' +\n",
              "            '<a target=\"_blank\" href=https://colab.research.google.com/notebooks/data_table.ipynb>data table notebook</a>'\n",
              "            + ' to learn more about interactive tables.';\n",
              "          element.innerHTML = '';\n",
              "          dataTable['output_type'] = 'display_data';\n",
              "          await google.colab.output.renderOutput(dataTable, element);\n",
              "          const docLink = document.createElement('div');\n",
              "          docLink.innerHTML = docLinkHtml;\n",
              "          element.appendChild(docLink);\n",
              "        }\n",
              "      </script>\n",
              "    </div>\n",
              "  </div>\n",
              "  "
            ]
          },
          "metadata": {},
          "execution_count": 56
        }
      ],
      "source": [
        "print(classification_report(test_sentiments, predicted_sentiments1))\n",
        "pd.DataFrame(confusion_matrix(test_sentiments, predicted_sentiments1), index=labels, columns=labels)"
      ]
    },
    {
      "cell_type": "markdown",
      "metadata": {
        "id": "N7mV6iysZFil"
      },
      "source": [
        "#### 4. What is the effect of using or not using stemming or lemmatization in the precision of n-gram taggers (Question 1 of Week 1)?"
      ]
    },
    {
      "cell_type": "code",
      "execution_count": null,
      "metadata": {
        "id": "vCyXCxAN3Uiv",
        "colab": {
          "base_uri": "https://localhost:8080/"
        },
        "outputId": "446aff73-4f7a-453c-f2ea-94fc9c292727"
      },
      "outputs": [
        {
          "output_type": "stream",
          "name": "stdout",
          "text": [
            "ng1, ng2 and ng3 have 95917, 2308823 and 8780784 features respectively\n"
          ]
        }
      ],
      "source": [
        "from sklearn.feature_extraction.text import CountVectorizer\n",
        "vectorizer_ng1 = CountVectorizer(ngram_range=(1, 1))\n",
        "ng1 = vectorizer_ng1.fit_transform(all)\n",
        "\n",
        "# Generate n-grams upto n=2\n",
        "vectorizer_ng2 = CountVectorizer(ngram_range=(1, 2))\n",
        "ng2 = vectorizer_ng2.fit_transform(all)\n",
        "\n",
        "# Generate n-grams upto n=3\n",
        "vectorizer_ng3 = CountVectorizer(ngram_range=(1, 3))\n",
        "ng3 = vectorizer_ng3.fit_transform(all)\n",
        "\n",
        "# Print the number of features for each model\n",
        "print(\"ng1, ng2 and ng3 have %i, %i and %i features respectively\" % \n",
        "      (ng1.shape[1], ng2.shape[1], ng3.shape[1]))"
      ]
    },
    {
      "cell_type": "code",
      "source": [
        "X = all\n",
        "y = dataset['sentiment']"
      ],
      "metadata": {
        "id": "F2xUk0oZnevI"
      },
      "execution_count": null,
      "outputs": []
    },
    {
      "cell_type": "code",
      "source": [
        "X1= dataset['review']"
      ],
      "metadata": {
        "id": "y3xRVec9tP1r"
      },
      "execution_count": null,
      "outputs": []
    },
    {
      "cell_type": "code",
      "source": [
        "from sklearn.model_selection import train_test_split\n",
        "\n",
        "X_train, X_test, y_train, y_test = train_test_split(X, y, test_size=0.25)\n"
      ],
      "metadata": {
        "id": "WM5lCgFQnt6B"
      },
      "execution_count": null,
      "outputs": []
    },
    {
      "cell_type": "code",
      "source": [
        "X_train1, X_test1, y_train, y_test = train_test_split(X1, y, test_size=0.25)"
      ],
      "metadata": {
        "id": "OSY1zD22tfiz"
      },
      "execution_count": null,
      "outputs": []
    },
    {
      "cell_type": "code",
      "source": [
        "X_train_ng1 = vectorizer_ng1.fit_transform(X_train)\n",
        "X_test_ng1 = vectorizer_ng1.transform(X_test)"
      ],
      "metadata": {
        "id": "bKVpvyyntu7p"
      },
      "execution_count": null,
      "outputs": []
    },
    {
      "cell_type": "code",
      "source": [
        "X_train_ng2 = vectorizer_ng2.fit_transform(X_train)\n",
        "X_test_ng2 = vectorizer_ng2.transform(X_test)"
      ],
      "metadata": {
        "id": "eePWGd2no-N1"
      },
      "execution_count": null,
      "outputs": []
    },
    {
      "cell_type": "code",
      "source": [
        "X_train_ng3 = vectorizer_ng3.fit_transform(X_train)\n",
        "X_test_ng3 = vectorizer_ng3.transform(X_test)"
      ],
      "metadata": {
        "id": "npSY4QgcnwTO"
      },
      "execution_count": null,
      "outputs": []
    },
    {
      "cell_type": "code",
      "source": [
        "from sklearn.naive_bayes import MultinomialNB\n",
        "# Create a MultinomialNB object\n",
        "clf = MultinomialNB()\n",
        "# Fit the classifier\n",
        "clf.fit(X_train_ng1, y_train)\n",
        "# Measure the accuracy\n",
        "accuracy1 = clf.score(X_test_ng1, y_test)\n",
        "print(\"The accuracy of the classifier on the test set is %.3f\" % accuracy1)\n"
      ],
      "metadata": {
        "colab": {
          "base_uri": "https://localhost:8080/"
        },
        "id": "tkWkhlybn-T5",
        "outputId": "4b9b37d9-5077-47a2-a755-606c46d63a73"
      },
      "execution_count": null,
      "outputs": [
        {
          "output_type": "stream",
          "name": "stdout",
          "text": [
            "The accuracy of the classifier on the test set is 0.846\n"
          ]
        }
      ]
    },
    {
      "cell_type": "code",
      "source": [
        "clf.fit(X_train_ng2, y_train)\n",
        "accuracy2 = clf.score(X_test_ng2, y_test)\n",
        "print(\"The accuracy of the classifier on the test set is %.3f\" % accuracy2)"
      ],
      "metadata": {
        "colab": {
          "base_uri": "https://localhost:8080/"
        },
        "id": "Zb3gHC1_s4SJ",
        "outputId": "c28ede92-f0b7-405b-9c97-8f3e7717c559"
      },
      "execution_count": null,
      "outputs": [
        {
          "output_type": "stream",
          "name": "stdout",
          "text": [
            "The accuracy of the classifier on the test set is 0.883\n"
          ]
        }
      ]
    },
    {
      "cell_type": "code",
      "source": [
        "clf.fit(X_train_ng3, y_train)\n",
        "accuracy3 = clf.score(X_test_ng3, y_test)\n",
        "print(\"The accuracy of the classifier on the test set is %.3f\" % accuracy3)"
      ],
      "metadata": {
        "colab": {
          "base_uri": "https://localhost:8080/"
        },
        "id": "P_yYJp6ds_2B",
        "outputId": "ec5841a0-49a8-4a10-ad1b-e2321e28a410"
      },
      "execution_count": null,
      "outputs": [
        {
          "output_type": "stream",
          "name": "stdout",
          "text": [
            "The accuracy of the classifier on the test set is 0.897\n"
          ]
        }
      ]
    },
    {
      "cell_type": "markdown",
      "source": [
        "##### 5. How are the transformer-based taggers affected by stemming or lemmatization (Question 3 of Week 4)?"
      ],
      "metadata": {
        "id": "NvjDCp6D0Fh9"
      }
    },
    {
      "cell_type": "code",
      "source": [
        "! pip install flair"
      ],
      "metadata": {
        "colab": {
          "base_uri": "https://localhost:8080/"
        },
        "id": "Tlbz9d6A0-zs",
        "outputId": "a9a78fda-0a2f-4e24-c074-7eb266708913"
      },
      "execution_count": 2,
      "outputs": [
        {
          "output_type": "stream",
          "name": "stdout",
          "text": [
            "Looking in indexes: https://pypi.org/simple, https://us-python.pkg.dev/colab-wheels/public/simple/\n",
            "Collecting flair\n",
            "  Downloading flair-0.11.3-py3-none-any.whl (401 kB)\n",
            "\u001b[K     |████████████████████████████████| 401 kB 28.8 MB/s \n",
            "\u001b[?25hCollecting ftfy\n",
            "  Downloading ftfy-6.1.1-py3-none-any.whl (53 kB)\n",
            "\u001b[K     |████████████████████████████████| 53 kB 1.9 MB/s \n",
            "\u001b[?25hRequirement already satisfied: matplotlib>=2.2.3 in /usr/local/lib/python3.7/dist-packages (from flair) (3.2.2)\n",
            "Requirement already satisfied: torch!=1.8,>=1.5.0 in /usr/local/lib/python3.7/dist-packages (from flair) (1.12.1+cu113)\n",
            "Collecting mpld3==0.3\n",
            "  Downloading mpld3-0.3.tar.gz (788 kB)\n",
            "\u001b[K     |████████████████████████████████| 788 kB 63.7 MB/s \n",
            "\u001b[?25hRequirement already satisfied: tqdm>=4.26.0 in /usr/local/lib/python3.7/dist-packages (from flair) (4.64.1)\n",
            "Collecting pptree\n",
            "  Downloading pptree-3.1.tar.gz (3.0 kB)\n",
            "Collecting transformers>=4.0.0\n",
            "  Downloading transformers-4.23.1-py3-none-any.whl (5.3 MB)\n",
            "\u001b[K     |████████████████████████████████| 5.3 MB 43.0 MB/s \n",
            "\u001b[?25hRequirement already satisfied: gensim>=3.4.0 in /usr/local/lib/python3.7/dist-packages (from flair) (3.6.0)\n",
            "Collecting langdetect\n",
            "  Downloading langdetect-1.0.9.tar.gz (981 kB)\n",
            "\u001b[K     |████████████████████████████████| 981 kB 55.3 MB/s \n",
            "\u001b[?25hRequirement already satisfied: gdown==4.4.0 in /usr/local/lib/python3.7/dist-packages (from flair) (4.4.0)\n",
            "Requirement already satisfied: scikit-learn>=0.21.3 in /usr/local/lib/python3.7/dist-packages (from flair) (1.0.2)\n",
            "Requirement already satisfied: more-itertools in /usr/local/lib/python3.7/dist-packages (from flair) (8.14.0)\n",
            "Collecting conllu>=4.0\n",
            "  Downloading conllu-4.5.2-py2.py3-none-any.whl (16 kB)\n",
            "Collecting sentencepiece==0.1.95\n",
            "  Downloading sentencepiece-0.1.95-cp37-cp37m-manylinux2014_x86_64.whl (1.2 MB)\n",
            "\u001b[K     |████████████████████████████████| 1.2 MB 61.3 MB/s \n",
            "\u001b[?25hRequirement already satisfied: python-dateutil>=2.6.1 in /usr/local/lib/python3.7/dist-packages (from flair) (2.8.2)\n",
            "Collecting konoha<5.0.0,>=4.0.0\n",
            "  Downloading konoha-4.6.5-py3-none-any.whl (20 kB)\n",
            "Collecting deprecated>=1.2.4\n",
            "  Downloading Deprecated-1.2.13-py2.py3-none-any.whl (9.6 kB)\n",
            "Collecting wikipedia-api\n",
            "  Downloading Wikipedia-API-0.5.4.tar.gz (18 kB)\n",
            "Requirement already satisfied: tabulate in /usr/local/lib/python3.7/dist-packages (from flair) (0.8.10)\n",
            "Collecting janome\n",
            "  Downloading Janome-0.4.2-py2.py3-none-any.whl (19.7 MB)\n",
            "\u001b[K     |████████████████████████████████| 19.7 MB 313 kB/s \n",
            "\u001b[?25hCollecting huggingface-hub\n",
            "  Downloading huggingface_hub-0.10.1-py3-none-any.whl (163 kB)\n",
            "\u001b[K     |████████████████████████████████| 163 kB 68.5 MB/s \n",
            "\u001b[?25hRequirement already satisfied: lxml in /usr/local/lib/python3.7/dist-packages (from flair) (4.9.1)\n",
            "Collecting sqlitedict>=1.6.0\n",
            "  Downloading sqlitedict-2.0.0.tar.gz (46 kB)\n",
            "\u001b[K     |████████████████████████████████| 46 kB 4.2 MB/s \n",
            "\u001b[?25hCollecting segtok>=1.5.7\n",
            "  Downloading segtok-1.5.11-py3-none-any.whl (24 kB)\n",
            "Collecting bpemb>=0.3.2\n",
            "  Downloading bpemb-0.3.4-py3-none-any.whl (19 kB)\n",
            "Requirement already satisfied: regex in /usr/local/lib/python3.7/dist-packages (from flair) (2022.6.2)\n",
            "Collecting hyperopt>=0.2.7\n",
            "  Downloading hyperopt-0.2.7-py2.py3-none-any.whl (1.6 MB)\n",
            "\u001b[K     |████████████████████████████████| 1.6 MB 56.1 MB/s \n",
            "\u001b[?25hRequirement already satisfied: six in /usr/local/lib/python3.7/dist-packages (from gdown==4.4.0->flair) (1.15.0)\n",
            "Requirement already satisfied: filelock in /usr/local/lib/python3.7/dist-packages (from gdown==4.4.0->flair) (3.8.0)\n",
            "Requirement already satisfied: beautifulsoup4 in /usr/local/lib/python3.7/dist-packages (from gdown==4.4.0->flair) (4.6.3)\n",
            "Requirement already satisfied: requests[socks] in /usr/local/lib/python3.7/dist-packages (from gdown==4.4.0->flair) (2.23.0)\n",
            "Requirement already satisfied: numpy in /usr/local/lib/python3.7/dist-packages (from bpemb>=0.3.2->flair) (1.21.6)\n",
            "Requirement already satisfied: wrapt<2,>=1.10 in /usr/local/lib/python3.7/dist-packages (from deprecated>=1.2.4->flair) (1.14.1)\n",
            "Requirement already satisfied: scipy>=0.18.1 in /usr/local/lib/python3.7/dist-packages (from gensim>=3.4.0->flair) (1.7.3)\n",
            "Requirement already satisfied: smart-open>=1.2.1 in /usr/local/lib/python3.7/dist-packages (from gensim>=3.4.0->flair) (5.2.1)\n",
            "Collecting py4j\n",
            "  Downloading py4j-0.10.9.7-py2.py3-none-any.whl (200 kB)\n",
            "\u001b[K     |████████████████████████████████| 200 kB 76.9 MB/s \n",
            "\u001b[?25hRequirement already satisfied: cloudpickle in /usr/local/lib/python3.7/dist-packages (from hyperopt>=0.2.7->flair) (1.5.0)\n",
            "Requirement already satisfied: future in /usr/local/lib/python3.7/dist-packages (from hyperopt>=0.2.7->flair) (0.16.0)\n",
            "Requirement already satisfied: networkx>=2.2 in /usr/local/lib/python3.7/dist-packages (from hyperopt>=0.2.7->flair) (2.6.3)\n",
            "Collecting requests\n",
            "  Downloading requests-2.28.1-py3-none-any.whl (62 kB)\n",
            "\u001b[K     |████████████████████████████████| 62 kB 1.7 MB/s \n",
            "\u001b[?25hCollecting overrides<4.0.0,>=3.0.0\n",
            "  Downloading overrides-3.1.0.tar.gz (11 kB)\n",
            "Collecting importlib-metadata<4.0.0,>=3.7.0\n",
            "  Downloading importlib_metadata-3.10.1-py3-none-any.whl (14 kB)\n",
            "Requirement already satisfied: typing-extensions>=3.6.4 in /usr/local/lib/python3.7/dist-packages (from importlib-metadata<4.0.0,>=3.7.0->konoha<5.0.0,>=4.0.0->flair) (4.1.1)\n",
            "Requirement already satisfied: zipp>=0.5 in /usr/local/lib/python3.7/dist-packages (from importlib-metadata<4.0.0,>=3.7.0->konoha<5.0.0,>=4.0.0->flair) (3.9.0)\n",
            "Requirement already satisfied: cycler>=0.10 in /usr/local/lib/python3.7/dist-packages (from matplotlib>=2.2.3->flair) (0.11.0)\n",
            "Requirement already satisfied: kiwisolver>=1.0.1 in /usr/local/lib/python3.7/dist-packages (from matplotlib>=2.2.3->flair) (1.4.4)\n",
            "Requirement already satisfied: pyparsing!=2.0.4,!=2.1.2,!=2.1.6,>=2.0.1 in /usr/local/lib/python3.7/dist-packages (from matplotlib>=2.2.3->flair) (3.0.9)\n",
            "Requirement already satisfied: certifi>=2017.4.17 in /usr/local/lib/python3.7/dist-packages (from requests->bpemb>=0.3.2->flair) (2022.9.24)\n",
            "Requirement already satisfied: charset-normalizer<3,>=2 in /usr/local/lib/python3.7/dist-packages (from requests->bpemb>=0.3.2->flair) (2.1.1)\n",
            "Requirement already satisfied: urllib3<1.27,>=1.21.1 in /usr/local/lib/python3.7/dist-packages (from requests->bpemb>=0.3.2->flair) (1.24.3)\n",
            "Requirement already satisfied: idna<4,>=2.5 in /usr/local/lib/python3.7/dist-packages (from requests->bpemb>=0.3.2->flair) (2.10)\n",
            "Requirement already satisfied: threadpoolctl>=2.0.0 in /usr/local/lib/python3.7/dist-packages (from scikit-learn>=0.21.3->flair) (3.1.0)\n",
            "Requirement already satisfied: joblib>=0.11 in /usr/local/lib/python3.7/dist-packages (from scikit-learn>=0.21.3->flair) (1.2.0)\n",
            "Collecting tokenizers!=0.11.3,<0.14,>=0.11.1\n",
            "  Downloading tokenizers-0.13.1-cp37-cp37m-manylinux_2_17_x86_64.manylinux2014_x86_64.whl (7.6 MB)\n",
            "\u001b[K     |████████████████████████████████| 7.6 MB 63.9 MB/s \n",
            "\u001b[?25hRequirement already satisfied: pyyaml>=5.1 in /usr/local/lib/python3.7/dist-packages (from transformers>=4.0.0->flair) (6.0)\n",
            "Requirement already satisfied: packaging>=20.0 in /usr/local/lib/python3.7/dist-packages (from transformers>=4.0.0->flair) (21.3)\n",
            "Requirement already satisfied: wcwidth>=0.2.5 in /usr/local/lib/python3.7/dist-packages (from ftfy->flair) (0.2.5)\n",
            "Requirement already satisfied: PySocks!=1.5.7,>=1.5.6 in /usr/local/lib/python3.7/dist-packages (from requests->bpemb>=0.3.2->flair) (1.7.1)\n",
            "Building wheels for collected packages: mpld3, overrides, sqlitedict, langdetect, pptree, wikipedia-api\n",
            "  Building wheel for mpld3 (setup.py) ... \u001b[?25l\u001b[?25hdone\n",
            "  Created wheel for mpld3: filename=mpld3-0.3-py3-none-any.whl size=116702 sha256=7454a9f17eada8b7872f0d884c506e628de5fa03aabe91a6ee208012653b0104\n",
            "  Stored in directory: /root/.cache/pip/wheels/26/70/6a/1c79e59951a41b4045497da187b2724f5659ca64033cf4548e\n",
            "  Building wheel for overrides (setup.py) ... \u001b[?25l\u001b[?25hdone\n",
            "  Created wheel for overrides: filename=overrides-3.1.0-py3-none-any.whl size=10187 sha256=3325ef4294c25dba6574fc0737d3efadbc73cf3f40306461330368ff65f223c4\n",
            "  Stored in directory: /root/.cache/pip/wheels/3a/0d/38/01a9bc6e20dcfaf0a6a7b552d03137558ba1c38aea47644682\n",
            "  Building wheel for sqlitedict (setup.py) ... \u001b[?25l\u001b[?25hdone\n",
            "  Created wheel for sqlitedict: filename=sqlitedict-2.0.0-py3-none-any.whl size=15736 sha256=25c74d5dd6e49fac208d3e0fe29de6ffeeed214ea6656e4fbf789e0beeffb4c0\n",
            "  Stored in directory: /root/.cache/pip/wheels/96/dd/2e/0ed4a25cb73fc30c7ea8d10b50acb7226175736067e40a7ea3\n",
            "  Building wheel for langdetect (setup.py) ... \u001b[?25l\u001b[?25hdone\n",
            "  Created wheel for langdetect: filename=langdetect-1.0.9-py3-none-any.whl size=993242 sha256=cce810b4f660b5588c1a6c0e816d8e65eb906a0b6b27f9f7aad21bd41c442554\n",
            "  Stored in directory: /root/.cache/pip/wheels/c5/96/8a/f90c59ed25d75e50a8c10a1b1c2d4c402e4dacfa87f3aff36a\n",
            "  Building wheel for pptree (setup.py) ... \u001b[?25l\u001b[?25hdone\n",
            "  Created wheel for pptree: filename=pptree-3.1-py3-none-any.whl size=4629 sha256=2b6ed81e72dfb678faa4b2ba433c23402de101c6d61e05951b89444a5878e0b6\n",
            "  Stored in directory: /root/.cache/pip/wheels/9e/e8/7d/a9c3c19b4722608a0d8b05a38c36bc3f230c43becd2a46794b\n",
            "  Building wheel for wikipedia-api (setup.py) ... \u001b[?25l\u001b[?25hdone\n",
            "  Created wheel for wikipedia-api: filename=Wikipedia_API-0.5.4-py3-none-any.whl size=13477 sha256=fcc27ac22efd2ba3f27d92ceb27dd88eb5d92a0774f9eef24808358876d178fe\n",
            "  Stored in directory: /root/.cache/pip/wheels/d3/24/56/58ba93cf78be162451144e7a9889603f437976ef1ae7013d04\n",
            "Successfully built mpld3 overrides sqlitedict langdetect pptree wikipedia-api\n",
            "Installing collected packages: requests, importlib-metadata, tokenizers, sentencepiece, py4j, overrides, huggingface-hub, wikipedia-api, transformers, sqlitedict, segtok, pptree, mpld3, langdetect, konoha, janome, hyperopt, ftfy, deprecated, conllu, bpemb, flair\n",
            "  Attempting uninstall: requests\n",
            "    Found existing installation: requests 2.23.0\n",
            "    Uninstalling requests-2.23.0:\n",
            "      Successfully uninstalled requests-2.23.0\n",
            "  Attempting uninstall: importlib-metadata\n",
            "    Found existing installation: importlib-metadata 4.13.0\n",
            "    Uninstalling importlib-metadata-4.13.0:\n",
            "      Successfully uninstalled importlib-metadata-4.13.0\n",
            "  Attempting uninstall: hyperopt\n",
            "    Found existing installation: hyperopt 0.1.2\n",
            "    Uninstalling hyperopt-0.1.2:\n",
            "      Successfully uninstalled hyperopt-0.1.2\n",
            "\u001b[31mERROR: pip's dependency resolver does not currently take into account all the packages that are installed. This behaviour is the source of the following dependency conflicts.\n",
            "markdown 3.4.1 requires importlib-metadata>=4.4; python_version < \"3.10\", but you have importlib-metadata 3.10.1 which is incompatible.\n",
            "gym 0.25.2 requires importlib-metadata>=4.8.0; python_version < \"3.10\", but you have importlib-metadata 3.10.1 which is incompatible.\u001b[0m\n",
            "Successfully installed bpemb-0.3.4 conllu-4.5.2 deprecated-1.2.13 flair-0.11.3 ftfy-6.1.1 huggingface-hub-0.10.1 hyperopt-0.2.7 importlib-metadata-3.10.1 janome-0.4.2 konoha-4.6.5 langdetect-1.0.9 mpld3-0.3 overrides-3.1.0 pptree-3.1 py4j-0.10.9.7 requests-2.28.1 segtok-1.5.11 sentencepiece-0.1.95 sqlitedict-2.0.0 tokenizers-0.13.1 transformers-4.23.1 wikipedia-api-0.5.4\n"
          ]
        }
      ]
    },
    {
      "cell_type": "code",
      "source": [
        "from flair.data import Sentence\n",
        "from flair.models import SequenceTagger"
      ],
      "metadata": {
        "id": "sRcMZpen0Cex"
      },
      "execution_count": 3,
      "outputs": []
    },
    {
      "cell_type": "code",
      "source": [
        "tagger = SequenceTagger.load(\"flair/ner-german-large\")"
      ],
      "metadata": {
        "colab": {
          "base_uri": "https://localhost:8080/",
          "height": 233,
          "referenced_widgets": [
            "84638c5447ad49038ca574df31213bb2",
            "9642c6b84fde417d9270b6419867009f",
            "e1afc4c287044ed9bdabac0dc8c2ac65",
            "d854e2222d464559b57114628205bb9a",
            "af84246400ac4c0294cd64f031dcf3bd",
            "3246d5617804400184f9fe37a48df4ce",
            "ecdfd55b0010482b9483bdf3b546c2e1",
            "de4bacacf0104bd3a00f9a946f51d7dd",
            "cf576a56d42a4bdf98952c9dfa17d1bd",
            "a56cc25bedd7469780669716640ac5f6",
            "e6ce9e8f85654ae2852f3d027233e613",
            "d65e1591ea764de99712b95017f4d5ab",
            "9141cc62ab7247e0b55a9dc021b0ca16",
            "5a5fa9d8780c4e0da96dde9d7a6e7aa6",
            "3c361c3af0234d7ea06c0ff6b25e4280",
            "e52996a4102c435399e5638e9678c076",
            "b6919a4ed5b6461db0e69d3d2cb56a78",
            "e9584fbb16ad4e178b5c07083ae87556",
            "6cc7a52c72bc4f9f840448d8118b6aec",
            "d763cb54f4ef4d37adc75187bb99a369",
            "d21c6b1d98c344418eb2a9fb48d788e1",
            "46915f669e454f15b18e5982d05e63e7",
            "ff854eb2168b4040acf76f0138a8c696",
            "d448fed2ebe14b728d403ab4e87253e8",
            "1bc0c8e4e8004b0287b50045df0f9ed5",
            "38765585f1f94147b2f216ad835c9dcd",
            "9114c9a309404bd8a7c9aa85d5acdaf5",
            "71baed971b6442238fdbd26cddb7c9b0",
            "55b74da2d39c4035b27fb5a0427e5ab7",
            "4be08f5f7f0d4fc2aa999d25a20b47dd",
            "c316053e9fd245618b4dbbf99933ebd0",
            "daedc763a3de4b538ce8e738d5aa1809",
            "69d47a8b91914d78897f6677474c8839",
            "9452fecf96104408af4f4a1b2768f783",
            "a251b9dd2d144c9dabffbe38b0ea5274",
            "d40508450d8d45e68129f6c9340c16e6",
            "e27038c9c96d4d09a712401be22338b5",
            "53bf7c9993674474947e25506a4f92a2",
            "02026d9ccfa742be8e6cf2b2b731a91d",
            "412d401040f541a583707888588faa82",
            "3ce38078a5c74d6fb32b7cfd49f341c2",
            "9f5380cc55e34dd18d4ce18f01ab0b8a",
            "8953c3768f8d4639a6cf61d9e7a7fafd",
            "4e3cd0d0caf3446abac077eefa299014"
          ]
        },
        "id": "hUrOGCGc2jKy",
        "outputId": "b61e3847-f800-411d-f137-37ad0f5c6fe0"
      },
      "execution_count": 16,
      "outputs": [
        {
          "output_type": "stream",
          "name": "stderr",
          "text": [
            "/usr/local/lib/python3.7/dist-packages/huggingface_hub/file_download.py:591: FutureWarning: `cached_download` is the legacy way to download files from the HF hub, please consider upgrading to `hf_hub_download`\n",
            "  FutureWarning,\n"
          ]
        },
        {
          "output_type": "display_data",
          "data": {
            "text/plain": [
              "Downloading:   0%|          | 0.00/2.24G [00:00<?, ?B/s]"
            ],
            "application/vnd.jupyter.widget-view+json": {
              "version_major": 2,
              "version_minor": 0,
              "model_id": "84638c5447ad49038ca574df31213bb2"
            }
          },
          "metadata": {}
        },
        {
          "output_type": "stream",
          "name": "stdout",
          "text": [
            "2022-10-25 15:55:16,145 loading file /root/.flair/models/ner-german-large/6b8de9edd73722050be2547acf64c037b2df833c6e8f0e88934de08385e26c1e.4b0797effcc6ebb1889d5d29784b97f0a099c1569b319d87d7c387e44e2bba48\n"
          ]
        },
        {
          "output_type": "display_data",
          "data": {
            "text/plain": [
              "Downloading:   0%|          | 0.00/616 [00:00<?, ?B/s]"
            ],
            "application/vnd.jupyter.widget-view+json": {
              "version_major": 2,
              "version_minor": 0,
              "model_id": "d65e1591ea764de99712b95017f4d5ab"
            }
          },
          "metadata": {}
        },
        {
          "output_type": "display_data",
          "data": {
            "text/plain": [
              "Downloading:   0%|          | 0.00/5.07M [00:00<?, ?B/s]"
            ],
            "application/vnd.jupyter.widget-view+json": {
              "version_major": 2,
              "version_minor": 0,
              "model_id": "ff854eb2168b4040acf76f0138a8c696"
            }
          },
          "metadata": {}
        },
        {
          "output_type": "display_data",
          "data": {
            "text/plain": [
              "Downloading:   0%|          | 0.00/9.10M [00:00<?, ?B/s]"
            ],
            "application/vnd.jupyter.widget-view+json": {
              "version_major": 2,
              "version_minor": 0,
              "model_id": "9452fecf96104408af4f4a1b2768f783"
            }
          },
          "metadata": {}
        },
        {
          "output_type": "stream",
          "name": "stdout",
          "text": [
            "2022-10-25 15:55:50,665 SequenceTagger predicts: Dictionary with 20 tags: <unk>, O, B-PER, E-PER, S-LOC, B-MISC, I-MISC, E-MISC, S-PER, B-ORG, E-ORG, S-ORG, I-ORG, B-LOC, E-LOC, S-MISC, I-PER, I-LOC, <START>, <STOP>\n"
          ]
        }
      ]
    },
    {
      "cell_type": "code",
      "source": [
        "from flair.tokenization import SegtokSentenceSplitter\n",
        "\n",
        "splitter = SegtokSentenceSplitter()"
      ],
      "metadata": {
        "id": "x3FtKdsG5rJz"
      },
      "execution_count": 25,
      "outputs": []
    },
    {
      "cell_type": "code",
      "source": [
        "sentences = splitter.split(new_texts)\n"
      ],
      "metadata": {
        "id": "DG5Gd3ew5wtr"
      },
      "execution_count": 29,
      "outputs": []
    },
    {
      "cell_type": "code",
      "source": [
        "tagger.predict(sentences)"
      ],
      "metadata": {
        "id": "jwlq3dXQ6cgk"
      },
      "execution_count": 30,
      "outputs": []
    },
    {
      "cell_type": "code",
      "source": [
        "for s in sentences:\n",
        "  for entity in s.get_spans('ner'):\n",
        "    print(entity)\n",
        "    "
      ],
      "metadata": {
        "colab": {
          "base_uri": "https://localhost:8080/"
        },
        "id": "d6yvGFNN6hqg",
        "outputId": "db6dfb50-eb04-4e5e-e348-727388bb5edd"
      },
      "execution_count": 32,
      "outputs": [
        {
          "output_type": "stream",
          "name": "stdout",
          "text": [
            "Span[1:3]: \"gregor samsa\" → PER (1.0)\n",
            "Span[0:1]: \"gregors\" → PER (1.0)\n",
            "Span[6:7]: \"gregor\" → PER (1.0)\n",
            "Span[0:1]: \"gregor\" → PER (1.0)\n",
            "Span[1:2]: \"gregor\" → PER (1.0)\n",
            "Span[0:1]: \"gregor\" → PER (1.0)\n",
            "Span[0:1]: \"gregor\" → PER (1.0)\n",
            "Span[28:29]: \"gregors\" → PER (1.0)\n",
            "Span[8:9]: \"gregor\" → PER (1.0)\n",
            "Span[1:2]: \"gregor\" → PER (1.0)\n",
            "Span[3:4]: \"gregor\" → PER (1.0)\n",
            "Span[21:22]: \"gregor\" → PER (1.0)\n",
            "Span[0:1]: \"gregor\" → PER (1.0)\n",
            "Span[9:10]: \"gregor\" → PER (0.9999)\n",
            "Span[7:8]: \"gregor\" → PER (1.0)\n",
            "Span[10:11]: \"gregor\" → PER (1.0)\n",
            "Span[18:19]: \"gregor\" → PER (1.0)\n",
            "Span[7:8]: \"gregor\" → PER (1.0)\n",
            "Span[1:2]: \"gregor\" → PER (1.0)\n",
            "Span[6:7]: \"gregor\" → PER (1.0)\n",
            "Span[0:1]: \"gregor\" → PER (1.0)\n",
            "Span[1:2]: \"gregor\" → PER (1.0)\n",
            "Span[5:6]: \"gregor\" → PER (1.0)\n",
            "Span[10:11]: \"gregor\" → PER (1.0)\n",
            "Span[0:1]: \"gregor\" → PER (1.0)\n",
            "Span[6:7]: \"gregor\" → PER (0.999)\n",
            "Span[10:11]: \"gregor\" → PER (1.0)\n",
            "Span[20:21]: \"gregor\" → PER (1.0)\n",
            "Span[1:2]: \"gregor\" → PER (1.0)\n",
            "Span[13:14]: \"samsa\" → PER (0.9956)\n",
            "Span[1:2]: \"gregor\" → PER (1.0)\n",
            "Span[25:26]: \"gregor\" → PER (1.0)\n",
            "Span[12:13]: \"gregor\" → PER (1.0)\n",
            "Span[34:35]: \"gregor\" → PER (1.0)\n",
            "Span[4:5]: \"gregor\" → PER (1.0)\n",
            "Span[1:2]: \"gregor\" → PER (1.0)\n",
            "Span[14:15]: \"gregor\" → PER (1.0)\n",
            "Span[1:2]: \"gregor\" → PER (1.0)\n",
            "Span[2:3]: \"samsa\" → PER (0.9944)\n",
            "Span[25:26]: \"samsa\" → PER (0.9999)\n",
            "Span[36:37]: \"gregor\" → PER (1.0)\n",
            "Span[19:20]: \"gregor\" → PER (1.0)\n",
            "Span[3:4]: \"gregor\" → PER (1.0)\n",
            "Span[36:37]: \"grete\" → PER (0.9899)\n",
            "Span[0:1]: \"grete\" → PER (0.9955)\n",
            "Span[2:3]: \"gregors\" → PER (1.0)\n",
            "Span[0:1]: \"gregor\" → PER (1.0)\n",
            "Span[1:2]: \"gregor\" → PER (1.0)\n",
            "Span[0:1]: \"gregor\" → PER (1.0)\n",
            "Span[0:1]: \"gregor\" → PER (1.0)\n",
            "Span[16:17]: \"gregor\" → PER (0.9997)\n",
            "Span[30:31]: \"gregor\" → PER (0.9999)\n",
            "Span[7:8]: \"gregor\" → PER (1.0)\n",
            "Span[25:26]: \"gregor\" → PER (1.0)\n",
            "Span[8:9]: \"gregor\" → PER (1.0)\n",
            "Span[0:1]: \"gregor\" → PER (1.0)\n",
            "Span[5:6]: \"gregors\" → PER (1.0)\n",
            "Span[4:5]: \"gregor\" → PER (1.0)\n",
            "Span[25:26]: \"gregors\" → PER (1.0)\n",
            "Span[34:35]: \"gregor\" → PER (1.0)\n",
            "Span[1:2]: \"gregors\" → PER (1.0)\n",
            "Span[10:11]: \"gregor\" → PER (0.9999)\n",
            "Span[0:1]: \"gregor\" → PER (1.0)\n",
            "Span[10:11]: \"gregor\" → PER (1.0)\n",
            "Span[1:2]: \"gregor\" → PER (1.0)\n",
            "Span[13:14]: \"gregors\" → PER (1.0)\n",
            "Span[6:7]: \"gregor\" → PER (1.0)\n",
            "Span[5:6]: \"gregor\" → PER (1.0)\n",
            "Span[50:51]: \"gregor\" → PER (1.0)\n",
            "Span[6:7]: \"gregor\" → PER (1.0)\n",
            "Span[1:2]: \"gregor\" → PER (1.0)\n",
            "Span[0:1]: \"gregor\" → PER (1.0)\n",
            "Span[18:19]: \"gregor\" → PER (1.0)\n",
            "Span[42:43]: \"gregor\" → PER (1.0)\n",
            "Span[2:3]: \"gregors\" → PER (1.0)\n",
            "Span[1:2]: \"gregor\" → PER (1.0)\n",
            "Span[1:2]: \"gregor\" → PER (1.0)\n",
            "Span[2:3]: \"gregor\" → PER (1.0)\n",
            "Span[0:1]: \"gregor\" → PER (1.0)\n",
            "Span[13:14]: \"gregor\" → PER (1.0)\n",
            "Span[5:6]: \"gregor\" → PER (1.0)\n",
            "Span[6:7]: \"gregor\" → PER (1.0)\n",
            "Span[7:8]: \"gregor\" → PER (1.0)\n",
            "Span[14:15]: \"gregor\" → PER (1.0)\n",
            "Span[27:28]: \"gregor\" → PER (1.0)\n",
            "Span[3:4]: \"gregor\" → PER (1.0)\n",
            "Span[12:13]: \"gregor\" → PER (1.0)\n",
            "Span[31:32]: \"schwester\" → PER (0.9988)\n",
            "Span[4:5]: \"gregor\" → PER (1.0)\n",
            "Span[8:9]: \"gregor\" → PER (1.0)\n",
            "Span[5:6]: \"gregor\" → PER (1.0)\n",
            "Span[0:1]: \"gregor\" → PER (1.0)\n",
            "Span[22:23]: \"gregor\" → PER (1.0)\n",
            "Span[6:7]: \"gregor\" → PER (1.0)\n",
            "Span[7:8]: \"gregor\" → PER (1.0)\n",
            "Span[0:1]: \"gregor\" → PER (1.0)\n",
            "Span[0:1]: \"gregor\" → PER (1.0)\n",
            "Span[21:22]: \"gregor\" → PER (1.0)\n",
            "Span[4:5]: \"gregor\" → PER (1.0)\n",
            "Span[5:6]: \"gregor\" → PER (1.0)\n",
            "Span[16:17]: \"gregor\" → PER (1.0)\n",
            "Span[0:1]: \"gregors\" → PER (1.0)\n",
            "Span[5:6]: \"gregor\" → PER (1.0)\n",
            "Span[3:4]: \"gregor\" → PER (1.0)\n",
            "Span[4:5]: \"gregor\" → PER (0.9999)\n",
            "Span[11:12]: \"gregor\" → PER (1.0)\n",
            "Span[15:16]: \"gregor\" → PER (1.0)\n",
            "Span[7:8]: \"gregor\" → PER (1.0)\n",
            "Span[31:32]: \"gregor\" → PER (1.0)\n",
            "Span[2:3]: \"gregor\" → PER (1.0)\n",
            "Span[7:8]: \"gregor\" → PER (1.0)\n",
            "Span[16:17]: \"gregor\" → PER (1.0)\n",
            "Span[0:1]: \"gregors\" → PER (1.0)\n",
            "Span[15:16]: \"gregor\" → PER (1.0)\n",
            "Span[8:9]: \"gregor\" → PER (1.0)\n",
            "Span[2:3]: \"gregor\" → PER (1.0)\n",
            "Span[12:13]: \"gregor\" → PER (1.0)\n",
            "Span[3:4]: \"gregors\" → PER (1.0)\n",
            "Span[25:26]: \"gregor\" → PER (1.0)\n",
            "Span[0:1]: \"gregor\" → PER (1.0)\n",
            "Span[3:4]: \"gregor\" → PER (1.0)\n",
            "Span[9:10]: \"gulden\" → MISC (1.0)\n",
            "Span[0:1]: \"gregor\" → PER (1.0)\n",
            "Span[9:10]: \"gregor\" → PER (1.0)\n",
            "Span[1:2]: \"gregor\" → PER (1.0)\n",
            "Span[2:3]: \"schwester\" → PER (0.9277)\n",
            "Span[20:21]: \"gregor\" → PER (1.0)\n",
            "Span[16:17]: \"gregors\" → PER (1.0)\n",
            "Span[4:5]: \"gregor\" → PER (1.0)\n",
            "Span[25:26]: \"gregor\" → PER (1.0)\n",
            "Span[6:7]: \"gregors\" → PER (1.0)\n",
            "Span[16:17]: \"gregors\" → PER (1.0)\n",
            "Span[25:26]: \"gregor\" → PER (1.0)\n",
            "Span[2:3]: \"gregor\" → PER (1.0)\n",
            "Span[31:32]: \"gregor\" → PER (1.0)\n",
            "Span[0:1]: \"gregor\" → PER (1.0)\n",
            "Span[12:13]: \"gregors\" → PER (1.0)\n",
            "Span[28:29]: \"gregor\" → PER (1.0)\n",
            "Span[8:9]: \"gregors\" → PER (0.9999)\n",
            "Span[25:26]: \"gregor\" → PER (1.0)\n",
            "Span[5:6]: \"gregor\" → PER (1.0)\n",
            "Span[16:17]: \"gregor\" → PER (1.0)\n",
            "Span[9:10]: \"gregor\" → PER (1.0)\n",
            "Span[7:8]: \"gregor\" → PER (1.0)\n",
            "Span[2:3]: \"gregors\" → PER (1.0)\n",
            "Span[2:3]: \"gregor\" → PER (1.0)\n",
            "Span[24:25]: \"gregor\" → PER (1.0)\n",
            "Span[2:3]: \"korper\" → PER (0.9475)\n",
            "Span[7:8]: \"gregor\" → PER (1.0)\n",
            "Span[22:23]: \"gregor\" → PER (0.9993)\n",
            "Span[10:11]: \"gregors\" → PER (0.9998)\n",
            "Span[3:4]: \"schwester\" → PER (0.8073)\n",
            "Span[0:1]: \"gregor\" → PER (1.0)\n",
            "Span[1:2]: \"grosster\" → PER (0.6187)\n",
            "Span[0:1]: \"gregor\" → PER (1.0)\n",
            "Span[0:1]: \"gregor\" → PER (1.0)\n",
            "Span[22:23]: \"gregor\" → PER (0.9997)\n",
            "Span[31:32]: \"gregor\" → PER (0.9998)\n",
            "Span[15:16]: \"gregor\" → PER (1.0)\n",
            "Span[16:17]: \"gregor\" → PER (1.0)\n",
            "Span[15:16]: \"gregor\" → PER (1.0)\n",
            "Span[31:32]: \"gregor\" → PER (1.0)\n",
            "Span[15:16]: \"gregors\" → PER (1.0)\n",
            "Span[17:18]: \"gregor\" → PER (1.0)\n",
            "Span[17:18]: \"gregors\" → PER (1.0)\n",
            "Span[3:4]: \"gregor\" → PER (1.0)\n",
            "Span[4:5]: \"gregor\" → PER (1.0)\n",
            "Span[11:12]: \"gregor\" → PER (1.0)\n",
            "Span[2:3]: \"gregors\" → PER (1.0)\n",
            "Span[11:12]: \"gregor\" → PER (1.0)\n",
            "Span[7:8]: \"grete\" → PER (1.0)\n",
            "Span[1:2]: \"gregor\" → PER (1.0)\n",
            "Span[4:5]: \"gregor\" → PER (1.0)\n",
            "Span[7:8]: \"grete\" → PER (0.9982)\n",
            "Span[6:7]: \"grete\" → PER (1.0)\n",
            "Span[14:15]: \"gregors\" → PER (1.0)\n",
            "Span[31:32]: \"gregor\" → PER (1.0)\n",
            "Span[1:2]: \"grete\" → PER (1.0)\n",
            "Span[1:2]: \"gretes\" → PER (1.0)\n",
            "Span[25:26]: \"gregor\" → PER (1.0)\n",
            "Span[3:4]: \"gregor\" → PER (1.0)\n",
            "Span[13:14]: \"gregor\" → PER (0.9999)\n",
            "Span[60:61]: \"gregor\" → PER (1.0)\n",
            "Span[69:70]: \"grete\" → PER (0.9998)\n",
            "Span[86:87]: \"tur\" → PER (0.9969)\n",
            "Span[90:91]: \"gregor\" → PER (0.9999)\n",
            "Span[100:101]: \"tur\" → PER (0.9933)\n",
            "Span[5:6]: \"gregor\" → PER (1.0)\n",
            "Span[8:9]: \"grete\" → PER (0.9998)\n",
            "Span[7:8]: \"gretes\" → PER (0.9998)\n",
            "Span[0:1]: \"grete\" → PER (1.0)\n",
            "Span[0:1]: \"gregor\" → PER (1.0)\n",
            "Span[21:22]: \"gregor\" → PER (1.0)\n",
            "Span[25:26]: \"gretes\" → PER (0.9999)\n",
            "Span[32:33]: \"gregor\" → PER (0.9999)\n",
            "Span[2:3]: \"gregor\" → PER (1.0)\n",
            "Span[16:17]: \"gregor\" → PER (1.0)\n",
            "Span[7:8]: \"tone\" → PER (1.0)\n",
            "Span[0:1]: \"gregor\" → PER (1.0)\n",
            "Span[10:11]: \"gregor\" → PER (0.9999)\n",
            "Span[43:44]: \"gregor\" → PER (0.9998)\n",
            "Span[28:29]: \"gregor\" → PER (1.0)\n",
            "Span[43:44]: \"gregor\" → PER (1.0)\n",
            "Span[2:3]: \"gregor\" → PER (1.0)\n",
            "Span[2:3]: \"gregor\" → PER (1.0)\n",
            "Span[8:9]: \"gregor\" → PER (1.0)\n",
            "Span[5:6]: \"gregors\" → PER (1.0)\n",
            "Span[17:18]: \"gregors\" → PER (1.0)\n",
            "Span[21:22]: \"gregor\" → PER (1.0)\n",
            "Span[44:45]: \"gregors\" → PER (1.0)\n",
            "Span[52:53]: \"gregors\" → PER (0.9999)\n",
            "Span[3:4]: \"gregors\" → PER (1.0)\n",
            "Span[27:28]: \"gregor\" → PER (1.0)\n",
            "Span[1:2]: \"gregor\" → PER (1.0)\n",
            "Span[7:8]: \"gregor\" → PER (1.0)\n",
            "Span[12:13]: \"gregor\" → PER (1.0)\n",
            "Span[6:7]: \"gregor\" → PER (1.0)\n",
            "Span[19:20]: \"gregor\" → PER (1.0)\n",
            "Span[15:16]: \"gregor\" → PER (1.0)\n",
            "Span[1:2]: \"gregor\" → PER (1.0)\n",
            "Span[4:5]: \"gregor\" → PER (1.0)\n",
            "Span[34:35]: \"gregors\" → PER (1.0)\n",
            "Span[46:47]: \"grete\" → PER (0.9999)\n",
            "Span[48:49]: \"gregor\" → PER (1.0)\n",
            "Span[4:5]: \"gregor\" → PER (1.0)\n",
            "Span[5:6]: \"gregor\" → PER (1.0)\n",
            "Span[24:25]: \"gregors\" → PER (1.0)\n",
            "Span[4:5]: \"gregor\" → PER (1.0)\n",
            "Span[15:16]: \"gregors\" → PER (1.0)\n",
            "Span[2:3]: \"gregors\" → PER (1.0)\n",
            "Span[17:18]: \"gregor\" → PER (1.0)\n",
            "Span[5:6]: \"gregors\" → PER (1.0)\n",
            "Span[50:51]: \"gregors\" → PER (0.9998)\n",
            "Span[63:64]: \"gregors\" → PER (1.0)\n",
            "Span[89:90]: \"gregor\" → PER (1.0)\n",
            "Span[10:11]: \"gregor\" → PER (1.0)\n",
            "Span[21:22]: \"gregor\" → PER (1.0)\n",
            "Span[18:19]: \"gregor\" → PER (1.0)\n",
            "Span[7:8]: \"gregors\" → PER (1.0)\n",
            "Span[11:12]: \"gregors\" → PER (1.0)\n",
            "Span[11:12]: \"gregor\" → PER (1.0)\n",
            "Span[27:28]: \"gregor\" → PER (1.0)\n",
            "Span[16:17]: \"gregor\" → PER (1.0)\n",
            "Span[30:31]: \"gregors\" → PER (1.0)\n",
            "Span[8:9]: \"gregor\" → PER (1.0)\n",
            "Span[0:1]: \"gregor\" → PER (1.0)\n",
            "Span[8:9]: \"gregor\" → PER (1.0)\n",
            "Span[2:3]: \"gregors\" → PER (1.0)\n",
            "Span[17:18]: \"gregors\" → PER (1.0)\n",
            "Span[20:21]: \"gregor\" → PER (1.0)\n",
            "Span[23:24]: \"gregor\" → PER (1.0)\n",
            "Span[14:15]: \"gregor\" → PER (1.0)\n",
            "Span[10:11]: \"gregor\" → PER (1.0)\n",
            "Span[2:3]: \"tur\" → PER (0.8462)\n",
            "Span[2:3]: \"gregor\" → PER (1.0)\n",
            "Span[12:13]: \"gregor\" → PER (1.0)\n",
            "Span[6:7]: \"gregor\" → PER (1.0)\n",
            "Span[10:11]: \"gregor\" → PER (1.0)\n",
            "Span[0:1]: \"gregor\" → PER (1.0)\n",
            "Span[0:1]: \"gregor\" → PER (1.0)\n",
            "Span[7:8]: \"gregor\" → PER (1.0)\n",
            "Span[2:3]: \"samsa\" → PER (0.9999)\n",
            "Span[17:18]: \"gregor\" → PER (1.0)\n",
            "Span[11:12]: \"gregor\" → PER (1.0)\n",
            "Span[7:8]: \"gregor\" → PER (1.0)\n",
            "Span[17:18]: \"gregor\" → PER (1.0)\n",
            "Span[10:11]: \"gregor\" → PER (1.0)\n",
            "Span[17:18]: \"gregor\" → PER (1.0)\n",
            "Span[15:16]: \"turklinke\" → PER (0.7594)\n",
            "Span[0:1]: \"gregor\" → PER (1.0)\n",
            "Span[7:8]: \"gregor\" → PER (1.0)\n",
            "Span[1:2]: \"gregor\" → PER (1.0)\n",
            "Span[1:2]: \"gregor\" → PER (1.0)\n",
            "Span[16:17]: \"gregor\" → PER (1.0)\n",
            "Span[34:35]: \"gregors\" → PER (1.0)\n",
            "Span[1:2]: \"gregor\" → PER (1.0)\n",
            "Span[8:9]: \"gregor\" → PER (1.0)\n",
            "Span[5:6]: \"tur\" → PER (0.9725)\n",
            "Span[4:5]: \"gregor\" → PER (1.0)\n",
            "Span[8:9]: \"gregor\" → PER (1.0)\n",
            "Span[5:6]: \"gregor\" → PER (1.0)\n",
            "Span[36:37]: \"gregor\" → PER (1.0)\n",
            "Span[21:22]: \"gregor\" → PER (1.0)\n",
            "Span[8:9]: \"gregor\" → PER (1.0)\n",
            "Span[4:5]: \"samsa\" → PER (1.0)\n",
            "Span[12:13]: \"samsa\" → PER (1.0)\n",
            "Span[18:19]: \"samsa\" → PER (1.0)\n",
            "Span[24:25]: \"gregors\" → PER (1.0)\n",
            "Span[5:6]: \"grete\" → PER (1.0)\n",
            "Span[5:6]: \"samsa\" → PER (1.0)\n",
            "Span[8:9]: \"gregors\" → PER (1.0)\n",
            "Span[1:2]: \"samsa\" → PER (0.9998)\n",
            "Span[5:6]: \"samsa\" → PER (1.0)\n",
            "Span[0:1]: \"grete\" → PER (1.0)\n",
            "Span[7:8]: \"gregors\" → PER (1.0)\n",
            "Span[3:4]: \"grete\" → PER (0.9997)\n",
            "Span[10:11]: \"samsa\" → PER (1.0)\n",
            "Span[14:15]: \"grete\" → PER (0.9998)\n",
            "Span[11:12]: \"gregors\" → PER (1.0)\n",
            "Span[14:15]: \"gregors\" → PER (1.0)\n",
            "Span[6:7]: \"samsa\" → PER (1.0)\n",
            "Span[4:5]: \"grete\" → PER (1.0)\n",
            "Span[8:9]: \"samsa\" → PER (0.9995)\n",
            "Span[9:10]: \"samsa\" → PER (1.0)\n",
            "Span[8:9]: \"samsa\" → PER (1.0)\n",
            "Span[1:2]: \"samsa\" → PER (1.0)\n",
            "Span[34:35]: \"samsa\" → PER (1.0)\n",
            "Span[10:11]: \"samsa\" → PER (1.0)\n",
            "Span[49:50]: \"samsa\" → PER (0.9999)\n",
            "Span[65:66]: \"samsa\" → PER (1.0)\n",
            "Span[8:9]: \"samsa\" → PER (0.9993)\n",
            "Span[12:13]: \"samsa\" → PER (1.0)\n",
            "Span[5:6]: \"samsa\" → PER (1.0)\n",
            "Span[8:9]: \"samsa\" → PER (0.9995)\n",
            "Span[7:8]: \"samsa\" → PER (1.0)\n",
            "Span[5:6]: \"samsa\" → PER (0.9804)\n",
            "Span[6:7]: \"grete\" → PER (0.8961)\n",
            "Span[15:16]: \"samsa\" → PER (0.9999)\n",
            "Span[6:7]: \"samsa\" → PER (1.0)\n",
            "Span[1:2]: \"samsa\" → PER (1.0)\n",
            "Span[24:25]: \"gregor\" → PER (0.9998)\n",
            "Span[6:7]: \"samsa\" → PER (1.0)\n"
          ]
        }
      ]
    },
    {
      "cell_type": "code",
      "source": [
        "print(sentences)"
      ],
      "metadata": {
        "colab": {
          "base_uri": "https://localhost:8080/"
        },
        "id": "2mcamC163bR9",
        "outputId": "f4a3bdf5-10ce-40d5-d192-9579f81ac72c"
      },
      "execution_count": 27,
      "outputs": [
        {
          "output_type": "stream",
          "name": "stdout",
          "text": [
            "[Sentence: \"als gregor samsa morgens unruhigen traumen erwachte , fand bett ungeheueren ungeziefer verwandelt .\" → [\"gregor samsa\"/PER], Sentence: \"er lag panzerartig harten rucken sah , kopf wenig hob , gewolbten , braunen , bogenformigen versteifungen geteilten bauch , hohe bettdecke , ganzlichen niedergleiten bereit , kaum erhalten konnte .\", Sentence: \"seine vielen , vergleich sonstigen umfang klaglich dunnen beine flimmerten hilflos augen .\", Sentence: \"» was geschehen ?« dachte er. es traum .\", Sentence: \"sein zimmer , richtiges , kleines menschenzimmer , lag ruhig vier wohlbekannten wanden .\", Sentence: \"uber tisch , auseinandergepackte musterkollektion tuchwaren ausgebreitet -- samsa reisender -- , hing bild , kurzem illustrierten zeitschrift ausgeschnitten hubschen , vergoldeten rahmen untergebracht hatte .\", Sentence: \"es stellte dame dar , die , pelzhut pelzboa versehen , aufrecht dasass schweren pelzmuff , ganzer unterarm verschwunden war , beschauer entgegenhob .\", Sentence: \"gregors blick richtete fenster , trube wetter -- horte regentropfen fensterblech aufschlagen -- machte ganz melancholisch .\" → [\"gregors\"/PER], Sentence: \"» wie ware es , wenig weiterschliefe narrheiten vergasse ,« dachte er , ganzlich undurchfuhrbar , gewohnt , rechten seite schlafen , konnte gegenwartigen zustand lage bringen .\", Sentence: \"mit kraft rechte seite warf , immer schaukelte ruckenlage zuruck .\", Sentence: \"er versuchte wohl hundertmal , schloss augen , zappelnden beine sehen mussen , liess erst ab , seite nie gefuhlten , leichten , dumpfen schmerz fuhlen begann .\", Sentence: \"» ach gott ,« dachte er , » was anstrengenden beruf gewahlt !\", Sentence: \"tag aus , tag reise .\", Sentence: \"die geschaftlichen aufregungen grosser , eigentlichen geschaft hause , ausserdem plage reisens auferlegt , sorgen zuganschlusse , unregelmassige , schlechte essen , immer wechselnder , nie andauernder , nie herzlich werdender menschlicher verkehr .\", Sentence: \"der teufel holen !« er fuhlte leichtes jucken oben bauch ; schob rucken langsam naher bettpfosten , kopf besser heben konnen ; fand juckende stelle , lauter kleinen weissen punktchen besetzt war , beurteilen verstand ; bein stelle betasten , zog gleich zuruck , beruhrung umwehten kalteschauer .\", Sentence: \"er glitt fruhere lage zuruck .\", Sentence: \"» dies fruhzeitige aufstehen « , dachte er , » macht ganz blodsinnig .\", Sentence: \"der mensch muss schlaf haben .\", Sentence: \"andere reisende leben haremsfrauen .\", Sentence: \"wenn beispiel laufe vormittags gasthaus zuruckgehe , erlangten auftrage uberschreiben , sitzen herren erst beim fruhstuck .\", Sentence: \"das chef versuchen ; stelle hinausfliegen .\", Sentence: \"wer weiss ubrigens , gut ware .\", Sentence: \"wenn wegen eltern zuruckhielte , hatte langst gekundigt , ware chef hingetreten hatte meinung grund herzens gesagt .\", Sentence: \"vom pult hatte fallen mussen !\", Sentence: \"es sonderbare art , pult setzen hohe herab angestellten reden , uberdies wegen schwerhorigkeit chefs ganz nahe herantreten muss .\", Sentence: \"nun , hoffnung ganzlich aufgegeben , geld beisammen , schuld eltern abzuzahlen -- durfte funf sechs jahre dauern -- , mache sache unbedingt .\", Sentence: \"dann grosse schnitt gemacht .\", Sentence: \"vorlaufig allerdings muss aufstehen , zug fahrt funf. « und sah weckuhr hinuber , kasten tickte .\", Sentence: \"» himmlischer vater !« dachte er , es halb sieben uhr , zeiger gingen ruhig vorwarts , sogar halb voruber , naherte schon dreiviertel .\", Sentence: \"sollte wecker gelautet haben ?\", Sentence: \"man sah bett aus , vier uhr richtig eingestellt war ; gewiss gelautet .\", Sentence: \"ja , moglich , mobelerschutternde lauten ruhig verschlafen ?\", Sentence: \"nun , ruhig ja geschlafen , wahrscheinlich desto fester. was tun ?\", Sentence: \"der nachste zug ging sieben uhr ; einzuholen , hatte unsinnig beeilen mussen , kollektion eingepackt , fuhlte durchaus besonders frisch beweglich .\", Sentence: \"und zug einholte , donnerwetter chefs vermeiden , geschaftsdiener beim funfuhrzug gewartet meldung versaumnis langst erstattet .\", Sentence: \"es kreatur chefs , ruckgrat verstand .\", Sentence: \"wie nun , krank meldete ?\", Sentence: \"das ware ausserst peinlich verdachtig , gregor funfjahrigen dienstes krank gewesen .\" → [\"gregor\"/PER], Sentence: \"gewiss chef krankenkassenarzt kommen , eltern wegen faulen sohnes vorwurfe einwande hinweis krankenkassenarzt abschneiden , ja uberhaupt ganz gesunde , arbeitsscheue menschen gibt .\", Sentence: \"und hatte ubrigens falle ganz unrecht ?\", Sentence: \"gregor fuhlte tatsachlich , abgesehen langen schlaf wirklich uberflussigen schlafrigkeit , ganz wohl sogar besonders kraftigen hunger .\" → [\"gregor\"/PER], Sentence: \"als grosster eile uberlegte , entschliessen konnen , bett verlassen -- gerade schlug wecker dreiviertel sieben -- klopfte vorsichtig tur kopfende bettes .\", Sentence: \"» gregor ,« rief -- mutter -- , » es dreiviertel sieben .\" → [\"gregor\"/PER], Sentence: \"wolltest wegfahren ?« die sanfte stimme !\", Sentence: \"gregor erschrak , antwortende stimme horte , wohl unverkennbar fruhere war , aber , unten her , unterdruckendes , schmerzliches piepsen mischte , worte formlich ersten augenblick deutlichkeit beliess , nachklang derart zerstoren , wusste , recht gehort hatte .\" → [\"gregor\"/PER], Sentence: \"gregor ausfuhrlich antworten erklaren wollen , beschrankte umstanden darauf , sagen : » ja , ja , danke , mutter , stehe schon auf. « infolge holztur veranderung gregors stimme draussen wohl merken , mutter beruhigte erklarung schlurfte davon .\" → [\"gregor\"/PER, \"gregors\"/PER], Sentence: \"aber kleine gesprach familienmitglieder darauf aufmerksam geworden , gregor wider erwarten hause war , schon klopfte seitentur vater , schwach , faust .\" → [\"gregor\"/PER], Sentence: \"» gregor , gregor ,« rief er , » was denn ?« und kleinen weile mahnte nochmals tieferer stimme : » gregor !\" → [\"gregor\"/PER, \"gregor\"/PER, \"gregor\"/PER], Sentence: \"gregor !« an seitentur klagte leise schwester : » gregor ?\" → [\"gregor\"/PER, \"gregor\"/PER], Sentence: \"ist wohl ?\", Sentence: \"brauchst etwas ?« nach beiden seiten antwortete gregor : » bin schon fertig ,« bemuhte sich , sorgfaltigste aussprache einschaltung langen pausen einzelnen worten stimme auffallende nehmen .\" → [\"gregor\"/PER], Sentence: \"der vater kehrte fruhstuck zuruck , schwester flusterte : » gregor , mach auf , beschwore dich. « gregor dachte gar daran aufzumachen , lobte reisen her ubernommene vorsicht , hause turen nacht versperren .\" → [\"gregor\"/PER, \"gregor\"/PER], Sentence: \"zunachst ruhig ungestort aufstehen , anziehen fruhstucken , erst weitere uberlegen , denn , merkte wohl , bett nachdenken vernunftigen ende kommen .\", Sentence: \"er erinnerte sich , schon ofters bett irgendeinen vielleicht ungeschicktes liegen erzeugten , leichten schmerz empfunden haben , beim aufstehen reine einbildung herausstellte , gespannt , heutigen vorstellungen allmahlich auflosen wurden .\", Sentence: \"dass veranderung stimme vorbote tuchtigen verkuhlung , berufskrankheit reisenden , daran zweifelte geringsten .\", Sentence: \"die decke abzuwerfen ganz einfach ; brauchte wenig aufzublasen fiel selbst .\", Sentence: \"aber weiterhin wurde schwierig , besonders ungemein breit war .\", Sentence: \"er hatte arme hande gebraucht , aufzurichten ; statt vielen beinchen , ununterbrochen verschiedensten bewegung uberdies beherrschen konnte .\", Sentence: \"wollte einknicken , erste , streckte ; gelang endlich , bein auszufuhren , wollte , arbeiteten inzwischen anderen , freigelassen , hochster , schmerzlicher aufregung .\", Sentence: \"» nur bett unnutz aufhalten ,« sagte gregor .\" → [\"gregor\"/PER], Sentence: \"zuerst unteren teil korpers bett hinauskommen , untere teil , ubrigens gesehen rechte vorstellung konnte , erwies schwer beweglich ; ging langsam ; schliesslich , fast wild geworden , gesammelter kraft , rucksicht vorwartsstiess , richtung falsch gewahlt , schlug unteren bettpfosten heftig an , brennende schmerz , empfand , belehrte ihn , gerade untere teil korpers augenblicklich vielleicht empfindlichste war .\", Sentence: \"er versuchte daher , zuerst oberkorper bett bekommen , drehte vorsichtig kopf bettrand zu. dies gelang leicht , trotz breite schwere folgte schliesslich korpermasse langsam wendung kopfes .\", Sentence: \"aber kopf endlich ausserhalb bettes freien luft hielt , bekam angst , weise vorzurucken , schliesslich fallen liess , musste geradezu wunder geschehen kopf verletzt sollte .\", Sentence: \"und besinnung durfte gerade preis verlieren ; lieber bett bleiben .\", Sentence: \"aber gleicher muhe aufseufzend dalag fruher , beinchen womoglich arger gegeneinander kampfen sah moglichkeit fand , willkur ruhe ordnung bringen , sagte wieder , unmoglich bett bleiben konne vernunftigste sei , opfern , kleinste hoffnung bestunde , dadurch bett befreien .\", Sentence: \"gleichzeitig vergass nicht , zwischendurch daran erinnern , besser verzweifelte entschlusse ruhige ruhigste uberlegung sei .\", Sentence: \"in augenblicken richtete augen moglichst scharf fenster , leider anblick morgennebels , sogar seite engen strasse verhullte , wenig zuversicht munterkeit holen .\", Sentence: \"» schon sieben uhr ,« sagte beim neuerlichen schlagen weckers , » schon sieben uhr immer nebel. « und weilchen lang lag ruhig schwachem atem , erwarte vielleicht volligen stille wiederkehr wirklichen selbstverstandlichen verhaltnisse .\", Sentence: \"dann sagte sich : » ehe einviertel acht schlagt , muss unbedingt bett vollstandig verlassen haben .\", Sentence: \"im ubrigen dahin jemand geschaft kommen , fragen , geschaft sieben uhr geoffnet. « und machte daran , korper ganzen lange vollstandig gleichmassig bett hinauszuschaukeln .\", Sentence: \"wenn weise bett fallen liess , blieb kopf , beim fall scharf heben wollte , voraussichtlich unverletzt .\", Sentence: \"der rucken schien hart sein ; wohl fall teppich geschehen .\", Sentence: \"das grosste bedenken machte rucksicht lauten krach , geben musste wahrscheinlich turen schrecken , besorgnisse erregen wurde .\", Sentence: \"das musste gewagt werden .\", Sentence: \"als gregor schon halfte bette ragte -- neue methode mehr spiel anstrengung , brauchte immer ruckweise schaukeln -- , fiel ein , einfach ware , hilfe kame .\" → [\"gregor\"/PER], Sentence: \"zwei starke leute -- dachte vater dienstmadchen -- hatten vollstandig genugt ; hatten arme gewolbten rucken schieben , bett schalen , last niederbeugen bloss vorsichtig dulden mussen , uberschwung fussboden vollzog , beinchen hoffentlich sinn bekommen wurden .\", Sentence: \"nun , ganz abgesehen davon , turen versperrt waren , hatte wirklich hilfe rufen sollen ?\", Sentence: \"trotz not konnte gedanken lacheln unterdrucken .\", Sentence: \"schon weit , starkerem schaukeln kaum gleichgewicht erhielt , bald musste endgultig entscheiden , funf minuten einviertel acht , -- wohnungstur lautete .\", Sentence: \"» das jemand geschaft ,« sagte erstarrte fast , beinchen desto eiliger tanzten .\", Sentence: \"einen augenblick blieb still .\", Sentence: \"» sie offnen nicht ,« sagte gregor , befangen irgendeiner unsinnigen hoffnung .\" → [\"gregor\"/PER], Sentence: \"aber ging naturlich immer dienstmadchen festen schrittes tur offnete .\", Sentence: \"gregor brauchte erste grusswort besuchers horen wusste schon , wer -- prokurist selbst .\" → [\"gregor\"/PER], Sentence: \"warum gregor verurteilt , firma dienen , kleinsten versaumnis gleich grossten verdacht fasste ?\" → [\"gregor\"/PER], Sentence: \"waren angestellten samt sonders lumpen , gab treuen ergebenen menschen , den , paar morgenstunden geschaft ausgenutzt hatte , gewissensbissen narrisch wurde geradezu imstande war , bett verlassen ?\", Sentence: \"genugte wirklich nicht , lehrjungen nachfragen lassen -- uberhaupt fragerei notig -- , musste prokurist kommen , musste dadurch ganzen unschuldigen familie gezeigt werden , untersuchung verdachtigen angelegenheit verstand prokuristen anvertraut konnte ?\", Sentence: \"und mehr infolge erregung , gregor uberlegungen versetzt wurde , infolge richtigen entschlusses , schwang macht bett .\" → [\"gregor\"/PER], Sentence: \"es gab lauten schlag , eigentlicher krach nicht .\", Sentence: \"ein wenig wurde fall teppich abgeschwacht , rucken elastischer , gregor gedacht hatte , daher kam gar auffallende dumpfe klang .\" → [\"gregor\"/PER], Sentence: \"nur kopf vorsichtig genug gehalten angeschlagen ; drehte rieb teppich arger schmerz .\", Sentence: \"» da drin gefallen ,« sagte prokurist nebenzimmer links .\", Sentence: \"gregor suchte vorzustellen , prokuristen ahnliches passieren konnte , heute ihm ; moglichkeit musste eigentlich zugeben .\" → [\"gregor\"/PER], Sentence: \"aber rohen antwort frage machte prokurist nebenzimmer paar bestimmte schritte liess lackstiefel knarren .\", Sentence: \"aus nebenzimmer rechts flusterte schwester , gregor verstandigen : » gregor , prokurist da. « » ich weiss ,« sagte gregor hin ; laut , schwester hatte horen konnen , wagte stimme erheben .\" → [\"gregor\"/PER, \"gregor\"/PER, \"gregor\"/PER], Sentence: \"» gregor ,« sagte vater nebenzimmer links , » der herr prokurist gekommen erkundigt sich , warum fruhzug weggefahren bist .\" → [\"gregor\"/PER], Sentence: \"wir wissen nicht , sagen sollen .\", Sentence: \"ubrigens personlich sprechen .\", Sentence: \"also bitte mach tur auf .\", Sentence: \"er unordnung zimmer entschuldigen schon gute haben. « » guten morgen , herr samsa ,« rief prokurist freundlich dazwischen .\" → [\"samsa\"/PER], Sentence: \"» ihm wohl ,« sagte mutter prokuristen , vater tur redete , » ihm wohl , glauben sie mir , herr prokurist .\", Sentence: \"wie gregor zug versaumen !\" → [\"gregor\"/PER], Sentence: \"der junge ja kopf geschaft .\", Sentence: \"ich argere schon fast , abends niemals ausgeht ; acht tage stadt , abend hause .\", Sentence: \"da sitzt tisch liest still zeitung studiert fahrplane .\", Sentence: \"es schon zerstreuung ihn , laubsagearbeiten beschaftigt .\", Sentence: \"da beispiel laufe zwei , drei abenden kleinen rahmen geschnitzt ; sie staunen , hubsch ist ; hangt drin zimmer ; sie gleich sehen , gregor aufmacht .\" → [\"gregor\"/PER], Sentence: \"ich ubrigens glucklich , sie sind , herr prokurist ; allein hatten gregor gebracht , tur offnen ; hartnackig ; bestimmt wohl , trotzdem morgen geleugnet hat. « » ich komme gleich ,« sagte gregor langsam bedachtig ruhrte nicht , wort gesprache verlieren .\" → [\"gregor\"/PER, \"gregor\"/PER], Sentence: \"» anders , gnadige frau , erklaren ,« sagte prokurist , » hoffentlich ernstes .\", Sentence: \"wenn andererseits sagen muss , geschaftsleute -- will , leider glucklicherweise -- leichtes unwohlsein oft geschaftlichen rucksichten einfach uberwinden mussen. « » also herr prokurist schon hinein ?« fragte ungeduldige vater klopfte wiederum tur .\", Sentence: \"» nein ,« sagte gregor .\" → [\"gregor\"/PER], Sentence: \"im nebenzimmer links trat peinliche stille ein , nebenzimmer rechts begann schwester schluchzen .\", Sentence: \"warum ging schwester anderen ?\", Sentence: \"sie wohl erst bett aufgestanden gar angefangen anzuziehen .\", Sentence: \"und warum weinte denn ?\", Sentence: \"weil aufstand prokuristen hereinliess , gefahr war , posten verlieren chef eltern alten forderungen verfolgen wurde ?\", Sentence: \"das vorlaufig wohl unnotige sorgen .\", Sentence: \"noch gregor dachte geringsten daran , familie verlassen .\" → [\"gregor\"/PER], Sentence: \"augenblicklich lag wohl teppich , niemand , zustand gekannt hatte , hatte ernst verlangt , prokuristen hereinlasse .\", Sentence: \"aber wegen kleinen unhoflichkeit , ja spater leicht passende ausrede finden wurde , konnte gregor gut sofort weggeschickt werden .\" → [\"gregor\"/PER], Sentence: \"und gregor schien es , vernunftiger ware , ruhe lassen , statt weinen zureden storen .\" → [\"gregor\"/PER], Sentence: \"aber eben ungewissheit , bedrangte benehmen entschuldigte .\", Sentence: \"» herr samsa ,« rief prokurist erhobener stimme , » was los ?\" → [\"samsa\"/PER], Sentence: \"sie verbarrikadieren ihrem zimmer , antworten bloss ja nein , ihren eltern schwere , unnotige sorgen versaumen -- nebenbei erwahnt -- ihre geschaftlichen pflichten eigentlich unerhorten weise .\", Sentence: \"ich spreche namen ihrer eltern ihres chefs bitte sie ganz ernsthaft augenblickliche , deutliche erklarung .\", Sentence: \"ich staune , staune .\", Sentence: \"ich glaubte sie ruhigen , vernunftigen menschen kennen , scheinen sie plotzlich anfangen wollen , sonderbaren launen paradieren .\", Sentence: \"der chef deutete heute fruh mogliche erklarung ihre versaumnis -- betraf ihnen seit kurzem anvertraute inkasso -- , legte wahrhaftig fast ehrenwort dafur ein , erklarung zutreffen konne .\", Sentence: \"nun sehe ihren unbegreiflichen starrsinn verliere ganz gar lust , geringsten sie einzusetzen .\", Sentence: \"und ihre stellung durchaus festeste .\", Sentence: \"ich ursprunglich absicht , ihnen vier augen sagen , sie nutzlos zeit versaumen lassen , weiss nicht , warum ihre herren eltern erfahren sollen .\", Sentence: \"ihre leistungen letzten zeit unbefriedigend ; jahreszeit , besondere geschafte machen , erkennen an ; jahreszeit , geschafte machen , gibt uberhaupt nicht , herr samsa , darf geben. « » aber herr prokurist ,« rief gregor ausser vergass aufregung andere , » ich mache ja sofort , augenblicklich auf .\" → [\"samsa\"/PER, \"gregor\"/PER], Sentence: \"ein leichtes unwohlsein , schwindelanfall , verhindert aufzustehen .\", Sentence: \"ich liege bett .\", Sentence: \"jetzt schon ganz frisch .\", Sentence: \"eben steige bett .\", Sentence: \"nur kleinen augenblick geduld !\", Sentence: \"es geht gut , dachte .\", Sentence: \"es schon wohl .\", Sentence: \"wie menschen uberfallen kann !\", Sentence: \"noch gestern abend ganz gut , eltern wissen ja , besser , schon gestern abend kleine vorahnung .\", Sentence: \"man hatte ansehen mussen .\", Sentence: \"warum geschafte gemeldet !\", Sentence: \"aber denkt eben immer , krankheit zuhausebleiben uberstehen wird .\", Sentence: \"herr prokurist !\", Sentence: \"schonen sie eltern !\", Sentence: \"fur vorwurfe , sie machen , ja grund ; ja davon wort gesagt .\", Sentence: \"sie vielleicht letzten auftrage , geschickt habe , gelesen .\", Sentence: \"ubrigens , achtuhrzug fahre reise , paar stunden ruhe gekraftigt .\", Sentence: \"halten sie auf , herr prokurist ; gleich geschaft , sie gute , sagen herrn chef empfehlen !« und gregor hastig ausstiess kaum wusste , sprach , leicht , wohl infolge bett bereits erlangten ubung , kasten genahert versuchte nun , aufzurichten .\" → [\"gregor\"/PER], Sentence: \"er tatsachlich tur aufmachen , tatsachlich sehen lassen prokuristen sprechen ; begierig erfahren , anderen , verlangten , anblick sagen wurden .\", Sentence: \"wurden erschrecken , gregor verantwortung mehr konnte ruhig sein .\" → [\"gregor\"/PER], Sentence: \"wurden ruhig hinnehmen , grund aufzuregen , konnte , beeilte , acht uhr tatsachlich bahnhof sein .\", Sentence: \"zuerst glitt einigemale glatten kasten ab , endlich gab letzten schwung stand aufrecht da ; schmerzen unterleib achtete gar mehr , brannten .\", Sentence: \"nun liess rucklehne nahen stuhles fallen , deren randern beinchen festhielt .\", Sentence: \"damit herrschaft erlangt verstummte , konnte prokuristen anhoren .\", Sentence: \"» haben sie wort verstanden ?« fragte prokurist eltern , » er macht wohl narren uns ?« » um gottes willen ,« rief mutter schon weinen , » er vielleicht schwer krank , qualen ihn . grete !\" → [\"grete\"/PER], Sentence: \"grete !« schrie dann .\" → [\"grete\"/PER], Sentence: \"» mutter ?« rief schwester seite .\", Sentence: \"sie verstandigten gregors zimmer .\" → [\"gregors\"/PER], Sentence: \"» du musst augenblicklich arzt .\", Sentence: \"gregor krank .\" → [\"gregor\"/PER], Sentence: \"rasch arzt .\", Sentence: \"hast gregor reden horen ?« » das tierstimme ,« sagte prokurist , auffallend leise gegenuber schreien mutter .\" → [\"gregor\"/PER], Sentence: \"» anna !\", Sentence: \"anna !« rief vater vorzimmer kuche klatschte hande , » sofort schlosser holen !« und schon liefen zwei madchen rauschenden rocken vorzimmer -- schwester schnell angezogen ?\", Sentence: \"-- rissen wohnungsture auf .\", Sentence: \"man horte gar ture zuschlagen ; wohl offen gelassen , wohnungen pflegt , denen grosses ungluck geschehen ist .\", Sentence: \"gregor ruhiger geworden .\" → [\"gregor\"/PER], Sentence: \"man verstand worte mehr , trotzdem genug klar , klarer fruher , vorgekommen waren , vielleicht infolge gewohnung ohres .\", Sentence: \"aber immerhin glaubte schon daran , ganz ordnung war , bereit , helfen .\", Sentence: \"die zuversicht sicherheit , womit ersten anordnungen getroffen worden waren , taten wohl .\", Sentence: \"er fuhlte einbezogen menschlichen kreis erhoffte beiden , arzt schlosser , eigentlich genau scheiden , grossartige uberraschende leistungen .\", Sentence: \"um nahernden entscheidenden besprechungen moglichst klare stimme bekommen , hustete wenig ab , allerdings bemuht , ganz gedampft tun , moglicherweise schon gerausch menschlicher husten klang , entscheiden mehr getraute .\", Sentence: \"im nebenzimmer inzwischen ganz still geworden .\", Sentence: \"vielleicht sassen eltern prokuristen beim tisch tuschelten , vielleicht lehnten ture horchten .\", Sentence: \"gregor schob langsam sessel tur hin , liess los , warf tur , hielt aufrecht -- ballen beinchen wenig klebstoff -- ruhte augenblick lang anstrengung aus .\" → [\"gregor\"/PER], Sentence: \"dann machte daran , mund schlussel schloss umzudrehen .\", Sentence: \"es schien leider , eigentlichen zahne hatte , -- womit gleich schlussel fassen ?\", Sentence: \"-- dafur kiefer freilich stark , hilfe brachte wirklich schlussel bewegung achtete darauf , zweifellos irgendeinen schaden zufugte , braune flussigkeit kam mund , floss schlussel tropfte boden .\", Sentence: \"» horen sie nur ,« sagte prokurist nebenzimmer , » er dreht schlussel um. « das gregor grosse aufmunterung ; hatten zurufen sollen , vater mutter : » frisch , gregor ,« hatten rufen sollen , » immer heran , fest schloss heran !« und vorstellung , bemuhungen spannung verfolgten , verbiss allem , kraft aufbringen konnte , besinnungslos schlussel .\" → [\"gregor\"/PER, \"gregor\"/PER], Sentence: \"je fortschreiten drehung schlussels umtanzte schloss , hielt munde aufrecht , je bedarf hing schlussel druckte nieder ganzen last korpers .\", Sentence: \"der hellere klang endlich zuruckschnappenden schlosses erweckte gregor formlich .\" → [\"gregor\"/PER], Sentence: \"aufatmend sagte sich : » ich schlosser gebraucht ,« legte kopf klinke , ture ganzlich offnen .\", Sentence: \"da ture weise offnen musste , eigentlich schon recht weit geoffnet , sehen .\", Sentence: \"er musste erst langsam turflugel herumdrehen , vorsichtig , gerade eintritt zimmer plump rucken fallen wollte .\", Sentence: \"er schwierigen bewegung beschaftigt zeit , achten , horte schon prokuristen lautes » oh !« ausstossen -- klang , wind saust -- sah auch , er , nachste ture war , hand offenen mund druckte langsam zuruckwich , vertreibe unsichtbare , gleichmassig fortwirkende kraft .\", Sentence: \"die mutter -- stand trotz anwesenheit prokuristen nacht her aufgelosten , hoch straubenden haaren -- sah zuerst gefalteten handen vater an , ging zwei schritte gregor fiel inmitten rings herum ausbreitenden rocke nieder , gesicht ganz unauffindbar brust gesenkt .\" → [\"gregor\"/PER], Sentence: \"der vater ballte feindseligem ausdruck faust , wolle gregor zimmer zuruckstossen , sah unsicher wohnzimmer um , beschattete handen augen weinte , machtige brust schuttelte .\" → [\"gregor\"/PER], Sentence: \"gregor trat gar zimmer , lehnte innen festgeriegelten turflugel , leib halfte daruber seitlich geneigte kopf sehen war , hinuberlugte .\" → [\"gregor\"/PER], Sentence: \"es inzwischen heller geworden ; klar stand strassenseite ausschnitt gegenuberliegenden , endlosen , grauschwarzen hauses -- krankenhaus -- hart front durchbrechenden regelmassigen fenstern ; regen fiel nieder , grossen , einzeln sichtbaren formlich einzelnweise erde hinuntergeworfenen tropfen .\", Sentence: \"das fruhstucksgeschirr stand uberreicher zahl tisch , vater fruhstuck wichtigste mahlzeit tages , lekture verschiedener zeitungen stundenlang hinzog .\", Sentence: \"gerade gegenuberliegenden wand hing photographie gregors militarzeit , leutnant darstellte , er , hand degen , sorglos lachelnd , respekt haltung uniform verlangte .\" → [\"gregors\"/PER], Sentence: \"die tur vorzimmer geoffnet , sah , wohnungstur offen war , vorplatz wohnung hinaus beginn abwarts fuhrenden treppe .\", Sentence: \"» nun ,« sagte gregor wohl bewusst , einzige war , ruhe bewahrt hatte , » ich gleich anziehen , kollektion zusammenpacken wegfahren .\" → [\"gregor\"/PER], Sentence: \"wollt ihr , wollt wegfahren lassen ?\", Sentence: \"nun , herr prokurist , sie sehen , starrkopfig arbeite gern ; reisen beschwerlich , reisen leben .\", Sentence: \"wohin gehen sie denn , herr prokurist ?\", Sentence: \"ins geschaft ?\", Sentence: \"ja ?\", Sentence: \"werden sie wahrheitsgetreu berichten ?\", Sentence: \"man augenblick unfahig arbeiten , gerade richtige zeitpunkt , fruheren leistungen erinnern bedenken , spater , beseitigung hindernisses , gewiss desto fleissiger gesammelter arbeiten wird .\", Sentence: \"ich ja herrn chef verpflichtet , wissen sie recht gut .\", Sentence: \"andererseits sorge eltern schwester .\", Sentence: \"ich klemme , herausarbeiten .\", Sentence: \"machen sie schwieriger , schon ist .\", Sentence: \"halten sie geschaft partei !\", Sentence: \"man liebt reisenden nicht , weiss .\", Sentence: \"man denkt , verdient heidengeld fuhrt dabei schones leben .\", Sentence: \"man eben besondere veranlassung , vorurteil besser durchdenken .\", Sentence: \"sie aber , herr prokurist , sie besseren uberblick verhaltnisse , sonstige personal , ja sogar , ganz vertrauen gesagt , besseren uberblick , herr chef selbst , eigenschaft unternehmer urteil leicht zuungunsten angestellten beirren lasst .\", Sentence: \"sie wissen wohl , reisende , fast ganze jahr ausserhalb geschaftes ist , leicht opfer klatschereien , zufalligkeiten grundlosen beschwerden kann , wehren ganz unmoglich ist , meistens gar erfahrt dann , erschopft reise beendet hat , hause schlimmen , ursachen mehr durchschauenden folgen eigenen leibe spuren bekommt .\", Sentence: \"herr prokurist , gehen sie weg , wort gesagt haben , zeigt , sie wenigstens kleinen teil recht geben !« aber prokurist schon ersten worten gregors abgewendet , zuckende schulter hinweg sah aufgeworfenen lippen gregor zuruck .\" → [\"gregors\"/PER, \"gregor\"/PER], Sentence: \"und gregors rede stand augenblick still , verzog sich , gregor augen lassen , tur , ganz allmahlich , bestehe geheimes verbot , zimmer verlassen .\" → [\"gregors\"/PER, \"gregor\"/PER], Sentence: \"schon vorzimmer , plotzlichen bewegung , letztenmal fuss wohnzimmer zog , hatte glauben konnen , soeben sohle verbrannt .\", Sentence: \"im vorzimmer streckte rechte hand weit treppe hin , warte geradezu uberirdische erlosung .\", Sentence: \"gregor sah ein , prokuristen stimmung fall weggehen lassen durfe , dadurch stellung geschaft aufs ausserste gefahrdet sollte .\" → [\"gregor\"/PER], Sentence: \"die eltern verstanden gut ; langen jahren uberzeugung gebildet , gregor geschaft leben versorgt war , ausserdem augenblicklichen sorgen tun , voraussicht abhanden gekommen war .\" → [\"gregor\"/PER], Sentence: \"aber gregor voraussicht .\" → [\"gregor\"/PER], Sentence: \"der prokurist musste gehalten , beruhigt , uberzeugt schliesslich gewonnen werden ; zukunft gregors familie hing davon ab !\" → [\"gregors\"/PER], Sentence: \"ware schwester gewesen !\", Sentence: \"sie klug ; schon geweint , gregor ruhig rucken lag .\" → [\"gregor\"/PER], Sentence: \"und gewiss hatte prokurist , damenfreund , lenken lassen ; hatte wohnungstur zugemacht vorzimmer schrecken ausgeredet .\", Sentence: \"aber schwester eben da , gregor musste handeln .\" → [\"gregor\"/PER], Sentence: \"und daran denken , gegenwartigen fahigkeiten , bewegen , gar kannte , daran denken , rede moglicher - ja wahrscheinlicherweise verstanden worden war , verliess turflugel ; schob offnung ; prokuristen hingehen , schon gelander vorplatzes lacherlicherweise beiden handen festhielt ; fiel sofort , halt suchend , kleinen schrei vielen beinchen nieder .\", Sentence: \"kaum geschehen , fuhlte erstenmal morgen korperliches wohlbehagen ; beinchen festen boden sich ; gehorchten vollkommen , freude merkte ; strebten sogar darnach , fortzutragen , wohin wollte ; schon glaubte er , endgultige besserung leidens stehe unmittelbar bevor .\", Sentence: \"aber gleichen augenblick , schaukelnd verhaltener bewegung , gar weit mutter entfernt , gerade gegenuber boden lag , sprang diese , ganz versunken schien , einemmale hohe , arme weit ausgestreckt , finger gespreizt , rief : » hilfe , gottes willen hilfe !« , hielt kopf geneigt , wolle gregor besser sehen , lief aber , widerspruch dazu , sinnlos zuruck ; vergessen , gedeckte tisch stand ; setzte sich , angekommen war , zerstreutheit , eilig ihn , schien gar merken , neben umgeworfenen grossen kanne kaffee vollem strome teppich ergoss .\" → [\"gregor\"/PER], Sentence: \"» mutter , mutter ,« sagte gregor leise sah hinauf .\" → [\"gregor\"/PER], Sentence: \"der prokurist augenblick ganz sinn gekommen ; dagegen konnte versagen , anblick fliessenden kaffees mehrmals kiefern leere schnappen .\", Sentence: \"daruber schrie mutter neuerdings auf , fluchtete tisch fiel entgegeneilenden vater arme .\", Sentence: \"aber gregor zeit eltern ; prokurist schon treppe ; kinn gelander , sah letzten male zuruck .\" → [\"gregor\"/PER], Sentence: \"gregor nahm anlauf , moglichst sicher einzuholen ; prokurist musste ahnen , machte sprung mehrere stufen verschwand ; » huh !« schrie noch , klang durchs ganze treppenhaus .\" → [\"gregor\"/PER], Sentence: \"leider schien flucht prokuristen vater , bisher verhaltnismassig gefasst war , vollig verwirren , statt prokuristen nachzulaufen wenigstens gregor verfolgung hindern , packte rechten stock prokuristen , hut uberzieher sessel zuruckgelassen hatte , holte linken grosse zeitung tisch machte fussestampfen daran , gregor schwenken stockes zeitung zimmer zuruckzutreiben .\" → [\"gregor\"/PER, \"gregor\"/PER], Sentence: \"kein bitten gregors half , bitten wurde verstanden , mochte kopf demutig drehen , vater stampfte starker fussen .\" → [\"gregors\"/PER], Sentence: \"druben mutter trotz kuhlen wetters fenster aufgerissen , hinausgelehnt druckte gesicht weit ausserhalb fensters hande .\", Sentence: \"zwischen gasse treppenhaus entstand starke zugluft , fenstervorhange flogen auf , zeitungen tische rauschten , einzelne blatter wehten boden hin .\", Sentence: \"unerbittlich drangte vater stiess zischlaute aus , wilder .\", Sentence: \"nun gregor gar ubung ruckwartsgehen , ging wirklich langsam .\" → [\"gregor\"/PER], Sentence: \"wenn gregor hatte umdrehen durfen , ware gleich zimmer gewesen , furchtete sich , vater zeitraubende umdrehung ungeduldig machen , augenblick drohte stock vaters hand todliche schlag rucken kopf .\" → [\"gregor\"/PER], Sentence: \"endlich blieb gregor ubrig , merkte entsetzen , ruckwartsgehen richtung einzuhalten verstand ; begann er , unaufhorlichen angstlichen seitenblicken vater , moglichkeit rasch , wirklichkeit langsam umzudrehen .\" → [\"gregor\"/PER], Sentence: \"vielleicht merkte vater guten willen , storte hierbei nicht , dirigierte sogar hie drehbewegung ferne spitze stockes .\", Sentence: \"wenn unertragliche zischen vaters ware !\", Sentence: \"gregor verlor daruber ganz kopf .\" → [\"gregor\"/PER], Sentence: \"er schon fast ganz umgedreht , sich , immer zischen horchend , sogar irrte stuck zuruckdrehte .\", Sentence: \"als endlich glucklich kopf turoffnung war , zeigte sich , korper breit war , weiteres durchzukommen .\", Sentence: \"dem vater fiel naturlich gegenwartigen verfassung entfernt ein , etwa turflugel offnen , gregor genugenden durchgang schaffen .\" → [\"gregor\"/PER], Sentence: \"seine fixe idee bloss , gregor rasch moglich zimmer musse .\" → [\"gregor\"/PER], Sentence: \"niemals hatte umstandlichen vorbereitungen gestattet , gregor brauchte , aufzurichten vielleicht weise tur kommen .\" → [\"gregor\"/PER], Sentence: \"vielleicht trieb er , gabe hindernis , gregor besonderem larm vorwarts ; klang schon gregor gar mehr stimme bloss einzigen vaters ; gab wirklich spass mehr , gregor drangte -- geschehe wolle -- tur .\" → [\"gregor\"/PER, \"gregor\"/PER, \"gregor\"/PER], Sentence: \"die seite korpers hob sich , lag schief turoffnung , flanke ganz wundgerieben , weissen tur blieben hassliche flecke , bald steckte fest hatte allein mehr ruhren konnen , beinchen seite hingen zitternd oben luft , schmerzhaft boden gedruckt -- gab vater hinten wahrhaftig erlosenden starken stoss , flog , heftig blutend , weit zimmer hinein .\", Sentence: \"die tur wurde stock zugeschlagen , endlich still .\", Sentence: \"erst abenddammerung erwachte gregor schweren ohnmachtahnlichen schlaf .\" → [\"gregor\"/PER], Sentence: \"er ware gewiss spater storung erwacht , fuhlte genugend ausgeruht ausgeschlafen , schien ihm , hatte fluchtiger schritt vorsichtiges schliessen vorzimmer fuhrenden tur geweckt .\", Sentence: \"der schein elektrischen strassenbahn lag bleich zimmerdecke hoheren teilen mobel , unten gregor finster .\" → [\"gregor\"/PER], Sentence: \"langsam schob sich , ungeschickt fuhlern tastend , erst schatzen lernte , ture hin , nachzusehen , geschehen war .\", Sentence: \"seine linke seite schien einzige lange , unangenehm spannende narbe , musste zwei beinreihen regelrecht hinken .\", Sentence: \"ein beinchen ubrigens laufe vormittagigen vorfalle schwer verletzt worden -- fast wunder , verletzt worden -- schleppte leblos nach .\", Sentence: \"erst tur merkte er , dorthin eigentlich gelockt hatte ; geruch essbarem gewesen .\", Sentence: \"denn stand napf susser milch gefullt , kleine schnitte weissbrot schwammen .\", Sentence: \"fast hatte freude gelacht , grosseren hunger morgen , gleich tauchte kopf fast augen milch hinein .\", Sentence: \"aber bald zog enttauscht zuruck ; nur , essen wegen heiklen linken seite schwierigkeiten machte -- konnte essen , ganze korper schnaufend mitarbeitete -- , schmeckte uberdies milch , lieblingsgetrank gewiss schwester deshalb hereingestellt hatte , gar nicht , ja wandte fast widerwillen napf ab kroch zimmermitte zuruck .\" → [\"schwester\"/PER], Sentence: \"im wohnzimmer war , gregor turspalte sah , gas angezundet , tageszeit vater nachmittags erscheinende zeitung mutter manchmal schwester erhobener stimme vorzulesen pflegte , horte laut .\" → [\"gregor\"/PER], Sentence: \"nun vielleicht vorlesen , schwester immer erzahlte schrieb , letzten zeit uberhaupt ubung gekommen .\", Sentence: \"aber ringsherum still , trotzdem gewiss wohnung leer war .\", Sentence: \"» was stilles leben familie fuhrte ,« sagte gregor fuhlte , starr dunkle sah , grossen stolz daruber , eltern schwester leben schonen wohnung verschaffen konnen .\" → [\"gregor\"/PER], Sentence: \"wie aber , ruhe , wohlstand , zufriedenheit ende schrecken nehmen sollte ?\", Sentence: \"um gedanken verlieren , setzte gregor lieber bewegung kroch zimmer ab. einmal langen abends wurde seitenture kleinen spalte geoffnet rasch geschlossen ; jemand wohl bedurfnis hereinzukommen , viele bedenken .\" → [\"gregor\"/PER], Sentence: \"gregor machte unmittelbar wohnzimmertur halt , entschlossen , zogernden besucher irgendwie hereinzubringen wenigstens erfahren , wer sei ; wurde tur mehr geoffnet gregor wartete vergebens .\" → [\"gregor\"/PER, \"gregor\"/PER], Sentence: \"fruh , turen versperrt waren , hereinkommen wollen , jetzt , tur geoffnet offenbar tages geoffnet worden waren , kam mehr , schlussel steckten aussen .\", Sentence: \"spat erst nacht wurde licht wohnzimmer ausgeloscht , leicht festzustellen , eltern schwester lange wachgeblieben waren , genau horen konnte , entfernten drei fussspitzen .\", Sentence: \"nun kam gewiss morgen niemand mehr gregor herein ; lange zeit , ungestort uberlegen , leben neu ordnen sollte .\" → [\"gregor\"/PER], Sentence: \"aber hohe freie zimmer , gezwungen war , flach boden liegen , angstigte ihn , ursache herausfinden konnte , ja seit funf jahren bewohntes zimmer -- halb unbewussten wendung leichte scham eilte kanapee , sich , trotzdem rucken wenig gedruckt wurde trotzdem kopf mehr erheben konnte , gleich behaglich fuhlte bedauerte , korper breit war , vollstandig kanapee untergebracht werden .\", Sentence: \"dort blieb ganze nacht , teil halbschlaf , hunger immer aufschreckte , verbrachte , teil sorgen undeutlichen hoffnungen , schlusse fuhrten , vorlaufig ruhig verhalten geduld grosste rucksichtnahme familie unannehmlichkeiten ertraglich musse , gegenwartigen zustand verursachen gezwungen war .\", Sentence: \"schon fruhen morgen , fast nacht , gregor gelegenheit , kraft eben gefassten entschlusse prufen , vorzimmer her offnete schwester , fast vollig angezogen , tur sah spannung herein .\" → [\"gregor\"/PER], Sentence: \"sie fand gleich , kanapee bemerkte -- gott , musste irgendwo sein , wegfliegen -- erschrak sehr , sie , beherrschen konnen , tur aussen zuschlug .\", Sentence: \"aber bereue benehmen , offnete tur sofort trat , sei schwerkranken gar fremden , fussspitzen herein .\", Sentence: \"gregor kopf knapp rande kanapees vorgeschoben beobachtete sie .\" → [\"gregor\"/PER], Sentence: \"ob wohl bemerken wurde , milch stehen gelassen hatte , keineswegs mangel hunger , speise hereinbringen wurde , besser entsprach ?\", Sentence: \"tate selbst , lieber verhungern , darauf aufmerksam machen , trotzdem eigentlich ungeheuer drangte , unterm kanapee vorzuschiessen , schwester fussen werfen irgend gutes essen bitten .\", Sentence: \"aber schwester bemerkte sofort verwunderung vollen napf , wenig milch ringsherum verschuttet war , hob gleich auf , blossen handen , fetzen , trug hinaus .\", Sentence: \"gregor ausserst neugierig , ersatze bringen wurde , machte verschiedensten gedanken daruber .\" → [\"gregor\"/PER], Sentence: \"niemals hatte erraten konnen , schwester gute wirklich tat .\", Sentence: \"sie brachte ihm , geschmack prufen , ganze auswahl , alten zeitung ausgebreitet .\", Sentence: \"da altes halbverfaultes gemuse ; knochen nachtmahl her , festgewordener weisser sauce umgeben waren ; paar rosinen mandeln ; kase , gregor zwei tagen ungeniessbar erklart hatte ; trockenes brot , butter beschmiertes brot butter beschmiertes gesalzenes brot .\" → [\"gregor\"/PER], Sentence: \"ausserdem stellte wahrscheinlich allemal gregor bestimmten napf , wasser gegossen hatte .\" → [\"gregor\"/PER], Sentence: \"und zartgefuhl , wusste , gregor essen wurde , entfernte eiligst drehte sogar schlussel um , gregor merken konne , behaglich durfe , wolle .\" → [\"gregor\"/PER, \"gregor\"/PER], Sentence: \"gregors beinchen schwirrten , essen ging .\" → [\"gregors\"/PER], Sentence: \"seine wunden mussten ubrigens schon vollstandig geheilt sein , fuhlte behinderung mehr , staunte daruber dachte daran , mehr monat messer ganz wenig finger geschnitten , wunde vorgestern genug wehgetan hatte .\", Sentence: \"» sollte weniger feingefuhl haben ?« dachte saugte schon gierig kase , speisen sofort nachdrucklich gezogen hatte .\", Sentence: \"rasch hintereinander befriedigung tranenden augen verzehrte kase , gemuse sauce ; frischen speisen dagegen schmeckten nicht , konnte geruch vertragen schleppte sogar sachen , essen wollte , stuckchen weg .\", Sentence: \"er schon langst fertig lag faul gleichen stelle , schwester zeichen , zuruckziehen solle , langsam schlussel umdrehte .\", Sentence: \"das schreckte sofort auf , trotzdem schon fast schlummerte , eilte kanapee .\", Sentence: \"aber kostete grosse selbstuberwindung , kurze zeit , schwester zimmer war , kanapee bleiben , reichlichen essen leib wenig gerundet , konnte enge kaum atmen .\", Sentence: \"unter kleinen erstickungsanfallen sah hervorgequollenen augen zu , nichtsahnende schwester besen uberbleibsel zusammenkehrte , gregor gar beruhrten speisen , seien mehr gebrauchen , hastig kubel schuttete , holzdeckel schloss , worauf hinaustrug .\", Sentence: \"kaum umgedreht , zog schon gregor kanapee hervor streckte blahte sich .\" → [\"gregor\"/PER], Sentence: \"auf weise bekam gregor taglich essen , morgen , eltern dienstmadchen schliefen , zweitemal allgemeinen mittagessen , schliefen eltern gleichfalls weilchen , dienstmadchen wurde schwester irgendeiner besorgung weggeschickt .\" → [\"gregor\"/PER], Sentence: \"gewiss wollten nicht , gregor verhungere , vielleicht hatten ertragen konnen , essen mehr horensagen erfahren , vielleicht schwester moglicherweise kleine trauer ersparen , tatsachlich litten ja gerade genug .\" → [\"gregor\"/PER], Sentence: \"mit ausreden ersten vormittag arzt schlosser wohnung geschafft hatte , konnte gregor gar erfahren , verstanden wurde , dachte niemand daran , schwester nicht , verstehen konne , musste sich , schwester zimmer war , begnugen , seufzer anrufe heiligen horen .\" → [\"gregor\"/PER], Sentence: \"erst spater , wenig gewohnt -- vollstandiger gewohnung konnte naturlich niemals rede -- , erhaschte gregor manchmal bemerkung , freundlich gemeint gedeutet konnte .\" → [\"gregor\"/PER], Sentence: \"» heute geschmeckt ,« sagte sie , gregor essen tuchtig aufgeraumt hatte , gegenteiligen fall , allmahlich immer haufiger wiederholte , fast traurig sagen pflegte : » nun stehengeblieben. « wahrend gregor unmittelbar neuigkeit erfahren konnte , erhorchte nebenzimmern , stimmen horte , lief gleich betreffenden tur druckte ganzem leib sie .\" → [\"gregor\"/PER, \"gregor\"/PER], Sentence: \"besonders ersten zeit gab gesprach , irgendwie geheimen , handelte .\", Sentence: \"zwei tage lang mahlzeiten beratungen daruber horen , verhalten solle ; mahlzeiten sprach gleiche thema , immer zumindest zwei familienmitglieder hause , wohl niemand allein hause bleiben wohnung fall ganzlich verlassen konnte .\", Sentence: \"auch dienstmadchen gleich ersten tag -- ganz klar , wieviel vorgefallenen wusste -- kniefallig mutter gebeten , sofort entlassen , viertelstunde danach verabschiedete , dankte entlassung tranen , grosste wohltat , erwiesen hatte , gab , verlangte , furchterlichen schwur ab , niemandem geringste verraten .\", Sentence: \"nun musste schwester verein mutter kochen ; allerdings machte muhe , ass fast nichts .\", Sentence: \"immer horte gregor , vergebens essen aufforderte antwort bekam , als : » danke genug « ahnliches .\" → [\"gregor\"/PER], Sentence: \"getrunken wurde vielleicht nichts .\", Sentence: \"ofters fragte schwester vater , bier wolle , herzlich erbot sich , holen , vater schwieg , sagte sie , bedenken nehmen , konne hausmeisterin darum schicken , sagte vater schliesslich grosses » nein « , wurde mehr davon gesprochen .\", Sentence: \"schon laufe ersten tages legte vater ganzen vermogensverhaltnisse aussichten sowohl mutter schwester dar .\", Sentence: \"hie stand tische holte kleinen wertheimkassa , funf jahren erfolgten zusammenbruch geschaftes gerettet hatte , irgendeinen beleg irgendein vormerkbuch .\", Sentence: \"man horte , komplizierte schloss aufsperrte entnahme gesuchten verschloss .\", Sentence: \"diese erklarungen vaters teil erste erfreuliche , gregor seit gefangenschaft horen bekam .\" → [\"gregor\"/PER], Sentence: \"er meinung gewesen , vater geschaft her geringste ubriggeblieben war , zumindest vater gegenteiliges gesagt , gregor allerdings darum gefragt .\" → [\"gregor\"/PER], Sentence: \"gregors sorge damals gewesen , daranzusetzen , familie geschaftliche ungluck , vollstandige hoffnungslosigkeit gebracht hatte , moglichst rasch vergessen lassen .\" → [\"gregors\"/PER], Sentence: \"und damals ganz besonderem feuer arbeiten angefangen fast nacht kleinen kommis reisender geworden , naturlich ganz moglichkeiten geldverdienens hatte , arbeitserfolge sofort form provision bargeld verwandelten , erstaunten begluckten familie hause tisch gelegt konnte .\", Sentence: \"es schone zeiten gewesen , niemals nachher sich , wenigstens glanze , wiederholt , trotzdem gregor spater geld verdiente , aufwand ganzen familie tragen imstande trug .\" → [\"gregor\"/PER], Sentence: \"man eben daran gewohnt , sowohl familie , gregor , nahm geld dankbar an , lieferte gern ab , besondere warme mehr ergeben .\" → [\"gregor\"/PER], Sentence: \"nur schwester gregor nahe geblieben , geheimer plan , sie , unterschied gregor musik liebte ruhrend violine spielen verstand , nachstes jahr , rucksicht grossen kosten , verursachen musste , schon weise hereinbringen wurde , konservatorium schicken .\" → [\"gregor\"/PER, \"gregor\"/PER], Sentence: \"ofters kurzen aufenthalte gregors stadt wurde gesprachen schwester konservatorium erwahnt , immer schoner traum , verwirklichung denken war , eltern horten unschuldigen erwahnungen gern ; gregor dachte bestimmt daran beabsichtigte , weihnachtsabend feierlich erklaren .\" → [\"gregors\"/PER, \"gregor\"/PER], Sentence: \"solche gegenwartigen zustand ganz nutzlose gedanken gingen kopf , aufrecht ture klebte horchte .\", Sentence: \"manchmal konnte allgemeiner mudigkeit gar mehr zuhoren liess kopf nachlassig tur schlagen , hielt sofort fest , kleine gerausch , verursacht hatte , nebenan gehort worden verstummen lassen .\", Sentence: \"» was treibt ,« sagte vater weile , offenbar ture hingewendet , erst wurde unterbrochene gesprach allmahlich aufgenommen .\", Sentence: \"gregor erfuhr genuge -- vater pflegte erklarungen ofters wiederholen , teils , dingen schon lange beschaftigt hatte , teils auch , mutter gleich beim erstenmal verstand -- , trotz unglucks allerdings ganz kleines vermogen alten zeit vorhanden war , angeruhrten zinsen zwischenzeit wenig anwachsen lassen .\" → [\"gregor\"/PER], Sentence: \"ausserdem geld , gregor allmonatlich hause gebracht -- paar gulden behalten -- , vollstandig aufgebraucht worden kleinen kapital angesammelt .\" → [\"gregor\"/PER, \"gulden\"/MISC], Sentence: \"gregor , ture , nickte eifrig , erfreut unerwartete vorsicht sparsamkeit .\" → [\"gregor\"/PER], Sentence: \"eigentlich hatte ja uberschussigen geldern schuld vaters gegenuber chef abgetragen konnen , tag , posten hatte loswerden konnen , ware weit naher gewesen , zweifellos besser so , vater eingerichtet hatte .\", Sentence: \"nun genugte geld ganz gar nicht , familie etwa zinsen leben lassen ; genugte vielleicht , familie ein , hochstens zwei jahre erhalten , mehr nicht .\", Sentence: \"es bloss summe , eigentlich angreifen durfte , notfall zuruckgelegt musste ; geld leben musste verdienen .\", Sentence: \"nun vater gesunder , alter mann , schon funf jahre gearbeitet jedenfalls zutrauen durfte ; funf jahren , ersten ferien muhevollen erfolglosen lebens waren , fett angesetzt dadurch recht schwerfallig geworden .\", Sentence: \"und alte mutter vielleicht geld verdienen , asthma litt , wanderung wohnung schon anstrengung verursachte , zweiten tag atembeschwerden sofa beim offenen fenster verbrachte ?\", Sentence: \"und schwester geld verdienen , kind siebzehn jahren , bisherige lebensweise gonnen war , daraus bestanden hatte , nett kleiden , lange schlafen , wirtschaft mitzuhelfen , paar bescheidenen vergnugungen beteiligen violine spielen ?\", Sentence: \"wenn rede notwendigkeit geldverdienens kam , liess zuerst immer gregor ture los warf neben tur befindliche kuhle ledersofa , ganz heiss beschamung trauer .\" → [\"gregor\"/PER], Sentence: \"oft lag ganzen langen nachte uber , schlief augenblick scharrte stundenlang leder .\", Sentence: \"oder scheute grosse muhe , sessel fenster schieben , fensterbrustung hinaufzukriechen und , sessel gestemmt , ans fenster lehnen , offenbar irgendeiner erinnerung befreiende , fruher darin gelegen war , fenster schauen .\", Sentence: \"denn tatsachlich sah tag tag wenig entfernten dinge immer undeutlicher ; gegenuberliegende krankenhaus , allzu haufigen anblick fruher verflucht hatte , bekam uberhaupt mehr gesicht , genau gewusst hatte , stillen , vollig stadtischen charlottenstrasse wohnte , hatte glauben konnen , fenster einode schauen graue himmel graue erde ununterscheidbar vereinigten .\", Sentence: \"nur zweimal aufmerksame schwester sehen mussen , sessel beim fenster stand , schon jedesmal , nachdem zimmer aufgeraumt hatte , sessel genau fenster hinschob , ja sogar ab inneren fensterflugel offen liess .\", Sentence: \"hatte gregor schwester sprechen danken konnen , musste , hatte dienste leichter ertragen ; litt darunter .\" → [\"gregor\"/PER, \"schwester\"/PER], Sentence: \"die schwester suchte freilich peinlichkeit ganzen moglichst verwischen , je langere zeit verging , desto besser gelang naturlich auch , gregor durchschaute zeit genauer .\" → [\"gregor\"/PER], Sentence: \"schon eintritt schrecklich .\", Sentence: \"kaum eingetreten , lief sie , zeit nehmen , ture schliessen , darauf achtete , anblick gregors zimmer ersparen , geradewegs fenster riss es , ersticke fast , hastigen handen auf , blieb auch , kalt war , weilchen beim fenster atmete tief .\" → [\"gregors\"/PER], Sentence: \"mit laufen larmen erschreckte gregor taglich zweimal ; ganze zeit zitterte kanapee wusste gut , gewiss gerne verschont hatte , moglich ware , zimmer , gregor befand , geschlossenem fenster aufzuhalten .\" → [\"gregor\"/PER, \"gregor\"/PER], Sentence: \"einmal , wohl schon monat seit gregors verwandlung vergangen , schon schwester besonderer grund mehr , gregors aussehen erstaunen geraten , kam wenig fruher traf gregor an , er , unbeweglich recht erschrecken aufgestellt , fenster schaute .\" → [\"gregors\"/PER, \"gregors\"/PER, \"gregor\"/PER], Sentence: \"es ware gregor unerwartet gewesen , eingetreten ware , stellung verhinderte , sofort fenster offnen , trat ein , fuhr sogar zuruck schloss tur ; fremder hatte geradezu denken konnen , gregor aufgelauert beissen wollen .\" → [\"gregor\"/PER, \"gregor\"/PER], Sentence: \"gregor versteckte naturlich sofort kanapee , musste mittag warten , ehe schwester wiederkam , schien unruhiger sonst .\" → [\"gregor\"/PER], Sentence: \"er erkannte daraus , anblick immer unertraglich weiterhin unertraglich bleiben musse , wohl uberwinden musste , anblick kleinen partie korpers davonzulaufen , kanapee hervorragte .\", Sentence: \"um anblick ersparen , trug tages rucken -- brauchte arbeit vier stunden -- leintuch kanapee ordnete weise an , ganzlich verdeckt war , schwester , buckte , sehen konnte .\", Sentence: \"ware leintuch meinung notig gewesen , hatte ja entfernen konnen , vergnugen gregors gehoren konnte , ganz gar abzusperren , klar genug , liess leintuch , war , gregor glaubte sogar dankbaren blick erhascht haben , kopf vorsichtig leintuch wenig luftete , nachzusehen , schwester neue einrichtung aufnahm .\" → [\"gregors\"/PER, \"gregor\"/PER], Sentence: \"in ersten vierzehn tagen konnten eltern bringen , hereinzukommen , horte oft , jetzige arbeit schwester vollig anerkannten , bisher haufig schwester geargert hatten , nutzloses madchen erschienen war .\", Sentence: \"nun warteten oft beide , vater mutter , gregors zimmer , schwester aufraumte , kaum herausgekommen , musste ganz genau erzahlen , zimmer aussah , gregor gegessen hatte , diesmal benommen hatte , vielleicht kleine besserung bemerken war .\" → [\"gregors\"/PER, \"gregor\"/PER], Sentence: \"die mutter ubrigens verhaltnismassig bald gregor besuchen , vater schwester hielten zuerst vernunftgrunden zuruck , denen gregor aufmerksam zuhorte , vollstandig billigte .\" → [\"gregor\"/PER, \"gregor\"/PER], Sentence: \"spater musste gewalt zuruckhalten , rief : » lasst gregor , ja unglucklicher sohn !\" → [\"gregor\"/PER], Sentence: \"begreift nicht , muss ?« , dachte gregor , vielleicht gut ware , mutter hereinkame , tag naturlich , vielleicht woche ; verstand besser schwester , trotz all mute kind letzten grunde vielleicht kindlichem leichtsinn schwere aufgabe ubernommen hatte .\" → [\"gregor\"/PER], Sentence: \"der wunsch gregors , mutter sehen , ging bald erfullung .\" → [\"gregors\"/PER], Sentence: \"wahrend tages gregor schon rucksicht eltern beim fenster zeigen , kriechen konnte paar quadratmetern fussbodens viel , ruhige liegen ertrug schon nacht schwer , essen machte bald mehr geringste vergnugen , nahm zerstreuung gewohnheit an , kreuz quer wande plafond kriechen .\" → [\"gregor\"/PER], Sentence: \"besonders oben decke hing gern ; ganz anders , liegen fussboden ; atmete freier ; leichtes schwingen ging korper , fast glucklichen zerstreutheit , gregor oben befand , konnte geschehen , eigenen uberraschung losliess boden klatschte .\" → [\"gregor\"/PER], Sentence: \"aber naturlich korper ganz gewalt fruher beschadigte grossen falle nicht .\" → [\"korper\"/PER], Sentence: \"die schwester bemerkte sofort neue unterhaltung , gregor gefunden -- hinterliess ja beim kriechen hie spuren klebstoffes -- , setzte kopf , gregor kriechen grosstem ausmasse ermoglichen mobel , verhinderten , kasten schreibtisch , wegzuschaffen .\" → [\"gregor\"/PER, \"gregor\"/PER], Sentence: \"nun imstande , allein tun ; vater wagte hilfe bitten ; dienstmadchen hatte ganz gewiss geholfen , etwa sechzehnjahrige madchen harrte tapfer seit entlassung fruheren kochin aus , vergunstigung gebeten , kuche unaufhorlich versperrt halten durfen besonderen anruf offnen mussen ; blieb schwester ubrig , abwesenheit vaters mutter holen .\", Sentence: \"mit ausrufen erregter freude kam mutter heran , verstummte tur gregors zimmer .\" → [\"gregors\"/PER], Sentence: \"zuerst sah naturlich schwester nach , zimmer ordnung war ; erst liess mutter eintreten .\" → [\"schwester\"/PER], Sentence: \"gregor grosster eile leintuch tiefer mehr falten gezogen , ganze sah wirklich zufallig kanapee geworfenes leintuch aus .\" → [\"gregor\"/PER, \"grosster\"/PER], Sentence: \"gregor unterliess diesmal , leintuch spionieren ; verzichtete darauf , mutter schon diesmal sehen , froh , gekommen war .\" → [\"gregor\"/PER], Sentence: \"» komm nur , sieht nicht ,« sagte schwester , offenbar fuhrte mutter hand .\", Sentence: \"gregor horte nun , zwei schwachen frauen immerhin schweren alten kasten platze ruckten , schwester immerfort grossten teil arbeit beanspruchte , warnungen mutter horen , furchtete , uberanstrengen werde .\" → [\"gregor\"/PER], Sentence: \"es dauerte lange .\", Sentence: \"wohl schon viertelstundiger arbeit sagte mutter , solle kasten lieber lassen , erstens sei schwer , ankunft vaters fertig kasten mitte zimmers gregor weg verrammeln , zweitens sei gar sicher , gregor entfernung mobel gefallen geschehe .\" → [\"gregor\"/PER, \"gregor\"/PER], Sentence: \"ihr scheine gegenteil fall sein ; bedrucke anblick leeren wand geradezu herz ; warum solle gregor empfindung haben , zimmermobel langst gewohnt sei deshalb leeren zimmer verlassen fuhlen werde .\" → [\"gregor\"/PER], Sentence: \"» und so ,« schloss mutter ganz leise , uberhaupt fast flusterte , wolle vermeiden , gregor , genauen aufenthalt ja kannte , klang stimme hore , worte verstand , davon uberzeugt , » und so , entfernung mobel zeigten , hoffnung besserung aufgeben rucksichtslos uberlassen ?\" → [\"gregor\"/PER], Sentence: \"ich glaube , ware beste , suchen zimmer genau zustand erhalten , fruher war , gregor , zuruckkommt , unverandert findet leichter zwischenzeit vergessen kann. « beim anhoren worte mutter erkannte gregor , mangel unmittelbaren menschlichen ansprache , verbunden einformigen leben inmitten familie , laufe zwei monate verstand verwirren mussen , konnte erklaren , ernsthaft darnach verlangen konnen , zimmer ausgeleert wurde .\" → [\"gregor\"/PER, \"gregor\"/PER], Sentence: \"hatte wirklich lust , warme , ererbten mobeln gemutlich ausgestattete zimmer hohle verwandeln lassen , freilich richtungen ungestort kriechen konnen , jedoch gleichzeitigem , schnellen , ganzlichen vergessen menschlichen vergangenheit ?\", Sentence: \"war schon nahe daran , vergessen , seit langem gehorte stimme mutter aufgeruttelt .\", Sentence: \"nichts entfernt werden , musste bleiben , guten einwirkungen mobel zustand konnte entbehren ; mobel hinderten , sinnlose herumkriechen betreiben , schaden , grosser vorteil .\", Sentence: \"aber schwester leider meinung ; sich , allerdings ganz unberechtigt , angewohnt , besprechung angelegenheiten gregors besonders sachverstandige gegenuber eltern aufzutreten , rat mutter schwester grund genug , entfernung kastens schreibtisches , zuerst allein gedacht hatte , entfernung samtlicher mobel , ausnahme unentbehrlichen kanapees , bestehen .\" → [\"gregors\"/PER], Sentence: \"es naturlich kindlicher trotz letzten zeit unerwartet schwer erworbene selbstvertrauen , forderung bestimmte ; tatsachlich beobachtet , gregor raum kriechen brauchte , dagegen mobel , soweit sehen konnte , geringsten benutzte .\" → [\"gregor\"/PER], Sentence: \"vielleicht spielte schwarmerische sinn madchen alters mit , gelegenheit befriedigung sucht , grete verlocken liess , lage gregors schreckenerregender wollen , mehr leisten konnen .\" → [\"gregors\"/PER], Sentence: \"denn raum , gregor ganz allein leeren wande beherrschte , wohl mensch ausser grete jemals einzutreten getrauen .\" → [\"gregor\"/PER], Sentence: \"und liess entschlusse mutter abbringen , zimmer lauter unruhe unsicher schien , bald verstummte schwester kraften beim hinausschaffen kastens half .\", Sentence: \"nun , kasten konnte gregor notfall entbehren , schon schreibtisch musste bleiben .\" → [\"gregor\"/PER], Sentence: \"und kaum frauen kasten , achzend druckten , zimmer verlassen , gregor kopf kanapee hervorstiess , sehen , vorsichtig moglichst rucksichtsvoll eingreifen konnte .\" → [\"gregor\"/PER], Sentence: \"aber ungluck gerade mutter , zuerst zuruckkehrte , grete nebenzimmer kasten umfangen hielt allein her schwang , naturlich stelle bringen .\", Sentence: \"die mutter gregors anblick gewohnt , hatte krank konnen , eilte gregor erschrocken ruckwartslauf ende kanapees , konnte mehr verhindern , leintuch vorne wenig bewegte .\" → [\"gregors\"/PER, \"gregor\"/PER], Sentence: \"das genugte , mutter aufmerksam machen .\", Sentence: \"sie stockte , stand augenblick still ging grete zuruck .\" → [\"grete\"/PER], Sentence: \"trotzdem gregor immer sagte , ja aussergewohnliches geschehe , paar mobel umgestellt wurden , wirkte doch , bald eingestehen musste , hin - hergehen frauen , kleinen zurufe , kratzen mobel boden , grosser , seiten genahrter trubel ihn , musste sich , fest kopf beine zog leib boden druckte , unweigerlich sagen , ganze lange aushalten werde .\" → [\"gregor\"/PER], Sentence: \"sie raumten zimmer aus ; nahmen alles , lieb war ; kasten , laubsage werkzeuge lagen , schon hinausgetragen ; lockerten schon boden fest eingegrabenen schreibtisch , handelsakademiker , burgerschuler , ja sogar schon volksschuler aufgaben geschrieben hatte , -- wirklich zeit mehr , guten absichten prufen , zwei frauen hatten , deren existenz ubrigens fast vergessen hatte , erschopfung arbeiteten schon stumm , horte schwere tappen fusse .\", Sentence: \"und brach hervor -- frauen stutzten gerade nebenzimmer schreibtisch , wenig verschnaufen -- , wechselte viermal richtung laufes , wusste wirklich nicht , zuerst retten sollte , sah ubrigen schon leeren wand auffallend bild lauter pelzwerk gekleideten dame hangen , kroch eilends hinauf presste glas , festhielt heissen bauch wohltat .\", Sentence: \"dieses bild wenigstens , gregor ganz verdeckte , gewiss niemand wegnehmen .\" → [\"gregor\"/PER], Sentence: \"er verdrehte kopf tur wohnzimmers , frauen ruckkehr beobachten .\", Sentence: \"sie ruhe gegonnt kamen schon wieder ; grete arm mutter gelegt trug fast .\" → [\"grete\"/PER], Sentence: \"» also nehmen jetzt ?« sagte grete sah um , da kreuzten blicke denen gregors wand .\" → [\"grete\"/PER, \"gregors\"/PER], Sentence: \"wohl infolge gegenwart mutter behielt fassung , beugte gesicht mutter , herumschauen abzuhalten , sagte , allerdings zitternd unuberlegt : » komm , lieber augenblick wohnzimmer zuruckgehen ?« die absicht gretes gregor klar , mutter sicherheit bringen wand hinunterjagen .\" → [\"gregor\"/PER], Sentence: \"nun , konnte ja immerhin versuchen !\", Sentence: \"er sass bild gab her .\", Sentence: \"lieber grete gesicht springen .\" → [\"grete\"/PER], Sentence: \"aber gretes worte mutter erst recht beunruhigt , trat seite , erblickte riesigen braunen fleck geblumten tapete , rief , ehe eigentlich bewusstsein kam , gregor war , sah , schreiender , rauher stimme : » ach gott , ach gott !« fiel ausgebreiteten armen , gebe auf , kanapee ruhrte nicht .\" → [\"gretes\"/PER, \"gregor\"/PER], Sentence: \"» du , gregor !« rief schwester erhobener faust eindringlichen blicken .\" → [\"gregor\"/PER], Sentence: \"es seit verwandlung ersten worte , unmittelbar gerichtet hatte .\", Sentence: \"sie lief nebenzimmer , irgendeine essenz holen , mutter ohnmacht wecken konnte ; gregor helfen -- rettung bildes zeit -- ; klebte fest glas musste gewalt losreissen ; lief nebenzimmer , konne schwester irgendeinen rat geben , fruherer zeit ; musste untatig stehen ; verschiedenen flaschchen kramte , erschreckte noch , umdrehte ; flasche fiel boden zerbrach ; splitter verletzte gregor gesicht , irgendeine atzende medizin umfloss ihn ; grete nahm nun , langer aufzuhalten , viele flaschchen , halten konnte , rannte mutter hinein ; tur schlug fusse zu. gregor mutter abgeschlossen , schuld vielleicht tode nahe war ; tur durfte offnen , schwester , mutter bleiben musste , verjagen ; tun , warten ; selbstvorwurfen besorgnis bedrangt , begann kriechen , uberkroch alles , wande , mobel zimmerdecke fiel endlich verzweiflung , ganze zimmer schon drehen anfing , mitten grossen tisch .\" → [\"gregor\"/PER, \"gregor\"/PER, \"grete\"/PER, \"tur\"/PER, \"gregor\"/PER, \"tur\"/PER], Sentence: \"es verging kleine weile , gregor lag matt da , ringsherum still , vielleicht gutes zeichen .\" → [\"gregor\"/PER], Sentence: \"da lautete es. das madchen naturlich kuche eingesperrt grete musste daher offnen gehen .\" → [\"grete\"/PER], Sentence: \"der vater gekommen .\", Sentence: \"» was geschehen ?« ersten worte ; gretes aussehen wohl verraten .\" → [\"gretes\"/PER], Sentence: \"grete antwortete dumpfer stimme , offenbar druckte gesicht vaters brust : » die mutter ohnmachtig , geht schon besser .\" → [\"grete\"/PER], Sentence: \"gregor ausgebrochen. « » ich ja erwartet ,« sagte vater , » ich ja immer gesagt , frauen wollt horen. « gregor klar , vater gretes allzukurze mitteilung schlecht gedeutet annahm , gregor irgendeine gewalttat zuschulden kommen lassen .\" → [\"gregor\"/PER, \"gregor\"/PER, \"gretes\"/PER, \"gregor\"/PER], Sentence: \"deshalb musste gregor vater besanftigen suchen , aufzuklaren weder zeit moglichkeit .\" → [\"gregor\"/PER], Sentence: \"und fluchtete tur zimmers druckte sie , vater beim eintritt vorzimmer her gleich sehen konne , gregor beste absicht habe , sofort zimmer zuruckzukehren , notig sei , zuruckzutreiben , tur offnen brauchte , gleich verschwinden .\" → [\"gregor\"/PER], Sentence: \"aber vater stimmung , feinheiten bemerken .\", Sentence: \"» ah !« rief gleich beim eintritt tone , sei gleichzeitig wutend froh .\" → [\"tone\"/PER], Sentence: \"gregor zog kopf tur zuruck hob vater .\" → [\"gregor\"/PER], Sentence: \"so vater wirklich vorgestellt , dastand ; allerdings letzten zeit neuartigen herumkriechen versaumt , fruher vorgange ubrigen wohnung kummern , hatte eigentlich darauf gefasst mussen , veranderte verhaltnisse anzutreffen .\", Sentence: \"trotzdem , trotzdem , vater ?\", Sentence: \"der gleiche mann , mude bett vergraben lag , fruher gregor geschaftsreise ausgeruckt war ; abenden heimkehr schlafrock lehnstuhl empfangen hatte ; gar recht imstande war , aufzustehen , zeichen freude arme gehoben hatte , seltenen gemeinsamen spaziergangen paar sonntagen jahr hochsten feiertagen gregor mutter , schon langsam gingen , immer wenig langsamer , alten mantel eingepackt , stets vorsichtig aufgesetztem kruckstock vorwarts arbeitete und , sagen wollte , fast immer stillstand begleitung versammelte ?\" → [\"gregor\"/PER, \"gregor\"/PER], Sentence: \"nun gut aufgerichtet ; straffe blaue uniform goldknopfen gekleidet , diener bankinstitute tragen ; hohen steifen kragen rockes entwickelte starkes doppelkinn ; buschigen augenbrauen drang blick schwarzen augen frisch aufmerksam hervor ; zerzauste weisse haar peinlich genauen , leuchtenden scheitelfrisur niedergekammt .\", Sentence: \"er warf mutze , goldmonogramm , wahrscheinlich bank , angebracht war , ganze zimmer bogen kanapee ging , enden langen uniformrockes zuruckgeschlagen , hande hosentaschen , verbissenem gesicht gregor zu. er wusste wohl nicht , vorhatte ; immerhin hob fusse ungewohnlich hoch , gregor staunte riesengrosse stiefelsohlen .\" → [\"gregor\"/PER, \"gregor\"/PER], Sentence: \"doch hielt dabei auf , wusste ja ersten tage neuen lebens her , vater gegenuber grosste strenge angebracht ansah .\", Sentence: \"und lief vater her , stockte , vater stehen blieb , eilte schon vorwarts , vater ruhrte .\", Sentence: \"so machten mehrmals runde zimmer , entscheidendes ereignete , ja ganze infolge langsamen tempos anschein verfolgung gehabt hatte .\", Sentence: \"deshalb blieb gregor vorlaufig fussboden , zumal furchtete , vater flucht wande plafond besondere bosheit halten .\" → [\"gregor\"/PER], Sentence: \"allerdings musste gregor sagen , sogar laufen lange aushalten wurde , vater schritt machte , musste unzahl bewegungen ausfuhren .\" → [\"gregor\"/PER], Sentence: \"atemnot begann schon bemerkbar machen , ja fruheren zeit ganz vertrauenswurdige lunge besessen hatte .\", Sentence: \"als dahintorkelte , krafte lauf sammeln , kaum augen offenhielt ; stumpfheit rettung laufen gar dachte ; fast schon vergessen hatte , wande freistanden , allerdings sorgfaltig geschnitzten mobeln voll zacken spitzen verstellt -- flog knapp neben ihm , leicht geschleudert , irgend nieder rollte her .\", Sentence: \"es apfel ; gleich flog zweiter nach ; gregor blieb schrecken stehen ; weiterlaufen nutzlos , vater entschlossen , bombardieren .\" → [\"gregor\"/PER], Sentence: \"aus obstschale kredenz taschen gefullt warf nun , vorlaufig scharf zielen , apfel apfel .\", Sentence: \"diese kleinen roten apfel rollten elektrisiert boden herum stiessen aneinander .\", Sentence: \"ein schwach geworfener apfel streifte gregors rucken , glitt unschadlich ab. ein sofort nachfliegender drang dagegen formlich gregors rucken ein ; gregor weiterschleppen , konne uberraschende unglaubliche schmerz ortswechsel vergehen ; fuhlte festgenagelt streckte vollstandiger verwirrung sinne .\" → [\"gregors\"/PER, \"gregors\"/PER, \"gregor\"/PER], Sentence: \"nur letzten blick sah noch , tur zimmers aufgerissen wurde , schreienden schwester mutter hervoreilte , hemd , schwester entkleidet , ohnmacht atemfreiheit verschaffen , mutter vater zulief weg aufgebundenen rocke boden glitten , stolpernd rocke vater eindrang umarmend , ganzlicher vereinigung -- versagte gregors sehkraft schon -- hande vaters hinterkopf schonung gregors leben bat .\" → [\"gregors\"/PER, \"gregors\"/PER], Sentence: \"die schwere verwundung gregors , monat litt -- apfel blieb , niemand entfernen wagte , sichtbares andenken fleische sitzen -- , schien vater daran erinnert haben , gregor trotz gegenwartigen traurigen ekelhaften gestalt familienglied war , feind behandeln durfte , gegenuber gebot familienpflicht war , widerwillen hinunterzuschlucken dulden , dulden .\" → [\"gregors\"/PER, \"gregor\"/PER], Sentence: \"und gregor wunde beweglichkeit wahrscheinlich immer verloren vorlaufig durchquerung zimmers alter invalide lange , lange minuten brauchte -- kriechen hohe denken -- , bekam verschlimmerung zustandes meinung vollstandig genugenden ersatz dadurch , immer abend wohnzimmertur , schon zwei stunden vorher scharf beobachten pflegte , geoffnet wurde , er , dunkel zimmers liegend , wohnzimmer unsichtbar , ganze familie beim beleuchteten tische sehen reden , gewissermassen allgemeiner erlaubnis , ganz fruher , anhoren durfte .\" → [\"gregor\"/PER], Sentence: \"freilich mehr lebhaften unterhaltungen fruheren zeiten , gregor kleinen hotelzimmern stets verlangen gedacht hatte , mude feuchte bettzeug werfen mussen .\" → [\"gregor\"/PER], Sentence: \"es ging meist still zu. der vater schlief bald nachtessen sessel ein ; mutter schwester ermahnten einander stille ; mutter nahte , weit licht vorgebeugt , feine wasche modengeschaft ; schwester , stellung verkauferin angenommen hatte , lernte abend stenographie franzosisch , vielleicht spater besseren posten erreichen .\", Sentence: \"manchmal wachte vater auf , wisse gar nicht , geschlafen habe , sagte mutter : » wie lange heute schon nahst !« schlief sofort ein , mutter schwester einander mude zulachelten .\", Sentence: \"mit art eigensinn weigerte vater , hause dieneruniform abzulegen ; schlafrock nutzlos kleiderhaken hing , schlummerte vater vollstandig angezogen platz , sei immer dienste bereit warte stimme vorgesetzten .\", Sentence: \"infolgedessen verlor gleich anfangs neue uniform trotz sorgfalt mutter schwester reinlichkeit , gregor sah oft ganze abende lang fleckige , stets geputzten goldknopfen leuchtende kleid , alte mann hochst unbequem ruhig schlief .\" → [\"gregor\"/PER], Sentence: \"sobald uhr zehn schlug , suchte mutter leise zusprache vater wecken uberreden , bett gehen , richtiger schlaf vater , sechs uhr dienst antreten musste , ausserst notig .\", Sentence: \"aber eigensinn , ihn , seitdem diener war , ergriffen hatte , bestand immer darauf , langer tisch bleiben , trotzdem regelmassig einschlief , uberdies grossten muhe bewegen , sessel bett vertauschen .\", Sentence: \"da mochten mutter schwester kleinen ermahnungen eindringen , viertelstundenlang schuttelte langsam kopf , hielt augen geschlossen stand auf .\", Sentence: \"die mutter zupfte armel , sagte schmeichelworte ohr , schwester verliess aufgabe , mutter helfen , beim vater verfing nicht .\", Sentence: \"er versank tiefer sessel .\", Sentence: \"erst frauen achseln fassten , schlug augen auf , sah abwechselnd mutter schwester pflegte sagen : » das leben .\", Sentence: \"das ruhe alten tage. « und beiden frauen gestutzt , erhob sich , umstandlich , sei grosste last , liess frauen ture fuhren , winkte ab ging selbstandig weiter , mutter nahzeug , schwester feder eiligst hinwarfen , vater laufen behilflich sein .\", Sentence: \"wer abgearbeiteten ubermudeten familie zeit , gregor mehr kummern , unbedingt notig war ?\" → [\"gregor\"/PER], Sentence: \"der haushalt wurde immer mehr eingeschrankt ; dienstmadchen wurde entlassen ; riesige knochige bedienerin weissem , kopf umflatterndem haar kam morgens abends , schwerste arbeit leisten ; besorgte mutter neben vielen naharbeit .\", Sentence: \"es geschah sogar , verschiedene familienschmuckstucke , fruher mutter schwester uberglucklich unterhaltungen feierlichkeiten getragen hatten , verkauft wurden , gregor abend allgemeinen besprechung erzielten preise erfuhr .\" → [\"gregor\"/PER], Sentence: \"die grosste klage stets , gegenwartigen verhaltnisse allzugrosse wohnung verlassen konnte , auszudenken war , gregor ubersiedeln sollte .\" → [\"gregor\"/PER], Sentence: \"aber gregor sah wohl ein , rucksicht war , ubersiedlung verhinderte , hatte passenden kiste paar luftlochern leicht transportieren konnen ; familie hauptsachlich wohnungswechsel abhielt , vielmehr vollige hoffnungslosigkeit gedanke daran , ungluck geschlagen war , niemand ganzen verwandten - bekanntenkreis. was welt armen leuten verlangt , erfullten aussersten , vater holte kleinen bankbeamten fruhstuck , mutter opferte wasche fremder leute , schwester lief befehl kunden pulte her , reichten krafte familie schon nicht .\" → [\"gregor\"/PER], Sentence: \"und wunde rucken fing gregor neu schmerzen an , mutter schwester , nachdem vater bett gebracht hatten , zuruckkehrten , arbeit liegen liessen , nahe zusammenruckten , schon wange wange sassen ; mutter , gregors zimmer zeigend , sagte : » mach ' tur zu , grete ,« gregor dunkel war , nebenan frauen tranen vermischten gar tranenlos tisch anstarrten .\" → [\"gregor\"/PER, \"gregors\"/PER, \"grete\"/PER, \"gregor\"/PER], Sentence: \"die nachte tage verbrachte gregor fast ganz schlaf .\" → [\"gregor\"/PER], Sentence: \"manchmal dachte daran , beim nachsten offnen tur angelegenheiten familie ganz fruher hand nehmen ; gedanken erschienen langer zeit chef prokurist , kommis lehrjungen , begriffsstutzige hausknecht , zwei drei freunde geschaften , stubenmadchen hotel provinz , liebe , fluchtige erinnerung , kassiererin hutgeschaft , ernsthaft , langsam beworben -- erschienen untermischt fremden schon vergessenen , statt familie helfen , samtlich unzuganglich , froh , verschwanden .\", Sentence: \"dann gar laune , familie sorgen , bloss wut schlechte wartung erfullte ihn , trotzdem vorstellen konnte , worauf appetit gehabt hatte , machte plane , speisekammer gelangen konnte , nehmen , ihm , hunger hatte , immerhin gebuhrte .\", Sentence: \"ohne mehr nachzudenken , womit gregor besonderen gefallen konnte , schob schwester eiligst , ehe morgens mittags geschaft lief , fuss irgendeine beliebige speise gregors zimmer hinein , abend , gleichgultig dagegen , speise vielleicht gekostet -- haufigste fall -- ganzlich unberuhrt war , schwenken besens hinauszukehren .\" → [\"gregor\"/PER, \"gregors\"/PER], Sentence: \"das aufraumen zimmers , immer abends besorgte , konnte gar mehr schneller getan sein .\", Sentence: \"schmutzstreifen zogen wande entlang , hie lagen knauel staub unrat .\", Sentence: \"in ersten zeit stellte gregor ankunft schwester derartige besonders bezeichnende winkel , stellung gewissermassen vorwurf machen .\" → [\"gregor\"/PER], Sentence: \"aber hatte wohl wochenlang bleiben konnen , schwester gebessert hatte ; sah ja schmutz genau er , eben entschlossen , lassen .\", Sentence: \"dabei wachte ganz neuen empfindlichkeit , uberhaupt ganze familie ergriffen hatte , daruber , aufraumen gregors zimmer vorbehalten blieb .\" → [\"gregors\"/PER], Sentence: \"einmal mutter gregors zimmer grossen reinigung unterzogen , verbrauch kubel wasser gelungen -- viele feuchtigkeit krankte allerdings gregor lag breit , verbittert unbeweglich kanapee -- , strafe blieb mutter aus .\" → [\"gregors\"/PER, \"gregor\"/PER], Sentence: \"denn kaum abend schwester veranderung gregors zimmer bemerkt , sie , aufs hochste beleidigt , wohnzimmer lief und , trotz beschworend erhobenen hande mutter , weinkrampf ausbrach , eltern -- vater naturlich sessel aufgeschreckt worden -- zuerst erstaunt hilflos zusahen ; ruhren anfingen ; vater rechts mutter vorwurfe machte , gregors zimmer schwester reinigung uberliess ; links dagegen schwester anschrie , niemals mehr gregors zimmer reinigen durfen ; mutter vater , erregung mehr kannte , schlafzimmer schleppen suchte ; schwester , schluchzen geschuttelt , kleinen fausten tisch bearbeitete ; gregor laut wut daruber zischte , einfiel , tur schliessen anblick larm ersparen .\" → [\"gregors\"/PER, \"gregors\"/PER, \"gregors\"/PER, \"gregor\"/PER], Sentence: \"aber schwester , erschopft berufsarbeit , uberdrussig geworden war , gregor , fruher , sorgen , hatte keineswegs mutter eintreten mussen gregor hatte vernachlassigt brauchen .\" → [\"gregor\"/PER, \"gregor\"/PER], Sentence: \"denn bedienerin da. diese alte witwe , langen leben hilfe starken knochenbaues argste uberstanden mochte , eigentlichen abscheu gregor .\" → [\"gregor\"/PER], Sentence: \"ohne irgendwie neugierig sein , zufallig tur gregors zimmer aufgemacht anblick gregors , der , ganzlich uberrascht , trotzdem niemand jagte , hin - herzulaufen begann , hande schoss gefaltet staunend stehen geblieben .\" → [\"gregors\"/PER, \"gregors\"/PER], Sentence: \"seitdem versaumte nicht , stets fluchtig morgens abends tur wenig offnen gregor hineinzuschauen .\" → [\"gregor\"/PER], Sentence: \"anfangs rief herbei , worten , wahrscheinlich freundlich hielt , » komm mal heruber , alter mistkafer !« » seht mal alten mistkafer !« auf ansprachen antwortete gregor nichts , blieb unbeweglich platz , sei tur gar geoffnet worden .\" → [\"gregor\"/PER], Sentence: \"hatte bedienerin , statt laune nutzlos storen lassen , lieber befehl gegeben , zimmer taglich reinigen !\", Sentence: \"einmal fruhen morgen -- heftiger regen , vielleicht schon zeichen kommenden fruhjahrs , schlug scheiben -- gregor , bedienerin redensarten begann , derartig erbittert , er , angriff , allerdings langsam hinfallig , wendete .\" → [\"gregor\"/PER], Sentence: \"die bedienerin aber , statt furchten , hob bloss nahe tur befindlichen stuhl hoch empor , gross geoffnetem munde dastand , absicht klar , mund erst schliessen , sessel hand gregors rucken niederschlagen wurde .\" → [\"gregors\"/PER], Sentence: \"» also geht nicht ?« fragte sie , gregor umdrehte , stellte sessel ruhig ecke zuruck .\" → [\"gregor\"/PER], Sentence: \"gregor ass fast gar mehr .\" → [\"gregor\"/PER], Sentence: \"nur zufallig vorbereiteten speise voruberkam , nahm spiel bissen mund , hielt stundenlang spie meist aus .\", Sentence: \"zuerst dachte er , sei trauer zustand zimmers , essen abhalte , gerade veranderungen zimmers sohnte bald aus .\", Sentence: \"man angewohnt , dinge , anderswo unterbringen konnte , zimmer hineinzustellen , dinge gab viele , zimmer wohnung drei zimmerherren vermietet hatte .\", Sentence: \"diese ernsten herren , -- drei vollbarte , gregor turspalte feststellte -- peinlich ordnung , zimmer , sondern , eingemietet hatten , ganzen wirtschaft , insbesondere kuche , bedacht .\" → [\"gregor\"/PER], Sentence: \"unnutzen gar schmutzigen kram ertrugen nicht .\", Sentence: \"uberdies grossten teil eigenen einrichtungsstucke mitgebracht .\", Sentence: \"aus grunde viele dinge uberflussig geworden , verkauflich waren , wegwerfen wollte .\", Sentence: \"alle wanderten gregors zimmer .\" → [\"gregors\"/PER], Sentence: \"ebenso aschenkiste abfallkiste kuche. was augenblick unbrauchbar war , schleuderte bedienerin , immer eilig hatte , einfach gregors zimmer ; gregor sah glucklicherweise meist betreffenden gegenstand hand , hielt .\" → [\"gregors\"/PER, \"gregor\"/PER], Sentence: \"die bedienerin vielleicht absicht , zeit gelegenheit dinge holen insgesamt einemmal hinauszuwerfen , tatsachlich blieben liegen , wohin ersten wurf gekommen waren , gregor rumpelzeug wand bewegung brachte , zuerst gezwungen , sonstiger platz kriechen frei war , spater wachsendem vergnugen , obwohl wanderungen , sterben mude traurig , stundenlang ruhrte .\" → [\"gregor\"/PER], Sentence: \"da zimmerherren manchmal abendessen hause gemeinsamen wohnzimmer einnahmen , blieb wohnzimmertur abenden geschlossen , gregor verzichtete ganz leicht offnen tur , schon abende , denen geoffnet war , ausgenutzt , war , familie merkte , dunkelsten winkel zimmers gelegen .\" → [\"gregor\"/PER], Sentence: \"einmal bedienerin tur wohnzimmer wenig offen gelassen , blieb offen , zimmerherren abend eintraten licht gemacht wurde .\", Sentence: \"sie setzten oben tisch , fruheren zeiten vater , mutter gregor gesessen hatten , entfalteten servietten nahmen messer gabel hand .\" → [\"gregor\"/PER], Sentence: \"sofort erschien tur mutter schussel fleisch knapp schwester schussel hochgeschichteter kartoffeln .\" → [\"tur\"/PER], Sentence: \"das essen dampfte starkem rauch .\", Sentence: \"die zimmerherren beugten hingestellten schusseln , wollten essen prufen , tatsachlich zerschnitt der , mitte sass zwei autoritat gelten schien , stuck fleisch schussel , offenbar festzustellen , murbe genug sei etwa kuche zuruckgeschickt solle .\", Sentence: \"er befriedigt , mutter schwester , gespannt zugesehen hatten , begannen aufatmend lacheln .\", Sentence: \"die familie ass kuche .\", Sentence: \"trotzdem kam vater , ehe kuche ging , zimmer herein machte einzigen verbeugung , kappe hand , rundgang tisch .\", Sentence: \"die zimmerherren erhoben samtlich murmelten barte .\", Sentence: \"als allein waren , assen fast vollkommenem stillschweigen .\", Sentence: \"sonderbar schien gregor , mannigfachen gerauschen essens immer kauenden zahne heraushorte , gregor gezeigt sollte , zahne brauche , essen , schonsten zahnlosen kiefern ausrichten konne .\" → [\"gregor\"/PER, \"gregor\"/PER], Sentence: \"» ich ja appetit ,« sagte gregor sorgenvoll , » aber dinge .\" → [\"gregor\"/PER], Sentence: \"wie zimmerherren nahren , komme um !« gerade abend -- gregor erinnerte nicht , ganzen zeit violine gehort -- ertonte kuche her .\" → [\"gregor\"/PER], Sentence: \"die zimmerherren schon nachtmahl beendet , mittlere zeitung hervorgezogen , zwei je blatt gegeben , lasen zuruckgelehnt rauchten .\", Sentence: \"als violine spielen begann , wurden aufmerksam , erhoben gingen fussspitzen vorzimmertur , aneinandergedrangt stehen blieben .\", Sentence: \"man musste kuche gehort haben , vater rief : » ist herren spiel vielleicht unangenehm ?\", Sentence: \"es sofort eingestellt werden. « » im gegenteil ,« sagte mittlere herren , » mochte fraulein hereinkommen zimmer spielen , bequemer gemutlicher ist ?« » o bitte ,« rief vater , sei violinspieler .\", Sentence: \"die herren traten zimmer zuruck warteten .\", Sentence: \"bald kam vater notenpult , mutter noten schwester violine .\", Sentence: \"die schwester bereitete ruhig spiele vor ; eltern , niemals fruher zimmer vermietet deshalb hoflichkeit zimmerherren ubertrieben , wagten gar nicht , eigenen sessel setzen ; vater lehnte tur , rechte hand zwei knopfe geschlossenen livreerockes gesteckt ; mutter erhielt herrn sessel angeboten sass , sessel liess , wohin herr zufallig gestellt hatte , abseits winkel .\", Sentence: \"die schwester begann spielen ; vater mutter verfolgten , seite , aufmerksam bewegungen hande .\", Sentence: \"gregor hatte , spiele angezogen , wenig vorgewagt schon kopf wohnzimmer .\" → [\"gregor\"/PER], Sentence: \"er wunderte kaum daruber , letzter zeit wenig rucksicht nahm ; fruher rucksichtnahme stolz gewesen .\", Sentence: \"und dabei hatte gerade mehr grund gehabt , verstecken , infolge staubes , zimmer uberall lag kleinsten bewegung umherflog , ganz staubbedeckt ; faden , haare , speiseuberreste schleppte rucken seiten herum ; gleichgultigkeit gross , sich , fruher mehrmals tages , rucken gelegt teppich gescheuert hatte .\", Sentence: \"und trotz zustandes scheu , stuck makellosen fussboden wohnzimmers vorzurucken .\", Sentence: \"allerdings achtete niemand ihn .\", Sentence: \"die familie ganzlich violinspiel anspruch genommen ; zimmerherren dagegen , zunachst , hande hosentaschen , nahe notenpult schwester aufgestellt hatten , noten hatte sehen konnen , sicher schwester storen musste , zogen bald halblauten gesprachen gesenkten kopfen fenster zuruck , sie , vater besorgt beobachtet , blieben .\", Sentence: \"es wirklich uberdeutlichen anschein , waren annahme , schones unterhaltendes violinspiel horen , enttauscht , hatten ganze vorfuhrung satt liessen hoflichkeit ruhe storen .\", Sentence: \"besonders art , nase mund rauch zigarren hohe bliesen , liess grosse nervositat schliessen .\", Sentence: \"und spielte schwester schon .\", Sentence: \"ihr gesicht seite geneigt , prufend traurig folgten blicke notenzeilen .\", Sentence: \"gregor kroch stuck vorwarts hielt kopf eng boden , moglicherweise blicken begegnen konnen .\" → [\"gregor\"/PER], Sentence: \"war tier , musik ergriff ?\", Sentence: \"ihm war , zeige weg ersehnten unbekannten nahrung .\", Sentence: \"er entschlossen , schwester vorzudringen , rock zupfen dadurch anzudeuten , moge violine zimmer kommen , niemand lohnte spiel so , lohnen wollte .\", Sentence: \"er mehr zimmer lassen , wenigstens nicht , solange lebte ; schreckgestalt erstenmal nutzlich werden ; turen zimmers gleichzeitig angreifern entgegenfauchen ; schwester gezwungen , freiwillig bleiben ; neben kanapee sitzen , ohr herunterneigen , anvertrauen , feste absicht gehabt habe , konservatorium schicken , dies , ungluck dazwischen gekommen ware , vergangene weihnachten -- weihnachten wohl schon voruber ?\", Sentence: \"-- gesagt hatte , irgendwelche widerreden kummern .\", Sentence: \"nach erklarung schwester tranen ruhrung ausbrechen , gregor achsel erheben hals kussen , sie , seitdem geschaft ging , frei band kragen trug .\" → [\"gregor\"/PER], Sentence: \"» herr samsa !« rief mittlere herr vater zeigte , weiteres wort verlieren , zeigefinger langsam vorwartsbewegenden gregor .\" → [\"samsa\"/PER, \"gregor\"/PER], Sentence: \"die violine verstummte , mittlere zimmerherr lachelte erst kopfschuttelnd freunden sah gregor hin .\" → [\"gregor\"/PER], Sentence: \"der vater schien notiger halten , statt gregor vertreiben , vorerst zimmerherren beruhigen , trotzdem gar aufgeregt gregor mehr violinspiel unterhalten schien .\" → [\"gregor\"/PER, \"gregor\"/PER], Sentence: \"er eilte suchte ausgebreiteten armen zimmer drangen gleichzeitig korper ausblick gregor nehmen .\" → [\"gregor\"/PER], Sentence: \"sie wurden tatsachlich wenig bose , wusste mehr , benehmen vaters aufgehende erkenntnis , wissen , zimmernachbar gregor besessen haben .\" → [\"gregor\"/PER], Sentence: \"sie verlangten vater erklarungen , hoben ihrerseits arme , zupften unruhig barten wichen langsam zimmer zuruck .\", Sentence: \"inzwischen schwester verlorenheit , plotzlich abgebrochenen spiel verfallen war , uberwunden , sich , nachdem zeitlang lassig hangenden handen violine bogen gehalten weiter , spiele noch , noten gesehen hatte , male aufgerafft , instrument schoss mutter gelegt , atembeschwerden heftig arbeitenden lungen sessel sass , nebenzimmer gelaufen , zimmerherren drangen vaters schon schneller naherten .\", Sentence: \"man sah , geubten handen schwester decken polster betten hohe flogen ordneten .\", Sentence: \"noch ehe herren zimmer erreicht hatten , aufbetten fertig schlupfte heraus .\", Sentence: \"der vater schien eigensinn derartig ergriffen , respekt vergass , mietern immerhin schuldete .\", Sentence: \"er drangte drangte , schon tur zimmers mittlere herren donnernd fuss aufstampfte dadurch vater stehen brachte .\", Sentence: \"» ich erklare hiermit ,« sagte er , hob hand suchte blicken mutter schwester , » dass rucksicht wohnung familie herrschenden widerlichen verhaltnisse « -- hierbei spie kurz entschlossen boden -- » mein zimmer augenblicklich kundige .\", Sentence: \"ich naturlich tage , gewohnt habe , geringste bezahlen , dagegen uberlegen , irgendwelchen -- glauben sie -- leicht begrundenden forderungen sie auftreten werde. « er schwieg sah gerade hin , erwarte etwas .\", Sentence: \"tatsachlich fielen sofort zwei freunde worten ein : » auch kundigen augenblicklich. « darauf fasste turklinke schloss krach tur .\" → [\"turklinke\"/PER], Sentence: \"der vater wankte tastenden handen sessel liess hineinfallen ; sah aus , strecke gewohnlichen abendschlafchen , starke nicken haltlosen kopfes zeigte , ganz gar schlief .\", Sentence: \"gregor ganze zeit still platz gelegen , zimmerherren ertappt hatten .\" → [\"gregor\"/PER], Sentence: \"die enttauschung misslingen planes , vielleicht viele hungern verursachte schwache machten unmoglich , bewegen .\", Sentence: \"er furchtete gewissen bestimmtheit schon nachsten augenblick allgemeinen entladenden zusammensturz wartete .\", Sentence: \"nicht violine schreckte auf , die , zitternden fingern mutter hervor , schosse fiel hallenden ton gab .\", Sentence: \"» liebe eltern ,« sagte schwester schlug einleitung hand tisch , » so geht weiter .\", Sentence: \"wenn vielleicht einsehet , sehe ein .\", Sentence: \"ich untier namen bruders aussprechen sage daher bloss : mussen versuchen loszuwerden .\", Sentence: \"wir menschenmogliche versucht , pflegen dulden , glaube , niemand geringsten vorwurf machen. « » sie tausendmal recht ,« sagte vater sich .\", Sentence: \"die mutter , immer genug atem finden konnte , fing irrsinnigen ausdruck augen dumpf vorgehaltene hand husten an. die schwester eilte mutter hielt stirn .\", Sentence: \"der vater schien worte schwester bestimmtere gedanken gebracht sein , aufrecht gesetzt , spielte dienermutze tellern , nachtmahl zimmerherren her tische standen , sah bisweilen stillen gregor hin .\", Sentence: \"» wir mussen loszuwerden suchen ,« sagte schwester ausschliesslich vater , mutter horte husten nichts , » es bringt beide um , sehe kommen .\", Sentence: \"wenn schon schwer arbeiten muss , alle , hause ewige qualerei ertragen .\", Sentence: \"ich mehr. « und brach heftig weinen aus , tranen gesicht mutter niederflossen , mechanischen handbewegungen wischte .\", Sentence: \"» kind ,« sagte vater mitleidig auffallendem verstandnis , » was sollen tun ?« die schwester zuckte achseln zeichen ratlosigkeit , weinens gegensatz fruheren sicherheit ergriffen hatte .\", Sentence: \"» wenn verstunde ,« sagte vater halb fragend ; schwester schuttelte weinen heraus heftig hand zeichen , daran denken sei .\", Sentence: \"» wenn verstunde ,« wiederholte vater nahm schliessen augen uberzeugung schwester unmoglichkeit auf , » dann ware vielleicht ubereinkommen moglich .\", Sentence: \"aber --« » weg muss es ,« rief schwester , » das einzige mittel , vater .\", Sentence: \"du musst bloss gedanken loszuwerden suchen , gregor ist .\" → [\"gregor\"/PER], Sentence: \"dass lange geglaubt haben , ja eigentliches ungluck .\", Sentence: \"aber gregor sein ?\" → [\"gregor\"/PER], Sentence: \"wenn gregor ware , hatte langst eingesehen , zusammenleben menschen tier moglich ist , ware freiwillig fortgegangen .\" → [\"gregor\"/PER], Sentence: \"wir hatten bruder , konnten leben andenken ehren halten .\", Sentence: \"so verfolgt tier , vertreibt zimmerherren , offenbar ganze wohnung einnehmen gasse ubernachten lassen .\", Sentence: \"sieh nur , vater ,« schrie plotzlich auf , » er fangt schon an !« und gregor ganzlich unverstandlichen schrecken verliess schwester sogar mutter , stiess formlich sessel ab , lieber mutter opfern , gregors nahe bleiben , eilte vater , der , lediglich benehmen erregt , aufstand arme schutze schwester halb erhob .\" → [\"gregor\"/PER, \"gregors\"/PER], Sentence: \"aber gregor fiel gar ein , irgend jemandem gar schwester angst wollen .\" → [\"gregor\"/PER], Sentence: \"er bloss angefangen umzudrehen , zimmer zuruckzuwandern , nahm allerdings auffallend aus , infolge leidenden zustandes schwierigen umdrehungen kopfe nachhelfen musste , hierbei viele male hob boden schlug .\", Sentence: \"er hielt inne sah um. seine gute absicht schien erkannt worden sein ; augenblicklicher schrecken gewesen .\", Sentence: \"nun sahen schweigend traurig an. die mutter lag , beine ausgestreckt aneinandergedruckt , sessel , augen fielen ermattung fast zu ; vater schwester sassen nebeneinander , schwester hand vaters hals gelegt .\", Sentence: \"» nun darf schon vielleicht umdrehen ,« dachte gregor begann arbeit wieder .\" → [\"gregor\"/PER], Sentence: \"er konnte schnaufen anstrengung unterdrucken musste hie ausruhen .\", Sentence: \"im ubrigen drangte niemand , uberlassen .\", Sentence: \"als umdrehung vollendet hatte , fing sofort an , geradeaus zuruckzuwandern .\", Sentence: \"er staunte grosse entfernung , zimmer trennte , begriff gar nicht , schwache kurzer zeit gleichen weg , fast merken , zuruckgelegt hatte .\", Sentence: \"immerfort rasches kriechen bedacht , achtete kaum darauf , wort , ausruf familie storte .\", Sentence: \"erst schon tur war , wendete kopf , nicht , vollstandig , fuhlte hals steif werden , immerhin sah noch , verandert hatte , schwester aufgestanden .\", Sentence: \"sein letzter blick streifte mutter , vollig eingeschlafen war .\", Sentence: \"kaum innerhalb zimmers , wurde tur eiligst zugedruckt , festgeriegelt versperrt .\" → [\"tur\"/PER], Sentence: \"uber plotzlichen larm erschrak gregor so , beinchen einknickten .\" → [\"gregor\"/PER], Sentence: \"es schwester , beeilt hatte .\", Sentence: \"aufrecht schon gestanden gewartet , leichtfussig vorwartsgesprungen , gregor gar kommen horen , » endlich !« rief eltern zu , schlussel schloss umdrehte .\" → [\"gregor\"/PER], Sentence: \"» und jetzt ?« fragte gregor sah dunkeln um. er machte bald entdeckung , uberhaupt mehr ruhren konnte .\" → [\"gregor\"/PER], Sentence: \"er wunderte daruber nicht , eher kam unnaturlich vor , tatsachlich dunnen beinchen fortbewegen konnen .\", Sentence: \"im ubrigen fuhlte verhaltnismassig behaglich .\", Sentence: \"er schmerzen ganzen leib , war , allmahlich schwacher schwacher schliesslich ganz vergehen .\", Sentence: \"den verfaulten apfel rucken entzundete umgebung , ganz weichem staub bedeckt war , spurte schon kaum .\", Sentence: \"an familie dachte ruhrung liebe zuruck .\", Sentence: \"seine meinung daruber , verschwinden musse , womoglich entschiedener , schwester .\", Sentence: \"in zustand leeren friedlichen nachdenkens blieb er , turmuhr dritte morgenstunde schlug .\", Sentence: \"den anfang allgemeinen hellerwerdens draussen fenster erlebte noch .\", Sentence: \"dann sank kopf willen ganzlich nieder , nustern stromte letzter atem schwach hervor .\", Sentence: \"als fruhen morgen bedienerin kam -- lauter kraft eile schlug sie , oft schon gebeten hatte , vermeiden , turen derartig zu , ganzen wohnung kommen ruhiger schlaf mehr moglich -- , fand gewohnlichen kurzen besuch gregor zuerst besonderes .\" → [\"gregor\"/PER], Sentence: \"sie dachte , liege absichtlich unbeweglich spiele beleidigten ; traute moglichen verstand zu. weil zufallig langen besen hand hielt , suchte gregor tur kitzeln .\" → [\"gregor\"/PER], Sentence: \"als erfolg zeigte , wurde argerlich stiess wenig gregor hinein , erst widerstand platze geschoben hatte , wurde aufmerksam .\" → [\"gregor\"/PER], Sentence: \"als bald wahren sachverhalt erkannte , machte grosse augen , pfiff hin , hielt lange auf , riss tur schlafzimmers rief lauter stimme dunkel hinein : » sehen sie mal an , krepiert ; liegt es , ganz gar krepiert !« das ehepaar samsa sass ehebett aufrecht tun , schrecken bedienerin verwinden , ehe kam , meldung aufzufassen .\", Sentence: \"dann stiegen herr frau samsa , seite , eiligst bett , herr samsa warf decke schultern , frau samsa kam nachthemd hervor ; traten gregors zimmer .\" → [\"samsa\"/PER, \"samsa\"/PER, \"samsa\"/PER, \"gregors\"/PER], Sentence: \"inzwischen tur wohnzimmers geoffnet , grete seit einzug zimmerherren schlief ; vollig angezogen , hatte gar geschlafen , bleiches gesicht schien beweisen .\" → [\"grete\"/PER], Sentence: \"» tot ?« sagte frau samsa sah fragend bedienerin auf , trotzdem prufen sogar prufung erkennen konnte .\" → [\"samsa\"/PER], Sentence: \"» das meinen ,« sagte bedienerin stiess beweis gregors leiche besen grosses stuck seitwarts .\" → [\"gregors\"/PER], Sentence: \"frau samsa machte bewegung , wolle besen zuruckhalten , tat nicht .\" → [\"samsa\"/PER], Sentence: \"» nun ,« sagte herr samsa , » jetzt gott danken. « er bekreuzte sich , drei frauen folgten beispiel .\" → [\"samsa\"/PER], Sentence: \"grete , auge leiche wendete , sagte : » seht nur , mager war .\" → [\"grete\"/PER], Sentence: \"er ja schon lange zeit gegessen .\", Sentence: \"so speisen hereinkamen , hinausgekommen. « tatsachlich gregors korper vollstandig flach trocken , erkannte eigentlich erst jetzt , mehr beinchen gehoben blick ablenkte .\" → [\"gregors\"/PER], Sentence: \"» komm , grete , weilchen herein ,« sagte frau samsa wehmutigen lacheln , grete ging , leiche zuruckzusehen , eltern schlafzimmer .\" → [\"grete\"/PER, \"samsa\"/PER, \"grete\"/PER], Sentence: \"die bedienerin schloss tur offnete ganzlich fenster .\", Sentence: \"trotz fruhen morgens frischen luft schon lauigkeit beigemischt .\", Sentence: \"es eben schon ende marz .\", Sentence: \"aus zimmer traten drei zimmerherren sahen erstaunt fruhstuck um ; vergessen .\", Sentence: \"» wo fruhstuck ?« fragte mittlere herren murrisch bedienerin .\", Sentence: \"diese legte finger mund winkte hastig schweigend herren zu , mochten gregors zimmer kommen .\" → [\"gregors\"/PER], Sentence: \"sie kamen standen dann , hande taschen abgenutzten rockchen , schon ganz hellen zimmer gregors leiche herum .\" → [\"gregors\"/PER], Sentence: \"da offnete tur schlafzimmers , herr samsa erschien livree , arm frau , tochter .\" → [\"samsa\"/PER], Sentence: \"alle wenig verweint ; grete druckte bisweilen gesicht arm vaters .\" → [\"grete\"/PER], Sentence: \"» verlassen sie sofort wohnung !« sagte herr samsa zeigte tur , frauen lassen .\" → [\"samsa\"/PER], Sentence: \"» wie sie das ?« sagte mittlere herren besturzt lachelte susslich .\", Sentence: \"die zwei hielten hande rucken rieben ununterbrochen aneinander , freudiger erwartung grossen streites , gunstig ausfallen musste .\", Sentence: \"» ich genau so , sage ,« antwortete herr samsa ging linie zwei begleiterinnen zimmerherrn zu. dieser stand zuerst still sah boden , dinge kopf neuen ordnung zusammenstellten .\" → [\"samsa\"/PER], Sentence: \"» dann gehen also ,« sagte sah herrn samsa auf , verlange plotzlich uberkommenden demut sogar entschluss neue genehmigung .\" → [\"samsa\"/PER], Sentence: \"herr samsa nickte bloss mehrmals kurz grossen augen zu. daraufhin ging herr tatsachlich sofort langen schritten vorzimmer ; beiden freunde schon weilchen lang ganz ruhigen handen aufgehorcht hupften geradezu nach , angst , herr samsa vorzimmer eintreten verbindung fuhrer storen .\" → [\"samsa\"/PER, \"samsa\"/PER], Sentence: \"im vorzimmer nahmen drei hute kleiderrechen , zogen stocke stockbehalter , verbeugten stumm verliessen wohnung .\", Sentence: \"in einem , zeigte , ganzlich unbegrundeten misstrauen trat herr samsa zwei frauen vorplatz hinaus ; gelander gelehnt , sahen zu , drei herren langsam , standig lange treppe hinunterstiegen , stockwerk bestimmten biegung treppenhauses verschwanden paar augenblicken hervorkamen ; je tiefer gelangten , desto mehr verlor interesse familie samsa sie , entgegen hoch hinweg fleischergeselle trage kopf stolzer haltung heraufstieg , verliess bald herr samsa frauen gelander , kehrten , erleichtert , wohnung zuruck .\" → [\"samsa\"/PER, \"samsa\"/PER, \"samsa\"/PER], Sentence: \"sie beschlossen , heutigen tag ausruhen spazierengehen verwenden ; arbeitsunterbrechung verdient , brauchten sogar unbedingt .\", Sentence: \"und setzten tisch schrieben drei entschuldigungsbriefe , herr samsa direktion , frau samsa auftraggeber , grete prinzipal .\" → [\"samsa\"/PER, \"samsa\"/PER], Sentence: \"wahrend schreibens kam bedienerin herein , sagen , fortgehe , morgenarbeit beendet .\", Sentence: \"die drei schreibenden nickten zuerst bloss , aufzuschauen , erst bedienerin immer entfernen wollte , sah argerlich auf .\", Sentence: \"» nun ?« fragte herr samsa .\" → [\"samsa\"/PER], Sentence: \"die bedienerin stand lachelnd tur , familie grosses gluck melden , tun , grundlich ausgefragt werde .\", Sentence: \"die fast aufrechte kleine straussfeder hut , herr samsa schon ganzen dienstzeit argerte , schwankte leicht richtungen .\" → [\"samsa\"/PER], Sentence: \"» also sie eigentlich ?« fragte frau samsa , bedienerin meisten respekt hatte .\" → [\"samsa\"/PER], Sentence: \"» ja ,« antwortete bedienerin konnte freundlichem lachen gleich reden , » also daruber , zeug nebenan weggeschafft soll , mussen sie sorge machen .\", Sentence: \"es schon ordnung. « frau samsa grete beugten briefen nieder , wollten weiterschreiben ; herr samsa , merkte , bedienerin ausfuhrlich beschreiben anfangen wollte , wehrte ausgestreckter hand entschieden ab. da erzahlen durfte , erinnerte grosse eile , hatte , rief offenbar beleidigt : » adjes allseits ,« drehte wild verliess furchterlichem turezuschlagen wohnung .\" → [\"samsa\"/PER, \"grete\"/PER, \"samsa\"/PER], Sentence: \"» abends entlassen ,« sagte herr samsa , bekam weder frau tochter antwort , bedienerin schien kaum gewonnene ruhe gestort haben .\" → [\"samsa\"/PER], Sentence: \"sie erhoben sich , gingen fenster blieben dort , umschlungen haltend .\", Sentence: \"herr samsa drehte sessel beobachtete still weilchen .\" → [\"samsa\"/PER], Sentence: \"dann rief er : » also kommt her .\", Sentence: \"lasst schon endlich alten sachen .\", Sentence: \"und nehmt wenig rucksicht mich. « gleich folgten frauen , eilten ihm , liebkosten beendeten rasch briefe .\", Sentence: \"dann verliessen drei gemeinschaftlich wohnung , schon seit monaten getan hatten , fuhren elektrischen freie stadt .\", Sentence: \"der wagen , allein sassen , ganz warmer sonne durchschienen .\", Sentence: \"sie besprachen , bequem sitzen zuruckgelehnt , aussichten zukunft , fand sich , naherer betrachtung durchaus schlecht waren , drei anstellungen waren , woruber einander eigentlich gar ausgefragt hatten , uberaus gunstig besonders spater vielversprechend .\", Sentence: \"die grosste augenblickliche besserung lage musste naturlich leicht wohnungswechsel ergeben ; wollten kleinere billigere , besser gelegene uberhaupt praktischere wohnung nehmen , jetzige , gregor ausgesuchte war .\" → [\"gregor\"/PER], Sentence: \"wahrend unterhielten , fiel herrn frau samsa anblick immer lebhafter werdenden tochter fast gleichzeitig ein , letzten zeit trotz pflege , wangen bleich gemacht hatte , schonen uppigen madchen aufgebluht war .\" → [\"samsa\"/PER], Sentence: \"stiller werdend fast unbewusst blicke verstandigend , dachten daran , zeit werde , braven mann suchen .\", Sentence: \"und bestatigung neuen traume guten absichten , ziele fahrt tochter erste erhob jungen korper dehnte .\"]\n"
          ]
        }
      ]
    },
    {
      "cell_type": "code",
      "source": [
        "# print predicted NER spans\n",
        "print('The following NER tags are found:')\n",
        "# iterate over entities and print\n",
        "for entity in sentences.get_spans('ner'):\n",
        "    print(entity)\n",
        "\n"
      ],
      "metadata": {
        "colab": {
          "base_uri": "https://localhost:8080/",
          "height": 249
        },
        "id": "TmXAO2LK3Qgj",
        "outputId": "4c6a724f-ad11-49bf-db69-fe916f053da1"
      },
      "execution_count": 28,
      "outputs": [
        {
          "output_type": "stream",
          "name": "stdout",
          "text": [
            "The following NER tags are found:\n"
          ]
        },
        {
          "output_type": "error",
          "ename": "AttributeError",
          "evalue": "ignored",
          "traceback": [
            "\u001b[0;31m---------------------------------------------------------------------------\u001b[0m",
            "\u001b[0;31mAttributeError\u001b[0m                            Traceback (most recent call last)",
            "\u001b[0;32m<ipython-input-28-87864328d79c>\u001b[0m in \u001b[0;36m<module>\u001b[0;34m\u001b[0m\n\u001b[1;32m      2\u001b[0m \u001b[0mprint\u001b[0m\u001b[0;34m(\u001b[0m\u001b[0;34m'The following NER tags are found:'\u001b[0m\u001b[0;34m)\u001b[0m\u001b[0;34m\u001b[0m\u001b[0;34m\u001b[0m\u001b[0m\n\u001b[1;32m      3\u001b[0m \u001b[0;31m# iterate over entities and print\u001b[0m\u001b[0;34m\u001b[0m\u001b[0;34m\u001b[0m\u001b[0;34m\u001b[0m\u001b[0m\n\u001b[0;32m----> 4\u001b[0;31m \u001b[0;32mfor\u001b[0m \u001b[0mentity\u001b[0m \u001b[0;32min\u001b[0m \u001b[0msentences\u001b[0m\u001b[0;34m.\u001b[0m\u001b[0mget_spans\u001b[0m\u001b[0;34m(\u001b[0m\u001b[0;34m'ner'\u001b[0m\u001b[0;34m)\u001b[0m\u001b[0;34m:\u001b[0m\u001b[0;34m\u001b[0m\u001b[0;34m\u001b[0m\u001b[0m\n\u001b[0m\u001b[1;32m      5\u001b[0m     \u001b[0mprint\u001b[0m\u001b[0;34m(\u001b[0m\u001b[0mentity\u001b[0m\u001b[0;34m)\u001b[0m\u001b[0;34m\u001b[0m\u001b[0;34m\u001b[0m\u001b[0m\n\u001b[1;32m      6\u001b[0m \u001b[0;34m\u001b[0m\u001b[0m\n",
            "\u001b[0;31mAttributeError\u001b[0m: 'list' object has no attribute 'get_spans'"
          ]
        }
      ]
    },
    {
      "cell_type": "markdown",
      "source": [
        "#### 6. In order to use a similarity quantifier (like the one of Question 2 of Week 5) to detect suspected plagiarism, would you expect this to be more useful for this purpose or less so if lemmatization or stemming were used explicitly before querying for WordNet similarities?"
      ],
      "metadata": {
        "id": "9ubMIuHMviuO"
      }
    },
    {
      "cell_type": "markdown",
      "source": [
        "nltk.download('wordnet')"
      ],
      "metadata": {
        "id": "Ar5t0OJ6wORq"
      }
    },
    {
      "cell_type": "code",
      "source": [
        "nltk.download('wordnet')"
      ],
      "metadata": {
        "colab": {
          "base_uri": "https://localhost:8080/"
        },
        "id": "Ay4WomWNwxur",
        "outputId": "f6845817-8ddc-4baf-b0e7-16f1693a3135"
      },
      "execution_count": null,
      "outputs": [
        {
          "output_type": "stream",
          "name": "stderr",
          "text": [
            "[nltk_data] Downloading package wordnet to /root/nltk_data...\n"
          ]
        },
        {
          "output_type": "execute_result",
          "data": {
            "text/plain": [
              "True"
            ]
          },
          "metadata": {},
          "execution_count": 86
        }
      ]
    },
    {
      "cell_type": "code",
      "source": [
        "text = 'A conditional distribution is a distribution of values for one variable that exists when you specify the values of other variables.'"
      ],
      "metadata": {
        "id": "wtmNUsM2wza0"
      },
      "execution_count": null,
      "outputs": []
    },
    {
      "cell_type": "code",
      "source": [
        "textn = [ls.stem(w) for w in text.split()]\n",
        "new_text= ' '.join(textn)\n",
        "new_text"
      ],
      "metadata": {
        "colab": {
          "base_uri": "https://localhost:8080/",
          "height": 35
        },
        "id": "5pq5l1LJxTUG",
        "outputId": "813ecd17-2a81-43e6-c6ce-a77130cbd053"
      },
      "execution_count": null,
      "outputs": [
        {
          "output_type": "execute_result",
          "data": {
            "text/plain": [
              "'a condit distribut is a distribut of valu for on vary that ex when you spec the valu of oth variables.'"
            ],
            "application/vnd.google.colaboratory.intrinsic+json": {
              "type": "string"
            }
          },
          "metadata": {},
          "execution_count": 93
        }
      ]
    },
    {
      "cell_type": "code",
      "source": [
        "from nltk.corpus import stopwords\n",
        "from nltk.tokenize import word_tokenize\n",
        "from nltk.corpus import wordnet as wn\n",
        "nltk.download('stopwords')\n",
        "nltk.download('punkt')\n",
        "\n",
        "stop_words = set(stopwords.words('english'))\n",
        "\n",
        "word_tokens = word_tokenize(new_text)\n",
        "\n",
        "filtered_sentence = [w for w in word_tokens if not w.lower() in stop_words]\n",
        "filtered_sentence = [word.lower() for word in filtered_sentence if word.isalpha()]\n",
        "\n",
        "print(word_tokens)\n",
        "print(filtered_sentence)\n"
      ],
      "metadata": {
        "colab": {
          "base_uri": "https://localhost:8080/"
        },
        "id": "_KL1mBcYw320",
        "outputId": "282d1f52-1a07-4a5f-d3b9-42628995c9a2"
      },
      "execution_count": null,
      "outputs": [
        {
          "output_type": "stream",
          "name": "stdout",
          "text": [
            "['a', 'condit', 'distribut', 'is', 'a', 'distribut', 'of', 'valu', 'for', 'on', 'vary', 'that', 'ex', 'when', 'you', 'spec', 'the', 'valu', 'of', 'oth', 'variables', '.']\n",
            "['condit', 'distribut', 'distribut', 'valu', 'vary', 'ex', 'spec', 'valu', 'oth', 'variables']\n"
          ]
        },
        {
          "output_type": "stream",
          "name": "stderr",
          "text": [
            "[nltk_data] Downloading package stopwords to /root/nltk_data...\n",
            "[nltk_data]   Package stopwords is already up-to-date!\n",
            "[nltk_data] Downloading package punkt to /root/nltk_data...\n",
            "[nltk_data]   Package punkt is already up-to-date!\n"
          ]
        }
      ]
    },
    {
      "cell_type": "code",
      "source": [
        "new_filtered = ' '.join(filtered_sentence)\n",
        "new_filtered"
      ],
      "metadata": {
        "colab": {
          "base_uri": "https://localhost:8080/",
          "height": 35
        },
        "id": "XEsZlz3W0Y9-",
        "outputId": "ab362d80-2513-48b9-ade8-1060f794dd1f"
      },
      "execution_count": null,
      "outputs": [
        {
          "output_type": "execute_result",
          "data": {
            "text/plain": [
              "'condit distribut distribut valu vary ex spec valu oth variables'"
            ],
            "application/vnd.google.colaboratory.intrinsic+json": {
              "type": "string"
            }
          },
          "metadata": {},
          "execution_count": 104
        }
      ]
    },
    {
      "cell_type": "code",
      "source": [
        "nltk.download('omw-1.4')\n",
        "n1 = []\n",
        "for w in new_filtered.split():\n",
        "  ss = wn.synsets(w)\n",
        "  # print(ss[:1])\n",
        "  for s in ss[:1]:\n",
        "    n1.append(s.lemma_names()[0])\n",
        "\n",
        "n1"
      ],
      "metadata": {
        "colab": {
          "base_uri": "https://localhost:8080/"
        },
        "id": "X1UpRXyfxvzL",
        "outputId": "baa2219e-4462-4eb8-d682-462241290637"
      },
      "execution_count": null,
      "outputs": [
        {
          "output_type": "stream",
          "name": "stderr",
          "text": [
            "[nltk_data] Downloading package omw-1.4 to /root/nltk_data...\n",
            "[nltk_data]   Package omw-1.4 is already up-to-date!\n"
          ]
        },
        {
          "output_type": "execute_result",
          "data": {
            "text/plain": [
              "['change', 'ex-husband', 'specification', 'variable']"
            ]
          },
          "metadata": {},
          "execution_count": 105
        }
      ]
    },
    {
      "cell_type": "code",
      "source": [
        "n2 = ' '.join(n1)\n",
        "n2"
      ],
      "metadata": {
        "colab": {
          "base_uri": "https://localhost:8080/",
          "height": 35
        },
        "id": "VLb3XW8OyRDt",
        "outputId": "2206d76a-9201-48c8-e86d-ef736aec5c31"
      },
      "execution_count": null,
      "outputs": [
        {
          "output_type": "execute_result",
          "data": {
            "text/plain": [
              "'change ex-husband specification variable'"
            ],
            "application/vnd.google.colaboratory.intrinsic+json": {
              "type": "string"
            }
          },
          "metadata": {},
          "execution_count": 106
        }
      ]
    },
    {
      "cell_type": "code",
      "source": [
        "!pip install sentence-similarity"
      ],
      "metadata": {
        "colab": {
          "base_uri": "https://localhost:8080/"
        },
        "id": "mVuM_iSTyNRN",
        "outputId": "ab9afffd-ae19-4cd4-fd8c-8cecdadbfe00"
      },
      "execution_count": null,
      "outputs": [
        {
          "output_type": "stream",
          "name": "stdout",
          "text": [
            "Looking in indexes: https://pypi.org/simple, https://us-python.pkg.dev/colab-wheels/public/simple/\n",
            "Collecting sentence-similarity\n",
            "  Downloading sentence_similarity-1.0.0-py3-none-any.whl (5.0 kB)\n",
            "Collecting sentence-transformers==2.0.0\n",
            "  Downloading sentence-transformers-2.0.0.tar.gz (85 kB)\n",
            "\u001b[K     |████████████████████████████████| 85 kB 2.4 MB/s \n",
            "\u001b[?25hCollecting transformers==4.9.2\n",
            "  Downloading transformers-4.9.2-py3-none-any.whl (2.6 MB)\n",
            "\u001b[K     |████████████████████████████████| 2.6 MB 20.1 MB/s \n",
            "\u001b[?25hRequirement already satisfied: tqdm in /usr/local/lib/python3.7/dist-packages (from sentence-transformers==2.0.0->sentence-similarity) (4.64.1)\n",
            "Requirement already satisfied: torch>=1.6.0 in /usr/local/lib/python3.7/dist-packages (from sentence-transformers==2.0.0->sentence-similarity) (1.12.1+cu113)\n",
            "Requirement already satisfied: torchvision in /usr/local/lib/python3.7/dist-packages (from sentence-transformers==2.0.0->sentence-similarity) (0.13.1+cu113)\n",
            "Requirement already satisfied: numpy in /usr/local/lib/python3.7/dist-packages (from sentence-transformers==2.0.0->sentence-similarity) (1.21.6)\n",
            "Requirement already satisfied: scikit-learn in /usr/local/lib/python3.7/dist-packages (from sentence-transformers==2.0.0->sentence-similarity) (1.0.2)\n",
            "Requirement already satisfied: scipy in /usr/local/lib/python3.7/dist-packages (from sentence-transformers==2.0.0->sentence-similarity) (1.7.3)\n",
            "Requirement already satisfied: nltk in /usr/local/lib/python3.7/dist-packages (from sentence-transformers==2.0.0->sentence-similarity) (3.7)\n",
            "Collecting sentencepiece\n",
            "  Downloading sentencepiece-0.1.97-cp37-cp37m-manylinux_2_17_x86_64.manylinux2014_x86_64.whl (1.3 MB)\n",
            "\u001b[K     |████████████████████████████████| 1.3 MB 51.0 MB/s \n",
            "\u001b[?25hCollecting huggingface-hub\n",
            "  Downloading huggingface_hub-0.10.1-py3-none-any.whl (163 kB)\n",
            "\u001b[K     |████████████████████████████████| 163 kB 50.8 MB/s \n",
            "\u001b[?25hRequirement already satisfied: regex!=2019.12.17 in /usr/local/lib/python3.7/dist-packages (from transformers==4.9.2->sentence-similarity) (2022.6.2)\n",
            "Collecting tokenizers<0.11,>=0.10.1\n",
            "  Downloading tokenizers-0.10.3-cp37-cp37m-manylinux_2_5_x86_64.manylinux1_x86_64.manylinux_2_12_x86_64.manylinux2010_x86_64.whl (3.3 MB)\n",
            "\u001b[K     |████████████████████████████████| 3.3 MB 31.0 MB/s \n",
            "\u001b[?25hRequirement already satisfied: importlib-metadata in /usr/local/lib/python3.7/dist-packages (from transformers==4.9.2->sentence-similarity) (4.13.0)\n",
            "Collecting huggingface-hub\n",
            "  Downloading huggingface_hub-0.0.12-py3-none-any.whl (37 kB)\n",
            "Requirement already satisfied: pyyaml>=5.1 in /usr/local/lib/python3.7/dist-packages (from transformers==4.9.2->sentence-similarity) (6.0)\n",
            "Requirement already satisfied: requests in /usr/local/lib/python3.7/dist-packages (from transformers==4.9.2->sentence-similarity) (2.23.0)\n",
            "Requirement already satisfied: packaging in /usr/local/lib/python3.7/dist-packages (from transformers==4.9.2->sentence-similarity) (21.3)\n",
            "Requirement already satisfied: filelock in /usr/local/lib/python3.7/dist-packages (from transformers==4.9.2->sentence-similarity) (3.8.0)\n",
            "Collecting sacremoses\n",
            "  Downloading sacremoses-0.0.53.tar.gz (880 kB)\n",
            "\u001b[K     |████████████████████████████████| 880 kB 55.9 MB/s \n",
            "\u001b[?25hRequirement already satisfied: typing-extensions in /usr/local/lib/python3.7/dist-packages (from huggingface-hub->sentence-transformers==2.0.0->sentence-similarity) (4.1.1)\n",
            "Requirement already satisfied: pyparsing!=3.0.5,>=2.0.2 in /usr/local/lib/python3.7/dist-packages (from packaging->transformers==4.9.2->sentence-similarity) (3.0.9)\n",
            "Requirement already satisfied: zipp>=0.5 in /usr/local/lib/python3.7/dist-packages (from importlib-metadata->transformers==4.9.2->sentence-similarity) (3.9.0)\n",
            "Requirement already satisfied: click in /usr/local/lib/python3.7/dist-packages (from nltk->sentence-transformers==2.0.0->sentence-similarity) (7.1.2)\n",
            "Requirement already satisfied: joblib in /usr/local/lib/python3.7/dist-packages (from nltk->sentence-transformers==2.0.0->sentence-similarity) (1.2.0)\n",
            "Requirement already satisfied: idna<3,>=2.5 in /usr/local/lib/python3.7/dist-packages (from requests->transformers==4.9.2->sentence-similarity) (2.10)\n",
            "Requirement already satisfied: certifi>=2017.4.17 in /usr/local/lib/python3.7/dist-packages (from requests->transformers==4.9.2->sentence-similarity) (2022.9.24)\n",
            "Requirement already satisfied: urllib3!=1.25.0,!=1.25.1,<1.26,>=1.21.1 in /usr/local/lib/python3.7/dist-packages (from requests->transformers==4.9.2->sentence-similarity) (1.24.3)\n",
            "Requirement already satisfied: chardet<4,>=3.0.2 in /usr/local/lib/python3.7/dist-packages (from requests->transformers==4.9.2->sentence-similarity) (3.0.4)\n",
            "Requirement already satisfied: six in /usr/local/lib/python3.7/dist-packages (from sacremoses->transformers==4.9.2->sentence-similarity) (1.15.0)\n",
            "Requirement already satisfied: threadpoolctl>=2.0.0 in /usr/local/lib/python3.7/dist-packages (from scikit-learn->sentence-transformers==2.0.0->sentence-similarity) (3.1.0)\n",
            "Requirement already satisfied: pillow!=8.3.*,>=5.3.0 in /usr/local/lib/python3.7/dist-packages (from torchvision->sentence-transformers==2.0.0->sentence-similarity) (7.1.2)\n",
            "Building wheels for collected packages: sentence-transformers, sacremoses\n",
            "  Building wheel for sentence-transformers (setup.py) ... \u001b[?25l\u001b[?25hdone\n",
            "  Created wheel for sentence-transformers: filename=sentence_transformers-2.0.0-py3-none-any.whl size=126709 sha256=c8da3ad5b0a1439639df1886dfb507bfc1f3dbbb8617010ce2cff6a699f956a5\n",
            "  Stored in directory: /root/.cache/pip/wheels/d1/c1/0f/faafd427f705c4b012274ba60d9a91d75830306811e1355293\n",
            "  Building wheel for sacremoses (setup.py) ... \u001b[?25l\u001b[?25hdone\n",
            "  Created wheel for sacremoses: filename=sacremoses-0.0.53-py3-none-any.whl size=895260 sha256=9ded49bf69c73aae648d121182767851fd982a58ada5aa648d2200422d2a2f0c\n",
            "  Stored in directory: /root/.cache/pip/wheels/87/39/dd/a83eeef36d0bf98e7a4d1933a4ad2d660295a40613079bafc9\n",
            "Successfully built sentence-transformers sacremoses\n",
            "Installing collected packages: tokenizers, sacremoses, huggingface-hub, transformers, sentencepiece, sentence-transformers, sentence-similarity\n",
            "Successfully installed huggingface-hub-0.0.12 sacremoses-0.0.53 sentence-similarity-1.0.0 sentence-transformers-2.0.0 sentencepiece-0.1.97 tokenizers-0.10.3 transformers-4.9.2\n"
          ]
        }
      ]
    },
    {
      "cell_type": "code",
      "source": [
        "from sentence_similarity import sentence_similarity\n",
        "model=sentence_similarity(model_name='distilbert-base-uncased',embedding_type='cls_token_embedding')"
      ],
      "metadata": {
        "colab": {
          "base_uri": "https://localhost:8080/",
          "height": 249,
          "referenced_widgets": [
            "d264c8c19ec8420097f7624341af0741",
            "e87977732b9949d8b9cba836f6267145",
            "da859e5530934f988d85bf50210ecb69",
            "37df9ea5be014686a135bf5bea68594d",
            "ea9a13d5e2194b16ad4bbf8f234bfe07",
            "95eba8336cdc4aa2b2e4c584a57d28db",
            "c02c22d4e73948898220b6304ea0ee96",
            "edd47ef63c5a42f681cf12acdbc5e6b2",
            "ba3b1d69a8dd4e7b9f8125190fe747c4",
            "46c110733b144b7296781db9b04d60c4",
            "2d825b7558f6408fa8f907fcfb31e780",
            "8ad7c968311142b3b78a1b6b04d76e9e",
            "2032e79322b8401bbe1e1e58ad68e7fb",
            "882022bba4ba413a8f304e0b6febf86b",
            "29ed342739d644aeb6eaee0acf749963",
            "6df35917d7834c5d8c2d3dd223c5f694",
            "47a55ddb1bb04922ac8b5c883dbf9782",
            "6c0e5ba2a757437384beb0c15af23206",
            "3f609832ddbb4104b1499e47e7c2b264",
            "bcb6cd56ab5d43108c823d658dfc6d54",
            "cbb4c86dbfaf41fd9a9e4e224de916c4",
            "3a6c1435333047b584b9c9391f5c6153",
            "8b344538361f486d846c8b012f711c67",
            "31f907aafc1b40fb9bee4ac631b6fbfb",
            "533e6ae16b234e3d848e9c8f020ca6d7",
            "b8dc24745ec14433a438e905c4ca4b2a",
            "a7842078f7654a4f90fd52a38920d8be",
            "41b517b190c144b1a3142baf1713065b",
            "96881e94e998470497404110c6e9cf49",
            "e34e15e8f1f34621b073aaa8ca893a06",
            "4a382c9549874859912b3c71cb0a341c",
            "1a6514a6e9be49a88c5bd212e9c05a8f",
            "6e3abc53cdb04de48d0185453b2acca2",
            "a41961d676a24cf9b8ce1a151acd3ed7",
            "298c5c7e26b4457688fdc22f1ed64812",
            "3e3b069bd8e2408898a9446a372b72e0",
            "f1d99633f6084831820fe41e48131812",
            "2440b5e0fa6c4f1f97935fee0830b6d0",
            "ec0c64696a86402ea2052b391661a0e9",
            "87fb7df8cd6f45a39c6e1ddd89920bcf",
            "1fb53eaab9464a23b13d7846bb12d761",
            "c51469ad45f54ebd9f8ca687f0deb49a",
            "6c9e88caa9fb40378e2ca861fbe6f52b",
            "f6bbb110939a4d009744dc88976017e3",
            "3b8bdce7b1a74d0799bcddd9c0a8122a",
            "f6c1463c23054bbdb9af7f73b9447b0b",
            "4a6d02732c3b4b019b6ecb10ead102e2",
            "8dbfb7e4d8e4470d94b9b8825c1454f4",
            "970b71e33cca46138ed7a029483c54ed",
            "cbe7866996c2491ba26ffa28c05356b1",
            "9451cff8e00742f09a7c879031892d54",
            "a4ef79ba822141a49d3a48a4f8af48f6",
            "4966019e94094a77a6b4c3fc35075151",
            "175bd5731a6147128f87b42a0d65ab4e",
            "d10ff0ab3dac47f8af988529554800a5"
          ]
        },
        "id": "AicGBoiPzYli",
        "outputId": "535a6875-54c7-48ef-afbd-ff58716a4473"
      },
      "execution_count": null,
      "outputs": [
        {
          "output_type": "display_data",
          "data": {
            "text/plain": [
              "Downloading:   0%|          | 0.00/483 [00:00<?, ?B/s]"
            ],
            "application/vnd.jupyter.widget-view+json": {
              "version_major": 2,
              "version_minor": 0,
              "model_id": "d264c8c19ec8420097f7624341af0741"
            }
          },
          "metadata": {}
        },
        {
          "output_type": "display_data",
          "data": {
            "text/plain": [
              "Downloading:   0%|          | 0.00/268M [00:00<?, ?B/s]"
            ],
            "application/vnd.jupyter.widget-view+json": {
              "version_major": 2,
              "version_minor": 0,
              "model_id": "8ad7c968311142b3b78a1b6b04d76e9e"
            }
          },
          "metadata": {}
        },
        {
          "output_type": "stream",
          "name": "stderr",
          "text": [
            "Some weights of the model checkpoint at distilbert-base-uncased were not used when initializing DistilBertModel: ['vocab_layer_norm.bias', 'vocab_transform.bias', 'vocab_projector.bias', 'vocab_layer_norm.weight', 'vocab_projector.weight', 'vocab_transform.weight']\n",
            "- This IS expected if you are initializing DistilBertModel from the checkpoint of a model trained on another task or with another architecture (e.g. initializing a BertForSequenceClassification model from a BertForPreTraining model).\n",
            "- This IS NOT expected if you are initializing DistilBertModel from the checkpoint of a model that you expect to be exactly identical (initializing a BertForSequenceClassification model from a BertForSequenceClassification model).\n"
          ]
        },
        {
          "output_type": "display_data",
          "data": {
            "text/plain": [
              "Downloading:   0%|          | 0.00/28.0 [00:00<?, ?B/s]"
            ],
            "application/vnd.jupyter.widget-view+json": {
              "version_major": 2,
              "version_minor": 0,
              "model_id": "8b344538361f486d846c8b012f711c67"
            }
          },
          "metadata": {}
        },
        {
          "output_type": "display_data",
          "data": {
            "text/plain": [
              "Downloading:   0%|          | 0.00/232k [00:00<?, ?B/s]"
            ],
            "application/vnd.jupyter.widget-view+json": {
              "version_major": 2,
              "version_minor": 0,
              "model_id": "a41961d676a24cf9b8ce1a151acd3ed7"
            }
          },
          "metadata": {}
        },
        {
          "output_type": "display_data",
          "data": {
            "text/plain": [
              "Downloading:   0%|          | 0.00/466k [00:00<?, ?B/s]"
            ],
            "application/vnd.jupyter.widget-view+json": {
              "version_major": 2,
              "version_minor": 0,
              "model_id": "3b8bdce7b1a74d0799bcddd9c0a8122a"
            }
          },
          "metadata": {}
        }
      ]
    },
    {
      "cell_type": "code",
      "source": [
        "score=model.get_score(text,n2,metric=\"cosine\")\n",
        "print(score)"
      ],
      "metadata": {
        "colab": {
          "base_uri": "https://localhost:8080/"
        },
        "id": "MLQeE3wbzhcR",
        "outputId": "c323d70d-bc6a-447e-b4d1-0f6f533177a1"
      },
      "execution_count": null,
      "outputs": [
        {
          "output_type": "stream",
          "name": "stdout",
          "text": [
            "0.773\n"
          ]
        }
      ]
    },
    {
      "cell_type": "markdown",
      "source": [
        "#### 7. Would text prediction (like the auto-complete of Question 2 of Week 6) be easier in some way if stemming or lemmatization were included in some part of the process?"
      ],
      "metadata": {
        "id": "pAoSyDmH047U"
      }
    },
    {
      "cell_type": "code",
      "source": [
        "import tensorflow as tf\n",
        "from tensorflow.keras.preprocessing.text import Tokenizer\n",
        "from tensorflow.keras.layers import Embedding, LSTM, Dense\n",
        "from tensorflow.keras.models import Sequential\n",
        "from tensorflow.keras.utils import to_categorical\n",
        "from tensorflow.keras.optimizers import Adam\n",
        "import numpy as np\n",
        "import os\n"
      ],
      "metadata": {
        "id": "1uIsIisH1AOW"
      },
      "execution_count": null,
      "outputs": []
    },
    {
      "cell_type": "code",
      "source": [
        "file = file = open(\"metamorphosis_clean.txt\", \"r\", encoding = \"utf8\")\n",
        "lines = []\n",
        "\n",
        "for i in file:\n",
        "    lines.append(i)\n",
        "    \n",
        "print(\"The First Line: \", lines[0])\n",
        "print(\"The Last Line: \", lines[-1])"
      ],
      "metadata": {
        "colab": {
          "base_uri": "https://localhost:8080/"
        },
        "id": "7r6oWKG5uMKO",
        "outputId": "d5883781-2433-478f-8798-29475b04425d"
      },
      "execution_count": null,
      "outputs": [
        {
          "output_type": "stream",
          "name": "stdout",
          "text": [
            "The First Line:  ﻿One morning, when Gregor Samsa woke from troubled dreams, he found\n",
            "\n",
            "The Last Line:  first to get up and stretch out her young body.\n"
          ]
        }
      ]
    },
    {
      "cell_type": "code",
      "source": [
        "data = \"\"\n",
        "\n",
        "for i in lines:\n",
        "    data = ' '. join(lines)\n",
        "    \n",
        "data = data.replace('\\n', '').replace('\\r', '').replace('\\ufeff', '')\n",
        "data[:500]"
      ],
      "metadata": {
        "colab": {
          "base_uri": "https://localhost:8080/",
          "height": 71
        },
        "id": "yhVSMhCfucvD",
        "outputId": "8fb0f2d7-aa35-45f4-a645-582b90fe46b2"
      },
      "execution_count": null,
      "outputs": [
        {
          "output_type": "execute_result",
          "data": {
            "text/plain": [
              "'One morning, when Gregor Samsa woke from troubled dreams, he found himself transformed in his bed into a horrible vermin.  He lay on his armour-like back, and if he lifted his head a little he could see his brown belly, slightly domed and divided by arches into stiff sections.  The bedding was hardly able to cover it and seemed ready to slide off any moment.  His many legs, pitifully thin compared with the size of the rest of him, waved about helplessly as he looked.  \"What\\'s happened to me?\" he'"
            ],
            "application/vnd.google.colaboratory.intrinsic+json": {
              "type": "string"
            }
          },
          "metadata": {},
          "execution_count": 5
        }
      ]
    },
    {
      "cell_type": "code",
      "source": [
        "z = []\n",
        "\n",
        "for i in data.split():\n",
        "    if i not in z:\n",
        "        z.append(i)\n",
        "        \n",
        "data = ' '.join(z)\n",
        "data[:552]"
      ],
      "metadata": {
        "colab": {
          "base_uri": "https://localhost:8080/",
          "height": 71
        },
        "id": "i86s-8BkuuhS",
        "outputId": "ee45edd3-5fd9-4959-f7b1-7fe4b9767ebc"
      },
      "execution_count": null,
      "outputs": [
        {
          "output_type": "execute_result",
          "data": {
            "text/plain": [
              "'One morning, when Gregor Samsa woke from troubled dreams, he found himself transformed in his bed into a horrible vermin. He lay on armour-like back, and if lifted head little could see brown belly, slightly domed divided by arches stiff sections. The bedding was hardly able to cover it seemed ready slide off any moment. His many legs, pitifully thin compared with the size of rest him, waved about helplessly as looked. \"What\\'s happened me?\" thought. It wasn\\'t dream. room, proper human room although too small, peacefully between its four familiar '"
            ],
            "application/vnd.google.colaboratory.intrinsic+json": {
              "type": "string"
            }
          },
          "metadata": {},
          "execution_count": 6
        }
      ]
    },
    {
      "cell_type": "code",
      "source": [
        "new_data = [ls.stem(w) for w in data.split()]\n",
        "new = ' '\n",
        "for x in new_data:\n",
        "    new += ' ' + x"
      ],
      "metadata": {
        "id": "MKy9f6sSu_Db"
      },
      "execution_count": null,
      "outputs": []
    },
    {
      "cell_type": "code",
      "source": [
        "import nltk\n",
        "from nltk.tokenize import word_tokenize\n",
        "nltk.download('punkt')\n",
        "tokens = word_tokenize(new)"
      ],
      "metadata": {
        "colab": {
          "base_uri": "https://localhost:8080/"
        },
        "id": "KlB7DEHEvm5L",
        "outputId": "0e5eef73-80cb-4e90-962c-9a98b91776cb"
      },
      "execution_count": null,
      "outputs": [
        {
          "output_type": "stream",
          "name": "stderr",
          "text": [
            "[nltk_data] Downloading package punkt to /root/nltk_data...\n",
            "[nltk_data]   Unzipping tokenizers/punkt.zip.\n"
          ]
        }
      ]
    },
    {
      "cell_type": "code",
      "source": [
        "train_len = 3\n",
        "text_sequences = []\n",
        "for i in range(train_len,len(tokens)):\n",
        "    seq = tokens[i-train_len:i]\n",
        "    text_sequences.append(seq)\n",
        "sequences = {}\n",
        "count = 1\n",
        "for i in range(len(tokens)):\n",
        "    if tokens[i] not in sequences:\n",
        "        sequences[tokens[i]] = count\n",
        "        count += 1\n",
        "tokenizer = Tokenizer()\n",
        "tokenizer.fit_on_texts(text_sequences)\n",
        "sequences = tokenizer.texts_to_sequences(text_sequences)"
      ],
      "metadata": {
        "id": "GbdEeLezv2zj"
      },
      "execution_count": null,
      "outputs": []
    },
    {
      "cell_type": "code",
      "source": [
        "#Collecting some information   \n",
        "vocabulary_size = len(tokenizer.word_counts)+1\n",
        "\n",
        "n_sequences = np.empty([len(sequences),train_len], dtype='int32')\n",
        "for i in range(len(sequences)):\n",
        "    n_sequences[i] = sequences[i]"
      ],
      "metadata": {
        "id": "YvbU3RVlv6YL"
      },
      "execution_count": null,
      "outputs": []
    },
    {
      "cell_type": "code",
      "source": [
        "train_inputs = n_sequences[:,:-1]\n",
        "train_targets = n_sequences[:,-1]\n",
        "train_targets = to_categorical(train_targets, num_classes=vocabulary_size)\n",
        "seq_len = train_inputs.shape[1]\n",
        "train_inputs.shape"
      ],
      "metadata": {
        "colab": {
          "base_uri": "https://localhost:8080/"
        },
        "id": "Par5Zsobv9Du",
        "outputId": "8d4c3c9f-2019-4cfc-a0fc-e9ad67d838e6"
      },
      "execution_count": null,
      "outputs": [
        {
          "output_type": "execute_result",
          "data": {
            "text/plain": [
              "(5535, 2)"
            ]
          },
          "metadata": {},
          "execution_count": 13
        }
      ]
    },
    {
      "cell_type": "code",
      "source": [
        "from tensorflow.keras.callbacks import ModelCheckpoint\n",
        "from tensorflow.keras.callbacks import ReduceLROnPlateau\n",
        "\n",
        "\n",
        "checkpoint = ModelCheckpoint(\"nextword1.h5\", monitor='loss', verbose=1,\n",
        "    save_best_only=True, mode='auto')\n",
        "\n",
        "reduce = ReduceLROnPlateau(monitor='loss', factor=0.2, patience=3, min_lr=0.0001, verbose = 1)"
      ],
      "metadata": {
        "id": "Bf2XzRT_v_r8"
      },
      "execution_count": null,
      "outputs": []
    },
    {
      "cell_type": "code",
      "source": [
        "from keras.models import Sequential, load_model\n",
        "from keras.layers import Dense\n",
        "from keras.layers import LSTM\n",
        "from keras.layers import Embedding\n",
        "#model = load_model(\"mymodel.h5\")\n",
        "\n",
        "model = Sequential()\n",
        "model.add(Embedding(vocabulary_size, seq_len, input_length=seq_len))\n",
        "model.add(LSTM(1000,return_sequences=True))\n",
        "model.add(LSTM(1000))\n",
        "model.add(Dense(1000,activation='relu'))\n",
        "model.add(Dense(vocabulary_size, activation='softmax'))\n",
        "print(model.summary())"
      ],
      "metadata": {
        "colab": {
          "base_uri": "https://localhost:8080/"
        },
        "id": "Unt6ePWzwDBN",
        "outputId": "5cf30ba7-a767-4ffd-db85-2548f5ac7e05"
      },
      "execution_count": null,
      "outputs": [
        {
          "output_type": "stream",
          "name": "stdout",
          "text": [
            "Model: \"sequential\"\n",
            "_________________________________________________________________\n",
            " Layer (type)                Output Shape              Param #   \n",
            "=================================================================\n",
            " embedding (Embedding)       (None, 2, 2)              4620      \n",
            "                                                                 \n",
            " lstm (LSTM)                 (None, 2, 1000)           4012000   \n",
            "                                                                 \n",
            " lstm_1 (LSTM)               (None, 1000)              8004000   \n",
            "                                                                 \n",
            " dense (Dense)               (None, 1000)              1001000   \n",
            "                                                                 \n",
            " dense_1 (Dense)             (None, 2310)              2312310   \n",
            "                                                                 \n",
            "=================================================================\n",
            "Total params: 15,333,930\n",
            "Trainable params: 15,333,930\n",
            "Non-trainable params: 0\n",
            "_________________________________________________________________\n",
            "None\n"
          ]
        }
      ]
    },
    {
      "cell_type": "code",
      "source": [
        "from tensorflow import keras\n",
        "from keras.utils.vis_utils import plot_model\n",
        "\n",
        "keras.utils.plot_model(model, to_file='model.png', show_layer_names=True)"
      ],
      "metadata": {
        "colab": {
          "base_uri": "https://localhost:8080/",
          "height": 564
        },
        "id": "mbQ3VHXlwGpp",
        "outputId": "c33c6460-ada6-4b83-ad82-c5fe33b72d50"
      },
      "execution_count": null,
      "outputs": [
        {
          "output_type": "execute_result",
          "data": {
            "image/png": "[encoded data removed]",
            "text/plain": [
              "<IPython.core.display.Image object>"
            ]
          },
          "metadata": {},
          "execution_count": 16
        }
      ]
    },
    {
      "cell_type": "code",
      "source": [
        "# compile network\n",
        "es = tf.keras.callbacks.EarlyStopping(monitor='loss', patience=3)\n",
        "model.compile(loss='categorical_crossentropy', optimizer=Adam(learning_rate=0.001), metrics=['accuracy'])\n",
        "model.fit(train_inputs,train_targets,epochs=150, batch_size=64, callbacks=[checkpoint, reduce, es],verbose=1)\n",
        "model.save(\"mymodel.h5\")"
      ],
      "metadata": {
        "colab": {
          "base_uri": "https://localhost:8080/"
        },
        "id": "_P4FNcv6wMUs",
        "outputId": "da955c85-4ddc-4cc0-9d64-b7bfc92df27b"
      },
      "execution_count": null,
      "outputs": [
        {
          "output_type": "stream",
          "name": "stdout",
          "text": [
            "Epoch 1/150\n",
            "83/87 [===========================>..] - ETA: 0s - loss: 6.5650 - accuracy: 0.1229\n",
            "Epoch 1: loss improved from 7.10903 to 6.56416, saving model to nextword1.h5\n",
            "87/87 [==============================] - 5s 18ms/step - loss: 6.5642 - accuracy: 0.1229 - lr: 0.0010\n",
            "Epoch 2/150\n",
            "86/87 [============================>.] - ETA: 0s - loss: 6.2973 - accuracy: 0.1261\n",
            "Epoch 2: loss improved from 6.56416 to 6.29513, saving model to nextword1.h5\n",
            "87/87 [==============================] - 1s 17ms/step - loss: 6.2951 - accuracy: 0.1263 - lr: 0.0010\n",
            "Epoch 3/150\n",
            "83/87 [===========================>..] - ETA: 0s - loss: 6.0517 - accuracy: 0.1314\n",
            "Epoch 3: loss improved from 6.29513 to 6.05179, saving model to nextword1.h5\n",
            "87/87 [==============================] - 1s 17ms/step - loss: 6.0518 - accuracy: 0.1310 - lr: 0.0010\n",
            "Epoch 4/150\n",
            "85/87 [============================>.] - ETA: 0s - loss: 5.7658 - accuracy: 0.1344\n",
            "Epoch 4: loss improved from 6.05179 to 5.77075, saving model to nextword1.h5\n",
            "87/87 [==============================] - 2s 19ms/step - loss: 5.7707 - accuracy: 0.1337 - lr: 0.0010\n",
            "Epoch 5/150\n",
            "85/87 [============================>.] - ETA: 0s - loss: 5.5573 - accuracy: 0.1358\n",
            "Epoch 5: loss improved from 5.77075 to 5.55623, saving model to nextword1.h5\n",
            "87/87 [==============================] - 2s 19ms/step - loss: 5.5562 - accuracy: 0.1353 - lr: 0.0010\n",
            "Epoch 6/150\n",
            "85/87 [============================>.] - ETA: 0s - loss: 5.3967 - accuracy: 0.1373\n",
            "Epoch 6: loss improved from 5.55623 to 5.40067, saving model to nextword1.h5\n",
            "87/87 [==============================] - 2s 19ms/step - loss: 5.4007 - accuracy: 0.1369 - lr: 0.0010\n",
            "Epoch 7/150\n",
            "85/87 [============================>.] - ETA: 0s - loss: 5.2325 - accuracy: 0.1355\n",
            "Epoch 7: loss improved from 5.40067 to 5.23632, saving model to nextword1.h5\n",
            "87/87 [==============================] - 2s 17ms/step - loss: 5.2363 - accuracy: 0.1351 - lr: 0.0010\n",
            "Epoch 8/150\n",
            "85/87 [============================>.] - ETA: 0s - loss: 5.0863 - accuracy: 0.1353\n",
            "Epoch 8: loss improved from 5.23632 to 5.08459, saving model to nextword1.h5\n",
            "87/87 [==============================] - 2s 17ms/step - loss: 5.0846 - accuracy: 0.1353 - lr: 0.0010\n",
            "Epoch 9/150\n",
            "83/87 [===========================>..] - ETA: 0s - loss: 4.9207 - accuracy: 0.1370\n",
            "Epoch 9: loss improved from 5.08459 to 4.93133, saving model to nextword1.h5\n",
            "87/87 [==============================] - 1s 17ms/step - loss: 4.9313 - accuracy: 0.1371 - lr: 0.0010\n",
            "Epoch 10/150\n",
            "87/87 [==============================] - ETA: 0s - loss: 4.8072 - accuracy: 0.1364\n",
            "Epoch 10: loss improved from 4.93133 to 4.80723, saving model to nextword1.h5\n",
            "87/87 [==============================] - 1s 17ms/step - loss: 4.8072 - accuracy: 0.1364 - lr: 0.0010\n",
            "Epoch 11/150\n",
            "86/87 [============================>.] - ETA: 0s - loss: 4.6783 - accuracy: 0.1450\n",
            "Epoch 11: loss improved from 4.80723 to 4.67942, saving model to nextword1.h5\n",
            "87/87 [==============================] - 1s 17ms/step - loss: 4.6794 - accuracy: 0.1449 - lr: 0.0010\n",
            "Epoch 12/150\n",
            "85/87 [============================>.] - ETA: 0s - loss: 4.4918 - accuracy: 0.1535\n",
            "Epoch 12: loss improved from 4.67942 to 4.49552, saving model to nextword1.h5\n",
            "87/87 [==============================] - 1s 17ms/step - loss: 4.4955 - accuracy: 0.1534 - lr: 0.0010\n",
            "Epoch 13/150\n",
            "84/87 [===========================>..] - ETA: 0s - loss: 4.3463 - accuracy: 0.1626\n",
            "Epoch 13: loss improved from 4.49552 to 4.35559, saving model to nextword1.h5\n",
            "87/87 [==============================] - 1s 17ms/step - loss: 4.3556 - accuracy: 0.1617 - lr: 0.0010\n",
            "Epoch 14/150\n",
            "86/87 [============================>.] - ETA: 0s - loss: 4.2135 - accuracy: 0.1672\n",
            "Epoch 14: loss improved from 4.35559 to 4.21243, saving model to nextword1.h5\n",
            "87/87 [==============================] - 1s 17ms/step - loss: 4.2124 - accuracy: 0.1675 - lr: 0.0010\n",
            "Epoch 15/150\n",
            "84/87 [===========================>..] - ETA: 0s - loss: 4.0904 - accuracy: 0.1683\n",
            "Epoch 15: loss improved from 4.21243 to 4.09188, saving model to nextword1.h5\n",
            "87/87 [==============================] - 1s 17ms/step - loss: 4.0919 - accuracy: 0.1678 - lr: 0.0010\n",
            "Epoch 16/150\n",
            "85/87 [============================>.] - ETA: 0s - loss: 3.9613 - accuracy: 0.1746\n",
            "Epoch 16: loss improved from 4.09188 to 3.97091, saving model to nextword1.h5\n",
            "87/87 [==============================] - 1s 17ms/step - loss: 3.9709 - accuracy: 0.1751 - lr: 0.0010\n",
            "Epoch 17/150\n",
            "87/87 [==============================] - ETA: 0s - loss: 3.9146 - accuracy: 0.1754\n",
            "Epoch 17: loss improved from 3.97091 to 3.91458, saving model to nextword1.h5\n",
            "87/87 [==============================] - 1s 17ms/step - loss: 3.9146 - accuracy: 0.1754 - lr: 0.0010\n",
            "Epoch 18/150\n",
            "86/87 [============================>.] - ETA: 0s - loss: 3.7753 - accuracy: 0.1793\n",
            "Epoch 18: loss improved from 3.91458 to 3.77756, saving model to nextword1.h5\n",
            "87/87 [==============================] - 1s 17ms/step - loss: 3.7776 - accuracy: 0.1789 - lr: 0.0010\n",
            "Epoch 19/150\n",
            "83/87 [===========================>..] - ETA: 0s - loss: 3.6874 - accuracy: 0.1851\n",
            "Epoch 19: loss improved from 3.77756 to 3.69996, saving model to nextword1.h5\n",
            "87/87 [==============================] - 1s 17ms/step - loss: 3.7000 - accuracy: 0.1850 - lr: 0.0010\n",
            "Epoch 20/150\n",
            "85/87 [============================>.] - ETA: 0s - loss: 3.6030 - accuracy: 0.1897\n",
            "Epoch 20: loss improved from 3.69996 to 3.61060, saving model to nextword1.h5\n",
            "87/87 [==============================] - 1s 17ms/step - loss: 3.6106 - accuracy: 0.1893 - lr: 0.0010\n",
            "Epoch 21/150\n",
            "87/87 [==============================] - ETA: 0s - loss: 3.5125 - accuracy: 0.1917\n",
            "Epoch 21: loss improved from 3.61060 to 3.51252, saving model to nextword1.h5\n",
            "87/87 [==============================] - 1s 17ms/step - loss: 3.5125 - accuracy: 0.1917 - lr: 0.0010\n",
            "Epoch 22/150\n",
            "86/87 [============================>.] - ETA: 0s - loss: 3.4514 - accuracy: 0.1979\n",
            "Epoch 22: loss improved from 3.51252 to 3.45426, saving model to nextword1.h5\n",
            "87/87 [==============================] - 1s 17ms/step - loss: 3.4543 - accuracy: 0.1977 - lr: 0.0010\n",
            "Epoch 23/150\n",
            "87/87 [==============================] - ETA: 0s - loss: 3.3723 - accuracy: 0.1975\n",
            "Epoch 23: loss improved from 3.45426 to 3.37231, saving model to nextword1.h5\n",
            "87/87 [==============================] - 2s 17ms/step - loss: 3.3723 - accuracy: 0.1975 - lr: 0.0010\n",
            "Epoch 24/150\n",
            "83/87 [===========================>..] - ETA: 0s - loss: 3.2943 - accuracy: 0.2063\n",
            "Epoch 24: loss improved from 3.37231 to 3.29971, saving model to nextword1.h5\n",
            "87/87 [==============================] - 1s 17ms/step - loss: 3.2997 - accuracy: 0.2054 - lr: 0.0010\n",
            "Epoch 25/150\n",
            "87/87 [==============================] - ETA: 0s - loss: 3.2086 - accuracy: 0.2107\n",
            "Epoch 25: loss improved from 3.29971 to 3.20859, saving model to nextword1.h5\n",
            "87/87 [==============================] - 1s 17ms/step - loss: 3.2086 - accuracy: 0.2107 - lr: 0.0010\n",
            "Epoch 26/150\n",
            "83/87 [===========================>..] - ETA: 0s - loss: 3.1619 - accuracy: 0.2186\n",
            "Epoch 26: loss improved from 3.20859 to 3.17631, saving model to nextword1.h5\n",
            "87/87 [==============================] - 1s 17ms/step - loss: 3.1763 - accuracy: 0.2166 - lr: 0.0010\n",
            "Epoch 27/150\n",
            "84/87 [===========================>..] - ETA: 0s - loss: 3.1210 - accuracy: 0.2260\n",
            "Epoch 27: loss improved from 3.17631 to 3.12253, saving model to nextword1.h5\n",
            "87/87 [==============================] - 2s 17ms/step - loss: 3.1225 - accuracy: 0.2253 - lr: 0.0010\n",
            "Epoch 28/150\n",
            "85/87 [============================>.] - ETA: 0s - loss: 3.0316 - accuracy: 0.2300\n",
            "Epoch 28: loss improved from 3.12253 to 3.03626, saving model to nextword1.h5\n",
            "87/87 [==============================] - 1s 17ms/step - loss: 3.0363 - accuracy: 0.2289 - lr: 0.0010\n",
            "Epoch 29/150\n",
            "86/87 [============================>.] - ETA: 0s - loss: 3.0004 - accuracy: 0.2329\n",
            "Epoch 29: loss improved from 3.03626 to 3.00042, saving model to nextword1.h5\n",
            "87/87 [==============================] - 1s 17ms/step - loss: 3.0004 - accuracy: 0.2325 - lr: 0.0010\n",
            "Epoch 30/150\n",
            "83/87 [===========================>..] - ETA: 0s - loss: 2.9375 - accuracy: 0.2374\n",
            "Epoch 30: loss improved from 3.00042 to 2.95591, saving model to nextword1.h5\n",
            "87/87 [==============================] - 1s 17ms/step - loss: 2.9559 - accuracy: 0.2343 - lr: 0.0010\n",
            "Epoch 31/150\n",
            "83/87 [===========================>..] - ETA: 0s - loss: 2.8875 - accuracy: 0.2406\n",
            "Epoch 31: loss improved from 2.95591 to 2.89766, saving model to nextword1.h5\n",
            "87/87 [==============================] - 1s 17ms/step - loss: 2.8977 - accuracy: 0.2396 - lr: 0.0010\n",
            "Epoch 32/150\n",
            "86/87 [============================>.] - ETA: 0s - loss: 2.8691 - accuracy: 0.2475\n",
            "Epoch 32: loss improved from 2.89766 to 2.87127, saving model to nextword1.h5\n",
            "87/87 [==============================] - 1s 17ms/step - loss: 2.8713 - accuracy: 0.2472 - lr: 0.0010\n",
            "Epoch 33/150\n",
            "87/87 [==============================] - ETA: 0s - loss: 2.8002 - accuracy: 0.2504\n",
            "Epoch 33: loss improved from 2.87127 to 2.80019, saving model to nextword1.h5\n",
            "87/87 [==============================] - 2s 18ms/step - loss: 2.8002 - accuracy: 0.2504 - lr: 0.0010\n",
            "Epoch 34/150\n",
            "87/87 [==============================] - ETA: 0s - loss: 2.7388 - accuracy: 0.2654\n",
            "Epoch 34: loss improved from 2.80019 to 2.73876, saving model to nextword1.h5\n",
            "87/87 [==============================] - 2s 17ms/step - loss: 2.7388 - accuracy: 0.2654 - lr: 0.0010\n",
            "Epoch 35/150\n",
            "85/87 [============================>.] - ETA: 0s - loss: 2.7145 - accuracy: 0.2704\n",
            "Epoch 35: loss improved from 2.73876 to 2.71831, saving model to nextword1.h5\n",
            "87/87 [==============================] - 1s 17ms/step - loss: 2.7183 - accuracy: 0.2699 - lr: 0.0010\n",
            "Epoch 36/150\n",
            "87/87 [==============================] - ETA: 0s - loss: 2.6758 - accuracy: 0.2757\n",
            "Epoch 36: loss improved from 2.71831 to 2.67577, saving model to nextword1.h5\n",
            "87/87 [==============================] - 2s 17ms/step - loss: 2.6758 - accuracy: 0.2757 - lr: 0.0010\n",
            "Epoch 37/150\n",
            "87/87 [==============================] - ETA: 0s - loss: 2.6826 - accuracy: 0.2728\n",
            "Epoch 37: loss did not improve from 2.67577\n",
            "87/87 [==============================] - 1s 12ms/step - loss: 2.6826 - accuracy: 0.2728 - lr: 0.0010\n",
            "Epoch 38/150\n",
            "85/87 [============================>.] - ETA: 0s - loss: 2.5933 - accuracy: 0.2871\n",
            "Epoch 38: loss improved from 2.67577 to 2.59398, saving model to nextword1.h5\n",
            "87/87 [==============================] - 1s 17ms/step - loss: 2.5940 - accuracy: 0.2867 - lr: 0.0010\n",
            "Epoch 39/150\n",
            "83/87 [===========================>..] - ETA: 0s - loss: 2.5288 - accuracy: 0.2978\n",
            "Epoch 39: loss improved from 2.59398 to 2.53253, saving model to nextword1.h5\n",
            "87/87 [==============================] - 1s 17ms/step - loss: 2.5325 - accuracy: 0.2972 - lr: 0.0010\n",
            "Epoch 40/150\n",
            "85/87 [============================>.] - ETA: 0s - loss: 2.4993 - accuracy: 0.3031\n",
            "Epoch 40: loss improved from 2.53253 to 2.50288, saving model to nextword1.h5\n",
            "87/87 [==============================] - 2s 18ms/step - loss: 2.5029 - accuracy: 0.3014 - lr: 0.0010\n",
            "Epoch 41/150\n",
            "84/87 [===========================>..] - ETA: 0s - loss: 2.4837 - accuracy: 0.3056\n",
            "Epoch 41: loss improved from 2.50288 to 2.48074, saving model to nextword1.h5\n",
            "87/87 [==============================] - 2s 17ms/step - loss: 2.4807 - accuracy: 0.3053 - lr: 0.0010\n",
            "Epoch 42/150\n",
            "86/87 [============================>.] - ETA: 0s - loss: 2.4134 - accuracy: 0.3156\n",
            "Epoch 42: loss improved from 2.48074 to 2.41501, saving model to nextword1.h5\n",
            "87/87 [==============================] - 2s 17ms/step - loss: 2.4150 - accuracy: 0.3151 - lr: 0.0010\n",
            "Epoch 43/150\n",
            "85/87 [============================>.] - ETA: 0s - loss: 2.3484 - accuracy: 0.3327\n",
            "Epoch 43: loss improved from 2.41501 to 2.34547, saving model to nextword1.h5\n",
            "87/87 [==============================] - 1s 17ms/step - loss: 2.3455 - accuracy: 0.3337 - lr: 0.0010\n",
            "Epoch 44/150\n",
            "83/87 [===========================>..] - ETA: 0s - loss: 2.3035 - accuracy: 0.3375\n",
            "Epoch 44: loss improved from 2.34547 to 2.31635, saving model to nextword1.h5\n",
            "87/87 [==============================] - 2s 18ms/step - loss: 2.3163 - accuracy: 0.3346 - lr: 0.0010\n",
            "Epoch 45/150\n",
            "84/87 [===========================>..] - ETA: 0s - loss: 2.2584 - accuracy: 0.3482\n",
            "Epoch 45: loss improved from 2.31635 to 2.26484, saving model to nextword1.h5\n",
            "87/87 [==============================] - 2s 17ms/step - loss: 2.2648 - accuracy: 0.3469 - lr: 0.0010\n",
            "Epoch 46/150\n",
            "83/87 [===========================>..] - ETA: 0s - loss: 2.2323 - accuracy: 0.3486\n",
            "Epoch 46: loss improved from 2.26484 to 2.23220, saving model to nextword1.h5\n",
            "87/87 [==============================] - 2s 17ms/step - loss: 2.2322 - accuracy: 0.3507 - lr: 0.0010\n",
            "Epoch 47/150\n",
            "84/87 [===========================>..] - ETA: 0s - loss: 2.1846 - accuracy: 0.3651\n",
            "Epoch 47: loss improved from 2.23220 to 2.19395, saving model to nextword1.h5\n",
            "87/87 [==============================] - 1s 17ms/step - loss: 2.1940 - accuracy: 0.3630 - lr: 0.0010\n",
            "Epoch 48/150\n",
            "86/87 [============================>.] - ETA: 0s - loss: 2.2013 - accuracy: 0.3645\n",
            "Epoch 48: loss did not improve from 2.19395\n",
            "87/87 [==============================] - 1s 13ms/step - loss: 2.2026 - accuracy: 0.3639 - lr: 0.0010\n",
            "Epoch 49/150\n",
            "85/87 [============================>.] - ETA: 0s - loss: 2.1502 - accuracy: 0.3686\n",
            "Epoch 49: loss improved from 2.19395 to 2.15695, saving model to nextword1.h5\n",
            "87/87 [==============================] - 2s 17ms/step - loss: 2.1569 - accuracy: 0.3666 - lr: 0.0010\n",
            "Epoch 50/150\n",
            "83/87 [===========================>..] - ETA: 0s - loss: 2.0694 - accuracy: 0.3878\n",
            "Epoch 50: loss improved from 2.15695 to 2.08060, saving model to nextword1.h5\n",
            "87/87 [==============================] - 2s 17ms/step - loss: 2.0806 - accuracy: 0.3845 - lr: 0.0010\n",
            "Epoch 51/150\n",
            "84/87 [===========================>..] - ETA: 0s - loss: 2.0688 - accuracy: 0.3891\n",
            "Epoch 51: loss improved from 2.08060 to 2.07427, saving model to nextword1.h5\n",
            "87/87 [==============================] - 2s 17ms/step - loss: 2.0743 - accuracy: 0.3879 - lr: 0.0010\n",
            "Epoch 52/150\n",
            "83/87 [===========================>..] - ETA: 0s - loss: 2.0739 - accuracy: 0.3893\n",
            "Epoch 52: loss did not improve from 2.07427\n",
            "87/87 [==============================] - 1s 13ms/step - loss: 2.0819 - accuracy: 0.3875 - lr: 0.0010\n",
            "Epoch 53/150\n",
            "84/87 [===========================>..] - ETA: 0s - loss: 2.0716 - accuracy: 0.3893\n",
            "Epoch 53: loss improved from 2.07427 to 2.07369, saving model to nextword1.h5\n",
            "87/87 [==============================] - 2s 17ms/step - loss: 2.0737 - accuracy: 0.3884 - lr: 0.0010\n",
            "Epoch 54/150\n",
            "85/87 [============================>.] - ETA: 0s - loss: 1.9917 - accuracy: 0.4015\n",
            "Epoch 54: loss improved from 2.07369 to 2.00166, saving model to nextword1.h5\n",
            "87/87 [==============================] - 2s 17ms/step - loss: 2.0017 - accuracy: 0.3986 - lr: 0.0010\n",
            "Epoch 55/150\n",
            "86/87 [============================>.] - ETA: 0s - loss: 1.9707 - accuracy: 0.4039\n",
            "Epoch 55: loss improved from 2.00166 to 1.97008, saving model to nextword1.h5\n",
            "87/87 [==============================] - 2s 18ms/step - loss: 1.9701 - accuracy: 0.4040 - lr: 0.0010\n",
            "Epoch 56/150\n",
            "84/87 [===========================>..] - ETA: 0s - loss: 1.9058 - accuracy: 0.4284\n",
            "Epoch 56: loss improved from 1.97008 to 1.91287, saving model to nextword1.h5\n",
            "87/87 [==============================] - 2s 17ms/step - loss: 1.9129 - accuracy: 0.4269 - lr: 0.0010\n",
            "Epoch 57/150\n",
            "85/87 [============================>.] - ETA: 0s - loss: 1.9067 - accuracy: 0.4165\n",
            "Epoch 57: loss improved from 1.91287 to 1.91269, saving model to nextword1.h5\n",
            "87/87 [==============================] - 2s 17ms/step - loss: 1.9127 - accuracy: 0.4150 - lr: 0.0010\n",
            "Epoch 58/150\n",
            "83/87 [===========================>..] - ETA: 0s - loss: 1.8743 - accuracy: 0.4360\n",
            "Epoch 58: loss improved from 1.91269 to 1.88269, saving model to nextword1.h5\n",
            "87/87 [==============================] - 2s 17ms/step - loss: 1.8827 - accuracy: 0.4336 - lr: 0.0010\n",
            "Epoch 59/150\n",
            "86/87 [============================>.] - ETA: 0s - loss: 1.8686 - accuracy: 0.4282\n",
            "Epoch 59: loss improved from 1.88269 to 1.86794, saving model to nextword1.h5\n",
            "87/87 [==============================] - 1s 17ms/step - loss: 1.8679 - accuracy: 0.4282 - lr: 0.0010\n",
            "Epoch 60/150\n",
            "87/87 [==============================] - ETA: 0s - loss: 1.8710 - accuracy: 0.4244\n",
            "Epoch 60: loss did not improve from 1.86794\n",
            "87/87 [==============================] - 1s 13ms/step - loss: 1.8710 - accuracy: 0.4244 - lr: 0.0010\n",
            "Epoch 61/150\n",
            "85/87 [============================>.] - ETA: 0s - loss: 1.8415 - accuracy: 0.4393\n",
            "Epoch 61: loss improved from 1.86794 to 1.84954, saving model to nextword1.h5\n",
            "87/87 [==============================] - 2s 17ms/step - loss: 1.8495 - accuracy: 0.4365 - lr: 0.0010\n",
            "Epoch 62/150\n",
            "84/87 [===========================>..] - ETA: 0s - loss: 1.7820 - accuracy: 0.4520\n",
            "Epoch 62: loss improved from 1.84954 to 1.79324, saving model to nextword1.h5\n",
            "87/87 [==============================] - 1s 17ms/step - loss: 1.7932 - accuracy: 0.4486 - lr: 0.0010\n",
            "Epoch 63/150\n",
            "83/87 [===========================>..] - ETA: 0s - loss: 1.7538 - accuracy: 0.4654\n",
            "Epoch 63: loss improved from 1.79324 to 1.76576, saving model to nextword1.h5\n",
            "87/87 [==============================] - 2s 17ms/step - loss: 1.7658 - accuracy: 0.4616 - lr: 0.0010\n",
            "Epoch 64/150\n",
            "86/87 [============================>.] - ETA: 0s - loss: 1.7698 - accuracy: 0.4502\n",
            "Epoch 64: loss did not improve from 1.76576\n",
            "87/87 [==============================] - 1s 13ms/step - loss: 1.7699 - accuracy: 0.4504 - lr: 0.0010\n",
            "Epoch 65/150\n",
            "86/87 [============================>.] - ETA: 0s - loss: 1.8096 - accuracy: 0.4460\n",
            "Epoch 65: loss did not improve from 1.76576\n",
            "87/87 [==============================] - 1s 13ms/step - loss: 1.8120 - accuracy: 0.4453 - lr: 0.0010\n",
            "Epoch 66/150\n",
            "84/87 [===========================>..] - ETA: 0s - loss: 1.7639 - accuracy: 0.4522\n",
            "Epoch 66: loss did not improve from 1.76576\n",
            "\n",
            "Epoch 66: ReduceLROnPlateau reducing learning rate to 0.00020000000949949026.\n",
            "87/87 [==============================] - 1s 13ms/step - loss: 1.7705 - accuracy: 0.4517 - lr: 0.0010\n"
          ]
        }
      ]
    },
    {
      "cell_type": "code",
      "source": [
        "from keras_preprocessing.sequence import pad_sequences\n",
        "input_text = input().strip().lower()\n",
        "encoded_text = tokenizer.texts_to_sequences([input_text])[0]\n",
        "pad_encoded = pad_sequences([encoded_text], maxlen=seq_len, padding='pre', truncating='pre')\n",
        "print(encoded_text, pad_encoded)\n",
        "for i in (model.predict(pad_encoded)[0]).argsort()[-3:][::-1]:\n",
        "  pred_word = tokenizer.index_word[i]\n",
        "  print(\"Next word suggestion:\",pred_word)"
      ],
      "metadata": {
        "colab": {
          "base_uri": "https://localhost:8080/"
        },
        "id": "BmJzUaJdwxtg",
        "outputId": "fc4b5ea8-740c-4f63-db6d-21b337f989be"
      },
      "execution_count": null,
      "outputs": [
        {
          "output_type": "stream",
          "name": "stdout",
          "text": [
            "he found himself\n",
            "[13, 839, 42] [[839  42]]\n",
            "1/1 [==============================] - 0s 16ms/step\n",
            "Next word suggestion: sections\n",
            "Next word suggestion: excusal\n",
            "Next word suggestion: contract\n"
          ]
        }
      ]
    },
    {
      "cell_type": "markdown",
      "source": [
        "#### 8. Are there languages that are harder or easier to stem than English? What linguistic structures affect this?"
      ],
      "metadata": {
        "id": "q9QruYdU3C00"
      }
    },
    {
      "cell_type": "markdown",
      "source": [
        "Finnish, German, Icelandic, Arabic etc. \n",
        "For instance :\n",
        "detecting regular changes of the stem (e.g. 'Haus' and 'Häuser' in German \n",
        "detecting glued characters (e.g. 'essen' and 'gegessen') \n",
        "detecting irregular chages of teh stem (e.g. 'nehmen' and 'genommen') \n",
        "The German language makes heavy use of compound nouns. E.g. the German term for \"nuclear power plan\" is \"Atomkraftwerk\" and the room the director of nuclear power plant works in would be \"Atomkraftwerksdirektorenzimmer\".\n",
        "for example, the word götusópari ‘street sweeper’ which is a com- pound made of the genitive of the noun gata ‘street’ and a noun derived from the verb sópa, using the affix -ari ‘one who does what the verb expresses’ (sim- ilar to the English -er). The masculine noun götusópari does not appear in the 590K word IFD corpus nor does the noun sópari ‘sweeper’. On the other hand, the neuter noun pari (dative form of par ‘pair’) does exist in the corpus. Using longest match analysis for unknown words results in the incorrect lemma götusó- par, while the correct result would be an unmodified götusópari.\n",
        " Consider, for example, the feminine plural noun álfelgur ‘alumininum rims’. Even if our lemmatizer recognizes the parts ál ‘aluminium’ and felgur ‘rims’ it might mistake the ál-felgur compound for álf-elgur ‘elf moose’, because of compound ambiguity."
      ],
      "metadata": {
        "id": "3DSM1mom3JpK"
      }
    },
    {
      "cell_type": "markdown",
      "source": [
        "#### 9. Are there languages in which even segmentation (splitting a paragraph into sentences and sentences into words) is challenging?\n"
      ],
      "metadata": {
        "id": "vJfzFXt5_JRS"
      }
    },
    {
      "cell_type": "markdown",
      "source": [
        "Thai sentences consist of many words that are written consecutively with compli- cated rules that make word segmentation to be an arduous task.\n",
        "1. The vowels ะ,า,◌ิ,◌ี,◌ึ,◌ื,◌ุ,◌ู,◌็,◌ํา,◌ั, and tonal marks must have at least one preceding consonant.\n",
        "2. The vowels เ, แ, ไ, and โ always be the first letter of a syllable except with leading consonants.\n",
        "3. The vowel ใ always the first letter of a syllable.\n",
        "4. The consonants ฉ [tɕh], ผ [ph], ฝ [f], ฮ [h] always be the first consonants except\n",
        "in the case of preceding by the vowels เ, แ, ไ, ใ, or โ.\n",
        "5. Theconsonantsศ[s],ณ[n],ญ[j],ษ[s],ฐ[th],ฎ[d],ฏ[t],ฒ[th],ฬ[l],ฌ[tɕh]\n",
        "always be a final consonant except for some syllables, such as ศก [sòk], ณรงค์\n",
        "[ná-roŋ], ญวน [juan], ศพ [sòp], ศตวรรษ [sà-tà-wat], etc.\n",
        "6. The vowel ◌ึ [ɯ] always followed by a final consonant except for the syllables:\n",
        "รึ [rɯ], หึ [hɯ], ฮึ [hɯ].\n",
        "7. The vowel ◌ั [a] always follows a consonant.\n",
        "8. The vowels อ [ʔ], and ◌ํา [ʔam] always follows a consonant.\n",
        "Also, in traditional Thai writing system, punctuation and space is not used. Therefore, the segmentation poses a great challanges when it comes to NLP analysis. Besides Thai, languages such as traditional Chinese text (not traditional Chinese characters), Tamil, Hindi, Sanskrit, Mayan, Hiroglyphics, Runes, Old Norse, Old Church Slavonic, Gothic, Old English, Old German, Ancient Greek, etc. are having the same issues. "
      ],
      "metadata": {
        "id": "1BiZ-tdS7JtM"
      }
    },
    {
      "cell_type": "code",
      "source": [],
      "metadata": {
        "id": "E-MvoUdyJDik"
      },
      "execution_count": null,
      "outputs": []
    }
  ],
  "metadata": {
    "colab": {
      "provenance": [],
      "collapsed_sections": []
    },
    "kernelspec": {
      "display_name": "Python 3",
      "name": "python3"
    },
    "language_info": {
      "name": "python"
    },
    "widgets": {
      "application/vnd.jupyter.widget-state+json": {
        "d264c8c19ec8420097f7624341af0741": {
          "model_module": "@jupyter-widgets/controls",
          "model_name": "HBoxModel",
          "model_module_version": "1.5.0",
          "state": {
            "_dom_classes": [],
            "_model_module": "@jupyter-widgets/controls",
            "_model_module_version": "1.5.0",
            "_model_name": "HBoxModel",
            "_view_count": null,
            "_view_module": "@jupyter-widgets/controls",
            "_view_module_version": "1.5.0",
            "_view_name": "HBoxView",
            "box_style": "",
            "children": [
              "IPY_MODEL_e87977732b9949d8b9cba836f6267145",
              "IPY_MODEL_da859e5530934f988d85bf50210ecb69",
              "IPY_MODEL_37df9ea5be014686a135bf5bea68594d"
            ],
            "layout": "IPY_MODEL_ea9a13d5e2194b16ad4bbf8f234bfe07"
          }
        },
        "e87977732b9949d8b9cba836f6267145": {
          "model_module": "@jupyter-widgets/controls",
          "model_name": "HTMLModel",
          "model_module_version": "1.5.0",
          "state": {
            "_dom_classes": [],
            "_model_module": "@jupyter-widgets/controls",
            "_model_module_version": "1.5.0",
            "_model_name": "HTMLModel",
            "_view_count": null,
            "_view_module": "@jupyter-widgets/controls",
            "_view_module_version": "1.5.0",
            "_view_name": "HTMLView",
            "description": "",
            "description_tooltip": null,
            "layout": "IPY_MODEL_95eba8336cdc4aa2b2e4c584a57d28db",
            "placeholder": "​",
            "style": "IPY_MODEL_c02c22d4e73948898220b6304ea0ee96",
            "value": "Downloading: 100%"
          }
        },
        "da859e5530934f988d85bf50210ecb69": {
          "model_module": "@jupyter-widgets/controls",
          "model_name": "FloatProgressModel",
          "model_module_version": "1.5.0",
          "state": {
            "_dom_classes": [],
            "_model_module": "@jupyter-widgets/controls",
            "_model_module_version": "1.5.0",
            "_model_name": "FloatProgressModel",
            "_view_count": null,
            "_view_module": "@jupyter-widgets/controls",
            "_view_module_version": "1.5.0",
            "_view_name": "ProgressView",
            "bar_style": "success",
            "description": "",
            "description_tooltip": null,
            "layout": "IPY_MODEL_edd47ef63c5a42f681cf12acdbc5e6b2",
            "max": 483,
            "min": 0,
            "orientation": "horizontal",
            "style": "IPY_MODEL_ba3b1d69a8dd4e7b9f8125190fe747c4",
            "value": 483
          }
        },
        "37df9ea5be014686a135bf5bea68594d": {
          "model_module": "@jupyter-widgets/controls",
          "model_name": "HTMLModel",
          "model_module_version": "1.5.0",
          "state": {
            "_dom_classes": [],
            "_model_module": "@jupyter-widgets/controls",
            "_model_module_version": "1.5.0",
            "_model_name": "HTMLModel",
            "_view_count": null,
            "_view_module": "@jupyter-widgets/controls",
            "_view_module_version": "1.5.0",
            "_view_name": "HTMLView",
            "description": "",
            "description_tooltip": null,
            "layout": "IPY_MODEL_46c110733b144b7296781db9b04d60c4",
            "placeholder": "​",
            "style": "IPY_MODEL_2d825b7558f6408fa8f907fcfb31e780",
            "value": " 483/483 [00:00&lt;00:00, 5.05kB/s]"
          }
        },
        "ea9a13d5e2194b16ad4bbf8f234bfe07": {
          "model_module": "@jupyter-widgets/base",
          "model_name": "LayoutModel",
          "model_module_version": "1.2.0",
          "state": {
            "_model_module": "@jupyter-widgets/base",
            "_model_module_version": "1.2.0",
            "_model_name": "LayoutModel",
            "_view_count": null,
            "_view_module": "@jupyter-widgets/base",
            "_view_module_version": "1.2.0",
            "_view_name": "LayoutView",
            "align_content": null,
            "align_items": null,
            "align_self": null,
            "border": null,
            "bottom": null,
            "display": null,
            "flex": null,
            "flex_flow": null,
            "grid_area": null,
            "grid_auto_columns": null,
            "grid_auto_flow": null,
            "grid_auto_rows": null,
            "grid_column": null,
            "grid_gap": null,
            "grid_row": null,
            "grid_template_areas": null,
            "grid_template_columns": null,
            "grid_template_rows": null,
            "height": null,
            "justify_content": null,
            "justify_items": null,
            "left": null,
            "margin": null,
            "max_height": null,
            "max_width": null,
            "min_height": null,
            "min_width": null,
            "object_fit": null,
            "object_position": null,
            "order": null,
            "overflow": null,
            "overflow_x": null,
            "overflow_y": null,
            "padding": null,
            "right": null,
            "top": null,
            "visibility": null,
            "width": null
          }
        },
        "95eba8336cdc4aa2b2e4c584a57d28db": {
          "model_module": "@jupyter-widgets/base",
          "model_name": "LayoutModel",
          "model_module_version": "1.2.0",
          "state": {
            "_model_module": "@jupyter-widgets/base",
            "_model_module_version": "1.2.0",
            "_model_name": "LayoutModel",
            "_view_count": null,
            "_view_module": "@jupyter-widgets/base",
            "_view_module_version": "1.2.0",
            "_view_name": "LayoutView",
            "align_content": null,
            "align_items": null,
            "align_self": null,
            "border": null,
            "bottom": null,
            "display": null,
            "flex": null,
            "flex_flow": null,
            "grid_area": null,
            "grid_auto_columns": null,
            "grid_auto_flow": null,
            "grid_auto_rows": null,
            "grid_column": null,
            "grid_gap": null,
            "grid_row": null,
            "grid_template_areas": null,
            "grid_template_columns": null,
            "grid_template_rows": null,
            "height": null,
            "justify_content": null,
            "justify_items": null,
            "left": null,
            "margin": null,
            "max_height": null,
            "max_width": null,
            "min_height": null,
            "min_width": null,
            "object_fit": null,
            "object_position": null,
            "order": null,
            "overflow": null,
            "overflow_x": null,
            "overflow_y": null,
            "padding": null,
            "right": null,
            "top": null,
            "visibility": null,
            "width": null
          }
        },
        "c02c22d4e73948898220b6304ea0ee96": {
          "model_module": "@jupyter-widgets/controls",
          "model_name": "DescriptionStyleModel",
          "model_module_version": "1.5.0",
          "state": {
            "_model_module": "@jupyter-widgets/controls",
            "_model_module_version": "1.5.0",
            "_model_name": "DescriptionStyleModel",
            "_view_count": null,
            "_view_module": "@jupyter-widgets/base",
            "_view_module_version": "1.2.0",
            "_view_name": "StyleView",
            "description_width": ""
          }
        },
        "edd47ef63c5a42f681cf12acdbc5e6b2": {
          "model_module": "@jupyter-widgets/base",
          "model_name": "LayoutModel",
          "model_module_version": "1.2.0",
          "state": {
            "_model_module": "@jupyter-widgets/base",
            "_model_module_version": "1.2.0",
            "_model_name": "LayoutModel",
            "_view_count": null,
            "_view_module": "@jupyter-widgets/base",
            "_view_module_version": "1.2.0",
            "_view_name": "LayoutView",
            "align_content": null,
            "align_items": null,
            "align_self": null,
            "border": null,
            "bottom": null,
            "display": null,
            "flex": null,
            "flex_flow": null,
            "grid_area": null,
            "grid_auto_columns": null,
            "grid_auto_flow": null,
            "grid_auto_rows": null,
            "grid_column": null,
            "grid_gap": null,
            "grid_row": null,
            "grid_template_areas": null,
            "grid_template_columns": null,
            "grid_template_rows": null,
            "height": null,
            "justify_content": null,
            "justify_items": null,
            "left": null,
            "margin": null,
            "max_height": null,
            "max_width": null,
            "min_height": null,
            "min_width": null,
            "object_fit": null,
            "object_position": null,
            "order": null,
            "overflow": null,
            "overflow_x": null,
            "overflow_y": null,
            "padding": null,
            "right": null,
            "top": null,
            "visibility": null,
            "width": null
          }
        },
        "ba3b1d69a8dd4e7b9f8125190fe747c4": {
          "model_module": "@jupyter-widgets/controls",
          "model_name": "ProgressStyleModel",
          "model_module_version": "1.5.0",
          "state": {
            "_model_module": "@jupyter-widgets/controls",
            "_model_module_version": "1.5.0",
            "_model_name": "ProgressStyleModel",
            "_view_count": null,
            "_view_module": "@jupyter-widgets/base",
            "_view_module_version": "1.2.0",
            "_view_name": "StyleView",
            "bar_color": null,
            "description_width": ""
          }
        },
        "46c110733b144b7296781db9b04d60c4": {
          "model_module": "@jupyter-widgets/base",
          "model_name": "LayoutModel",
          "model_module_version": "1.2.0",
          "state": {
            "_model_module": "@jupyter-widgets/base",
            "_model_module_version": "1.2.0",
            "_model_name": "LayoutModel",
            "_view_count": null,
            "_view_module": "@jupyter-widgets/base",
            "_view_module_version": "1.2.0",
            "_view_name": "LayoutView",
            "align_content": null,
            "align_items": null,
            "align_self": null,
            "border": null,
            "bottom": null,
            "display": null,
            "flex": null,
            "flex_flow": null,
            "grid_area": null,
            "grid_auto_columns": null,
            "grid_auto_flow": null,
            "grid_auto_rows": null,
            "grid_column": null,
            "grid_gap": null,
            "grid_row": null,
            "grid_template_areas": null,
            "grid_template_columns": null,
            "grid_template_rows": null,
            "height": null,
            "justify_content": null,
            "justify_items": null,
            "left": null,
            "margin": null,
            "max_height": null,
            "max_width": null,
            "min_height": null,
            "min_width": null,
            "object_fit": null,
            "object_position": null,
            "order": null,
            "overflow": null,
            "overflow_x": null,
            "overflow_y": null,
            "padding": null,
            "right": null,
            "top": null,
            "visibility": null,
            "width": null
          }
        },
        "2d825b7558f6408fa8f907fcfb31e780": {
          "model_module": "@jupyter-widgets/controls",
          "model_name": "DescriptionStyleModel",
          "model_module_version": "1.5.0",
          "state": {
            "_model_module": "@jupyter-widgets/controls",
            "_model_module_version": "1.5.0",
            "_model_name": "DescriptionStyleModel",
            "_view_count": null,
            "_view_module": "@jupyter-widgets/base",
            "_view_module_version": "1.2.0",
            "_view_name": "StyleView",
            "description_width": ""
          }
        },
        "8ad7c968311142b3b78a1b6b04d76e9e": {
          "model_module": "@jupyter-widgets/controls",
          "model_name": "HBoxModel",
          "model_module_version": "1.5.0",
          "state": {
            "_dom_classes": [],
            "_model_module": "@jupyter-widgets/controls",
            "_model_module_version": "1.5.0",
            "_model_name": "HBoxModel",
            "_view_count": null,
            "_view_module": "@jupyter-widgets/controls",
            "_view_module_version": "1.5.0",
            "_view_name": "HBoxView",
            "box_style": "",
            "children": [
              "IPY_MODEL_2032e79322b8401bbe1e1e58ad68e7fb",
              "IPY_MODEL_882022bba4ba413a8f304e0b6febf86b",
              "IPY_MODEL_29ed342739d644aeb6eaee0acf749963"
            ],
            "layout": "IPY_MODEL_6df35917d7834c5d8c2d3dd223c5f694"
          }
        },
        "2032e79322b8401bbe1e1e58ad68e7fb": {
          "model_module": "@jupyter-widgets/controls",
          "model_name": "HTMLModel",
          "model_module_version": "1.5.0",
          "state": {
            "_dom_classes": [],
            "_model_module": "@jupyter-widgets/controls",
            "_model_module_version": "1.5.0",
            "_model_name": "HTMLModel",
            "_view_count": null,
            "_view_module": "@jupyter-widgets/controls",
            "_view_module_version": "1.5.0",
            "_view_name": "HTMLView",
            "description": "",
            "description_tooltip": null,
            "layout": "IPY_MODEL_47a55ddb1bb04922ac8b5c883dbf9782",
            "placeholder": "​",
            "style": "IPY_MODEL_6c0e5ba2a757437384beb0c15af23206",
            "value": "Downloading: 100%"
          }
        },
        "882022bba4ba413a8f304e0b6febf86b": {
          "model_module": "@jupyter-widgets/controls",
          "model_name": "FloatProgressModel",
          "model_module_version": "1.5.0",
          "state": {
            "_dom_classes": [],
            "_model_module": "@jupyter-widgets/controls",
            "_model_module_version": "1.5.0",
            "_model_name": "FloatProgressModel",
            "_view_count": null,
            "_view_module": "@jupyter-widgets/controls",
            "_view_module_version": "1.5.0",
            "_view_name": "ProgressView",
            "bar_style": "success",
            "description": "",
            "description_tooltip": null,
            "layout": "IPY_MODEL_3f609832ddbb4104b1499e47e7c2b264",
            "max": 267967963,
            "min": 0,
            "orientation": "horizontal",
            "style": "IPY_MODEL_bcb6cd56ab5d43108c823d658dfc6d54",
            "value": 267967963
          }
        },
        "29ed342739d644aeb6eaee0acf749963": {
          "model_module": "@jupyter-widgets/controls",
          "model_name": "HTMLModel",
          "model_module_version": "1.5.0",
          "state": {
            "_dom_classes": [],
            "_model_module": "@jupyter-widgets/controls",
            "_model_module_version": "1.5.0",
            "_model_name": "HTMLModel",
            "_view_count": null,
            "_view_module": "@jupyter-widgets/controls",
            "_view_module_version": "1.5.0",
            "_view_name": "HTMLView",
            "description": "",
            "description_tooltip": null,
            "layout": "IPY_MODEL_cbb4c86dbfaf41fd9a9e4e224de916c4",
            "placeholder": "​",
            "style": "IPY_MODEL_3a6c1435333047b584b9c9391f5c6153",
            "value": " 268M/268M [00:14&lt;00:00, 42.1MB/s]"
          }
        },
        "6df35917d7834c5d8c2d3dd223c5f694": {
          "model_module": "@jupyter-widgets/base",
          "model_name": "LayoutModel",
          "model_module_version": "1.2.0",
          "state": {
            "_model_module": "@jupyter-widgets/base",
            "_model_module_version": "1.2.0",
            "_model_name": "LayoutModel",
            "_view_count": null,
            "_view_module": "@jupyter-widgets/base",
            "_view_module_version": "1.2.0",
            "_view_name": "LayoutView",
            "align_content": null,
            "align_items": null,
            "align_self": null,
            "border": null,
            "bottom": null,
            "display": null,
            "flex": null,
            "flex_flow": null,
            "grid_area": null,
            "grid_auto_columns": null,
            "grid_auto_flow": null,
            "grid_auto_rows": null,
            "grid_column": null,
            "grid_gap": null,
            "grid_row": null,
            "grid_template_areas": null,
            "grid_template_columns": null,
            "grid_template_rows": null,
            "height": null,
            "justify_content": null,
            "justify_items": null,
            "left": null,
            "margin": null,
            "max_height": null,
            "max_width": null,
            "min_height": null,
            "min_width": null,
            "object_fit": null,
            "object_position": null,
            "order": null,
            "overflow": null,
            "overflow_x": null,
            "overflow_y": null,
            "padding": null,
            "right": null,
            "top": null,
            "visibility": null,
            "width": null
          }
        },
        "47a55ddb1bb04922ac8b5c883dbf9782": {
          "model_module": "@jupyter-widgets/base",
          "model_name": "LayoutModel",
          "model_module_version": "1.2.0",
          "state": {
            "_model_module": "@jupyter-widgets/base",
            "_model_module_version": "1.2.0",
            "_model_name": "LayoutModel",
            "_view_count": null,
            "_view_module": "@jupyter-widgets/base",
            "_view_module_version": "1.2.0",
            "_view_name": "LayoutView",
            "align_content": null,
            "align_items": null,
            "align_self": null,
            "border": null,
            "bottom": null,
            "display": null,
            "flex": null,
            "flex_flow": null,
            "grid_area": null,
            "grid_auto_columns": null,
            "grid_auto_flow": null,
            "grid_auto_rows": null,
            "grid_column": null,
            "grid_gap": null,
            "grid_row": null,
            "grid_template_areas": null,
            "grid_template_columns": null,
            "grid_template_rows": null,
            "height": null,
            "justify_content": null,
            "justify_items": null,
            "left": null,
            "margin": null,
            "max_height": null,
            "max_width": null,
            "min_height": null,
            "min_width": null,
            "object_fit": null,
            "object_position": null,
            "order": null,
            "overflow": null,
            "overflow_x": null,
            "overflow_y": null,
            "padding": null,
            "right": null,
            "top": null,
            "visibility": null,
            "width": null
          }
        },
        "6c0e5ba2a757437384beb0c15af23206": {
          "model_module": "@jupyter-widgets/controls",
          "model_name": "DescriptionStyleModel",
          "model_module_version": "1.5.0",
          "state": {
            "_model_module": "@jupyter-widgets/controls",
            "_model_module_version": "1.5.0",
            "_model_name": "DescriptionStyleModel",
            "_view_count": null,
            "_view_module": "@jupyter-widgets/base",
            "_view_module_version": "1.2.0",
            "_view_name": "StyleView",
            "description_width": ""
          }
        },
        "3f609832ddbb4104b1499e47e7c2b264": {
          "model_module": "@jupyter-widgets/base",
          "model_name": "LayoutModel",
          "model_module_version": "1.2.0",
          "state": {
            "_model_module": "@jupyter-widgets/base",
            "_model_module_version": "1.2.0",
            "_model_name": "LayoutModel",
            "_view_count": null,
            "_view_module": "@jupyter-widgets/base",
            "_view_module_version": "1.2.0",
            "_view_name": "LayoutView",
            "align_content": null,
            "align_items": null,
            "align_self": null,
            "border": null,
            "bottom": null,
            "display": null,
            "flex": null,
            "flex_flow": null,
            "grid_area": null,
            "grid_auto_columns": null,
            "grid_auto_flow": null,
            "grid_auto_rows": null,
            "grid_column": null,
            "grid_gap": null,
            "grid_row": null,
            "grid_template_areas": null,
            "grid_template_columns": null,
            "grid_template_rows": null,
            "height": null,
            "justify_content": null,
            "justify_items": null,
            "left": null,
            "margin": null,
            "max_height": null,
            "max_width": null,
            "min_height": null,
            "min_width": null,
            "object_fit": null,
            "object_position": null,
            "order": null,
            "overflow": null,
            "overflow_x": null,
            "overflow_y": null,
            "padding": null,
            "right": null,
            "top": null,
            "visibility": null,
            "width": null
          }
        },
        "bcb6cd56ab5d43108c823d658dfc6d54": {
          "model_module": "@jupyter-widgets/controls",
          "model_name": "ProgressStyleModel",
          "model_module_version": "1.5.0",
          "state": {
            "_model_module": "@jupyter-widgets/controls",
            "_model_module_version": "1.5.0",
            "_model_name": "ProgressStyleModel",
            "_view_count": null,
            "_view_module": "@jupyter-widgets/base",
            "_view_module_version": "1.2.0",
            "_view_name": "StyleView",
            "bar_color": null,
            "description_width": ""
          }
        },
        "cbb4c86dbfaf41fd9a9e4e224de916c4": {
          "model_module": "@jupyter-widgets/base",
          "model_name": "LayoutModel",
          "model_module_version": "1.2.0",
          "state": {
            "_model_module": "@jupyter-widgets/base",
            "_model_module_version": "1.2.0",
            "_model_name": "LayoutModel",
            "_view_count": null,
            "_view_module": "@jupyter-widgets/base",
            "_view_module_version": "1.2.0",
            "_view_name": "LayoutView",
            "align_content": null,
            "align_items": null,
            "align_self": null,
            "border": null,
            "bottom": null,
            "display": null,
            "flex": null,
            "flex_flow": null,
            "grid_area": null,
            "grid_auto_columns": null,
            "grid_auto_flow": null,
            "grid_auto_rows": null,
            "grid_column": null,
            "grid_gap": null,
            "grid_row": null,
            "grid_template_areas": null,
            "grid_template_columns": null,
            "grid_template_rows": null,
            "height": null,
            "justify_content": null,
            "justify_items": null,
            "left": null,
            "margin": null,
            "max_height": null,
            "max_width": null,
            "min_height": null,
            "min_width": null,
            "object_fit": null,
            "object_position": null,
            "order": null,
            "overflow": null,
            "overflow_x": null,
            "overflow_y": null,
            "padding": null,
            "right": null,
            "top": null,
            "visibility": null,
            "width": null
          }
        },
        "3a6c1435333047b584b9c9391f5c6153": {
          "model_module": "@jupyter-widgets/controls",
          "model_name": "DescriptionStyleModel",
          "model_module_version": "1.5.0",
          "state": {
            "_model_module": "@jupyter-widgets/controls",
            "_model_module_version": "1.5.0",
            "_model_name": "DescriptionStyleModel",
            "_view_count": null,
            "_view_module": "@jupyter-widgets/base",
            "_view_module_version": "1.2.0",
            "_view_name": "StyleView",
            "description_width": ""
          }
        },
        "8b344538361f486d846c8b012f711c67": {
          "model_module": "@jupyter-widgets/controls",
          "model_name": "HBoxModel",
          "model_module_version": "1.5.0",
          "state": {
            "_dom_classes": [],
            "_model_module": "@jupyter-widgets/controls",
            "_model_module_version": "1.5.0",
            "_model_name": "HBoxModel",
            "_view_count": null,
            "_view_module": "@jupyter-widgets/controls",
            "_view_module_version": "1.5.0",
            "_view_name": "HBoxView",
            "box_style": "",
            "children": [
              "IPY_MODEL_31f907aafc1b40fb9bee4ac631b6fbfb",
              "IPY_MODEL_533e6ae16b234e3d848e9c8f020ca6d7",
              "IPY_MODEL_b8dc24745ec14433a438e905c4ca4b2a"
            ],
            "layout": "IPY_MODEL_a7842078f7654a4f90fd52a38920d8be"
          }
        },
        "31f907aafc1b40fb9bee4ac631b6fbfb": {
          "model_module": "@jupyter-widgets/controls",
          "model_name": "HTMLModel",
          "model_module_version": "1.5.0",
          "state": {
            "_dom_classes": [],
            "_model_module": "@jupyter-widgets/controls",
            "_model_module_version": "1.5.0",
            "_model_name": "HTMLModel",
            "_view_count": null,
            "_view_module": "@jupyter-widgets/controls",
            "_view_module_version": "1.5.0",
            "_view_name": "HTMLView",
            "description": "",
            "description_tooltip": null,
            "layout": "IPY_MODEL_41b517b190c144b1a3142baf1713065b",
            "placeholder": "​",
            "style": "IPY_MODEL_96881e94e998470497404110c6e9cf49",
            "value": "Downloading: 100%"
          }
        },
        "533e6ae16b234e3d848e9c8f020ca6d7": {
          "model_module": "@jupyter-widgets/controls",
          "model_name": "FloatProgressModel",
          "model_module_version": "1.5.0",
          "state": {
            "_dom_classes": [],
            "_model_module": "@jupyter-widgets/controls",
            "_model_module_version": "1.5.0",
            "_model_name": "FloatProgressModel",
            "_view_count": null,
            "_view_module": "@jupyter-widgets/controls",
            "_view_module_version": "1.5.0",
            "_view_name": "ProgressView",
            "bar_style": "success",
            "description": "",
            "description_tooltip": null,
            "layout": "IPY_MODEL_e34e15e8f1f34621b073aaa8ca893a06",
            "max": 28,
            "min": 0,
            "orientation": "horizontal",
            "style": "IPY_MODEL_4a382c9549874859912b3c71cb0a341c",
            "value": 28
          }
        },
        "b8dc24745ec14433a438e905c4ca4b2a": {
          "model_module": "@jupyter-widgets/controls",
          "model_name": "HTMLModel",
          "model_module_version": "1.5.0",
          "state": {
            "_dom_classes": [],
            "_model_module": "@jupyter-widgets/controls",
            "_model_module_version": "1.5.0",
            "_model_name": "HTMLModel",
            "_view_count": null,
            "_view_module": "@jupyter-widgets/controls",
            "_view_module_version": "1.5.0",
            "_view_name": "HTMLView",
            "description": "",
            "description_tooltip": null,
            "layout": "IPY_MODEL_1a6514a6e9be49a88c5bd212e9c05a8f",
            "placeholder": "​",
            "style": "IPY_MODEL_6e3abc53cdb04de48d0185453b2acca2",
            "value": " 28.0/28.0 [00:00&lt;00:00, 640B/s]"
          }
        },
        "a7842078f7654a4f90fd52a38920d8be": {
          "model_module": "@jupyter-widgets/base",
          "model_name": "LayoutModel",
          "model_module_version": "1.2.0",
          "state": {
            "_model_module": "@jupyter-widgets/base",
            "_model_module_version": "1.2.0",
            "_model_name": "LayoutModel",
            "_view_count": null,
            "_view_module": "@jupyter-widgets/base",
            "_view_module_version": "1.2.0",
            "_view_name": "LayoutView",
            "align_content": null,
            "align_items": null,
            "align_self": null,
            "border": null,
            "bottom": null,
            "display": null,
            "flex": null,
            "flex_flow": null,
            "grid_area": null,
            "grid_auto_columns": null,
            "grid_auto_flow": null,
            "grid_auto_rows": null,
            "grid_column": null,
            "grid_gap": null,
            "grid_row": null,
            "grid_template_areas": null,
            "grid_template_columns": null,
            "grid_template_rows": null,
            "height": null,
            "justify_content": null,
            "justify_items": null,
            "left": null,
            "margin": null,
            "max_height": null,
            "max_width": null,
            "min_height": null,
            "min_width": null,
            "object_fit": null,
            "object_position": null,
            "order": null,
            "overflow": null,
            "overflow_x": null,
            "overflow_y": null,
            "padding": null,
            "right": null,
            "top": null,
            "visibility": null,
            "width": null
          }
        },
        "41b517b190c144b1a3142baf1713065b": {
          "model_module": "@jupyter-widgets/base",
          "model_name": "LayoutModel",
          "model_module_version": "1.2.0",
          "state": {
            "_model_module": "@jupyter-widgets/base",
            "_model_module_version": "1.2.0",
            "_model_name": "LayoutModel",
            "_view_count": null,
            "_view_module": "@jupyter-widgets/base",
            "_view_module_version": "1.2.0",
            "_view_name": "LayoutView",
            "align_content": null,
            "align_items": null,
            "align_self": null,
            "border": null,
            "bottom": null,
            "display": null,
            "flex": null,
            "flex_flow": null,
            "grid_area": null,
            "grid_auto_columns": null,
            "grid_auto_flow": null,
            "grid_auto_rows": null,
            "grid_column": null,
            "grid_gap": null,
            "grid_row": null,
            "grid_template_areas": null,
            "grid_template_columns": null,
            "grid_template_rows": null,
            "height": null,
            "justify_content": null,
            "justify_items": null,
            "left": null,
            "margin": null,
            "max_height": null,
            "max_width": null,
            "min_height": null,
            "min_width": null,
            "object_fit": null,
            "object_position": null,
            "order": null,
            "overflow": null,
            "overflow_x": null,
            "overflow_y": null,
            "padding": null,
            "right": null,
            "top": null,
            "visibility": null,
            "width": null
          }
        },
        "96881e94e998470497404110c6e9cf49": {
          "model_module": "@jupyter-widgets/controls",
          "model_name": "DescriptionStyleModel",
          "model_module_version": "1.5.0",
          "state": {
            "_model_module": "@jupyter-widgets/controls",
            "_model_module_version": "1.5.0",
            "_model_name": "DescriptionStyleModel",
            "_view_count": null,
            "_view_module": "@jupyter-widgets/base",
            "_view_module_version": "1.2.0",
            "_view_name": "StyleView",
            "description_width": ""
          }
        },
        "e34e15e8f1f34621b073aaa8ca893a06": {
          "model_module": "@jupyter-widgets/base",
          "model_name": "LayoutModel",
          "model_module_version": "1.2.0",
          "state": {
            "_model_module": "@jupyter-widgets/base",
            "_model_module_version": "1.2.0",
            "_model_name": "LayoutModel",
            "_view_count": null,
            "_view_module": "@jupyter-widgets/base",
            "_view_module_version": "1.2.0",
            "_view_name": "LayoutView",
            "align_content": null,
            "align_items": null,
            "align_self": null,
            "border": null,
            "bottom": null,
            "display": null,
            "flex": null,
            "flex_flow": null,
            "grid_area": null,
            "grid_auto_columns": null,
            "grid_auto_flow": null,
            "grid_auto_rows": null,
            "grid_column": null,
            "grid_gap": null,
            "grid_row": null,
            "grid_template_areas": null,
            "grid_template_columns": null,
            "grid_template_rows": null,
            "height": null,
            "justify_content": null,
            "justify_items": null,
            "left": null,
            "margin": null,
            "max_height": null,
            "max_width": null,
            "min_height": null,
            "min_width": null,
            "object_fit": null,
            "object_position": null,
            "order": null,
            "overflow": null,
            "overflow_x": null,
            "overflow_y": null,
            "padding": null,
            "right": null,
            "top": null,
            "visibility": null,
            "width": null
          }
        },
        "4a382c9549874859912b3c71cb0a341c": {
          "model_module": "@jupyter-widgets/controls",
          "model_name": "ProgressStyleModel",
          "model_module_version": "1.5.0",
          "state": {
            "_model_module": "@jupyter-widgets/controls",
            "_model_module_version": "1.5.0",
            "_model_name": "ProgressStyleModel",
            "_view_count": null,
            "_view_module": "@jupyter-widgets/base",
            "_view_module_version": "1.2.0",
            "_view_name": "StyleView",
            "bar_color": null,
            "description_width": ""
          }
        },
        "1a6514a6e9be49a88c5bd212e9c05a8f": {
          "model_module": "@jupyter-widgets/base",
          "model_name": "LayoutModel",
          "model_module_version": "1.2.0",
          "state": {
            "_model_module": "@jupyter-widgets/base",
            "_model_module_version": "1.2.0",
            "_model_name": "LayoutModel",
            "_view_count": null,
            "_view_module": "@jupyter-widgets/base",
            "_view_module_version": "1.2.0",
            "_view_name": "LayoutView",
            "align_content": null,
            "align_items": null,
            "align_self": null,
            "border": null,
            "bottom": null,
            "display": null,
            "flex": null,
            "flex_flow": null,
            "grid_area": null,
            "grid_auto_columns": null,
            "grid_auto_flow": null,
            "grid_auto_rows": null,
            "grid_column": null,
            "grid_gap": null,
            "grid_row": null,
            "grid_template_areas": null,
            "grid_template_columns": null,
            "grid_template_rows": null,
            "height": null,
            "justify_content": null,
            "justify_items": null,
            "left": null,
            "margin": null,
            "max_height": null,
            "max_width": null,
            "min_height": null,
            "min_width": null,
            "object_fit": null,
            "object_position": null,
            "order": null,
            "overflow": null,
            "overflow_x": null,
            "overflow_y": null,
            "padding": null,
            "right": null,
            "top": null,
            "visibility": null,
            "width": null
          }
        },
        "6e3abc53cdb04de48d0185453b2acca2": {
          "model_module": "@jupyter-widgets/controls",
          "model_name": "DescriptionStyleModel",
          "model_module_version": "1.5.0",
          "state": {
            "_model_module": "@jupyter-widgets/controls",
            "_model_module_version": "1.5.0",
            "_model_name": "DescriptionStyleModel",
            "_view_count": null,
            "_view_module": "@jupyter-widgets/base",
            "_view_module_version": "1.2.0",
            "_view_name": "StyleView",
            "description_width": ""
          }
        },
        "a41961d676a24cf9b8ce1a151acd3ed7": {
          "model_module": "@jupyter-widgets/controls",
          "model_name": "HBoxModel",
          "model_module_version": "1.5.0",
          "state": {
            "_dom_classes": [],
            "_model_module": "@jupyter-widgets/controls",
            "_model_module_version": "1.5.0",
            "_model_name": "HBoxModel",
            "_view_count": null,
            "_view_module": "@jupyter-widgets/controls",
            "_view_module_version": "1.5.0",
            "_view_name": "HBoxView",
            "box_style": "",
            "children": [
              "IPY_MODEL_298c5c7e26b4457688fdc22f1ed64812",
              "IPY_MODEL_3e3b069bd8e2408898a9446a372b72e0",
              "IPY_MODEL_f1d99633f6084831820fe41e48131812"
            ],
            "layout": "IPY_MODEL_2440b5e0fa6c4f1f97935fee0830b6d0"
          }
        },
        "298c5c7e26b4457688fdc22f1ed64812": {
          "model_module": "@jupyter-widgets/controls",
          "model_name": "HTMLModel",
          "model_module_version": "1.5.0",
          "state": {
            "_dom_classes": [],
            "_model_module": "@jupyter-widgets/controls",
            "_model_module_version": "1.5.0",
            "_model_name": "HTMLModel",
            "_view_count": null,
            "_view_module": "@jupyter-widgets/controls",
            "_view_module_version": "1.5.0",
            "_view_name": "HTMLView",
            "description": "",
            "description_tooltip": null,
            "layout": "IPY_MODEL_ec0c64696a86402ea2052b391661a0e9",
            "placeholder": "​",
            "style": "IPY_MODEL_87fb7df8cd6f45a39c6e1ddd89920bcf",
            "value": "Downloading: 100%"
          }
        },
        "3e3b069bd8e2408898a9446a372b72e0": {
          "model_module": "@jupyter-widgets/controls",
          "model_name": "FloatProgressModel",
          "model_module_version": "1.5.0",
          "state": {
            "_dom_classes": [],
            "_model_module": "@jupyter-widgets/controls",
            "_model_module_version": "1.5.0",
            "_model_name": "FloatProgressModel",
            "_view_count": null,
            "_view_module": "@jupyter-widgets/controls",
            "_view_module_version": "1.5.0",
            "_view_name": "ProgressView",
            "bar_style": "success",
            "description": "",
            "description_tooltip": null,
            "layout": "IPY_MODEL_1fb53eaab9464a23b13d7846bb12d761",
            "max": 231508,
            "min": 0,
            "orientation": "horizontal",
            "style": "IPY_MODEL_c51469ad45f54ebd9f8ca687f0deb49a",
            "value": 231508
          }
        },
        "f1d99633f6084831820fe41e48131812": {
          "model_module": "@jupyter-widgets/controls",
          "model_name": "HTMLModel",
          "model_module_version": "1.5.0",
          "state": {
            "_dom_classes": [],
            "_model_module": "@jupyter-widgets/controls",
            "_model_module_version": "1.5.0",
            "_model_name": "HTMLModel",
            "_view_count": null,
            "_view_module": "@jupyter-widgets/controls",
            "_view_module_version": "1.5.0",
            "_view_name": "HTMLView",
            "description": "",
            "description_tooltip": null,
            "layout": "IPY_MODEL_6c9e88caa9fb40378e2ca861fbe6f52b",
            "placeholder": "​",
            "style": "IPY_MODEL_f6bbb110939a4d009744dc88976017e3",
            "value": " 232k/232k [00:00&lt;00:00, 1.50MB/s]"
          }
        },
        "2440b5e0fa6c4f1f97935fee0830b6d0": {
          "model_module": "@jupyter-widgets/base",
          "model_name": "LayoutModel",
          "model_module_version": "1.2.0",
          "state": {
            "_model_module": "@jupyter-widgets/base",
            "_model_module_version": "1.2.0",
            "_model_name": "LayoutModel",
            "_view_count": null,
            "_view_module": "@jupyter-widgets/base",
            "_view_module_version": "1.2.0",
            "_view_name": "LayoutView",
            "align_content": null,
            "align_items": null,
            "align_self": null,
            "border": null,
            "bottom": null,
            "display": null,
            "flex": null,
            "flex_flow": null,
            "grid_area": null,
            "grid_auto_columns": null,
            "grid_auto_flow": null,
            "grid_auto_rows": null,
            "grid_column": null,
            "grid_gap": null,
            "grid_row": null,
            "grid_template_areas": null,
            "grid_template_columns": null,
            "grid_template_rows": null,
            "height": null,
            "justify_content": null,
            "justify_items": null,
            "left": null,
            "margin": null,
            "max_height": null,
            "max_width": null,
            "min_height": null,
            "min_width": null,
            "object_fit": null,
            "object_position": null,
            "order": null,
            "overflow": null,
            "overflow_x": null,
            "overflow_y": null,
            "padding": null,
            "right": null,
            "top": null,
            "visibility": null,
            "width": null
          }
        },
        "ec0c64696a86402ea2052b391661a0e9": {
          "model_module": "@jupyter-widgets/base",
          "model_name": "LayoutModel",
          "model_module_version": "1.2.0",
          "state": {
            "_model_module": "@jupyter-widgets/base",
            "_model_module_version": "1.2.0",
            "_model_name": "LayoutModel",
            "_view_count": null,
            "_view_module": "@jupyter-widgets/base",
            "_view_module_version": "1.2.0",
            "_view_name": "LayoutView",
            "align_content": null,
            "align_items": null,
            "align_self": null,
            "border": null,
            "bottom": null,
            "display": null,
            "flex": null,
            "flex_flow": null,
            "grid_area": null,
            "grid_auto_columns": null,
            "grid_auto_flow": null,
            "grid_auto_rows": null,
            "grid_column": null,
            "grid_gap": null,
            "grid_row": null,
            "grid_template_areas": null,
            "grid_template_columns": null,
            "grid_template_rows": null,
            "height": null,
            "justify_content": null,
            "justify_items": null,
            "left": null,
            "margin": null,
            "max_height": null,
            "max_width": null,
            "min_height": null,
            "min_width": null,
            "object_fit": null,
            "object_position": null,
            "order": null,
            "overflow": null,
            "overflow_x": null,
            "overflow_y": null,
            "padding": null,
            "right": null,
            "top": null,
            "visibility": null,
            "width": null
          }
        },
        "87fb7df8cd6f45a39c6e1ddd89920bcf": {
          "model_module": "@jupyter-widgets/controls",
          "model_name": "DescriptionStyleModel",
          "model_module_version": "1.5.0",
          "state": {
            "_model_module": "@jupyter-widgets/controls",
            "_model_module_version": "1.5.0",
            "_model_name": "DescriptionStyleModel",
            "_view_count": null,
            "_view_module": "@jupyter-widgets/base",
            "_view_module_version": "1.2.0",
            "_view_name": "StyleView",
            "description_width": ""
          }
        },
        "1fb53eaab9464a23b13d7846bb12d761": {
          "model_module": "@jupyter-widgets/base",
          "model_name": "LayoutModel",
          "model_module_version": "1.2.0",
          "state": {
            "_model_module": "@jupyter-widgets/base",
            "_model_module_version": "1.2.0",
            "_model_name": "LayoutModel",
            "_view_count": null,
            "_view_module": "@jupyter-widgets/base",
            "_view_module_version": "1.2.0",
            "_view_name": "LayoutView",
            "align_content": null,
            "align_items": null,
            "align_self": null,
            "border": null,
            "bottom": null,
            "display": null,
            "flex": null,
            "flex_flow": null,
            "grid_area": null,
            "grid_auto_columns": null,
            "grid_auto_flow": null,
            "grid_auto_rows": null,
            "grid_column": null,
            "grid_gap": null,
            "grid_row": null,
            "grid_template_areas": null,
            "grid_template_columns": null,
            "grid_template_rows": null,
            "height": null,
            "justify_content": null,
            "justify_items": null,
            "left": null,
            "margin": null,
            "max_height": null,
            "max_width": null,
            "min_height": null,
            "min_width": null,
            "object_fit": null,
            "object_position": null,
            "order": null,
            "overflow": null,
            "overflow_x": null,
            "overflow_y": null,
            "padding": null,
            "right": null,
            "top": null,
            "visibility": null,
            "width": null
          }
        },
        "c51469ad45f54ebd9f8ca687f0deb49a": {
          "model_module": "@jupyter-widgets/controls",
          "model_name": "ProgressStyleModel",
          "model_module_version": "1.5.0",
          "state": {
            "_model_module": "@jupyter-widgets/controls",
            "_model_module_version": "1.5.0",
            "_model_name": "ProgressStyleModel",
            "_view_count": null,
            "_view_module": "@jupyter-widgets/base",
            "_view_module_version": "1.2.0",
            "_view_name": "StyleView",
            "bar_color": null,
            "description_width": ""
          }
        },
        "6c9e88caa9fb40378e2ca861fbe6f52b": {
          "model_module": "@jupyter-widgets/base",
          "model_name": "LayoutModel",
          "model_module_version": "1.2.0",
          "state": {
            "_model_module": "@jupyter-widgets/base",
            "_model_module_version": "1.2.0",
            "_model_name": "LayoutModel",
            "_view_count": null,
            "_view_module": "@jupyter-widgets/base",
            "_view_module_version": "1.2.0",
            "_view_name": "LayoutView",
            "align_content": null,
            "align_items": null,
            "align_self": null,
            "border": null,
            "bottom": null,
            "display": null,
            "flex": null,
            "flex_flow": null,
            "grid_area": null,
            "grid_auto_columns": null,
            "grid_auto_flow": null,
            "grid_auto_rows": null,
            "grid_column": null,
            "grid_gap": null,
            "grid_row": null,
            "grid_template_areas": null,
            "grid_template_columns": null,
            "grid_template_rows": null,
            "height": null,
            "justify_content": null,
            "justify_items": null,
            "left": null,
            "margin": null,
            "max_height": null,
            "max_width": null,
            "min_height": null,
            "min_width": null,
            "object_fit": null,
            "object_position": null,
            "order": null,
            "overflow": null,
            "overflow_x": null,
            "overflow_y": null,
            "padding": null,
            "right": null,
            "top": null,
            "visibility": null,
            "width": null
          }
        },
        "f6bbb110939a4d009744dc88976017e3": {
          "model_module": "@jupyter-widgets/controls",
          "model_name": "DescriptionStyleModel",
          "model_module_version": "1.5.0",
          "state": {
            "_model_module": "@jupyter-widgets/controls",
            "_model_module_version": "1.5.0",
            "_model_name": "DescriptionStyleModel",
            "_view_count": null,
            "_view_module": "@jupyter-widgets/base",
            "_view_module_version": "1.2.0",
            "_view_name": "StyleView",
            "description_width": ""
          }
        },
        "3b8bdce7b1a74d0799bcddd9c0a8122a": {
          "model_module": "@jupyter-widgets/controls",
          "model_name": "HBoxModel",
          "model_module_version": "1.5.0",
          "state": {
            "_dom_classes": [],
            "_model_module": "@jupyter-widgets/controls",
            "_model_module_version": "1.5.0",
            "_model_name": "HBoxModel",
            "_view_count": null,
            "_view_module": "@jupyter-widgets/controls",
            "_view_module_version": "1.5.0",
            "_view_name": "HBoxView",
            "box_style": "",
            "children": [
              "IPY_MODEL_f6c1463c23054bbdb9af7f73b9447b0b",
              "IPY_MODEL_4a6d02732c3b4b019b6ecb10ead102e2",
              "IPY_MODEL_8dbfb7e4d8e4470d94b9b8825c1454f4"
            ],
            "layout": "IPY_MODEL_970b71e33cca46138ed7a029483c54ed"
          }
        },
        "f6c1463c23054bbdb9af7f73b9447b0b": {
          "model_module": "@jupyter-widgets/controls",
          "model_name": "HTMLModel",
          "model_module_version": "1.5.0",
          "state": {
            "_dom_classes": [],
            "_model_module": "@jupyter-widgets/controls",
            "_model_module_version": "1.5.0",
            "_model_name": "HTMLModel",
            "_view_count": null,
            "_view_module": "@jupyter-widgets/controls",
            "_view_module_version": "1.5.0",
            "_view_name": "HTMLView",
            "description": "",
            "description_tooltip": null,
            "layout": "IPY_MODEL_cbe7866996c2491ba26ffa28c05356b1",
            "placeholder": "​",
            "style": "IPY_MODEL_9451cff8e00742f09a7c879031892d54",
            "value": "Downloading: 100%"
          }
        },
        "4a6d02732c3b4b019b6ecb10ead102e2": {
          "model_module": "@jupyter-widgets/controls",
          "model_name": "FloatProgressModel",
          "model_module_version": "1.5.0",
          "state": {
            "_dom_classes": [],
            "_model_module": "@jupyter-widgets/controls",
            "_model_module_version": "1.5.0",
            "_model_name": "FloatProgressModel",
            "_view_count": null,
            "_view_module": "@jupyter-widgets/controls",
            "_view_module_version": "1.5.0",
            "_view_name": "ProgressView",
            "bar_style": "success",
            "description": "",
            "description_tooltip": null,
            "layout": "IPY_MODEL_a4ef79ba822141a49d3a48a4f8af48f6",
            "max": 466062,
            "min": 0,
            "orientation": "horizontal",
            "style": "IPY_MODEL_4966019e94094a77a6b4c3fc35075151",
            "value": 466062
          }
        },
        "8dbfb7e4d8e4470d94b9b8825c1454f4": {
          "model_module": "@jupyter-widgets/controls",
          "model_name": "HTMLModel",
          "model_module_version": "1.5.0",
          "state": {
            "_dom_classes": [],
            "_model_module": "@jupyter-widgets/controls",
            "_model_module_version": "1.5.0",
            "_model_name": "HTMLModel",
            "_view_count": null,
            "_view_module": "@jupyter-widgets/controls",
            "_view_module_version": "1.5.0",
            "_view_name": "HTMLView",
            "description": "",
            "description_tooltip": null,
            "layout": "IPY_MODEL_175bd5731a6147128f87b42a0d65ab4e",
            "placeholder": "​",
            "style": "IPY_MODEL_d10ff0ab3dac47f8af988529554800a5",
            "value": " 466k/466k [00:00&lt;00:00, 2.63MB/s]"
          }
        },
        "970b71e33cca46138ed7a029483c54ed": {
          "model_module": "@jupyter-widgets/base",
          "model_name": "LayoutModel",
          "model_module_version": "1.2.0",
          "state": {
            "_model_module": "@jupyter-widgets/base",
            "_model_module_version": "1.2.0",
            "_model_name": "LayoutModel",
            "_view_count": null,
            "_view_module": "@jupyter-widgets/base",
            "_view_module_version": "1.2.0",
            "_view_name": "LayoutView",
            "align_content": null,
            "align_items": null,
            "align_self": null,
            "border": null,
            "bottom": null,
            "display": null,
            "flex": null,
            "flex_flow": null,
            "grid_area": null,
            "grid_auto_columns": null,
            "grid_auto_flow": null,
            "grid_auto_rows": null,
            "grid_column": null,
            "grid_gap": null,
            "grid_row": null,
            "grid_template_areas": null,
            "grid_template_columns": null,
            "grid_template_rows": null,
            "height": null,
            "justify_content": null,
            "justify_items": null,
            "left": null,
            "margin": null,
            "max_height": null,
            "max_width": null,
            "min_height": null,
            "min_width": null,
            "object_fit": null,
            "object_position": null,
            "order": null,
            "overflow": null,
            "overflow_x": null,
            "overflow_y": null,
            "padding": null,
            "right": null,
            "top": null,
            "visibility": null,
            "width": null
          }
        },
        "cbe7866996c2491ba26ffa28c05356b1": {
          "model_module": "@jupyter-widgets/base",
          "model_name": "LayoutModel",
          "model_module_version": "1.2.0",
          "state": {
            "_model_module": "@jupyter-widgets/base",
            "_model_module_version": "1.2.0",
            "_model_name": "LayoutModel",
            "_view_count": null,
            "_view_module": "@jupyter-widgets/base",
            "_view_module_version": "1.2.0",
            "_view_name": "LayoutView",
            "align_content": null,
            "align_items": null,
            "align_self": null,
            "border": null,
            "bottom": null,
            "display": null,
            "flex": null,
            "flex_flow": null,
            "grid_area": null,
            "grid_auto_columns": null,
            "grid_auto_flow": null,
            "grid_auto_rows": null,
            "grid_column": null,
            "grid_gap": null,
            "grid_row": null,
            "grid_template_areas": null,
            "grid_template_columns": null,
            "grid_template_rows": null,
            "height": null,
            "justify_content": null,
            "justify_items": null,
            "left": null,
            "margin": null,
            "max_height": null,
            "max_width": null,
            "min_height": null,
            "min_width": null,
            "object_fit": null,
            "object_position": null,
            "order": null,
            "overflow": null,
            "overflow_x": null,
            "overflow_y": null,
            "padding": null,
            "right": null,
            "top": null,
            "visibility": null,
            "width": null
          }
        },
        "9451cff8e00742f09a7c879031892d54": {
          "model_module": "@jupyter-widgets/controls",
          "model_name": "DescriptionStyleModel",
          "model_module_version": "1.5.0",
          "state": {
            "_model_module": "@jupyter-widgets/controls",
            "_model_module_version": "1.5.0",
            "_model_name": "DescriptionStyleModel",
            "_view_count": null,
            "_view_module": "@jupyter-widgets/base",
            "_view_module_version": "1.2.0",
            "_view_name": "StyleView",
            "description_width": ""
          }
        },
        "a4ef79ba822141a49d3a48a4f8af48f6": {
          "model_module": "@jupyter-widgets/base",
          "model_name": "LayoutModel",
          "model_module_version": "1.2.0",
          "state": {
            "_model_module": "@jupyter-widgets/base",
            "_model_module_version": "1.2.0",
            "_model_name": "LayoutModel",
            "_view_count": null,
            "_view_module": "@jupyter-widgets/base",
            "_view_module_version": "1.2.0",
            "_view_name": "LayoutView",
            "align_content": null,
            "align_items": null,
            "align_self": null,
            "border": null,
            "bottom": null,
            "display": null,
            "flex": null,
            "flex_flow": null,
            "grid_area": null,
            "grid_auto_columns": null,
            "grid_auto_flow": null,
            "grid_auto_rows": null,
            "grid_column": null,
            "grid_gap": null,
            "grid_row": null,
            "grid_template_areas": null,
            "grid_template_columns": null,
            "grid_template_rows": null,
            "height": null,
            "justify_content": null,
            "justify_items": null,
            "left": null,
            "margin": null,
            "max_height": null,
            "max_width": null,
            "min_height": null,
            "min_width": null,
            "object_fit": null,
            "object_position": null,
            "order": null,
            "overflow": null,
            "overflow_x": null,
            "overflow_y": null,
            "padding": null,
            "right": null,
            "top": null,
            "visibility": null,
            "width": null
          }
        },
        "4966019e94094a77a6b4c3fc35075151": {
          "model_module": "@jupyter-widgets/controls",
          "model_name": "ProgressStyleModel",
          "model_module_version": "1.5.0",
          "state": {
            "_model_module": "@jupyter-widgets/controls",
            "_model_module_version": "1.5.0",
            "_model_name": "ProgressStyleModel",
            "_view_count": null,
            "_view_module": "@jupyter-widgets/base",
            "_view_module_version": "1.2.0",
            "_view_name": "StyleView",
            "bar_color": null,
            "description_width": ""
          }
        },
        "175bd5731a6147128f87b42a0d65ab4e": {
          "model_module": "@jupyter-widgets/base",
          "model_name": "LayoutModel",
          "model_module_version": "1.2.0",
          "state": {
            "_model_module": "@jupyter-widgets/base",
            "_model_module_version": "1.2.0",
            "_model_name": "LayoutModel",
            "_view_count": null,
            "_view_module": "@jupyter-widgets/base",
            "_view_module_version": "1.2.0",
            "_view_name": "LayoutView",
            "align_content": null,
            "align_items": null,
            "align_self": null,
            "border": null,
            "bottom": null,
            "display": null,
            "flex": null,
            "flex_flow": null,
            "grid_area": null,
            "grid_auto_columns": null,
            "grid_auto_flow": null,
            "grid_auto_rows": null,
            "grid_column": null,
            "grid_gap": null,
            "grid_row": null,
            "grid_template_areas": null,
            "grid_template_columns": null,
            "grid_template_rows": null,
            "height": null,
            "justify_content": null,
            "justify_items": null,
            "left": null,
            "margin": null,
            "max_height": null,
            "max_width": null,
            "min_height": null,
            "min_width": null,
            "object_fit": null,
            "object_position": null,
            "order": null,
            "overflow": null,
            "overflow_x": null,
            "overflow_y": null,
            "padding": null,
            "right": null,
            "top": null,
            "visibility": null,
            "width": null
          }
        },
        "d10ff0ab3dac47f8af988529554800a5": {
          "model_module": "@jupyter-widgets/controls",
          "model_name": "DescriptionStyleModel",
          "model_module_version": "1.5.0",
          "state": {
            "_model_module": "@jupyter-widgets/controls",
            "_model_module_version": "1.5.0",
            "_model_name": "DescriptionStyleModel",
            "_view_count": null,
            "_view_module": "@jupyter-widgets/base",
            "_view_module_version": "1.2.0",
            "_view_name": "StyleView",
            "description_width": ""
          }
        },
        "84638c5447ad49038ca574df31213bb2": {
          "model_module": "@jupyter-widgets/controls",
          "model_name": "HBoxModel",
          "model_module_version": "1.5.0",
          "state": {
            "_dom_classes": [],
            "_model_module": "@jupyter-widgets/controls",
            "_model_module_version": "1.5.0",
            "_model_name": "HBoxModel",
            "_view_count": null,
            "_view_module": "@jupyter-widgets/controls",
            "_view_module_version": "1.5.0",
            "_view_name": "HBoxView",
            "box_style": "",
            "children": [
              "IPY_MODEL_9642c6b84fde417d9270b6419867009f",
              "IPY_MODEL_e1afc4c287044ed9bdabac0dc8c2ac65",
              "IPY_MODEL_d854e2222d464559b57114628205bb9a"
            ],
            "layout": "IPY_MODEL_af84246400ac4c0294cd64f031dcf3bd"
          }
        },
        "9642c6b84fde417d9270b6419867009f": {
          "model_module": "@jupyter-widgets/controls",
          "model_name": "HTMLModel",
          "model_module_version": "1.5.0",
          "state": {
            "_dom_classes": [],
            "_model_module": "@jupyter-widgets/controls",
            "_model_module_version": "1.5.0",
            "_model_name": "HTMLModel",
            "_view_count": null,
            "_view_module": "@jupyter-widgets/controls",
            "_view_module_version": "1.5.0",
            "_view_name": "HTMLView",
            "description": "",
            "description_tooltip": null,
            "layout": "IPY_MODEL_3246d5617804400184f9fe37a48df4ce",
            "placeholder": "​",
            "style": "IPY_MODEL_ecdfd55b0010482b9483bdf3b546c2e1",
            "value": "Downloading: 100%"
          }
        },
        "e1afc4c287044ed9bdabac0dc8c2ac65": {
          "model_module": "@jupyter-widgets/controls",
          "model_name": "FloatProgressModel",
          "model_module_version": "1.5.0",
          "state": {
            "_dom_classes": [],
            "_model_module": "@jupyter-widgets/controls",
            "_model_module_version": "1.5.0",
            "_model_name": "FloatProgressModel",
            "_view_count": null,
            "_view_module": "@jupyter-widgets/controls",
            "_view_module_version": "1.5.0",
            "_view_name": "ProgressView",
            "bar_style": "success",
            "description": "",
            "description_tooltip": null,
            "layout": "IPY_MODEL_de4bacacf0104bd3a00f9a946f51d7dd",
            "max": 2239866697,
            "min": 0,
            "orientation": "horizontal",
            "style": "IPY_MODEL_cf576a56d42a4bdf98952c9dfa17d1bd",
            "value": 2239866697
          }
        },
        "d854e2222d464559b57114628205bb9a": {
          "model_module": "@jupyter-widgets/controls",
          "model_name": "HTMLModel",
          "model_module_version": "1.5.0",
          "state": {
            "_dom_classes": [],
            "_model_module": "@jupyter-widgets/controls",
            "_model_module_version": "1.5.0",
            "_model_name": "HTMLModel",
            "_view_count": null,
            "_view_module": "@jupyter-widgets/controls",
            "_view_module_version": "1.5.0",
            "_view_name": "HTMLView",
            "description": "",
            "description_tooltip": null,
            "layout": "IPY_MODEL_a56cc25bedd7469780669716640ac5f6",
            "placeholder": "​",
            "style": "IPY_MODEL_e6ce9e8f85654ae2852f3d027233e613",
            "value": " 2.24G/2.24G [00:37&lt;00:00, 61.4MB/s]"
          }
        },
        "af84246400ac4c0294cd64f031dcf3bd": {
          "model_module": "@jupyter-widgets/base",
          "model_name": "LayoutModel",
          "model_module_version": "1.2.0",
          "state": {
            "_model_module": "@jupyter-widgets/base",
            "_model_module_version": "1.2.0",
            "_model_name": "LayoutModel",
            "_view_count": null,
            "_view_module": "@jupyter-widgets/base",
            "_view_module_version": "1.2.0",
            "_view_name": "LayoutView",
            "align_content": null,
            "align_items": null,
            "align_self": null,
            "border": null,
            "bottom": null,
            "display": null,
            "flex": null,
            "flex_flow": null,
            "grid_area": null,
            "grid_auto_columns": null,
            "grid_auto_flow": null,
            "grid_auto_rows": null,
            "grid_column": null,
            "grid_gap": null,
            "grid_row": null,
            "grid_template_areas": null,
            "grid_template_columns": null,
            "grid_template_rows": null,
            "height": null,
            "justify_content": null,
            "justify_items": null,
            "left": null,
            "margin": null,
            "max_height": null,
            "max_width": null,
            "min_height": null,
            "min_width": null,
            "object_fit": null,
            "object_position": null,
            "order": null,
            "overflow": null,
            "overflow_x": null,
            "overflow_y": null,
            "padding": null,
            "right": null,
            "top": null,
            "visibility": null,
            "width": null
          }
        },
        "3246d5617804400184f9fe37a48df4ce": {
          "model_module": "@jupyter-widgets/base",
          "model_name": "LayoutModel",
          "model_module_version": "1.2.0",
          "state": {
            "_model_module": "@jupyter-widgets/base",
            "_model_module_version": "1.2.0",
            "_model_name": "LayoutModel",
            "_view_count": null,
            "_view_module": "@jupyter-widgets/base",
            "_view_module_version": "1.2.0",
            "_view_name": "LayoutView",
            "align_content": null,
            "align_items": null,
            "align_self": null,
            "border": null,
            "bottom": null,
            "display": null,
            "flex": null,
            "flex_flow": null,
            "grid_area": null,
            "grid_auto_columns": null,
            "grid_auto_flow": null,
            "grid_auto_rows": null,
            "grid_column": null,
            "grid_gap": null,
            "grid_row": null,
            "grid_template_areas": null,
            "grid_template_columns": null,
            "grid_template_rows": null,
            "height": null,
            "justify_content": null,
            "justify_items": null,
            "left": null,
            "margin": null,
            "max_height": null,
            "max_width": null,
            "min_height": null,
            "min_width": null,
            "object_fit": null,
            "object_position": null,
            "order": null,
            "overflow": null,
            "overflow_x": null,
            "overflow_y": null,
            "padding": null,
            "right": null,
            "top": null,
            "visibility": null,
            "width": null
          }
        },
        "ecdfd55b0010482b9483bdf3b546c2e1": {
          "model_module": "@jupyter-widgets/controls",
          "model_name": "DescriptionStyleModel",
          "model_module_version": "1.5.0",
          "state": {
            "_model_module": "@jupyter-widgets/controls",
            "_model_module_version": "1.5.0",
            "_model_name": "DescriptionStyleModel",
            "_view_count": null,
            "_view_module": "@jupyter-widgets/base",
            "_view_module_version": "1.2.0",
            "_view_name": "StyleView",
            "description_width": ""
          }
        },
        "de4bacacf0104bd3a00f9a946f51d7dd": {
          "model_module": "@jupyter-widgets/base",
          "model_name": "LayoutModel",
          "model_module_version": "1.2.0",
          "state": {
            "_model_module": "@jupyter-widgets/base",
            "_model_module_version": "1.2.0",
            "_model_name": "LayoutModel",
            "_view_count": null,
            "_view_module": "@jupyter-widgets/base",
            "_view_module_version": "1.2.0",
            "_view_name": "LayoutView",
            "align_content": null,
            "align_items": null,
            "align_self": null,
            "border": null,
            "bottom": null,
            "display": null,
            "flex": null,
            "flex_flow": null,
            "grid_area": null,
            "grid_auto_columns": null,
            "grid_auto_flow": null,
            "grid_auto_rows": null,
            "grid_column": null,
            "grid_gap": null,
            "grid_row": null,
            "grid_template_areas": null,
            "grid_template_columns": null,
            "grid_template_rows": null,
            "height": null,
            "justify_content": null,
            "justify_items": null,
            "left": null,
            "margin": null,
            "max_height": null,
            "max_width": null,
            "min_height": null,
            "min_width": null,
            "object_fit": null,
            "object_position": null,
            "order": null,
            "overflow": null,
            "overflow_x": null,
            "overflow_y": null,
            "padding": null,
            "right": null,
            "top": null,
            "visibility": null,
            "width": null
          }
        },
        "cf576a56d42a4bdf98952c9dfa17d1bd": {
          "model_module": "@jupyter-widgets/controls",
          "model_name": "ProgressStyleModel",
          "model_module_version": "1.5.0",
          "state": {
            "_model_module": "@jupyter-widgets/controls",
            "_model_module_version": "1.5.0",
            "_model_name": "ProgressStyleModel",
            "_view_count": null,
            "_view_module": "@jupyter-widgets/base",
            "_view_module_version": "1.2.0",
            "_view_name": "StyleView",
            "bar_color": null,
            "description_width": ""
          }
        },
        "a56cc25bedd7469780669716640ac5f6": {
          "model_module": "@jupyter-widgets/base",
          "model_name": "LayoutModel",
          "model_module_version": "1.2.0",
          "state": {
            "_model_module": "@jupyter-widgets/base",
            "_model_module_version": "1.2.0",
            "_model_name": "LayoutModel",
            "_view_count": null,
            "_view_module": "@jupyter-widgets/base",
            "_view_module_version": "1.2.0",
            "_view_name": "LayoutView",
            "align_content": null,
            "align_items": null,
            "align_self": null,
            "border": null,
            "bottom": null,
            "display": null,
            "flex": null,
            "flex_flow": null,
            "grid_area": null,
            "grid_auto_columns": null,
            "grid_auto_flow": null,
            "grid_auto_rows": null,
            "grid_column": null,
            "grid_gap": null,
            "grid_row": null,
            "grid_template_areas": null,
            "grid_template_columns": null,
            "grid_template_rows": null,
            "height": null,
            "justify_content": null,
            "justify_items": null,
            "left": null,
            "margin": null,
            "max_height": null,
            "max_width": null,
            "min_height": null,
            "min_width": null,
            "object_fit": null,
            "object_position": null,
            "order": null,
            "overflow": null,
            "overflow_x": null,
            "overflow_y": null,
            "padding": null,
            "right": null,
            "top": null,
            "visibility": null,
            "width": null
          }
        },
        "e6ce9e8f85654ae2852f3d027233e613": {
          "model_module": "@jupyter-widgets/controls",
          "model_name": "DescriptionStyleModel",
          "model_module_version": "1.5.0",
          "state": {
            "_model_module": "@jupyter-widgets/controls",
            "_model_module_version": "1.5.0",
            "_model_name": "DescriptionStyleModel",
            "_view_count": null,
            "_view_module": "@jupyter-widgets/base",
            "_view_module_version": "1.2.0",
            "_view_name": "StyleView",
            "description_width": ""
          }
        },
        "d65e1591ea764de99712b95017f4d5ab": {
          "model_module": "@jupyter-widgets/controls",
          "model_name": "HBoxModel",
          "model_module_version": "1.5.0",
          "state": {
            "_dom_classes": [],
            "_model_module": "@jupyter-widgets/controls",
            "_model_module_version": "1.5.0",
            "_model_name": "HBoxModel",
            "_view_count": null,
            "_view_module": "@jupyter-widgets/controls",
            "_view_module_version": "1.5.0",
            "_view_name": "HBoxView",
            "box_style": "",
            "children": [
              "IPY_MODEL_9141cc62ab7247e0b55a9dc021b0ca16",
              "IPY_MODEL_5a5fa9d8780c4e0da96dde9d7a6e7aa6",
              "IPY_MODEL_3c361c3af0234d7ea06c0ff6b25e4280"
            ],
            "layout": "IPY_MODEL_e52996a4102c435399e5638e9678c076"
          }
        },
        "9141cc62ab7247e0b55a9dc021b0ca16": {
          "model_module": "@jupyter-widgets/controls",
          "model_name": "HTMLModel",
          "model_module_version": "1.5.0",
          "state": {
            "_dom_classes": [],
            "_model_module": "@jupyter-widgets/controls",
            "_model_module_version": "1.5.0",
            "_model_name": "HTMLModel",
            "_view_count": null,
            "_view_module": "@jupyter-widgets/controls",
            "_view_module_version": "1.5.0",
            "_view_name": "HTMLView",
            "description": "",
            "description_tooltip": null,
            "layout": "IPY_MODEL_b6919a4ed5b6461db0e69d3d2cb56a78",
            "placeholder": "​",
            "style": "IPY_MODEL_e9584fbb16ad4e178b5c07083ae87556",
            "value": "Downloading: 100%"
          }
        },
        "5a5fa9d8780c4e0da96dde9d7a6e7aa6": {
          "model_module": "@jupyter-widgets/controls",
          "model_name": "FloatProgressModel",
          "model_module_version": "1.5.0",
          "state": {
            "_dom_classes": [],
            "_model_module": "@jupyter-widgets/controls",
            "_model_module_version": "1.5.0",
            "_model_name": "FloatProgressModel",
            "_view_count": null,
            "_view_module": "@jupyter-widgets/controls",
            "_view_module_version": "1.5.0",
            "_view_name": "ProgressView",
            "bar_style": "success",
            "description": "",
            "description_tooltip": null,
            "layout": "IPY_MODEL_6cc7a52c72bc4f9f840448d8118b6aec",
            "max": 616,
            "min": 0,
            "orientation": "horizontal",
            "style": "IPY_MODEL_d763cb54f4ef4d37adc75187bb99a369",
            "value": 616
          }
        },
        "3c361c3af0234d7ea06c0ff6b25e4280": {
          "model_module": "@jupyter-widgets/controls",
          "model_name": "HTMLModel",
          "model_module_version": "1.5.0",
          "state": {
            "_dom_classes": [],
            "_model_module": "@jupyter-widgets/controls",
            "_model_module_version": "1.5.0",
            "_model_name": "HTMLModel",
            "_view_count": null,
            "_view_module": "@jupyter-widgets/controls",
            "_view_module_version": "1.5.0",
            "_view_name": "HTMLView",
            "description": "",
            "description_tooltip": null,
            "layout": "IPY_MODEL_d21c6b1d98c344418eb2a9fb48d788e1",
            "placeholder": "​",
            "style": "IPY_MODEL_46915f669e454f15b18e5982d05e63e7",
            "value": " 616/616 [00:00&lt;00:00, 20.0kB/s]"
          }
        },
        "e52996a4102c435399e5638e9678c076": {
          "model_module": "@jupyter-widgets/base",
          "model_name": "LayoutModel",
          "model_module_version": "1.2.0",
          "state": {
            "_model_module": "@jupyter-widgets/base",
            "_model_module_version": "1.2.0",
            "_model_name": "LayoutModel",
            "_view_count": null,
            "_view_module": "@jupyter-widgets/base",
            "_view_module_version": "1.2.0",
            "_view_name": "LayoutView",
            "align_content": null,
            "align_items": null,
            "align_self": null,
            "border": null,
            "bottom": null,
            "display": null,
            "flex": null,
            "flex_flow": null,
            "grid_area": null,
            "grid_auto_columns": null,
            "grid_auto_flow": null,
            "grid_auto_rows": null,
            "grid_column": null,
            "grid_gap": null,
            "grid_row": null,
            "grid_template_areas": null,
            "grid_template_columns": null,
            "grid_template_rows": null,
            "height": null,
            "justify_content": null,
            "justify_items": null,
            "left": null,
            "margin": null,
            "max_height": null,
            "max_width": null,
            "min_height": null,
            "min_width": null,
            "object_fit": null,
            "object_position": null,
            "order": null,
            "overflow": null,
            "overflow_x": null,
            "overflow_y": null,
            "padding": null,
            "right": null,
            "top": null,
            "visibility": null,
            "width": null
          }
        },
        "b6919a4ed5b6461db0e69d3d2cb56a78": {
          "model_module": "@jupyter-widgets/base",
          "model_name": "LayoutModel",
          "model_module_version": "1.2.0",
          "state": {
            "_model_module": "@jupyter-widgets/base",
            "_model_module_version": "1.2.0",
            "_model_name": "LayoutModel",
            "_view_count": null,
            "_view_module": "@jupyter-widgets/base",
            "_view_module_version": "1.2.0",
            "_view_name": "LayoutView",
            "align_content": null,
            "align_items": null,
            "align_self": null,
            "border": null,
            "bottom": null,
            "display": null,
            "flex": null,
            "flex_flow": null,
            "grid_area": null,
            "grid_auto_columns": null,
            "grid_auto_flow": null,
            "grid_auto_rows": null,
            "grid_column": null,
            "grid_gap": null,
            "grid_row": null,
            "grid_template_areas": null,
            "grid_template_columns": null,
            "grid_template_rows": null,
            "height": null,
            "justify_content": null,
            "justify_items": null,
            "left": null,
            "margin": null,
            "max_height": null,
            "max_width": null,
            "min_height": null,
            "min_width": null,
            "object_fit": null,
            "object_position": null,
            "order": null,
            "overflow": null,
            "overflow_x": null,
            "overflow_y": null,
            "padding": null,
            "right": null,
            "top": null,
            "visibility": null,
            "width": null
          }
        },
        "e9584fbb16ad4e178b5c07083ae87556": {
          "model_module": "@jupyter-widgets/controls",
          "model_name": "DescriptionStyleModel",
          "model_module_version": "1.5.0",
          "state": {
            "_model_module": "@jupyter-widgets/controls",
            "_model_module_version": "1.5.0",
            "_model_name": "DescriptionStyleModel",
            "_view_count": null,
            "_view_module": "@jupyter-widgets/base",
            "_view_module_version": "1.2.0",
            "_view_name": "StyleView",
            "description_width": ""
          }
        },
        "6cc7a52c72bc4f9f840448d8118b6aec": {
          "model_module": "@jupyter-widgets/base",
          "model_name": "LayoutModel",
          "model_module_version": "1.2.0",
          "state": {
            "_model_module": "@jupyter-widgets/base",
            "_model_module_version": "1.2.0",
            "_model_name": "LayoutModel",
            "_view_count": null,
            "_view_module": "@jupyter-widgets/base",
            "_view_module_version": "1.2.0",
            "_view_name": "LayoutView",
            "align_content": null,
            "align_items": null,
            "align_self": null,
            "border": null,
            "bottom": null,
            "display": null,
            "flex": null,
            "flex_flow": null,
            "grid_area": null,
            "grid_auto_columns": null,
            "grid_auto_flow": null,
            "grid_auto_rows": null,
            "grid_column": null,
            "grid_gap": null,
            "grid_row": null,
            "grid_template_areas": null,
            "grid_template_columns": null,
            "grid_template_rows": null,
            "height": null,
            "justify_content": null,
            "justify_items": null,
            "left": null,
            "margin": null,
            "max_height": null,
            "max_width": null,
            "min_height": null,
            "min_width": null,
            "object_fit": null,
            "object_position": null,
            "order": null,
            "overflow": null,
            "overflow_x": null,
            "overflow_y": null,
            "padding": null,
            "right": null,
            "top": null,
            "visibility": null,
            "width": null
          }
        },
        "d763cb54f4ef4d37adc75187bb99a369": {
          "model_module": "@jupyter-widgets/controls",
          "model_name": "ProgressStyleModel",
          "model_module_version": "1.5.0",
          "state": {
            "_model_module": "@jupyter-widgets/controls",
            "_model_module_version": "1.5.0",
            "_model_name": "ProgressStyleModel",
            "_view_count": null,
            "_view_module": "@jupyter-widgets/base",
            "_view_module_version": "1.2.0",
            "_view_name": "StyleView",
            "bar_color": null,
            "description_width": ""
          }
        },
        "d21c6b1d98c344418eb2a9fb48d788e1": {
          "model_module": "@jupyter-widgets/base",
          "model_name": "LayoutModel",
          "model_module_version": "1.2.0",
          "state": {
            "_model_module": "@jupyter-widgets/base",
            "_model_module_version": "1.2.0",
            "_model_name": "LayoutModel",
            "_view_count": null,
            "_view_module": "@jupyter-widgets/base",
            "_view_module_version": "1.2.0",
            "_view_name": "LayoutView",
            "align_content": null,
            "align_items": null,
            "align_self": null,
            "border": null,
            "bottom": null,
            "display": null,
            "flex": null,
            "flex_flow": null,
            "grid_area": null,
            "grid_auto_columns": null,
            "grid_auto_flow": null,
            "grid_auto_rows": null,
            "grid_column": null,
            "grid_gap": null,
            "grid_row": null,
            "grid_template_areas": null,
            "grid_template_columns": null,
            "grid_template_rows": null,
            "height": null,
            "justify_content": null,
            "justify_items": null,
            "left": null,
            "margin": null,
            "max_height": null,
            "max_width": null,
            "min_height": null,
            "min_width": null,
            "object_fit": null,
            "object_position": null,
            "order": null,
            "overflow": null,
            "overflow_x": null,
            "overflow_y": null,
            "padding": null,
            "right": null,
            "top": null,
            "visibility": null,
            "width": null
          }
        },
        "46915f669e454f15b18e5982d05e63e7": {
          "model_module": "@jupyter-widgets/controls",
          "model_name": "DescriptionStyleModel",
          "model_module_version": "1.5.0",
          "state": {
            "_model_module": "@jupyter-widgets/controls",
            "_model_module_version": "1.5.0",
            "_model_name": "DescriptionStyleModel",
            "_view_count": null,
            "_view_module": "@jupyter-widgets/base",
            "_view_module_version": "1.2.0",
            "_view_name": "StyleView",
            "description_width": ""
          }
        },
        "ff854eb2168b4040acf76f0138a8c696": {
          "model_module": "@jupyter-widgets/controls",
          "model_name": "HBoxModel",
          "model_module_version": "1.5.0",
          "state": {
            "_dom_classes": [],
            "_model_module": "@jupyter-widgets/controls",
            "_model_module_version": "1.5.0",
            "_model_name": "HBoxModel",
            "_view_count": null,
            "_view_module": "@jupyter-widgets/controls",
            "_view_module_version": "1.5.0",
            "_view_name": "HBoxView",
            "box_style": "",
            "children": [
              "IPY_MODEL_d448fed2ebe14b728d403ab4e87253e8",
              "IPY_MODEL_1bc0c8e4e8004b0287b50045df0f9ed5",
              "IPY_MODEL_38765585f1f94147b2f216ad835c9dcd"
            ],
            "layout": "IPY_MODEL_9114c9a309404bd8a7c9aa85d5acdaf5"
          }
        },
        "d448fed2ebe14b728d403ab4e87253e8": {
          "model_module": "@jupyter-widgets/controls",
          "model_name": "HTMLModel",
          "model_module_version": "1.5.0",
          "state": {
            "_dom_classes": [],
            "_model_module": "@jupyter-widgets/controls",
            "_model_module_version": "1.5.0",
            "_model_name": "HTMLModel",
            "_view_count": null,
            "_view_module": "@jupyter-widgets/controls",
            "_view_module_version": "1.5.0",
            "_view_name": "HTMLView",
            "description": "",
            "description_tooltip": null,
            "layout": "IPY_MODEL_71baed971b6442238fdbd26cddb7c9b0",
            "placeholder": "​",
            "style": "IPY_MODEL_55b74da2d39c4035b27fb5a0427e5ab7",
            "value": "Downloading: 100%"
          }
        },
        "1bc0c8e4e8004b0287b50045df0f9ed5": {
          "model_module": "@jupyter-widgets/controls",
          "model_name": "FloatProgressModel",
          "model_module_version": "1.5.0",
          "state": {
            "_dom_classes": [],
            "_model_module": "@jupyter-widgets/controls",
            "_model_module_version": "1.5.0",
            "_model_name": "FloatProgressModel",
            "_view_count": null,
            "_view_module": "@jupyter-widgets/controls",
            "_view_module_version": "1.5.0",
            "_view_name": "ProgressView",
            "bar_style": "success",
            "description": "",
            "description_tooltip": null,
            "layout": "IPY_MODEL_4be08f5f7f0d4fc2aa999d25a20b47dd",
            "max": 5069051,
            "min": 0,
            "orientation": "horizontal",
            "style": "IPY_MODEL_c316053e9fd245618b4dbbf99933ebd0",
            "value": 5069051
          }
        },
        "38765585f1f94147b2f216ad835c9dcd": {
          "model_module": "@jupyter-widgets/controls",
          "model_name": "HTMLModel",
          "model_module_version": "1.5.0",
          "state": {
            "_dom_classes": [],
            "_model_module": "@jupyter-widgets/controls",
            "_model_module_version": "1.5.0",
            "_model_name": "HTMLModel",
            "_view_count": null,
            "_view_module": "@jupyter-widgets/controls",
            "_view_module_version": "1.5.0",
            "_view_name": "HTMLView",
            "description": "",
            "description_tooltip": null,
            "layout": "IPY_MODEL_daedc763a3de4b538ce8e738d5aa1809",
            "placeholder": "​",
            "style": "IPY_MODEL_69d47a8b91914d78897f6677474c8839",
            "value": " 5.07M/5.07M [00:01&lt;00:00, 3.30MB/s]"
          }
        },
        "9114c9a309404bd8a7c9aa85d5acdaf5": {
          "model_module": "@jupyter-widgets/base",
          "model_name": "LayoutModel",
          "model_module_version": "1.2.0",
          "state": {
            "_model_module": "@jupyter-widgets/base",
            "_model_module_version": "1.2.0",
            "_model_name": "LayoutModel",
            "_view_count": null,
            "_view_module": "@jupyter-widgets/base",
            "_view_module_version": "1.2.0",
            "_view_name": "LayoutView",
            "align_content": null,
            "align_items": null,
            "align_self": null,
            "border": null,
            "bottom": null,
            "display": null,
            "flex": null,
            "flex_flow": null,
            "grid_area": null,
            "grid_auto_columns": null,
            "grid_auto_flow": null,
            "grid_auto_rows": null,
            "grid_column": null,
            "grid_gap": null,
            "grid_row": null,
            "grid_template_areas": null,
            "grid_template_columns": null,
            "grid_template_rows": null,
            "height": null,
            "justify_content": null,
            "justify_items": null,
            "left": null,
            "margin": null,
            "max_height": null,
            "max_width": null,
            "min_height": null,
            "min_width": null,
            "object_fit": null,
            "object_position": null,
            "order": null,
            "overflow": null,
            "overflow_x": null,
            "overflow_y": null,
            "padding": null,
            "right": null,
            "top": null,
            "visibility": null,
            "width": null
          }
        },
        "71baed971b6442238fdbd26cddb7c9b0": {
          "model_module": "@jupyter-widgets/base",
          "model_name": "LayoutModel",
          "model_module_version": "1.2.0",
          "state": {
            "_model_module": "@jupyter-widgets/base",
            "_model_module_version": "1.2.0",
            "_model_name": "LayoutModel",
            "_view_count": null,
            "_view_module": "@jupyter-widgets/base",
            "_view_module_version": "1.2.0",
            "_view_name": "LayoutView",
            "align_content": null,
            "align_items": null,
            "align_self": null,
            "border": null,
            "bottom": null,
            "display": null,
            "flex": null,
            "flex_flow": null,
            "grid_area": null,
            "grid_auto_columns": null,
            "grid_auto_flow": null,
            "grid_auto_rows": null,
            "grid_column": null,
            "grid_gap": null,
            "grid_row": null,
            "grid_template_areas": null,
            "grid_template_columns": null,
            "grid_template_rows": null,
            "height": null,
            "justify_content": null,
            "justify_items": null,
            "left": null,
            "margin": null,
            "max_height": null,
            "max_width": null,
            "min_height": null,
            "min_width": null,
            "object_fit": null,
            "object_position": null,
            "order": null,
            "overflow": null,
            "overflow_x": null,
            "overflow_y": null,
            "padding": null,
            "right": null,
            "top": null,
            "visibility": null,
            "width": null
          }
        },
        "55b74da2d39c4035b27fb5a0427e5ab7": {
          "model_module": "@jupyter-widgets/controls",
          "model_name": "DescriptionStyleModel",
          "model_module_version": "1.5.0",
          "state": {
            "_model_module": "@jupyter-widgets/controls",
            "_model_module_version": "1.5.0",
            "_model_name": "DescriptionStyleModel",
            "_view_count": null,
            "_view_module": "@jupyter-widgets/base",
            "_view_module_version": "1.2.0",
            "_view_name": "StyleView",
            "description_width": ""
          }
        },
        "4be08f5f7f0d4fc2aa999d25a20b47dd": {
          "model_module": "@jupyter-widgets/base",
          "model_name": "LayoutModel",
          "model_module_version": "1.2.0",
          "state": {
            "_model_module": "@jupyter-widgets/base",
            "_model_module_version": "1.2.0",
            "_model_name": "LayoutModel",
            "_view_count": null,
            "_view_module": "@jupyter-widgets/base",
            "_view_module_version": "1.2.0",
            "_view_name": "LayoutView",
            "align_content": null,
            "align_items": null,
            "align_self": null,
            "border": null,
            "bottom": null,
            "display": null,
            "flex": null,
            "flex_flow": null,
            "grid_area": null,
            "grid_auto_columns": null,
            "grid_auto_flow": null,
            "grid_auto_rows": null,
            "grid_column": null,
            "grid_gap": null,
            "grid_row": null,
            "grid_template_areas": null,
            "grid_template_columns": null,
            "grid_template_rows": null,
            "height": null,
            "justify_content": null,
            "justify_items": null,
            "left": null,
            "margin": null,
            "max_height": null,
            "max_width": null,
            "min_height": null,
            "min_width": null,
            "object_fit": null,
            "object_position": null,
            "order": null,
            "overflow": null,
            "overflow_x": null,
            "overflow_y": null,
            "padding": null,
            "right": null,
            "top": null,
            "visibility": null,
            "width": null
          }
        },
        "c316053e9fd245618b4dbbf99933ebd0": {
          "model_module": "@jupyter-widgets/controls",
          "model_name": "ProgressStyleModel",
          "model_module_version": "1.5.0",
          "state": {
            "_model_module": "@jupyter-widgets/controls",
            "_model_module_version": "1.5.0",
            "_model_name": "ProgressStyleModel",
            "_view_count": null,
            "_view_module": "@jupyter-widgets/base",
            "_view_module_version": "1.2.0",
            "_view_name": "StyleView",
            "bar_color": null,
            "description_width": ""
          }
        },
        "daedc763a3de4b538ce8e738d5aa1809": {
          "model_module": "@jupyter-widgets/base",
          "model_name": "LayoutModel",
          "model_module_version": "1.2.0",
          "state": {
            "_model_module": "@jupyter-widgets/base",
            "_model_module_version": "1.2.0",
            "_model_name": "LayoutModel",
            "_view_count": null,
            "_view_module": "@jupyter-widgets/base",
            "_view_module_version": "1.2.0",
            "_view_name": "LayoutView",
            "align_content": null,
            "align_items": null,
            "align_self": null,
            "border": null,
            "bottom": null,
            "display": null,
            "flex": null,
            "flex_flow": null,
            "grid_area": null,
            "grid_auto_columns": null,
            "grid_auto_flow": null,
            "grid_auto_rows": null,
            "grid_column": null,
            "grid_gap": null,
            "grid_row": null,
            "grid_template_areas": null,
            "grid_template_columns": null,
            "grid_template_rows": null,
            "height": null,
            "justify_content": null,
            "justify_items": null,
            "left": null,
            "margin": null,
            "max_height": null,
            "max_width": null,
            "min_height": null,
            "min_width": null,
            "object_fit": null,
            "object_position": null,
            "order": null,
            "overflow": null,
            "overflow_x": null,
            "overflow_y": null,
            "padding": null,
            "right": null,
            "top": null,
            "visibility": null,
            "width": null
          }
        },
        "69d47a8b91914d78897f6677474c8839": {
          "model_module": "@jupyter-widgets/controls",
          "model_name": "DescriptionStyleModel",
          "model_module_version": "1.5.0",
          "state": {
            "_model_module": "@jupyter-widgets/controls",
            "_model_module_version": "1.5.0",
            "_model_name": "DescriptionStyleModel",
            "_view_count": null,
            "_view_module": "@jupyter-widgets/base",
            "_view_module_version": "1.2.0",
            "_view_name": "StyleView",
            "description_width": ""
          }
        },
        "9452fecf96104408af4f4a1b2768f783": {
          "model_module": "@jupyter-widgets/controls",
          "model_name": "HBoxModel",
          "model_module_version": "1.5.0",
          "state": {
            "_dom_classes": [],
            "_model_module": "@jupyter-widgets/controls",
            "_model_module_version": "1.5.0",
            "_model_name": "HBoxModel",
            "_view_count": null,
            "_view_module": "@jupyter-widgets/controls",
            "_view_module_version": "1.5.0",
            "_view_name": "HBoxView",
            "box_style": "",
            "children": [
              "IPY_MODEL_a251b9dd2d144c9dabffbe38b0ea5274",
              "IPY_MODEL_d40508450d8d45e68129f6c9340c16e6",
              "IPY_MODEL_e27038c9c96d4d09a712401be22338b5"
            ],
            "layout": "IPY_MODEL_53bf7c9993674474947e25506a4f92a2"
          }
        },
        "a251b9dd2d144c9dabffbe38b0ea5274": {
          "model_module": "@jupyter-widgets/controls",
          "model_name": "HTMLModel",
          "model_module_version": "1.5.0",
          "state": {
            "_dom_classes": [],
            "_model_module": "@jupyter-widgets/controls",
            "_model_module_version": "1.5.0",
            "_model_name": "HTMLModel",
            "_view_count": null,
            "_view_module": "@jupyter-widgets/controls",
            "_view_module_version": "1.5.0",
            "_view_name": "HTMLView",
            "description": "",
            "description_tooltip": null,
            "layout": "IPY_MODEL_02026d9ccfa742be8e6cf2b2b731a91d",
            "placeholder": "​",
            "style": "IPY_MODEL_412d401040f541a583707888588faa82",
            "value": "Downloading: 100%"
          }
        },
        "d40508450d8d45e68129f6c9340c16e6": {
          "model_module": "@jupyter-widgets/controls",
          "model_name": "FloatProgressModel",
          "model_module_version": "1.5.0",
          "state": {
            "_dom_classes": [],
            "_model_module": "@jupyter-widgets/controls",
            "_model_module_version": "1.5.0",
            "_model_name": "FloatProgressModel",
            "_view_count": null,
            "_view_module": "@jupyter-widgets/controls",
            "_view_module_version": "1.5.0",
            "_view_name": "ProgressView",
            "bar_style": "success",
            "description": "",
            "description_tooltip": null,
            "layout": "IPY_MODEL_3ce38078a5c74d6fb32b7cfd49f341c2",
            "max": 9096718,
            "min": 0,
            "orientation": "horizontal",
            "style": "IPY_MODEL_9f5380cc55e34dd18d4ce18f01ab0b8a",
            "value": 9096718
          }
        },
        "e27038c9c96d4d09a712401be22338b5": {
          "model_module": "@jupyter-widgets/controls",
          "model_name": "HTMLModel",
          "model_module_version": "1.5.0",
          "state": {
            "_dom_classes": [],
            "_model_module": "@jupyter-widgets/controls",
            "_model_module_version": "1.5.0",
            "_model_name": "HTMLModel",
            "_view_count": null,
            "_view_module": "@jupyter-widgets/controls",
            "_view_module_version": "1.5.0",
            "_view_name": "HTMLView",
            "description": "",
            "description_tooltip": null,
            "layout": "IPY_MODEL_8953c3768f8d4639a6cf61d9e7a7fafd",
            "placeholder": "​",
            "style": "IPY_MODEL_4e3cd0d0caf3446abac077eefa299014",
            "value": " 9.10M/9.10M [00:02&lt;00:00, 6.35MB/s]"
          }
        },
        "53bf7c9993674474947e25506a4f92a2": {
          "model_module": "@jupyter-widgets/base",
          "model_name": "LayoutModel",
          "model_module_version": "1.2.0",
          "state": {
            "_model_module": "@jupyter-widgets/base",
            "_model_module_version": "1.2.0",
            "_model_name": "LayoutModel",
            "_view_count": null,
            "_view_module": "@jupyter-widgets/base",
            "_view_module_version": "1.2.0",
            "_view_name": "LayoutView",
            "align_content": null,
            "align_items": null,
            "align_self": null,
            "border": null,
            "bottom": null,
            "display": null,
            "flex": null,
            "flex_flow": null,
            "grid_area": null,
            "grid_auto_columns": null,
            "grid_auto_flow": null,
            "grid_auto_rows": null,
            "grid_column": null,
            "grid_gap": null,
            "grid_row": null,
            "grid_template_areas": null,
            "grid_template_columns": null,
            "grid_template_rows": null,
            "height": null,
            "justify_content": null,
            "justify_items": null,
            "left": null,
            "margin": null,
            "max_height": null,
            "max_width": null,
            "min_height": null,
            "min_width": null,
            "object_fit": null,
            "object_position": null,
            "order": null,
            "overflow": null,
            "overflow_x": null,
            "overflow_y": null,
            "padding": null,
            "right": null,
            "top": null,
            "visibility": null,
            "width": null
          }
        },
        "02026d9ccfa742be8e6cf2b2b731a91d": {
          "model_module": "@jupyter-widgets/base",
          "model_name": "LayoutModel",
          "model_module_version": "1.2.0",
          "state": {
            "_model_module": "@jupyter-widgets/base",
            "_model_module_version": "1.2.0",
            "_model_name": "LayoutModel",
            "_view_count": null,
            "_view_module": "@jupyter-widgets/base",
            "_view_module_version": "1.2.0",
            "_view_name": "LayoutView",
            "align_content": null,
            "align_items": null,
            "align_self": null,
            "border": null,
            "bottom": null,
            "display": null,
            "flex": null,
            "flex_flow": null,
            "grid_area": null,
            "grid_auto_columns": null,
            "grid_auto_flow": null,
            "grid_auto_rows": null,
            "grid_column": null,
            "grid_gap": null,
            "grid_row": null,
            "grid_template_areas": null,
            "grid_template_columns": null,
            "grid_template_rows": null,
            "height": null,
            "justify_content": null,
            "justify_items": null,
            "left": null,
            "margin": null,
            "max_height": null,
            "max_width": null,
            "min_height": null,
            "min_width": null,
            "object_fit": null,
            "object_position": null,
            "order": null,
            "overflow": null,
            "overflow_x": null,
            "overflow_y": null,
            "padding": null,
            "right": null,
            "top": null,
            "visibility": null,
            "width": null
          }
        },
        "412d401040f541a583707888588faa82": {
          "model_module": "@jupyter-widgets/controls",
          "model_name": "DescriptionStyleModel",
          "model_module_version": "1.5.0",
          "state": {
            "_model_module": "@jupyter-widgets/controls",
            "_model_module_version": "1.5.0",
            "_model_name": "DescriptionStyleModel",
            "_view_count": null,
            "_view_module": "@jupyter-widgets/base",
            "_view_module_version": "1.2.0",
            "_view_name": "StyleView",
            "description_width": ""
          }
        },
        "3ce38078a5c74d6fb32b7cfd49f341c2": {
          "model_module": "@jupyter-widgets/base",
          "model_name": "LayoutModel",
          "model_module_version": "1.2.0",
          "state": {
            "_model_module": "@jupyter-widgets/base",
            "_model_module_version": "1.2.0",
            "_model_name": "LayoutModel",
            "_view_count": null,
            "_view_module": "@jupyter-widgets/base",
            "_view_module_version": "1.2.0",
            "_view_name": "LayoutView",
            "align_content": null,
            "align_items": null,
            "align_self": null,
            "border": null,
            "bottom": null,
            "display": null,
            "flex": null,
            "flex_flow": null,
            "grid_area": null,
            "grid_auto_columns": null,
            "grid_auto_flow": null,
            "grid_auto_rows": null,
            "grid_column": null,
            "grid_gap": null,
            "grid_row": null,
            "grid_template_areas": null,
            "grid_template_columns": null,
            "grid_template_rows": null,
            "height": null,
            "justify_content": null,
            "justify_items": null,
            "left": null,
            "margin": null,
            "max_height": null,
            "max_width": null,
            "min_height": null,
            "min_width": null,
            "object_fit": null,
            "object_position": null,
            "order": null,
            "overflow": null,
            "overflow_x": null,
            "overflow_y": null,
            "padding": null,
            "right": null,
            "top": null,
            "visibility": null,
            "width": null
          }
        },
        "9f5380cc55e34dd18d4ce18f01ab0b8a": {
          "model_module": "@jupyter-widgets/controls",
          "model_name": "ProgressStyleModel",
          "model_module_version": "1.5.0",
          "state": {
            "_model_module": "@jupyter-widgets/controls",
            "_model_module_version": "1.5.0",
            "_model_name": "ProgressStyleModel",
            "_view_count": null,
            "_view_module": "@jupyter-widgets/base",
            "_view_module_version": "1.2.0",
            "_view_name": "StyleView",
            "bar_color": null,
            "description_width": ""
          }
        },
        "8953c3768f8d4639a6cf61d9e7a7fafd": {
          "model_module": "@jupyter-widgets/base",
          "model_name": "LayoutModel",
          "model_module_version": "1.2.0",
          "state": {
            "_model_module": "@jupyter-widgets/base",
            "_model_module_version": "1.2.0",
            "_model_name": "LayoutModel",
            "_view_count": null,
            "_view_module": "@jupyter-widgets/base",
            "_view_module_version": "1.2.0",
            "_view_name": "LayoutView",
            "align_content": null,
            "align_items": null,
            "align_self": null,
            "border": null,
            "bottom": null,
            "display": null,
            "flex": null,
            "flex_flow": null,
            "grid_area": null,
            "grid_auto_columns": null,
            "grid_auto_flow": null,
            "grid_auto_rows": null,
            "grid_column": null,
            "grid_gap": null,
            "grid_row": null,
            "grid_template_areas": null,
            "grid_template_columns": null,
            "grid_template_rows": null,
            "height": null,
            "justify_content": null,
            "justify_items": null,
            "left": null,
            "margin": null,
            "max_height": null,
            "max_width": null,
            "min_height": null,
            "min_width": null,
            "object_fit": null,
            "object_position": null,
            "order": null,
            "overflow": null,
            "overflow_x": null,
            "overflow_y": null,
            "padding": null,
            "right": null,
            "top": null,
            "visibility": null,
            "width": null
          }
        },
        "4e3cd0d0caf3446abac077eefa299014": {
          "model_module": "@jupyter-widgets/controls",
          "model_name": "DescriptionStyleModel",
          "model_module_version": "1.5.0",
          "state": {
            "_model_module": "@jupyter-widgets/controls",
            "_model_module_version": "1.5.0",
            "_model_name": "DescriptionStyleModel",
            "_view_count": null,
            "_view_module": "@jupyter-widgets/base",
            "_view_module_version": "1.2.0",
            "_view_name": "StyleView",
            "description_width": ""
          }
        }
      }
    },
    "accelerator": "GPU"
  },
  "nbformat": 4,
  "nbformat_minor": 0
}